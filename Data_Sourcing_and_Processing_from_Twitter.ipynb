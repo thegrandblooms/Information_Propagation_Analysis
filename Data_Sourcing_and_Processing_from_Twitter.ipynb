{
 "cells": [
  {
   "cell_type": "markdown",
   "id": "4964c9b5",
   "metadata": {},
   "source": [
    "# Scraping Data from Twitter\n",
    "This was done using the second tier of academic access (thank you twitter!) and snscrape to utilize search functions."
   ]
  },
  {
   "cell_type": "markdown",
   "id": "0e55bb99",
   "metadata": {},
   "source": [
    "## Setup"
   ]
  },
  {
   "cell_type": "code",
   "execution_count": null,
   "id": "fa3368d7",
   "metadata": {},
   "outputs": [],
   "source": [
    "# pip install tweepy\n",
    "# pip install configparser\n",
    "# pip install pandas\n",
    "# pip install snscrape"
   ]
  },
  {
   "cell_type": "code",
   "execution_count": 54,
   "id": "2cd2a719",
   "metadata": {},
   "outputs": [],
   "source": [
    "import tweepy\n",
    "import configparser\n",
    "import pandas as pd\n",
    "import numpy as np\n",
    "import snscrape.modules.twitter as sntwitter\n",
    "import matplotlib.pyplot as plt\n",
    "%matplotlib inline"
   ]
  },
  {
   "cell_type": "markdown",
   "id": "7b0d4654",
   "metadata": {},
   "source": [
    "# Setting up Config & Authentication"
   ]
  },
  {
   "cell_type": "code",
   "execution_count": 16,
   "id": "456afc9c",
   "metadata": {},
   "outputs": [],
   "source": [
    "# Read Config file - you will need to create one of these\n",
    "config = configparser.ConfigParser()\n",
    "config.read('config/config.ini')\n",
    "\n",
    "api_key = config['twitter']['api_key']\n",
    "api_key_secret = config['twitter']['api_key_secret']\n",
    "\n",
    "access_token = config['twitter']['access_token']\n",
    "access_token_secret = config['twitter']['access_token_secret']"
   ]
  },
  {
   "cell_type": "code",
   "execution_count": 17,
   "id": "f1d9976f",
   "metadata": {},
   "outputs": [],
   "source": [
    "# Authentication\n",
    "auth = tweepy.OAuthHandler(api_key, api_key_secret)\n",
    "auth.set_access_token(access_token, access_token_secret)\n",
    "\n",
    "api = tweepy.API(auth)"
   ]
  },
  {
   "cell_type": "markdown",
   "id": "a40dc86b",
   "metadata": {},
   "source": [
    "## Grabbing followers of account"
   ]
  },
  {
   "cell_type": "code",
   "execution_count": 19,
   "id": "fda4a850",
   "metadata": {},
   "outputs": [
    {
     "ename": "TooManyRequests",
     "evalue": "429 Too Many Requests\n88 - Rate limit exceeded",
     "output_type": "error",
     "traceback": [
      "\u001b[1;31m---------------------------------------------------------------------------\u001b[0m",
      "\u001b[1;31mTooManyRequests\u001b[0m                           Traceback (most recent call last)",
      "\u001b[1;32m~\\AppData\\Local\\Temp/ipykernel_24136/2069924450.py\u001b[0m in \u001b[0;36m<module>\u001b[1;34m\u001b[0m\n\u001b[0;32m      6\u001b[0m \u001b[1;33m\u001b[0m\u001b[0m\n\u001b[0;32m      7\u001b[0m \u001b[1;31m# Populating lists with follower names and IDs using twitter API\u001b[0m\u001b[1;33m\u001b[0m\u001b[1;33m\u001b[0m\u001b[0m\n\u001b[1;32m----> 8\u001b[1;33m \u001b[1;32mfor\u001b[0m \u001b[0mpage\u001b[0m \u001b[1;32min\u001b[0m \u001b[0mtweepy\u001b[0m\u001b[1;33m.\u001b[0m\u001b[0mCursor\u001b[0m\u001b[1;33m(\u001b[0m\u001b[0mapi\u001b[0m\u001b[1;33m.\u001b[0m\u001b[0mget_followers\u001b[0m\u001b[1;33m,\u001b[0m \u001b[0mscreen_name\u001b[0m\u001b[1;33m=\u001b[0m\u001b[0mscreen_name\u001b[0m\u001b[1;33m,\u001b[0m \u001b[0mcount\u001b[0m\u001b[1;33m=\u001b[0m\u001b[1;36m200\u001b[0m\u001b[1;33m)\u001b[0m\u001b[1;33m.\u001b[0m\u001b[0mitems\u001b[0m\u001b[1;33m(\u001b[0m\u001b[0mfollower_limit\u001b[0m\u001b[1;33m)\u001b[0m\u001b[1;33m:\u001b[0m\u001b[1;33m\u001b[0m\u001b[1;33m\u001b[0m\u001b[0m\n\u001b[0m\u001b[0;32m      9\u001b[0m \u001b[1;31m#     print(page.screen_name)\u001b[0m\u001b[1;33m\u001b[0m\u001b[1;33m\u001b[0m\u001b[0m\n\u001b[0;32m     10\u001b[0m     \u001b[0mfollow_list\u001b[0m\u001b[1;33m.\u001b[0m\u001b[0mappend\u001b[0m\u001b[1;33m(\u001b[0m\u001b[0mpage\u001b[0m\u001b[1;33m.\u001b[0m\u001b[0mscreen_name\u001b[0m\u001b[1;33m)\u001b[0m\u001b[1;33m\u001b[0m\u001b[1;33m\u001b[0m\u001b[0m\n",
      "\u001b[1;32m~\\anaconda3\\lib\\site-packages\\tweepy\\cursor.py\u001b[0m in \u001b[0;36m__next__\u001b[1;34m(self)\u001b[0m\n\u001b[0;32m     84\u001b[0m \u001b[1;33m\u001b[0m\u001b[0m\n\u001b[0;32m     85\u001b[0m     \u001b[1;32mdef\u001b[0m \u001b[0m__next__\u001b[0m\u001b[1;33m(\u001b[0m\u001b[0mself\u001b[0m\u001b[1;33m)\u001b[0m\u001b[1;33m:\u001b[0m\u001b[1;33m\u001b[0m\u001b[1;33m\u001b[0m\u001b[0m\n\u001b[1;32m---> 86\u001b[1;33m         \u001b[1;32mreturn\u001b[0m \u001b[0mself\u001b[0m\u001b[1;33m.\u001b[0m\u001b[0mnext\u001b[0m\u001b[1;33m(\u001b[0m\u001b[1;33m)\u001b[0m\u001b[1;33m\u001b[0m\u001b[1;33m\u001b[0m\u001b[0m\n\u001b[0m\u001b[0;32m     87\u001b[0m \u001b[1;33m\u001b[0m\u001b[0m\n\u001b[0;32m     88\u001b[0m     \u001b[1;32mdef\u001b[0m \u001b[0mnext\u001b[0m\u001b[1;33m(\u001b[0m\u001b[0mself\u001b[0m\u001b[1;33m)\u001b[0m\u001b[1;33m:\u001b[0m\u001b[1;33m\u001b[0m\u001b[1;33m\u001b[0m\u001b[0m\n",
      "\u001b[1;32m~\\anaconda3\\lib\\site-packages\\tweepy\\cursor.py\u001b[0m in \u001b[0;36mnext\u001b[1;34m(self)\u001b[0m\n\u001b[0;32m    284\u001b[0m         \u001b[1;32mif\u001b[0m \u001b[0mself\u001b[0m\u001b[1;33m.\u001b[0m\u001b[0mcurrent_page\u001b[0m \u001b[1;32mis\u001b[0m \u001b[1;32mNone\u001b[0m \u001b[1;32mor\u001b[0m \u001b[0mself\u001b[0m\u001b[1;33m.\u001b[0m\u001b[0mpage_index\u001b[0m \u001b[1;33m==\u001b[0m \u001b[0mlen\u001b[0m\u001b[1;33m(\u001b[0m\u001b[0mself\u001b[0m\u001b[1;33m.\u001b[0m\u001b[0mcurrent_page\u001b[0m\u001b[1;33m)\u001b[0m \u001b[1;33m-\u001b[0m \u001b[1;36m1\u001b[0m\u001b[1;33m:\u001b[0m\u001b[1;33m\u001b[0m\u001b[1;33m\u001b[0m\u001b[0m\n\u001b[0;32m    285\u001b[0m             \u001b[1;31m# Reached end of current page, get the next page...\u001b[0m\u001b[1;33m\u001b[0m\u001b[1;33m\u001b[0m\u001b[0m\n\u001b[1;32m--> 286\u001b[1;33m             \u001b[0mself\u001b[0m\u001b[1;33m.\u001b[0m\u001b[0mcurrent_page\u001b[0m \u001b[1;33m=\u001b[0m \u001b[0mnext\u001b[0m\u001b[1;33m(\u001b[0m\u001b[0mself\u001b[0m\u001b[1;33m.\u001b[0m\u001b[0mpage_iterator\u001b[0m\u001b[1;33m)\u001b[0m\u001b[1;33m\u001b[0m\u001b[1;33m\u001b[0m\u001b[0m\n\u001b[0m\u001b[0;32m    287\u001b[0m             \u001b[1;32mwhile\u001b[0m \u001b[0mlen\u001b[0m\u001b[1;33m(\u001b[0m\u001b[0mself\u001b[0m\u001b[1;33m.\u001b[0m\u001b[0mcurrent_page\u001b[0m\u001b[1;33m)\u001b[0m \u001b[1;33m==\u001b[0m \u001b[1;36m0\u001b[0m\u001b[1;33m:\u001b[0m\u001b[1;33m\u001b[0m\u001b[1;33m\u001b[0m\u001b[0m\n\u001b[0;32m    288\u001b[0m                 \u001b[0mself\u001b[0m\u001b[1;33m.\u001b[0m\u001b[0mcurrent_page\u001b[0m \u001b[1;33m=\u001b[0m \u001b[0mnext\u001b[0m\u001b[1;33m(\u001b[0m\u001b[0mself\u001b[0m\u001b[1;33m.\u001b[0m\u001b[0mpage_iterator\u001b[0m\u001b[1;33m)\u001b[0m\u001b[1;33m\u001b[0m\u001b[1;33m\u001b[0m\u001b[0m\n",
      "\u001b[1;32m~\\anaconda3\\lib\\site-packages\\tweepy\\cursor.py\u001b[0m in \u001b[0;36m__next__\u001b[1;34m(self)\u001b[0m\n\u001b[0;32m     84\u001b[0m \u001b[1;33m\u001b[0m\u001b[0m\n\u001b[0;32m     85\u001b[0m     \u001b[1;32mdef\u001b[0m \u001b[0m__next__\u001b[0m\u001b[1;33m(\u001b[0m\u001b[0mself\u001b[0m\u001b[1;33m)\u001b[0m\u001b[1;33m:\u001b[0m\u001b[1;33m\u001b[0m\u001b[1;33m\u001b[0m\u001b[0m\n\u001b[1;32m---> 86\u001b[1;33m         \u001b[1;32mreturn\u001b[0m \u001b[0mself\u001b[0m\u001b[1;33m.\u001b[0m\u001b[0mnext\u001b[0m\u001b[1;33m(\u001b[0m\u001b[1;33m)\u001b[0m\u001b[1;33m\u001b[0m\u001b[1;33m\u001b[0m\u001b[0m\n\u001b[0m\u001b[0;32m     87\u001b[0m \u001b[1;33m\u001b[0m\u001b[0m\n\u001b[0;32m     88\u001b[0m     \u001b[1;32mdef\u001b[0m \u001b[0mnext\u001b[0m\u001b[1;33m(\u001b[0m\u001b[0mself\u001b[0m\u001b[1;33m)\u001b[0m\u001b[1;33m:\u001b[0m\u001b[1;33m\u001b[0m\u001b[1;33m\u001b[0m\u001b[0m\n",
      "\u001b[1;32m~\\anaconda3\\lib\\site-packages\\tweepy\\cursor.py\u001b[0m in \u001b[0;36mnext\u001b[1;34m(self)\u001b[0m\n\u001b[0;32m    108\u001b[0m         \u001b[1;32mif\u001b[0m \u001b[0mself\u001b[0m\u001b[1;33m.\u001b[0m\u001b[0mnext_cursor\u001b[0m \u001b[1;33m==\u001b[0m \u001b[1;36m0\u001b[0m \u001b[1;32mor\u001b[0m \u001b[0mself\u001b[0m\u001b[1;33m.\u001b[0m\u001b[0mnum_tweets\u001b[0m \u001b[1;33m>=\u001b[0m \u001b[0mself\u001b[0m\u001b[1;33m.\u001b[0m\u001b[0mlimit\u001b[0m\u001b[1;33m:\u001b[0m\u001b[1;33m\u001b[0m\u001b[1;33m\u001b[0m\u001b[0m\n\u001b[0;32m    109\u001b[0m             \u001b[1;32mraise\u001b[0m \u001b[0mStopIteration\u001b[0m\u001b[1;33m\u001b[0m\u001b[1;33m\u001b[0m\u001b[0m\n\u001b[1;32m--> 110\u001b[1;33m         data, cursors = self.method(cursor=self.next_cursor,\n\u001b[0m\u001b[0;32m    111\u001b[0m                                     \u001b[1;33m*\u001b[0m\u001b[0mself\u001b[0m\u001b[1;33m.\u001b[0m\u001b[0margs\u001b[0m\u001b[1;33m,\u001b[0m\u001b[1;33m\u001b[0m\u001b[1;33m\u001b[0m\u001b[0m\n\u001b[0;32m    112\u001b[0m                                     **self.kwargs)\n",
      "\u001b[1;32m~\\anaconda3\\lib\\site-packages\\tweepy\\api.py\u001b[0m in \u001b[0;36mwrapper\u001b[1;34m(*args, **kwargs)\u001b[0m\n\u001b[0;32m     31\u001b[0m         \u001b[1;33m@\u001b[0m\u001b[0mfunctools\u001b[0m\u001b[1;33m.\u001b[0m\u001b[0mwraps\u001b[0m\u001b[1;33m(\u001b[0m\u001b[0mmethod\u001b[0m\u001b[1;33m)\u001b[0m\u001b[1;33m\u001b[0m\u001b[1;33m\u001b[0m\u001b[0m\n\u001b[0;32m     32\u001b[0m         \u001b[1;32mdef\u001b[0m \u001b[0mwrapper\u001b[0m\u001b[1;33m(\u001b[0m\u001b[1;33m*\u001b[0m\u001b[0margs\u001b[0m\u001b[1;33m,\u001b[0m \u001b[1;33m**\u001b[0m\u001b[0mkwargs\u001b[0m\u001b[1;33m)\u001b[0m\u001b[1;33m:\u001b[0m\u001b[1;33m\u001b[0m\u001b[1;33m\u001b[0m\u001b[0m\n\u001b[1;32m---> 33\u001b[1;33m             \u001b[1;32mreturn\u001b[0m \u001b[0mmethod\u001b[0m\u001b[1;33m(\u001b[0m\u001b[1;33m*\u001b[0m\u001b[0margs\u001b[0m\u001b[1;33m,\u001b[0m \u001b[1;33m**\u001b[0m\u001b[0mkwargs\u001b[0m\u001b[1;33m)\u001b[0m\u001b[1;33m\u001b[0m\u001b[1;33m\u001b[0m\u001b[0m\n\u001b[0m\u001b[0;32m     34\u001b[0m         \u001b[0mwrapper\u001b[0m\u001b[1;33m.\u001b[0m\u001b[0mpagination_mode\u001b[0m \u001b[1;33m=\u001b[0m \u001b[0mmode\u001b[0m\u001b[1;33m\u001b[0m\u001b[1;33m\u001b[0m\u001b[0m\n\u001b[0;32m     35\u001b[0m         \u001b[1;32mreturn\u001b[0m \u001b[0mwrapper\u001b[0m\u001b[1;33m\u001b[0m\u001b[1;33m\u001b[0m\u001b[0m\n",
      "\u001b[1;32m~\\anaconda3\\lib\\site-packages\\tweepy\\api.py\u001b[0m in \u001b[0;36mwrapper\u001b[1;34m(*args, **kwargs)\u001b[0m\n\u001b[0;32m     44\u001b[0m             \u001b[0mkwargs\u001b[0m\u001b[1;33m[\u001b[0m\u001b[1;34m'payload_list'\u001b[0m\u001b[1;33m]\u001b[0m \u001b[1;33m=\u001b[0m \u001b[0mpayload_list\u001b[0m\u001b[1;33m\u001b[0m\u001b[1;33m\u001b[0m\u001b[0m\n\u001b[0;32m     45\u001b[0m             \u001b[0mkwargs\u001b[0m\u001b[1;33m[\u001b[0m\u001b[1;34m'payload_type'\u001b[0m\u001b[1;33m]\u001b[0m \u001b[1;33m=\u001b[0m \u001b[0mpayload_type\u001b[0m\u001b[1;33m\u001b[0m\u001b[1;33m\u001b[0m\u001b[0m\n\u001b[1;32m---> 46\u001b[1;33m             \u001b[1;32mreturn\u001b[0m \u001b[0mmethod\u001b[0m\u001b[1;33m(\u001b[0m\u001b[1;33m*\u001b[0m\u001b[0margs\u001b[0m\u001b[1;33m,\u001b[0m \u001b[1;33m**\u001b[0m\u001b[0mkwargs\u001b[0m\u001b[1;33m)\u001b[0m\u001b[1;33m\u001b[0m\u001b[1;33m\u001b[0m\u001b[0m\n\u001b[0m\u001b[0;32m     47\u001b[0m         \u001b[0mwrapper\u001b[0m\u001b[1;33m.\u001b[0m\u001b[0mpayload_list\u001b[0m \u001b[1;33m=\u001b[0m \u001b[0mpayload_list\u001b[0m\u001b[1;33m\u001b[0m\u001b[1;33m\u001b[0m\u001b[0m\n\u001b[0;32m     48\u001b[0m         \u001b[0mwrapper\u001b[0m\u001b[1;33m.\u001b[0m\u001b[0mpayload_type\u001b[0m \u001b[1;33m=\u001b[0m \u001b[0mpayload_type\u001b[0m\u001b[1;33m\u001b[0m\u001b[1;33m\u001b[0m\u001b[0m\n",
      "\u001b[1;32m~\\anaconda3\\lib\\site-packages\\tweepy\\api.py\u001b[0m in \u001b[0;36mget_followers\u001b[1;34m(self, **kwargs)\u001b[0m\n\u001b[0;32m   2153\u001b[0m         \u001b[0mhttps\u001b[0m\u001b[1;33m:\u001b[0m\u001b[1;33m//\u001b[0m\u001b[0mdeveloper\u001b[0m\u001b[1;33m.\u001b[0m\u001b[0mtwitter\u001b[0m\u001b[1;33m.\u001b[0m\u001b[0mcom\u001b[0m\u001b[1;33m/\u001b[0m\u001b[0men\u001b[0m\u001b[1;33m/\u001b[0m\u001b[0mdocs\u001b[0m\u001b[1;33m/\u001b[0m\u001b[0mtwitter\u001b[0m\u001b[1;33m-\u001b[0m\u001b[0mapi\u001b[0m\u001b[1;33m/\u001b[0m\u001b[0mv1\u001b[0m\u001b[1;33m/\u001b[0m\u001b[0maccounts\u001b[0m\u001b[1;33m-\u001b[0m\u001b[1;32mand\u001b[0m\u001b[1;33m-\u001b[0m\u001b[0musers\u001b[0m\u001b[1;33m/\u001b[0m\u001b[0mfollow\u001b[0m\u001b[1;33m-\u001b[0m\u001b[0msearch\u001b[0m\u001b[1;33m-\u001b[0m\u001b[0mget\u001b[0m\u001b[1;33m-\u001b[0m\u001b[0musers\u001b[0m\u001b[1;33m/\u001b[0m\u001b[0mapi\u001b[0m\u001b[1;33m-\u001b[0m\u001b[0mreference\u001b[0m\u001b[1;33m/\u001b[0m\u001b[0mget\u001b[0m\u001b[1;33m-\u001b[0m\u001b[0mfollowers\u001b[0m\u001b[1;33m-\u001b[0m\u001b[0mlist\u001b[0m\u001b[1;33m\u001b[0m\u001b[1;33m\u001b[0m\u001b[0m\n\u001b[0;32m   2154\u001b[0m         \"\"\"\n\u001b[1;32m-> 2155\u001b[1;33m         return self.request(\n\u001b[0m\u001b[0;32m   2156\u001b[0m             'GET', 'followers/list', endpoint_parameters=(\n\u001b[0;32m   2157\u001b[0m                 \u001b[1;34m'user_id'\u001b[0m\u001b[1;33m,\u001b[0m \u001b[1;34m'screen_name'\u001b[0m\u001b[1;33m,\u001b[0m \u001b[1;34m'cursor'\u001b[0m\u001b[1;33m,\u001b[0m \u001b[1;34m'count'\u001b[0m\u001b[1;33m,\u001b[0m \u001b[1;34m'skip_status'\u001b[0m\u001b[1;33m,\u001b[0m\u001b[1;33m\u001b[0m\u001b[1;33m\u001b[0m\u001b[0m\n",
      "\u001b[1;32m~\\anaconda3\\lib\\site-packages\\tweepy\\api.py\u001b[0m in \u001b[0;36mrequest\u001b[1;34m(self, method, endpoint, endpoint_parameters, params, headers, json_payload, parser, payload_list, payload_type, post_data, files, require_auth, return_cursors, upload_api, use_cache, **kwargs)\u001b[0m\n\u001b[0;32m    261\u001b[0m                 \u001b[1;32mraise\u001b[0m \u001b[0mNotFound\u001b[0m\u001b[1;33m(\u001b[0m\u001b[0mresp\u001b[0m\u001b[1;33m)\u001b[0m\u001b[1;33m\u001b[0m\u001b[1;33m\u001b[0m\u001b[0m\n\u001b[0;32m    262\u001b[0m             \u001b[1;32mif\u001b[0m \u001b[0mresp\u001b[0m\u001b[1;33m.\u001b[0m\u001b[0mstatus_code\u001b[0m \u001b[1;33m==\u001b[0m \u001b[1;36m429\u001b[0m\u001b[1;33m:\u001b[0m\u001b[1;33m\u001b[0m\u001b[1;33m\u001b[0m\u001b[0m\n\u001b[1;32m--> 263\u001b[1;33m                 \u001b[1;32mraise\u001b[0m \u001b[0mTooManyRequests\u001b[0m\u001b[1;33m(\u001b[0m\u001b[0mresp\u001b[0m\u001b[1;33m)\u001b[0m\u001b[1;33m\u001b[0m\u001b[1;33m\u001b[0m\u001b[0m\n\u001b[0m\u001b[0;32m    264\u001b[0m             \u001b[1;32mif\u001b[0m \u001b[0mresp\u001b[0m\u001b[1;33m.\u001b[0m\u001b[0mstatus_code\u001b[0m \u001b[1;33m>=\u001b[0m \u001b[1;36m500\u001b[0m\u001b[1;33m:\u001b[0m\u001b[1;33m\u001b[0m\u001b[1;33m\u001b[0m\u001b[0m\n\u001b[0;32m    265\u001b[0m                 \u001b[1;32mraise\u001b[0m \u001b[0mTwitterServerError\u001b[0m\u001b[1;33m(\u001b[0m\u001b[0mresp\u001b[0m\u001b[1;33m)\u001b[0m\u001b[1;33m\u001b[0m\u001b[1;33m\u001b[0m\u001b[0m\n",
      "\u001b[1;31mTooManyRequests\u001b[0m: 429 Too Many Requests\n88 - Rate limit exceeded"
     ]
    }
   ],
   "source": [
    "# Search Parameters\n",
    "screen_name = \"SchmidhuberAI\"\n",
    "follow_list = []\n",
    "follow_id_list = []\n",
    "follower_limit = 3000\n",
    "  \n",
    "# Populating lists with follower names and IDs using twitter API\n",
    "for page in tweepy.Cursor(api.get_followers, screen_name=screen_name, count=100).items(follower_limit):\n",
    "#     print(page.screen_name)\n",
    "    follow_list.append(page.screen_name)\n",
    "    follow_id_list.append(page.id)"
   ]
  },
  {
   "cell_type": "code",
   "execution_count": null,
   "id": "50458887",
   "metadata": {},
   "outputs": [],
   "source": [
    "follow_df.to_csv(f'followers_{screen_name}.csv')"
   ]
  },
  {
   "cell_type": "code",
   "execution_count": 33,
   "id": "9774bf53",
   "metadata": {},
   "outputs": [],
   "source": [
    "follow_df = pd.DataFrame(follow_list)\n",
    "samples = follow_df"
   ]
  },
  {
   "cell_type": "markdown",
   "id": "f5087ff1",
   "metadata": {},
   "source": [
    "## Grabbing follows (friends) of account"
   ]
  },
  {
   "cell_type": "code",
   "execution_count": 6,
   "id": "b120b534",
   "metadata": {},
   "outputs": [],
   "source": [
    "# # Search Parameters\n",
    "# screen_name = \"AndrewYNg\"\n",
    "# follows_list = []\n",
    "# follows_id_list = []\n",
    "# follows_limit = 1000\n",
    "\n",
    "# # Populating lists with follow names and IDs using twitter API\n",
    "# for page in tweepy.Cursor(api.get_friends, screen_name=screen_name, count=200).items(follows_limit):\n",
    "# #     print(page.screen_name)\n",
    "#     follows_list.append(page.screen_name)\n",
    "#     follows_id_list.append(page.id)\n",
    "\n",
    "# pd.DataFrame(follows_list).head()"
   ]
  },
  {
   "cell_type": "code",
   "execution_count": 31,
   "id": "3a93c54c",
   "metadata": {},
   "outputs": [],
   "source": [
    "# follows_df = pd.DataFrame(follows_list)\n",
    "# samples = follows_df # .sample(100) # filter down long lists with .sample()"
   ]
  },
  {
   "cell_type": "code",
   "execution_count": 94,
   "id": "08529629",
   "metadata": {},
   "outputs": [],
   "source": [
    "# follows_df.to_csv(f'follows_{screen_name}.csv')"
   ]
  },
  {
   "cell_type": "markdown",
   "id": "58007efb",
   "metadata": {},
   "source": [
    "## Scraping tweets from users that have at least some retweets"
   ]
  },
  {
   "cell_type": "code",
   "execution_count": 25,
   "id": "de6dd08c",
   "metadata": {},
   "outputs": [],
   "source": [
    "limit = 100 # number of tweets to scrape from each follower\n",
    "retweet_minimum = 1 # minimum number of retweets for those tweets\n",
    "columns = ['creation_time', 'user', 'tweet', 'retweets', 'favorites', 'followers', 'lists']\n",
    "total_tweets = []\n",
    "\n",
    "for follower in samples[0].tolist():\n",
    "    query = (f'from:{follower} min_retweets:{retweet_minimum} lang:en since:2020-01-01')\n",
    "    tweets = []\n",
    "    for tweet in sntwitter.TwitterSearchScraper(query).get_items():\n",
    "    #     print(vars(tweet))\n",
    "    #     break\n",
    "        if len(tweets) == limit:\n",
    "            break\n",
    "        else:\n",
    "            tweets.append([tweet.date, \n",
    "                           tweet.user.username, \n",
    "            #                   tweet.inReplyToUser, \n",
    "                           tweet.content,\n",
    "                           tweet.retweetCount,\n",
    "                           tweet.likeCount,\n",
    "                           tweet.user.followersCount,\n",
    "                           tweet.user.listedCount])\n",
    "    total_tweets.extend(tweets)\n",
    "\n",
    "df = pd.DataFrame(total_tweets, columns=columns)"
   ]
  },
  {
   "cell_type": "code",
   "execution_count": 49,
   "id": "ba98ec86",
   "metadata": {
    "scrolled": false
   },
   "outputs": [
    {
     "data": {
      "text/html": [
       "<div>\n",
       "<style scoped>\n",
       "    .dataframe tbody tr th:only-of-type {\n",
       "        vertical-align: middle;\n",
       "    }\n",
       "\n",
       "    .dataframe tbody tr th {\n",
       "        vertical-align: top;\n",
       "    }\n",
       "\n",
       "    .dataframe thead th {\n",
       "        text-align: right;\n",
       "    }\n",
       "</style>\n",
       "<table border=\"1\" class=\"dataframe\">\n",
       "  <thead>\n",
       "    <tr style=\"text-align: right;\">\n",
       "      <th></th>\n",
       "      <th>creation_time</th>\n",
       "      <th>user</th>\n",
       "      <th>tweet</th>\n",
       "      <th>retweets</th>\n",
       "      <th>favorites</th>\n",
       "      <th>followers</th>\n",
       "      <th>lists</th>\n",
       "    </tr>\n",
       "  </thead>\n",
       "  <tbody>\n",
       "    <tr>\n",
       "      <th>2973</th>\n",
       "      <td>2022-09-29 08:01:34+00:00</td>\n",
       "      <td>markessien</td>\n",
       "      <td>Peter Obi is not the favorite to win the Niger...</td>\n",
       "      <td>5160</td>\n",
       "      <td>13420</td>\n",
       "      <td>166237</td>\n",
       "      <td>767</td>\n",
       "    </tr>\n",
       "    <tr>\n",
       "      <th>2942</th>\n",
       "      <td>2022-10-02 08:52:25+00:00</td>\n",
       "      <td>markessien</td>\n",
       "      <td>Osinbajo could do one last thing to cement his...</td>\n",
       "      <td>3224</td>\n",
       "      <td>13295</td>\n",
       "      <td>166237</td>\n",
       "      <td>767</td>\n",
       "    </tr>\n",
       "    <tr>\n",
       "      <th>2951</th>\n",
       "      <td>2022-10-01 11:07:14+00:00</td>\n",
       "      <td>markessien</td>\n",
       "      <td>Don't underestimate the power of 4 angry peopl...</td>\n",
       "      <td>2775</td>\n",
       "      <td>9168</td>\n",
       "      <td>166237</td>\n",
       "      <td>767</td>\n",
       "    </tr>\n",
       "    <tr>\n",
       "      <th>2958</th>\n",
       "      <td>2022-10-01 06:35:10+00:00</td>\n",
       "      <td>markessien</td>\n",
       "      <td>Firs thing @PeterObi should do once in power i...</td>\n",
       "      <td>1859</td>\n",
       "      <td>4950</td>\n",
       "      <td>166237</td>\n",
       "      <td>767</td>\n",
       "    </tr>\n",
       "    <tr>\n",
       "      <th>4836</th>\n",
       "      <td>2021-05-16 18:33:50+00:00</td>\n",
       "      <td>HichamYezza</td>\n",
       "      <td>@Israel @bellahadid She said nothing of the ki...</td>\n",
       "      <td>1431</td>\n",
       "      <td>17532</td>\n",
       "      <td>8490</td>\n",
       "      <td>135</td>\n",
       "    </tr>\n",
       "    <tr>\n",
       "      <th>...</th>\n",
       "      <td>...</td>\n",
       "      <td>...</td>\n",
       "      <td>...</td>\n",
       "      <td>...</td>\n",
       "      <td>...</td>\n",
       "      <td>...</td>\n",
       "      <td>...</td>\n",
       "    </tr>\n",
       "    <tr>\n",
       "      <th>12315</th>\n",
       "      <td>2022-08-03 00:40:25+00:00</td>\n",
       "      <td>PastorSotoB1</td>\n",
       "      <td>4- Machine Learning with Python by @freeCodeCa...</td>\n",
       "      <td>0</td>\n",
       "      <td>0</td>\n",
       "      <td>29</td>\n",
       "      <td>1</td>\n",
       "    </tr>\n",
       "    <tr>\n",
       "      <th>2719</th>\n",
       "      <td>2020-12-09 22:29:24+00:00</td>\n",
       "      <td>mpeg2tom</td>\n",
       "      <td>Starship SN8 launch T-16 minutes! https://t.co...</td>\n",
       "      <td>0</td>\n",
       "      <td>0</td>\n",
       "      <td>338</td>\n",
       "      <td>19</td>\n",
       "    </tr>\n",
       "    <tr>\n",
       "      <th>12316</th>\n",
       "      <td>2022-08-01 22:06:45+00:00</td>\n",
       "      <td>PastorSotoB1</td>\n",
       "      <td>3- Machine Learning with Python by @freeCodeCa...</td>\n",
       "      <td>0</td>\n",
       "      <td>0</td>\n",
       "      <td>29</td>\n",
       "      <td>1</td>\n",
       "    </tr>\n",
       "    <tr>\n",
       "      <th>2726</th>\n",
       "      <td>2020-04-12 20:33:13+00:00</td>\n",
       "      <td>mpeg2tom</td>\n",
       "      <td>@SeanTAllen 1 &amp;amp; 2 BASIC, and one of my fir...</td>\n",
       "      <td>0</td>\n",
       "      <td>8</td>\n",
       "      <td>338</td>\n",
       "      <td>19</td>\n",
       "    </tr>\n",
       "    <tr>\n",
       "      <th>10897</th>\n",
       "      <td>2021-07-09 22:02:27+00:00</td>\n",
       "      <td>chandra1250</td>\n",
       "      <td>@garyblack00 @bevedoni Challenging projections...</td>\n",
       "      <td>0</td>\n",
       "      <td>1</td>\n",
       "      <td>73</td>\n",
       "      <td>3</td>\n",
       "    </tr>\n",
       "  </tbody>\n",
       "</table>\n",
       "<p>17092 rows × 7 columns</p>\n",
       "</div>"
      ],
      "text/plain": [
       "                  creation_time          user  \\\n",
       "2973  2022-09-29 08:01:34+00:00    markessien   \n",
       "2942  2022-10-02 08:52:25+00:00    markessien   \n",
       "2951  2022-10-01 11:07:14+00:00    markessien   \n",
       "2958  2022-10-01 06:35:10+00:00    markessien   \n",
       "4836  2021-05-16 18:33:50+00:00   HichamYezza   \n",
       "...                         ...           ...   \n",
       "12315 2022-08-03 00:40:25+00:00  PastorSotoB1   \n",
       "2719  2020-12-09 22:29:24+00:00      mpeg2tom   \n",
       "12316 2022-08-01 22:06:45+00:00  PastorSotoB1   \n",
       "2726  2020-04-12 20:33:13+00:00      mpeg2tom   \n",
       "10897 2021-07-09 22:02:27+00:00   chandra1250   \n",
       "\n",
       "                                                   tweet  retweets  favorites  \\\n",
       "2973   Peter Obi is not the favorite to win the Niger...      5160      13420   \n",
       "2942   Osinbajo could do one last thing to cement his...      3224      13295   \n",
       "2951   Don't underestimate the power of 4 angry peopl...      2775       9168   \n",
       "2958   Firs thing @PeterObi should do once in power i...      1859       4950   \n",
       "4836   @Israel @bellahadid She said nothing of the ki...      1431      17532   \n",
       "...                                                  ...       ...        ...   \n",
       "12315  4- Machine Learning with Python by @freeCodeCa...         0          0   \n",
       "2719   Starship SN8 launch T-16 minutes! https://t.co...         0          0   \n",
       "12316  3- Machine Learning with Python by @freeCodeCa...         0          0   \n",
       "2726   @SeanTAllen 1 &amp; 2 BASIC, and one of my fir...         0          8   \n",
       "10897  @garyblack00 @bevedoni Challenging projections...         0          1   \n",
       "\n",
       "       followers  lists  \n",
       "2973      166237    767  \n",
       "2942      166237    767  \n",
       "2951      166237    767  \n",
       "2958      166237    767  \n",
       "4836        8490    135  \n",
       "...          ...    ...  \n",
       "12315         29      1  \n",
       "2719         338     19  \n",
       "12316         29      1  \n",
       "2726         338     19  \n",
       "10897         73      3  \n",
       "\n",
       "[17092 rows x 7 columns]"
      ]
     },
     "execution_count": 49,
     "metadata": {},
     "output_type": "execute_result"
    }
   ],
   "source": [
    "# Previewing, sorted by retweets\n",
    "df.sort_values('retweets', ascending=False) # .style.set_properties(**{'text-align': 'left'})"
   ]
  },
  {
   "cell_type": "code",
   "execution_count": 40,
   "id": "f0dfa726",
   "metadata": {},
   "outputs": [],
   "source": [
    "# Saving to CSV\n",
    "df.to_csv('Schmidhuber_follower_tweets.csv')"
   ]
  },
  {
   "cell_type": "markdown",
   "id": "76fe7026",
   "metadata": {},
   "source": [
    "## Data Combination and Preparation"
   ]
  },
  {
   "cell_type": "code",
   "execution_count": 70,
   "id": "0283b02e",
   "metadata": {
    "scrolled": false
   },
   "outputs": [],
   "source": [
    "# Reading and previewing data\n",
    "# Note the order - NG friends first, then schmidhuber followers - the order has to stay consistent across documents\n",
    "df = pd.read_csv('data/ng_friend_tweets.csv', index_col=0)\n",
    "df = df.append(pd.read_csv('data/Schmidhuber_follower_tweets.csv', index_col=0))\n",
    "df = df.reset_index(drop=True)"
   ]
  },
  {
   "cell_type": "markdown",
   "id": "bc34a285",
   "metadata": {},
   "source": [
    "Investigating the relationship between followers and retweets in our data:"
   ]
  },
  {
   "cell_type": "code",
   "execution_count": 71,
   "id": "e284c24f",
   "metadata": {},
   "outputs": [
    {
     "data": {
      "image/png": "[encoded data removed]",
      "text/plain": [
       "<Figure size 432x288 with 1 Axes>"
      ]
     },
     "metadata": {
      "needs_background": "light"
     },
     "output_type": "display_data"
    }
   ],
   "source": [
    "# A scatter plot to show how followers relate to retweets\n",
    "plt.scatter(df['followers'], df['retweets'])\n",
    "plt.xlabel('Followers')\n",
    "plt.ylabel('Retweets')\n",
    "plt.title('Followers vs Retweets')\n",
    "plt.show()"
   ]
  },
  {
   "cell_type": "markdown",
   "id": "b6782327",
   "metadata": {},
   "source": [
    "We'll clean up these outliers in the main document after combining all of our features."
   ]
  },
  {
   "cell_type": "code",
   "execution_count": 72,
   "id": "fa51b1ec",
   "metadata": {},
   "outputs": [],
   "source": [
    "df.to_csv('data/combined_data.csv')"
   ]
  },
  {
   "cell_type": "markdown",
   "id": "a007776c",
   "metadata": {},
   "source": [
    ":)"
   ]
  }
 ],
 "metadata": {
  "kernelspec": {
   "display_name": "Python (learn-env)",
   "language": "python",
   "name": "learn-env"
  },
  "language_info": {
   "codemirror_mode": {
    "name": "ipython",
    "version": 3
   },
   "file_extension": ".py",
   "mimetype": "text/x-python",
   "name": "python",
   "nbconvert_exporter": "python",
   "pygments_lexer": "ipython3",
   "version": "3.9.7"
  }
 },
 "nbformat": 4,
 "nbformat_minor": 5
}
