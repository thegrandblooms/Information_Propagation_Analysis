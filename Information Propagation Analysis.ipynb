{
 "cells": [
  {
   "cell_type": "markdown",
   "id": "271aedf9",
   "metadata": {},
   "source": [
    "# Information Propagation Analysis using Machine Learning\n",
    "\n",
    "Can we use machine learning to better understand the propagation of information? Like ecosystems, information also reproduces, has niches, and is subject to selection pressures. When a piece of information on average propagates to more than one person, it tends to spread exponentially, or \"goes viral\". The spread of information is relevant everywhere, like when an organization is building a brand or spreading awareness of a new product. In this analysis we'll focus on scientific communication happening on twitter Machine Learning communities, to study which information is most likely to spread from one researcher to another.\n",
    "\n",
    "Two main factors for us to think about are follower counts and niches. Accounts with lots of followers are naturally retweeted more often. In this project we can begin to quantify that relationship more specifically.\n",
    "\n",
    "Niches are more complicated - the same tweet can go viral in one niche but not others. By specifically looking for \"accounts connected to prominent machine-learning researchers\" we can make the assumption that these will mostly represent a \"machine learning\" niche within the social network. This process would be different if we were studying virality in a pop music niche, for instance.\n",
    "\n",
    "By learning about information propagation, we can gain a deeper insight into how markets work, how company culture forms, how insights propagate across teams, how misinformation spreads, and, generally, how change happens in social networks."
   ]
  },
  {
   "cell_type": "markdown",
   "id": "324e617f",
   "metadata": {},
   "source": [
    "## Setup"
   ]
  },
  {
   "cell_type": "code",
   "execution_count": 197,
   "id": "5b205628",
   "metadata": {},
   "outputs": [],
   "source": [
    "# !pip install -U sentence-transformers\n",
    "# !pip install pytorch\n",
    "# !pip install pytorch-lightning\n",
    "# !pip install typing-extensions --upgrade\n",
    "# !pip install tensorboard\n",
    "# !pip install pytorch-tabnet\n",
    "\n",
    "# Standard Packages\n",
    "import pandas as pd\n",
    "import numpy as np\n",
    "import datetime\n",
    "import seaborn as sns\n",
    "import matplotlib.pyplot as plt\n",
    "%matplotlib inline\n",
    "import warnings\n",
    "warnings.filterwarnings(action='ignore', category=FutureWarning)\n",
    "import os\n",
    "from pathlib import Path\n",
    "\n",
    "# NLP Packages\n",
    "from sentence_transformers import SentenceTransformer\n",
    "from top2vec import Top2Vec\n",
    "\n",
    "# ML Packages\n",
    "from imblearn.over_sampling import SMOTE, SMOTENC\n",
    "from xgboost import XGBClassifier\n",
    "import xgboost\n",
    "import statsmodels.api as sm\n",
    "import torch\n",
    "from pytorch_tabnet.tab_model import TabNetRegressor\n",
    "\n",
    "\n",
    "from sklearn import metrics, model_selection, svm\n",
    "from sklearn.metrics import accuracy_score, classification_report, confusion_matrix, roc_curve, auc, f1_score\n",
    "from sklearn.metrics import mean_squared_error as MSE\n",
    "from sklearn.metrics.pairwise import cosine_similarity\n",
    "from sklearn.model_selection import train_test_split, GridSearchCV, RandomizedSearchCV\n",
    "from sklearn.preprocessing import StandardScaler, LabelBinarizer, LabelEncoder\n",
    "from sklearn.neighbors import KNeighborsClassifier\n",
    "from sklearn.tree import DecisionTreeClassifier\n",
    "from sklearn.linear_model import LinearRegression\n",
    "from sklearn.ensemble import BaggingClassifier, RandomForestRegressor\n",
    "from sklearn.pipeline import Pipeline\n",
    "from sklearn.decomposition import PCA\n",
    "from sklearn.feature_extraction.text import CountVectorizer\n",
    "from sklearn.feature_selection import RFE, SequentialFeatureSelector\n",
    "\n",
    "from keras.utils.np_utils import to_categorical\n",
    "from keras.preprocessing.image import ImageDataGenerator\n",
    "from keras.preprocessing.text import Tokenizer\n",
    "from keras.applications.resnet import preprocess_input\n",
    "from keras import layers, models, regularizers\n",
    "from keras.models import Sequential\n",
    "from keras.layers import Conv2D, Flatten, Dense, MaxPooling2D, Dropout , BatchNormalization\n",
    "from keras.callbacks import EarlyStopping, ModelCheckpoint\n",
    "\n",
    "import tensorflow as tf\n",
    "from tensorflow import keras\n",
    "from tensorflow.keras.layers import SeparableConv2D\n",
    "from tensorflow.keras.layers import SeparableConv1D\n",
    "from tensorflow.keras import optimizers\n",
    "from tensorflow.keras import Model\n",
    "\n",
    "np.random.seed(0)"
   ]
  },
  {
   "cell_type": "code",
   "execution_count": 2,
   "id": "ce3a24a1",
   "metadata": {},
   "outputs": [],
   "source": [
    "### Model Evaluation Functions\n",
    "\n",
    "def plot_history(history):\n",
    "  plt.figure()\n",
    "  plt.xlabel('Epoch')\n",
    "  plt.ylabel('Mean Abs Error')\n",
    "  plt.plot(history.epoch, np.array(history.history['root_mean_squared_error']), label='Train')\n",
    "  plt.plot(history.epoch, np.array(history.history['val_root_mean_squared_error']), label = 'Val')\n",
    "  plt.legend()\n",
    "  plt.ylim([0,max(history.history['val_root_mean_squared_error'])])\n",
    "\n",
    "def plot_prediction(test_labels, test_predictions):\n",
    "  f = plt.figure(figsize=(8, 4))\n",
    "\n",
    "  f1 = f.add_subplot(1,2,1)\n",
    "  plt.scatter(test_labels, test_predictions)\n",
    "  plt.xlabel('True Values')\n",
    "  plt.ylabel('Predictions')\n",
    "  plt.axis('equal')\n",
    "  plt.xlim(plt.xlim())\n",
    "  plt.ylim(plt.ylim())\n",
    "\n",
    "  error = test_predictions - test_labels\n",
    "  f2 = f.add_subplot(1,2,2)\n",
    "  plt.hist(error, bins = 50)\n",
    "  plt.xlabel(\"Prediction Error\")\n",
    "  plt.ylabel(\"Count\")\n",
    "    \n",
    "  plt.tight_layout()\n",
    "  plt.show()"
   ]
  },
  {
   "cell_type": "markdown",
   "id": "e84406d5",
   "metadata": {},
   "source": [
    "### Loading our data\n",
    "This analysis was done on two separate datasets. For brevity, we'll only cover the first in this notebook, looking at the last 100 tweets with over 1 retweet from the people Andrew Ng is following, and seeing if it's possible to use NLP and machine learning to predict their retweet count.\n",
    "\n",
    "First we will explore a Top2Vec pipeline to mine data from text, and then later we'll explore raw document embeddings from Roberta-Large, and see how these NLP techniques impact our machine-learning results."
   ]
  },
  {
   "cell_type": "code",
   "execution_count": 3,
   "id": "ce00abde",
   "metadata": {},
   "outputs": [
    {
     "data": {
      "text/plain": [
       "(63033, 7)"
      ]
     },
     "execution_count": 3,
     "metadata": {},
     "output_type": "execute_result"
    }
   ],
   "source": [
    "df = pd.read_csv('data/combined_data.csv', index_col=0)\n",
    "df.shape"
   ]
  },
  {
   "cell_type": "code",
   "execution_count": 4,
   "id": "ee78fb5b",
   "metadata": {},
   "outputs": [
    {
     "data": {
      "text/html": [
       "<div>\n",
       "<style scoped>\n",
       "    .dataframe tbody tr th:only-of-type {\n",
       "        vertical-align: middle;\n",
       "    }\n",
       "\n",
       "    .dataframe tbody tr th {\n",
       "        vertical-align: top;\n",
       "    }\n",
       "\n",
       "    .dataframe thead th {\n",
       "        text-align: right;\n",
       "    }\n",
       "</style>\n",
       "<table border=\"1\" class=\"dataframe\">\n",
       "  <thead>\n",
       "    <tr style=\"text-align: right;\">\n",
       "      <th></th>\n",
       "      <th>creation_time</th>\n",
       "      <th>user</th>\n",
       "      <th>tweet</th>\n",
       "      <th>retweets</th>\n",
       "      <th>favorites</th>\n",
       "      <th>followers</th>\n",
       "      <th>lists</th>\n",
       "    </tr>\n",
       "  </thead>\n",
       "  <tbody>\n",
       "    <tr>\n",
       "      <th>58656</th>\n",
       "      <td>2022-04-26 07:00:25+00:00</td>\n",
       "      <td>bitswired</td>\n",
       "      <td>“Anyone who stops learning is old, whether at ...</td>\n",
       "      <td>1</td>\n",
       "      <td>1</td>\n",
       "      <td>22</td>\n",
       "      <td>11</td>\n",
       "    </tr>\n",
       "    <tr>\n",
       "      <th>32366</th>\n",
       "      <td>2020-01-08 06:05:15+00:00</td>\n",
       "      <td>suzannTee</td>\n",
       "      <td>My center is hiring a Research Data Analyst to...</td>\n",
       "      <td>4</td>\n",
       "      <td>5</td>\n",
       "      <td>1547</td>\n",
       "      <td>74</td>\n",
       "    </tr>\n",
       "    <tr>\n",
       "      <th>24998</th>\n",
       "      <td>2022-05-19 23:32:52+00:00</td>\n",
       "      <td>ChrisMarsicano</td>\n",
       "      <td>Most of us read this @BusinessInsider piece as...</td>\n",
       "      <td>1</td>\n",
       "      <td>8</td>\n",
       "      <td>5497</td>\n",
       "      <td>79</td>\n",
       "    </tr>\n",
       "    <tr>\n",
       "      <th>8002</th>\n",
       "      <td>2022-08-25 19:23:15+00:00</td>\n",
       "      <td>ajassy</td>\n",
       "      <td>Amazon continues to invest in range of new tec...</td>\n",
       "      <td>37</td>\n",
       "      <td>188</td>\n",
       "      <td>145815</td>\n",
       "      <td>1036</td>\n",
       "    </tr>\n",
       "    <tr>\n",
       "      <th>6655</th>\n",
       "      <td>2022-08-08 18:02:49+00:00</td>\n",
       "      <td>StanfordHAI</td>\n",
       "      <td>Welcome, congressional staffers! This week, we...</td>\n",
       "      <td>10</td>\n",
       "      <td>42</td>\n",
       "      <td>59393</td>\n",
       "      <td>1284</td>\n",
       "    </tr>\n",
       "  </tbody>\n",
       "</table>\n",
       "</div>"
      ],
      "text/plain": [
       "                   creation_time            user  \\\n",
       "58656  2022-04-26 07:00:25+00:00       bitswired   \n",
       "32366  2020-01-08 06:05:15+00:00       suzannTee   \n",
       "24998  2022-05-19 23:32:52+00:00  ChrisMarsicano   \n",
       "8002   2022-08-25 19:23:15+00:00          ajassy   \n",
       "6655   2022-08-08 18:02:49+00:00     StanfordHAI   \n",
       "\n",
       "                                                   tweet  retweets  favorites  \\\n",
       "58656  “Anyone who stops learning is old, whether at ...         1          1   \n",
       "32366  My center is hiring a Research Data Analyst to...         4          5   \n",
       "24998  Most of us read this @BusinessInsider piece as...         1          8   \n",
       "8002   Amazon continues to invest in range of new tec...        37        188   \n",
       "6655   Welcome, congressional staffers! This week, we...        10         42   \n",
       "\n",
       "       followers  lists  \n",
       "58656         22     11  \n",
       "32366       1547     74  \n",
       "24998       5497     79  \n",
       "8002      145815   1036  \n",
       "6655       59393   1284  "
      ]
     },
     "execution_count": 4,
     "metadata": {},
     "output_type": "execute_result"
    }
   ],
   "source": [
    "df.sample(5)"
   ]
  },
  {
   "cell_type": "code",
   "execution_count": 5,
   "id": "d839a423",
   "metadata": {},
   "outputs": [
    {
     "data": {
      "text/html": [
       "<div>\n",
       "<style scoped>\n",
       "    .dataframe tbody tr th:only-of-type {\n",
       "        vertical-align: middle;\n",
       "    }\n",
       "\n",
       "    .dataframe tbody tr th {\n",
       "        vertical-align: top;\n",
       "    }\n",
       "\n",
       "    .dataframe thead th {\n",
       "        text-align: right;\n",
       "    }\n",
       "</style>\n",
       "<table border=\"1\" class=\"dataframe\">\n",
       "  <thead>\n",
       "    <tr style=\"text-align: right;\">\n",
       "      <th></th>\n",
       "      <th>retweets</th>\n",
       "      <th>favorites</th>\n",
       "      <th>followers</th>\n",
       "      <th>lists</th>\n",
       "    </tr>\n",
       "  </thead>\n",
       "  <tbody>\n",
       "    <tr>\n",
       "      <th>retweets</th>\n",
       "      <td>1.000000</td>\n",
       "      <td>0.930035</td>\n",
       "      <td>0.341763</td>\n",
       "      <td>0.277502</td>\n",
       "    </tr>\n",
       "    <tr>\n",
       "      <th>favorites</th>\n",
       "      <td>0.930035</td>\n",
       "      <td>1.000000</td>\n",
       "      <td>0.401457</td>\n",
       "      <td>0.324698</td>\n",
       "    </tr>\n",
       "    <tr>\n",
       "      <th>followers</th>\n",
       "      <td>0.341763</td>\n",
       "      <td>0.401457</td>\n",
       "      <td>1.000000</td>\n",
       "      <td>0.901672</td>\n",
       "    </tr>\n",
       "    <tr>\n",
       "      <th>lists</th>\n",
       "      <td>0.277502</td>\n",
       "      <td>0.324698</td>\n",
       "      <td>0.901672</td>\n",
       "      <td>1.000000</td>\n",
       "    </tr>\n",
       "  </tbody>\n",
       "</table>\n",
       "</div>"
      ],
      "text/plain": [
       "           retweets  favorites  followers     lists\n",
       "retweets   1.000000   0.930035   0.341763  0.277502\n",
       "favorites  0.930035   1.000000   0.401457  0.324698\n",
       "followers  0.341763   0.401457   1.000000  0.901672\n",
       "lists      0.277502   0.324698   0.901672  1.000000"
      ]
     },
     "metadata": {},
     "output_type": "display_data"
    },
    {
     "data": {
      "image/png": "[encoded data removed]",
      "text/plain": [
       "<Figure size 432x288 with 1 Axes>"
      ]
     },
     "metadata": {
      "needs_background": "light"
     },
     "output_type": "display_data"
    }
   ],
   "source": [
    "### Interpreting our data:\n",
    "# Correlation Matrix\n",
    "display(df.corr())\n",
    "\n",
    "# scatter plot to show how followers relate to retweets\n",
    "plt.scatter(df['followers'], df['retweets'])\n",
    "plt.xlabel('Followers')\n",
    "plt.ylabel('Retweets')\n",
    "plt.title('Followers vs Retweets')\n",
    "plt.show()"
   ]
  },
  {
   "cell_type": "code",
   "execution_count": 199,
   "id": "66c059da",
   "metadata": {},
   "outputs": [
    {
     "data": {
      "image/png": "[encoded data removed]",
      "text/plain": [
       "<Figure size 432x288 with 1 Axes>"
      ]
     },
     "metadata": {
      "needs_background": "light"
     },
     "output_type": "display_data"
    }
   ],
   "source": [
    "df['retweets'].hist(bins=30);"
   ]
  },
  {
   "cell_type": "markdown",
   "id": "d3787f33",
   "metadata": {},
   "source": [
    "We can see that followers and lists seem to have a high correlation with retweets, but much of this is driven by outliers as we'll see after filtering down our data. What about our target?"
   ]
  },
  {
   "cell_type": "code",
   "execution_count": 378,
   "id": "92cc4bb7",
   "metadata": {},
   "outputs": [
    {
     "data": {
      "text/plain": [
       "Text(0, 0.5, 'Tweets')"
      ]
     },
     "execution_count": 378,
     "metadata": {},
     "output_type": "execute_result"
    },
    {
     "data": {
      "image/png": "[encoded data removed]",
      "text/plain": [
       "<Figure size 576x432 with 1 Axes>"
      ]
     },
     "metadata": {
      "needs_background": "light"
     },
     "output_type": "display_data"
    }
   ],
   "source": [
    "# Histogram of target (clamped to under 1000 retweets)\n",
    "plt.figure(figsize=(8, 6))\n",
    "df['retweets'].loc[df['retweets'] < 1000].hist(bins=30)\n",
    "plt.xlabel('Retweet Count')\n",
    "plt.ylabel('Tweets')"
   ]
  },
  {
   "cell_type": "markdown",
   "id": "20b6dfd6",
   "metadata": {},
   "source": [
    "Here we can see that our prediction target is quite rare. This will make prediction difficult."
   ]
  },
  {
   "cell_type": "markdown",
   "id": "c11e9f67",
   "metadata": {},
   "source": [
    "# Natural Language Processing\n",
    "To get the most out of our text data, we'll try a multiscale analysis, each layer getting a bit more abstract. First we'll look at words themselves with a traditional Bag Of Words method, then document embeddings using ROBERTA-large, then topics from Top2Vec. Then we analyze and select our features at each layer of NLP abstraction and integrate with metadata into a final predictive model."
   ]
  },
  {
   "cell_type": "markdown",
   "id": "2bccc651",
   "metadata": {},
   "source": [
    "### Bag of Words\n",
    "The simplest part of our NLP, we will just identify word (or word pairing(bigram)) frequency."
   ]
  },
  {
   "cell_type": "code",
   "execution_count": 202,
   "id": "99005551",
   "metadata": {},
   "outputs": [],
   "source": [
    "# We'll filter down our words to some range of semi-frequent words\n",
    "max_doc_frequency = 0.04\n",
    "min_doc_frequency = 0.004\n",
    "\n",
    "vectorizer = CountVectorizer(lowercase=True, stop_words={'english'}, ngram_range=(1, 2), max_df=max_doc_frequency, min_df=min_doc_frequency)\n",
    "docs = df.tweet.tolist()\n",
    "words = vectorizer.fit_transform(docs)\n",
    "BOW = pd.DataFrame(words.toarray(), columns=vectorizer.get_feature_names())\n",
    "BOW = BOW.add_suffix('_BOW')"
   ]
  },
  {
   "cell_type": "code",
   "execution_count": 203,
   "id": "1fea8d6c",
   "metadata": {},
   "outputs": [
    {
     "data": {
      "text/plain": [
       "(63033, 940)"
      ]
     },
     "metadata": {},
     "output_type": "display_data"
    },
    {
     "data": {
      "text/html": [
       "<div>\n",
       "<style scoped>\n",
       "    .dataframe tbody tr th:only-of-type {\n",
       "        vertical-align: middle;\n",
       "    }\n",
       "\n",
       "    .dataframe tbody tr th {\n",
       "        vertical-align: top;\n",
       "    }\n",
       "\n",
       "    .dataframe thead th {\n",
       "        text-align: right;\n",
       "    }\n",
       "</style>\n",
       "<table border=\"1\" class=\"dataframe\">\n",
       "  <thead>\n",
       "    <tr style=\"text-align: right;\">\n",
       "      <th></th>\n",
       "      <th>000_BOW</th>\n",
       "      <th>10_BOW</th>\n",
       "      <th>100_BOW</th>\n",
       "      <th>100daysofcode_BOW</th>\n",
       "      <th>11_BOW</th>\n",
       "      <th>12_BOW</th>\n",
       "      <th>15_BOW</th>\n",
       "      <th>19_BOW</th>\n",
       "      <th>20_BOW</th>\n",
       "      <th>2020_BOW</th>\n",
       "      <th>...</th>\n",
       "      <th>you know_BOW</th>\n",
       "      <th>you ll_BOW</th>\n",
       "      <th>you need_BOW</th>\n",
       "      <th>you re_BOW</th>\n",
       "      <th>you to_BOW</th>\n",
       "      <th>you want_BOW</th>\n",
       "      <th>young_BOW</th>\n",
       "      <th>yourself_BOW</th>\n",
       "      <th>youtube_BOW</th>\n",
       "      <th>zero_BOW</th>\n",
       "    </tr>\n",
       "  </thead>\n",
       "  <tbody>\n",
       "    <tr>\n",
       "      <th>58656</th>\n",
       "      <td>0</td>\n",
       "      <td>0</td>\n",
       "      <td>0</td>\n",
       "      <td>0</td>\n",
       "      <td>0</td>\n",
       "      <td>0</td>\n",
       "      <td>0</td>\n",
       "      <td>0</td>\n",
       "      <td>0</td>\n",
       "      <td>0</td>\n",
       "      <td>...</td>\n",
       "      <td>0</td>\n",
       "      <td>0</td>\n",
       "      <td>0</td>\n",
       "      <td>0</td>\n",
       "      <td>0</td>\n",
       "      <td>0</td>\n",
       "      <td>1</td>\n",
       "      <td>0</td>\n",
       "      <td>0</td>\n",
       "      <td>0</td>\n",
       "    </tr>\n",
       "    <tr>\n",
       "      <th>32366</th>\n",
       "      <td>0</td>\n",
       "      <td>0</td>\n",
       "      <td>0</td>\n",
       "      <td>0</td>\n",
       "      <td>0</td>\n",
       "      <td>0</td>\n",
       "      <td>0</td>\n",
       "      <td>0</td>\n",
       "      <td>0</td>\n",
       "      <td>0</td>\n",
       "      <td>...</td>\n",
       "      <td>0</td>\n",
       "      <td>0</td>\n",
       "      <td>0</td>\n",
       "      <td>0</td>\n",
       "      <td>0</td>\n",
       "      <td>0</td>\n",
       "      <td>0</td>\n",
       "      <td>0</td>\n",
       "      <td>0</td>\n",
       "      <td>0</td>\n",
       "    </tr>\n",
       "    <tr>\n",
       "      <th>24998</th>\n",
       "      <td>0</td>\n",
       "      <td>0</td>\n",
       "      <td>0</td>\n",
       "      <td>0</td>\n",
       "      <td>0</td>\n",
       "      <td>0</td>\n",
       "      <td>0</td>\n",
       "      <td>0</td>\n",
       "      <td>0</td>\n",
       "      <td>0</td>\n",
       "      <td>...</td>\n",
       "      <td>0</td>\n",
       "      <td>0</td>\n",
       "      <td>0</td>\n",
       "      <td>0</td>\n",
       "      <td>0</td>\n",
       "      <td>0</td>\n",
       "      <td>0</td>\n",
       "      <td>0</td>\n",
       "      <td>0</td>\n",
       "      <td>0</td>\n",
       "    </tr>\n",
       "  </tbody>\n",
       "</table>\n",
       "<p>3 rows × 940 columns</p>\n",
       "</div>"
      ],
      "text/plain": [
       "       000_BOW  10_BOW  100_BOW  100daysofcode_BOW  11_BOW  12_BOW  15_BOW  \\\n",
       "58656        0       0        0                  0       0       0       0   \n",
       "32366        0       0        0                  0       0       0       0   \n",
       "24998        0       0        0                  0       0       0       0   \n",
       "\n",
       "       19_BOW  20_BOW  2020_BOW  ...  you know_BOW  you ll_BOW  you need_BOW  \\\n",
       "58656       0       0         0  ...             0           0             0   \n",
       "32366       0       0         0  ...             0           0             0   \n",
       "24998       0       0         0  ...             0           0             0   \n",
       "\n",
       "       you re_BOW  you to_BOW  you want_BOW  young_BOW  yourself_BOW  \\\n",
       "58656           0           0             0          1             0   \n",
       "32366           0           0             0          0             0   \n",
       "24998           0           0             0          0             0   \n",
       "\n",
       "       youtube_BOW  zero_BOW  \n",
       "58656            0         0  \n",
       "32366            0         0  \n",
       "24998            0         0  \n",
       "\n",
       "[3 rows x 940 columns]"
      ]
     },
     "execution_count": 203,
     "metadata": {},
     "output_type": "execute_result"
    }
   ],
   "source": [
    "display(BOW.shape)\n",
    "BOW.sample(3)"
   ]
  },
  {
   "cell_type": "markdown",
   "id": "a88f6622",
   "metadata": {},
   "source": [
    "### Document Embeddings\n",
    "Check out the other notebook for the document embedding pipeline! We'll just be loading the data here."
   ]
  },
  {
   "cell_type": "code",
   "execution_count": 8,
   "id": "05c86f23",
   "metadata": {},
   "outputs": [],
   "source": [
    "### Loading our embeddings\n",
    "emb = pd.read_csv('data/combined_document_embeddings.csv', index_col=0)\n",
    "emb = emb.add_suffix('_EMB')"
   ]
  },
  {
   "cell_type": "code",
   "execution_count": 9,
   "id": "ce225963",
   "metadata": {},
   "outputs": [
    {
     "data": {
      "text/plain": [
       "(63033, 1024)"
      ]
     },
     "metadata": {},
     "output_type": "display_data"
    },
    {
     "data": {
      "text/html": [
       "<div>\n",
       "<style scoped>\n",
       "    .dataframe tbody tr th:only-of-type {\n",
       "        vertical-align: middle;\n",
       "    }\n",
       "\n",
       "    .dataframe tbody tr th {\n",
       "        vertical-align: top;\n",
       "    }\n",
       "\n",
       "    .dataframe thead th {\n",
       "        text-align: right;\n",
       "    }\n",
       "</style>\n",
       "<table border=\"1\" class=\"dataframe\">\n",
       "  <thead>\n",
       "    <tr style=\"text-align: right;\">\n",
       "      <th></th>\n",
       "      <th>0_EMB</th>\n",
       "      <th>1_EMB</th>\n",
       "      <th>2_EMB</th>\n",
       "      <th>3_EMB</th>\n",
       "      <th>4_EMB</th>\n",
       "      <th>5_EMB</th>\n",
       "      <th>6_EMB</th>\n",
       "      <th>7_EMB</th>\n",
       "      <th>8_EMB</th>\n",
       "      <th>9_EMB</th>\n",
       "      <th>...</th>\n",
       "      <th>1014_EMB</th>\n",
       "      <th>1015_EMB</th>\n",
       "      <th>1016_EMB</th>\n",
       "      <th>1017_EMB</th>\n",
       "      <th>1018_EMB</th>\n",
       "      <th>1019_EMB</th>\n",
       "      <th>1020_EMB</th>\n",
       "      <th>1021_EMB</th>\n",
       "      <th>1022_EMB</th>\n",
       "      <th>1023_EMB</th>\n",
       "    </tr>\n",
       "  </thead>\n",
       "  <tbody>\n",
       "    <tr>\n",
       "      <th>28447</th>\n",
       "      <td>0.002480</td>\n",
       "      <td>0.003906</td>\n",
       "      <td>-0.053020</td>\n",
       "      <td>0.028397</td>\n",
       "      <td>-0.029465</td>\n",
       "      <td>0.003238</td>\n",
       "      <td>-0.030310</td>\n",
       "      <td>-0.003719</td>\n",
       "      <td>-0.029621</td>\n",
       "      <td>0.045498</td>\n",
       "      <td>...</td>\n",
       "      <td>-0.040267</td>\n",
       "      <td>0.021600</td>\n",
       "      <td>0.017410</td>\n",
       "      <td>0.047956</td>\n",
       "      <td>-0.081254</td>\n",
       "      <td>0.011595</td>\n",
       "      <td>-0.019569</td>\n",
       "      <td>-0.031103</td>\n",
       "      <td>-0.018101</td>\n",
       "      <td>-0.057522</td>\n",
       "    </tr>\n",
       "    <tr>\n",
       "      <th>60518</th>\n",
       "      <td>-0.019508</td>\n",
       "      <td>-0.019187</td>\n",
       "      <td>-0.042247</td>\n",
       "      <td>-0.009392</td>\n",
       "      <td>-0.031852</td>\n",
       "      <td>-0.031059</td>\n",
       "      <td>0.019482</td>\n",
       "      <td>0.020751</td>\n",
       "      <td>0.029940</td>\n",
       "      <td>0.036340</td>\n",
       "      <td>...</td>\n",
       "      <td>-0.056557</td>\n",
       "      <td>0.027520</td>\n",
       "      <td>-0.023196</td>\n",
       "      <td>-0.006954</td>\n",
       "      <td>0.000672</td>\n",
       "      <td>0.044679</td>\n",
       "      <td>0.013246</td>\n",
       "      <td>0.054768</td>\n",
       "      <td>-0.029199</td>\n",
       "      <td>-0.020942</td>\n",
       "    </tr>\n",
       "    <tr>\n",
       "      <th>59993</th>\n",
       "      <td>0.037181</td>\n",
       "      <td>-0.039767</td>\n",
       "      <td>-0.014176</td>\n",
       "      <td>-0.025829</td>\n",
       "      <td>-0.004208</td>\n",
       "      <td>-0.058340</td>\n",
       "      <td>-0.012468</td>\n",
       "      <td>0.033414</td>\n",
       "      <td>0.003127</td>\n",
       "      <td>-0.052292</td>\n",
       "      <td>...</td>\n",
       "      <td>-0.012716</td>\n",
       "      <td>-0.014744</td>\n",
       "      <td>0.019038</td>\n",
       "      <td>0.088900</td>\n",
       "      <td>-0.017493</td>\n",
       "      <td>0.005958</td>\n",
       "      <td>0.007930</td>\n",
       "      <td>0.011664</td>\n",
       "      <td>0.000980</td>\n",
       "      <td>-0.022393</td>\n",
       "    </tr>\n",
       "  </tbody>\n",
       "</table>\n",
       "<p>3 rows × 1024 columns</p>\n",
       "</div>"
      ],
      "text/plain": [
       "          0_EMB     1_EMB     2_EMB     3_EMB     4_EMB     5_EMB     6_EMB  \\\n",
       "28447  0.002480  0.003906 -0.053020  0.028397 -0.029465  0.003238 -0.030310   \n",
       "60518 -0.019508 -0.019187 -0.042247 -0.009392 -0.031852 -0.031059  0.019482   \n",
       "59993  0.037181 -0.039767 -0.014176 -0.025829 -0.004208 -0.058340 -0.012468   \n",
       "\n",
       "          7_EMB     8_EMB     9_EMB  ...  1014_EMB  1015_EMB  1016_EMB  \\\n",
       "28447 -0.003719 -0.029621  0.045498  ... -0.040267  0.021600  0.017410   \n",
       "60518  0.020751  0.029940  0.036340  ... -0.056557  0.027520 -0.023196   \n",
       "59993  0.033414  0.003127 -0.052292  ... -0.012716 -0.014744  0.019038   \n",
       "\n",
       "       1017_EMB  1018_EMB  1019_EMB  1020_EMB  1021_EMB  1022_EMB  1023_EMB  \n",
       "28447  0.047956 -0.081254  0.011595 -0.019569 -0.031103 -0.018101 -0.057522  \n",
       "60518 -0.006954  0.000672  0.044679  0.013246  0.054768 -0.029199 -0.020942  \n",
       "59993  0.088900 -0.017493  0.005958  0.007930  0.011664  0.000980 -0.022393  \n",
       "\n",
       "[3 rows x 1024 columns]"
      ]
     },
     "execution_count": 9,
     "metadata": {},
     "output_type": "execute_result"
    }
   ],
   "source": [
    "display(emb.shape)\n",
    "emb.sample(3)"
   ]
  },
  {
   "cell_type": "markdown",
   "id": "1419308b",
   "metadata": {},
   "source": [
    "### Top2Vec\n",
    "Same thing here, check out the notebook \"Top2Vec_Data_Processing\" for the pipeline."
   ]
  },
  {
   "cell_type": "code",
   "execution_count": 513,
   "id": "5a7c0cd2",
   "metadata": {},
   "outputs": [],
   "source": [
    "# Import topics\n",
    "top = pd.read_csv('data/topics.csv', index_col=0)\n",
    "top = pd.get_dummies(top['topic'], drop_first=True).add_suffix('_TOP') # getting dummy columns"
   ]
  },
  {
   "cell_type": "code",
   "execution_count": 514,
   "id": "87bb5ae9",
   "metadata": {},
   "outputs": [
    {
     "data": {
      "text/html": [
       "<div>\n",
       "<style scoped>\n",
       "    .dataframe tbody tr th:only-of-type {\n",
       "        vertical-align: middle;\n",
       "    }\n",
       "\n",
       "    .dataframe tbody tr th {\n",
       "        vertical-align: top;\n",
       "    }\n",
       "\n",
       "    .dataframe thead th {\n",
       "        text-align: right;\n",
       "    }\n",
       "</style>\n",
       "<table border=\"1\" class=\"dataframe\">\n",
       "  <thead>\n",
       "    <tr style=\"text-align: right;\">\n",
       "      <th></th>\n",
       "      <th>creation_time</th>\n",
       "      <th>user</th>\n",
       "      <th>tweet</th>\n",
       "      <th>retweets</th>\n",
       "      <th>favorites</th>\n",
       "      <th>followers</th>\n",
       "      <th>lists</th>\n",
       "      <th>topic</th>\n",
       "    </tr>\n",
       "  </thead>\n",
       "  <tbody>\n",
       "    <tr>\n",
       "      <th>0</th>\n",
       "      <td>2022-09-26 20:14:17+00:00</td>\n",
       "      <td>GregL_Intel</td>\n",
       "      <td>I am looking forward to Intel Fellow @brendang...</td>\n",
       "      <td>10</td>\n",
       "      <td>54</td>\n",
       "      <td>4123</td>\n",
       "      <td>41</td>\n",
       "      <td>52</td>\n",
       "    </tr>\n",
       "    <tr>\n",
       "      <th>1</th>\n",
       "      <td>2022-09-26 20:11:39+00:00</td>\n",
       "      <td>GregL_Intel</td>\n",
       "      <td>Open software ecosystems are key to fostering ...</td>\n",
       "      <td>4</td>\n",
       "      <td>26</td>\n",
       "      <td>4123</td>\n",
       "      <td>41</td>\n",
       "      <td>242</td>\n",
       "    </tr>\n",
       "    <tr>\n",
       "      <th>2</th>\n",
       "      <td>2022-09-21 18:48:59+00:00</td>\n",
       "      <td>GregL_Intel</td>\n",
       "      <td>“AI Everywhere” will require optimized hardwar...</td>\n",
       "      <td>11</td>\n",
       "      <td>25</td>\n",
       "      <td>4123</td>\n",
       "      <td>41</td>\n",
       "      <td>306</td>\n",
       "    </tr>\n",
       "    <tr>\n",
       "      <th>3</th>\n",
       "      <td>2022-09-20 18:00:01+00:00</td>\n",
       "      <td>GregL_Intel</td>\n",
       "      <td>Our collaboration with @TU_Muenchen and the It...</td>\n",
       "      <td>2</td>\n",
       "      <td>12</td>\n",
       "      <td>4123</td>\n",
       "      <td>41</td>\n",
       "      <td>329</td>\n",
       "    </tr>\n",
       "    <tr>\n",
       "      <th>4</th>\n",
       "      <td>2022-09-19 22:52:59+00:00</td>\n",
       "      <td>GregL_Intel</td>\n",
       "      <td>I am looking forward to having @AndrewYNg, fou...</td>\n",
       "      <td>19</td>\n",
       "      <td>85</td>\n",
       "      <td>4123</td>\n",
       "      <td>41</td>\n",
       "      <td>276</td>\n",
       "    </tr>\n",
       "    <tr>\n",
       "      <th>...</th>\n",
       "      <td>...</td>\n",
       "      <td>...</td>\n",
       "      <td>...</td>\n",
       "      <td>...</td>\n",
       "      <td>...</td>\n",
       "      <td>...</td>\n",
       "      <td>...</td>\n",
       "      <td>...</td>\n",
       "    </tr>\n",
       "    <tr>\n",
       "      <th>63028</th>\n",
       "      <td>2020-04-15 16:15:57+00:00</td>\n",
       "      <td>BarryJOGorman</td>\n",
       "      <td>@S_dF speaking of 'daily digital habits' - int...</td>\n",
       "      <td>2</td>\n",
       "      <td>1</td>\n",
       "      <td>909</td>\n",
       "      <td>103</td>\n",
       "      <td>76</td>\n",
       "    </tr>\n",
       "    <tr>\n",
       "      <th>63029</th>\n",
       "      <td>2020-04-15 13:54:53+00:00</td>\n",
       "      <td>BarryJOGorman</td>\n",
       "      <td>@nyike - if 'pushing envelope' - will always m...</td>\n",
       "      <td>1</td>\n",
       "      <td>0</td>\n",
       "      <td>909</td>\n",
       "      <td>103</td>\n",
       "      <td>189</td>\n",
       "    </tr>\n",
       "    <tr>\n",
       "      <th>63030</th>\n",
       "      <td>2021-02-03 18:17:58+00:00</td>\n",
       "      <td>RahulRJB</td>\n",
       "      <td>Even the mighty fall\\n#FarmersProstest</td>\n",
       "      <td>1</td>\n",
       "      <td>2</td>\n",
       "      <td>47</td>\n",
       "      <td>0</td>\n",
       "      <td>232</td>\n",
       "    </tr>\n",
       "    <tr>\n",
       "      <th>63031</th>\n",
       "      <td>2022-10-06 06:42:42+00:00</td>\n",
       "      <td>jonsadventures</td>\n",
       "      <td>I've been writing notes for my second year non...</td>\n",
       "      <td>10</td>\n",
       "      <td>62</td>\n",
       "      <td>99</td>\n",
       "      <td>4</td>\n",
       "      <td>19</td>\n",
       "    </tr>\n",
       "    <tr>\n",
       "      <th>63032</th>\n",
       "      <td>2022-08-05 02:12:16+00:00</td>\n",
       "      <td>ericdongyx</td>\n",
       "      <td>GLM-130B: an open LLM with 130 billion paramet...</td>\n",
       "      <td>1</td>\n",
       "      <td>3</td>\n",
       "      <td>92</td>\n",
       "      <td>5</td>\n",
       "      <td>145</td>\n",
       "    </tr>\n",
       "  </tbody>\n",
       "</table>\n",
       "<p>63033 rows × 8 columns</p>\n",
       "</div>"
      ],
      "text/plain": [
       "                   creation_time            user  \\\n",
       "0      2022-09-26 20:14:17+00:00     GregL_Intel   \n",
       "1      2022-09-26 20:11:39+00:00     GregL_Intel   \n",
       "2      2022-09-21 18:48:59+00:00     GregL_Intel   \n",
       "3      2022-09-20 18:00:01+00:00     GregL_Intel   \n",
       "4      2022-09-19 22:52:59+00:00     GregL_Intel   \n",
       "...                          ...             ...   \n",
       "63028  2020-04-15 16:15:57+00:00   BarryJOGorman   \n",
       "63029  2020-04-15 13:54:53+00:00   BarryJOGorman   \n",
       "63030  2021-02-03 18:17:58+00:00        RahulRJB   \n",
       "63031  2022-10-06 06:42:42+00:00  jonsadventures   \n",
       "63032  2022-08-05 02:12:16+00:00      ericdongyx   \n",
       "\n",
       "                                                   tweet  retweets  favorites  \\\n",
       "0      I am looking forward to Intel Fellow @brendang...        10         54   \n",
       "1      Open software ecosystems are key to fostering ...         4         26   \n",
       "2      “AI Everywhere” will require optimized hardwar...        11         25   \n",
       "3      Our collaboration with @TU_Muenchen and the It...         2         12   \n",
       "4      I am looking forward to having @AndrewYNg, fou...        19         85   \n",
       "...                                                  ...       ...        ...   \n",
       "63028  @S_dF speaking of 'daily digital habits' - int...         2          1   \n",
       "63029  @nyike - if 'pushing envelope' - will always m...         1          0   \n",
       "63030             Even the mighty fall\\n#FarmersProstest         1          2   \n",
       "63031  I've been writing notes for my second year non...        10         62   \n",
       "63032  GLM-130B: an open LLM with 130 billion paramet...         1          3   \n",
       "\n",
       "       followers  lists  topic  \n",
       "0           4123     41     52  \n",
       "1           4123     41    242  \n",
       "2           4123     41    306  \n",
       "3           4123     41    329  \n",
       "4           4123     41    276  \n",
       "...          ...    ...    ...  \n",
       "63028        909    103     76  \n",
       "63029        909    103    189  \n",
       "63030         47      0    232  \n",
       "63031         99      4     19  \n",
       "63032         92      5    145  \n",
       "\n",
       "[63033 rows x 8 columns]"
      ]
     },
     "execution_count": 514,
     "metadata": {},
     "output_type": "execute_result"
    }
   ],
   "source": [
    "df.join(pd.read_csv('data/topics.csv', index_col=0))"
   ]
  },
  {
   "cell_type": "code",
   "execution_count": 515,
   "id": "e7cb7da2",
   "metadata": {
    "scrolled": false
   },
   "outputs": [
    {
     "data": {
      "text/plain": [
       "(63033, 447)"
      ]
     },
     "metadata": {},
     "output_type": "display_data"
    },
    {
     "data": {
      "text/html": [
       "<div>\n",
       "<style scoped>\n",
       "    .dataframe tbody tr th:only-of-type {\n",
       "        vertical-align: middle;\n",
       "    }\n",
       "\n",
       "    .dataframe tbody tr th {\n",
       "        vertical-align: top;\n",
       "    }\n",
       "\n",
       "    .dataframe thead th {\n",
       "        text-align: right;\n",
       "    }\n",
       "</style>\n",
       "<table border=\"1\" class=\"dataframe\">\n",
       "  <thead>\n",
       "    <tr style=\"text-align: right;\">\n",
       "      <th></th>\n",
       "      <th>1_TOP</th>\n",
       "      <th>2_TOP</th>\n",
       "      <th>3_TOP</th>\n",
       "      <th>4_TOP</th>\n",
       "      <th>5_TOP</th>\n",
       "      <th>6_TOP</th>\n",
       "      <th>7_TOP</th>\n",
       "      <th>8_TOP</th>\n",
       "      <th>9_TOP</th>\n",
       "      <th>10_TOP</th>\n",
       "      <th>...</th>\n",
       "      <th>438_TOP</th>\n",
       "      <th>439_TOP</th>\n",
       "      <th>440_TOP</th>\n",
       "      <th>441_TOP</th>\n",
       "      <th>442_TOP</th>\n",
       "      <th>443_TOP</th>\n",
       "      <th>444_TOP</th>\n",
       "      <th>445_TOP</th>\n",
       "      <th>446_TOP</th>\n",
       "      <th>447_TOP</th>\n",
       "    </tr>\n",
       "  </thead>\n",
       "  <tbody>\n",
       "    <tr>\n",
       "      <th>6989</th>\n",
       "      <td>0</td>\n",
       "      <td>0</td>\n",
       "      <td>0</td>\n",
       "      <td>0</td>\n",
       "      <td>0</td>\n",
       "      <td>0</td>\n",
       "      <td>0</td>\n",
       "      <td>0</td>\n",
       "      <td>0</td>\n",
       "      <td>0</td>\n",
       "      <td>...</td>\n",
       "      <td>0</td>\n",
       "      <td>0</td>\n",
       "      <td>0</td>\n",
       "      <td>0</td>\n",
       "      <td>0</td>\n",
       "      <td>0</td>\n",
       "      <td>0</td>\n",
       "      <td>0</td>\n",
       "      <td>0</td>\n",
       "      <td>0</td>\n",
       "    </tr>\n",
       "    <tr>\n",
       "      <th>29858</th>\n",
       "      <td>0</td>\n",
       "      <td>0</td>\n",
       "      <td>0</td>\n",
       "      <td>0</td>\n",
       "      <td>0</td>\n",
       "      <td>0</td>\n",
       "      <td>0</td>\n",
       "      <td>0</td>\n",
       "      <td>0</td>\n",
       "      <td>0</td>\n",
       "      <td>...</td>\n",
       "      <td>0</td>\n",
       "      <td>0</td>\n",
       "      <td>0</td>\n",
       "      <td>0</td>\n",
       "      <td>0</td>\n",
       "      <td>0</td>\n",
       "      <td>0</td>\n",
       "      <td>0</td>\n",
       "      <td>0</td>\n",
       "      <td>0</td>\n",
       "    </tr>\n",
       "    <tr>\n",
       "      <th>57347</th>\n",
       "      <td>0</td>\n",
       "      <td>0</td>\n",
       "      <td>0</td>\n",
       "      <td>0</td>\n",
       "      <td>0</td>\n",
       "      <td>0</td>\n",
       "      <td>0</td>\n",
       "      <td>0</td>\n",
       "      <td>0</td>\n",
       "      <td>0</td>\n",
       "      <td>...</td>\n",
       "      <td>0</td>\n",
       "      <td>0</td>\n",
       "      <td>0</td>\n",
       "      <td>0</td>\n",
       "      <td>0</td>\n",
       "      <td>0</td>\n",
       "      <td>0</td>\n",
       "      <td>0</td>\n",
       "      <td>0</td>\n",
       "      <td>0</td>\n",
       "    </tr>\n",
       "  </tbody>\n",
       "</table>\n",
       "<p>3 rows × 447 columns</p>\n",
       "</div>"
      ],
      "text/plain": [
       "       1_TOP  2_TOP  3_TOP  4_TOP  5_TOP  6_TOP  7_TOP  8_TOP  9_TOP  10_TOP  \\\n",
       "6989       0      0      0      0      0      0      0      0      0       0   \n",
       "29858      0      0      0      0      0      0      0      0      0       0   \n",
       "57347      0      0      0      0      0      0      0      0      0       0   \n",
       "\n",
       "       ...  438_TOP  439_TOP  440_TOP  441_TOP  442_TOP  443_TOP  444_TOP  \\\n",
       "6989   ...        0        0        0        0        0        0        0   \n",
       "29858  ...        0        0        0        0        0        0        0   \n",
       "57347  ...        0        0        0        0        0        0        0   \n",
       "\n",
       "       445_TOP  446_TOP  447_TOP  \n",
       "6989         0        0        0  \n",
       "29858        0        0        0  \n",
       "57347        0        0        0  \n",
       "\n",
       "[3 rows x 447 columns]"
      ]
     },
     "execution_count": 515,
     "metadata": {},
     "output_type": "execute_result"
    }
   ],
   "source": [
    "display(top.shape)\n",
    "top.sample(3)"
   ]
  },
  {
   "cell_type": "markdown",
   "id": "d0d8121d",
   "metadata": {},
   "source": [
    "Our data should be all ready now! We have four different datasets, 'df' contains our metadata and target, 'BOW' contains our bag-of-word data, 'emb' contains our document embeddings from ROBERTA, and 'top' contains our topic vectorization."
   ]
  },
  {
   "cell_type": "markdown",
   "id": "ddec9bf7",
   "metadata": {},
   "source": [
    "---\n",
    "### Combining all data and filtering outliers"
   ]
  },
  {
   "cell_type": "code",
   "execution_count": 516,
   "id": "61bf0a62",
   "metadata": {},
   "outputs": [
    {
     "data": {
      "text/plain": [
       "(63033, 943)"
      ]
     },
     "metadata": {},
     "output_type": "display_data"
    },
    {
     "data": {
      "text/plain": [
       "(63033, 1967)"
      ]
     },
     "metadata": {},
     "output_type": "display_data"
    },
    {
     "data": {
      "text/plain": [
       "(63033, 2414)"
      ]
     },
     "metadata": {},
     "output_type": "display_data"
    },
    {
     "data": {
      "text/plain": [
       "(28914, 2414)"
      ]
     },
     "metadata": {},
     "output_type": "display_data"
    }
   ],
   "source": [
    "# Joining BOW data\n",
    "total_df = df.drop(['creation_time', 'user', 'tweet', 'favorites'], axis=1).join(BOW)\n",
    "display(total_df.shape)\n",
    "\n",
    "# joining document embeddings\n",
    "total_df = total_df.join(emb)\n",
    "display(total_df.shape)\n",
    "\n",
    "# joining topics\n",
    "total_df = total_df.join(top)\n",
    "display(total_df.shape)\n",
    "\n",
    "# Data Preparation - filtering outliers for high/low follower count, and extremely high retweet count\n",
    "total_df = total_df.loc[total_df['followers'] <= 50000].dropna(axis=1)\n",
    "total_df = total_df.loc[total_df['followers'] >= 1000]\n",
    "total_df = total_df[total_df['retweets'] <= 1000]\n",
    "# total_df['retweets'] = np.log1p(total_df['retweets']) # Log Transform of y (target)\n",
    "\n",
    "display(total_df.shape)"
   ]
  },
  {
   "cell_type": "markdown",
   "id": "d4f63e40",
   "metadata": {},
   "source": [
    "### Splitting Data"
   ]
  },
  {
   "cell_type": "code",
   "execution_count": 573,
   "id": "140f9783",
   "metadata": {},
   "outputs": [],
   "source": [
    "# Assigning X and y values\n",
    "X = total_df.drop(['retweets'], axis=1) #\n",
    "y = total_df['retweets']"
   ]
  },
  {
   "cell_type": "code",
   "execution_count": 574,
   "id": "87832ee5",
   "metadata": {},
   "outputs": [],
   "source": [
    "# Log transform of y\n",
    "y_log = np.log1p(y)\n",
    "\n",
    "# Train-test Split\n",
    "X_train, X_test, y_train, y_test = train_test_split(X, y_log, random_state=42) # can switch y to y_log\n",
    "\n",
    "# Creating Validation Set\n",
    "X_train, X_val, y_train, y_val = train_test_split(X_train, y_train, random_state=42)"
   ]
  },
  {
   "cell_type": "markdown",
   "id": "ca0ff5c2",
   "metadata": {},
   "source": [
    "### Feature Selection based on Correlation with y_train\n",
    "Selecting based on correlation is fast and fairly accurate. In practice using sequentialfeatureselector didn't provide much better results"
   ]
  },
  {
   "cell_type": "code",
   "execution_count": 575,
   "id": "50d7c6dc",
   "metadata": {},
   "outputs": [],
   "source": [
    "# Selecting the top and bottom 256 correlating features with target 'retweets'\n",
    "# top_correlating_features = X_train.corrwith(y_train).sort_values(ascending=False).head(128)\n",
    "# top_correlating_features = top_correlating_features.append(X_train.corrwith(y_train).sort_values(ascending=True).head(128))"
   ]
  },
  {
   "cell_type": "code",
   "execution_count": 576,
   "id": "cebdd511",
   "metadata": {},
   "outputs": [],
   "source": [
    "# Selecting the top 256 correlating features with target 'retweets'\n",
    "top_correlating_features = X_train.corrwith(y_train).sort_values(ascending=False).head(256)"
   ]
  },
  {
   "cell_type": "code",
   "execution_count": 577,
   "id": "1a87e94b",
   "metadata": {
    "scrolled": false
   },
   "outputs": [
    {
     "data": {
      "text/plain": [
       "followers            0.229123\n",
       "100daysofcode_BOW    0.161215\n",
       "113_TOP              0.152548\n",
       "209_EMB              0.143945\n",
       "916_EMB              0.133035\n",
       "929_EMB              0.117520\n",
       "482_EMB              0.116008\n",
       "377_EMB              0.112633\n",
       "276_EMB              0.108759\n",
       "411_EMB              0.108055\n",
       "215_EMB              0.107328\n",
       "387_EMB              0.104993\n",
       "62_EMB               0.104460\n",
       "314_EMB              0.103213\n",
       "python_BOW           0.102622\n",
       "721_EMB              0.101860\n",
       "168_EMB              0.100636\n",
       "419_EMB              0.100248\n",
       "618_EMB              0.098163\n",
       "648_EMB              0.096192\n",
       "dtype: float64"
      ]
     },
     "metadata": {},
     "output_type": "display_data"
    }
   ],
   "source": [
    "# Filtering down to top 50\n",
    "display(top_correlating_features.head(20)) # .filter(regex='_TOP')\n",
    "top_50_correlating_features = top_correlating_features.head(50)\n",
    "top_25_correlating_features = top_correlating_features.head(25)"
   ]
  },
  {
   "cell_type": "code",
   "execution_count": 578,
   "id": "baa01305",
   "metadata": {},
   "outputs": [],
   "source": [
    "# Filtering X_train, X_val, and X_test to just our 256 top correlating features\n",
    "X_train = X_train.filter(pd.DataFrame(top_correlating_features).transpose().columns)\n",
    "X_val = X_val.filter(pd.DataFrame(top_correlating_features).transpose().columns)\n",
    "X_test = X_test.filter(pd.DataFrame(top_correlating_features).transpose().columns)"
   ]
  },
  {
   "cell_type": "markdown",
   "id": "614a5192",
   "metadata": {},
   "source": [
    "### Feature Selection using SequentialFeatureSelector\n",
    "This looks at our 256 top correlating features and narrows it down further to 64 features. This is an optional block, in practice I found that it didn't necessarily create any better results."
   ]
  },
  {
   "cell_type": "code",
   "execution_count": 579,
   "id": "3bcdd0de",
   "metadata": {},
   "outputs": [],
   "source": [
    "# # Instantiating our feature selector\n",
    "# sfs = SequentialFeatureSelector(LinearRegression(), n_features_to_select=50, direction='forward', cv=2)\n",
    "\n",
    "# # Selecting features based on their importance in X_train\n",
    "# sfs_train_top = sfs.fit_transform(X_train, y_train)\n",
    "# X_sfs_train_top = pd.DataFrame(sfs_train_top, columns=(sfs.get_feature_names_out()))\n",
    "\n",
    "# sfs_val_top = sfs.transform(X_val)\n",
    "# X_sfs_val_top = pd.DataFrame(sfs_val_top, columns=(sfs.get_feature_names_out()))\n",
    "\n",
    "# sfs_test_top = sfs.transform(X_test)\n",
    "# X_sfs_test_top = pd.DataFrame(sfs_test_top, columns=(sfs.get_feature_names_out()))"
   ]
  },
  {
   "cell_type": "code",
   "execution_count": 580,
   "id": "6d89d0cf",
   "metadata": {},
   "outputs": [],
   "source": [
    "# # Linear Regression Baseline on all selected features\n",
    "# linreg = LinearRegression().fit(X_sfs_train_top, y_train)\n",
    "# pred = linreg.predict(X_sfs_val_top); linreg_rmse = np.sqrt(MSE(y_val, pred)); print(\"LR RMSE : % f\" %(linreg_rmse))"
   ]
  },
  {
   "cell_type": "code",
   "execution_count": 581,
   "id": "0ba4d724",
   "metadata": {},
   "outputs": [],
   "source": [
    "# X_train = X_sfs_train_top\n",
    "# X_val = X_sfs_val_top\n",
    "# X_test = X_sfs_test_top"
   ]
  },
  {
   "cell_type": "markdown",
   "id": "55ec5b8a",
   "metadata": {},
   "source": [
    "# Machine Learning\n",
    "Our data should be prepped and ready for machine learning! First we'll start with some baselines."
   ]
  },
  {
   "cell_type": "code",
   "execution_count": 582,
   "id": "9151c580",
   "metadata": {},
   "outputs": [
    {
     "data": {
      "text/plain": [
       "count    16263.000000\n",
       "mean         1.456356\n",
       "std          0.958327\n",
       "min          0.000000\n",
       "25%          0.693147\n",
       "50%          1.098612\n",
       "75%          1.791759\n",
       "max          6.895683\n",
       "Name: retweets, dtype: float64"
      ]
     },
     "execution_count": 582,
     "metadata": {},
     "output_type": "execute_result"
    }
   ],
   "source": [
    "y_train.describe()"
   ]
  },
  {
   "cell_type": "markdown",
   "id": "2a05c62d",
   "metadata": {},
   "source": [
    "Here we can see some information about our training data - 75% have 5 or fewer retweets. This means our data is really imbalanced. What would our RMSE be if we predicted all tweets had 0 retweets?"
   ]
  },
  {
   "cell_type": "code",
   "execution_count": 583,
   "id": "54866162",
   "metadata": {},
   "outputs": [
    {
     "name": "stdout",
     "output_type": "stream",
     "text": [
      "ALL 0 RMSE :  1.743361\n"
     ]
    }
   ],
   "source": [
    "simple_baseline = pd.DataFrame(y_train)\n",
    "simple_baseline['nulls'] = 0\n",
    "simple_rmse = np.sqrt(MSE(y_train, simple_baseline['nulls']))\n",
    "print(\"ALL 0 RMSE : % f\" %(simple_rmse))"
   ]
  },
  {
   "cell_type": "code",
   "execution_count": 584,
   "id": "4c050b5f",
   "metadata": {
    "scrolled": true
   },
   "outputs": [
    {
     "name": "stdout",
     "output_type": "stream",
     "text": [
      "MIN CONST RMSE :  0.958297\n",
      "32.70358190535486\n"
     ]
    }
   ],
   "source": [
    "simple_baseline = pd.DataFrame(y_train)\n",
    "simple_baseline['nulls'] = y_train.mean()\n",
    "simple_rmse = np.sqrt(MSE(y_train, simple_baseline['nulls']))\n",
    "print(\"MIN CONST RMSE : % f\" %(simple_rmse))\n",
    "print(np.sqrt(MSE((np.exp(y_train) - 1), np.exp(simple_baseline['nulls']) - 1)))"
   ]
  },
  {
   "cell_type": "markdown",
   "id": "752c8984",
   "metadata": {},
   "source": [
    "1.45 log y (or about 9 retweets) is the value that minimizes our RMSE, at .95 log (or 32.28 tweets rmse) - we'll consider .95 our first baseline."
   ]
  },
  {
   "cell_type": "markdown",
   "id": "ed6c6bdd",
   "metadata": {},
   "source": [
    "### Linear Regression Baseline"
   ]
  },
  {
   "cell_type": "code",
   "execution_count": 585,
   "id": "4ada2233",
   "metadata": {},
   "outputs": [
    {
     "name": "stdout",
     "output_type": "stream",
     "text": [
      "LR RMSE :  0.857167\n",
      "29.09726291823842\n"
     ]
    }
   ],
   "source": [
    "# Linear Regression\n",
    "linreg = LinearRegression().fit(X_train, y_train)\n",
    "pred = linreg.predict(X_val); linreg_rmse = np.sqrt(MSE(y_val, pred)); print(\"LR RMSE : % f\" %(linreg_rmse))\n",
    "predictions = pd.DataFrame(pred).rename({0:'linreg_baseline'}, axis=1) # recording prediction\n",
    "print(np.sqrt(MSE((np.exp(y_val) - 1), np.exp(pred) - 1)))"
   ]
  },
  {
   "cell_type": "markdown",
   "id": "e082df51",
   "metadata": {},
   "source": [
    "When we feed in our data to a linear regression algorithm, we can see that it does perform a bit better. What about XGBoost?"
   ]
  },
  {
   "cell_type": "markdown",
   "id": "f4858332",
   "metadata": {},
   "source": [
    "### XGBoost Baseline"
   ]
  },
  {
   "cell_type": "code",
   "execution_count": 586,
   "id": "e05e2d02",
   "metadata": {},
   "outputs": [
    {
     "name": "stdout",
     "output_type": "stream",
     "text": [
      "[0]\tvalidation_0-rmse:1.14187\n",
      "[1]\tvalidation_0-rmse:1.01230\n"
     ]
    },
    {
     "name": "stderr",
     "output_type": "stream",
     "text": [
      "C:\\Users\\8D\\anaconda3\\lib\\site-packages\\xgboost\\sklearn.py:793: UserWarning: `eval_metric` in `fit` method is deprecated for better compatibility with scikit-learn, use `eval_metric` in constructor or`set_params` instead.\n",
      "  warnings.warn(\n"
     ]
    },
    {
     "name": "stdout",
     "output_type": "stream",
     "text": [
      "[2]\tvalidation_0-rmse:0.94616\n",
      "[3]\tvalidation_0-rmse:0.90886\n",
      "[4]\tvalidation_0-rmse:0.88435\n",
      "[5]\tvalidation_0-rmse:0.87140\n",
      "[6]\tvalidation_0-rmse:0.86336\n",
      "[7]\tvalidation_0-rmse:0.86022\n",
      "[8]\tvalidation_0-rmse:0.85710\n",
      "[9]\tvalidation_0-rmse:0.85493\n",
      "[10]\tvalidation_0-rmse:0.85246\n",
      "[11]\tvalidation_0-rmse:0.85120\n",
      "[12]\tvalidation_0-rmse:0.85071\n",
      "[13]\tvalidation_0-rmse:0.84751\n",
      "[14]\tvalidation_0-rmse:0.84533\n",
      "[15]\tvalidation_0-rmse:0.84664\n",
      "[16]\tvalidation_0-rmse:0.84617\n",
      "[17]\tvalidation_0-rmse:0.84534\n",
      "[18]\tvalidation_0-rmse:0.84538\n",
      "[19]\tvalidation_0-rmse:0.84533\n",
      "[20]\tvalidation_0-rmse:0.84535\n",
      "[21]\tvalidation_0-rmse:0.84552\n",
      "[22]\tvalidation_0-rmse:0.84548\n",
      "[23]\tvalidation_0-rmse:0.84555\n",
      "[24]\tvalidation_0-rmse:0.84506\n",
      "[25]\tvalidation_0-rmse:0.84425\n",
      "[26]\tvalidation_0-rmse:0.84404\n",
      "[27]\tvalidation_0-rmse:0.84460\n",
      "[28]\tvalidation_0-rmse:0.84427\n",
      "[29]\tvalidation_0-rmse:0.84410\n",
      "[30]\tvalidation_0-rmse:0.84381\n",
      "[31]\tvalidation_0-rmse:0.84114\n",
      "[32]\tvalidation_0-rmse:0.84103\n",
      "[33]\tvalidation_0-rmse:0.84071\n",
      "[34]\tvalidation_0-rmse:0.84085\n",
      "[35]\tvalidation_0-rmse:0.84070\n",
      "[36]\tvalidation_0-rmse:0.84131\n",
      "[37]\tvalidation_0-rmse:0.84136\n",
      "[38]\tvalidation_0-rmse:0.84134\n",
      "[39]\tvalidation_0-rmse:0.84176\n",
      "[40]\tvalidation_0-rmse:0.84192\n",
      "[41]\tvalidation_0-rmse:0.84194\n",
      "[42]\tvalidation_0-rmse:0.84263\n",
      "[43]\tvalidation_0-rmse:0.84153\n",
      "[44]\tvalidation_0-rmse:0.84205\n",
      "[45]\tvalidation_0-rmse:0.84261\n",
      "Training took a total of 0:00:03.967007\n",
      "LR RMSE :  0.840705\n"
     ]
    }
   ],
   "source": [
    "start = datetime.datetime.now()\n",
    "\n",
    "progress = dict(); eval_metric = [\"rmse\"]; eval_set = [(X_val, y_val)]\n",
    "XGB = xgboost.XGBRegressor(early_stopping_rounds=10) # , early_stopping_rounds=1\n",
    "XGBhist = XGB.fit(X_train, y_train, eval_metric=eval_metric, eval_set=eval_set)\n",
    "\n",
    "end = datetime.datetime.now(); elapsed = end-start; print('Training took a total of {}'.format(elapsed))\n",
    "pred = XGB.predict(X_val); xgb_b_rmse = np.sqrt(MSE(y_val, pred)); print(\"LR RMSE : % f\" %(xgb_b_rmse))"
   ]
  },
  {
   "cell_type": "markdown",
   "id": "ae49803b",
   "metadata": {},
   "source": [
    "Here we can see our XGBoost baseline is a little better. With this much data, we are probably overfitting."
   ]
  },
  {
   "cell_type": "code",
   "execution_count": 587,
   "id": "30f58668",
   "metadata": {},
   "outputs": [],
   "source": [
    "predictions = predictions.join(pd.DataFrame(pred)).rename({0:'XGB_baseline'}, axis=1) # recording prediction"
   ]
  },
  {
   "cell_type": "code",
   "execution_count": 588,
   "id": "51a8a1b3",
   "metadata": {},
   "outputs": [
    {
     "data": {
      "image/png": "[encoded data removed]",
      "text/plain": [
       "<Figure size 576x288 with 2 Axes>"
      ]
     },
     "metadata": {
      "needs_background": "light"
     },
     "output_type": "display_data"
    }
   ],
   "source": [
    "val_predictions = XGB.predict(X_val).flatten()\n",
    "plot_prediction(y_val, val_predictions)"
   ]
  },
  {
   "cell_type": "markdown",
   "id": "999b01a2",
   "metadata": {},
   "source": [
    "# Baselines for split Data\n",
    "One thing we can try is an ensemble model, where we perform machine learning on each of our Natural Language Processing datasets (as well as metadata) separately and then combine them. Let's try a Linear Regression baseline for each dataset considered separately."
   ]
  },
  {
   "cell_type": "markdown",
   "id": "2f3d0761",
   "metadata": {},
   "source": [
    "### Metadata Baseline"
   ]
  },
  {
   "cell_type": "code",
   "execution_count": 589,
   "id": "b9462b12",
   "metadata": {},
   "outputs": [
    {
     "name": "stdout",
     "output_type": "stream",
     "text": [
      "LR RMSE :  0.921444\n"
     ]
    }
   ],
   "source": [
    "# Linear Regression\n",
    "linreg = LinearRegression().fit(X_train[['followers', 'lists']], y_train)\n",
    "meta_pred = linreg.predict(X_val[['followers', 'lists']]); linreg_rmse = np.sqrt(MSE(y_val, meta_pred)); print(\"LR RMSE : % f\" %(linreg_rmse))\n",
    "predictions = predictions.join(pd.DataFrame(meta_pred)).rename({0:'linreg_meta_baseline'}, axis=1) # recording prediction"
   ]
  },
  {
   "cell_type": "markdown",
   "id": "748fdc62",
   "metadata": {},
   "source": [
    "### Bag Of Words Baseline"
   ]
  },
  {
   "cell_type": "code",
   "execution_count": 590,
   "id": "36fd8971",
   "metadata": {
    "scrolled": true
   },
   "outputs": [
    {
     "name": "stdout",
     "output_type": "stream",
     "text": [
      "LR RMSE :  0.930400\n"
     ]
    }
   ],
   "source": [
    "# Linear Regression\n",
    "linreg = LinearRegression().fit(X_train.filter(regex='_BOW'), y_train)\n",
    "bow_pred = linreg.predict(X_val.filter(regex='_BOW')); linreg_rmse = np.sqrt(MSE(y_val, bow_pred)); print(\"LR RMSE : % f\" %(linreg_rmse))\n",
    "predictions = predictions.join(pd.DataFrame(bow_pred)).rename({0:'linreg_bow_baseline'}, axis=1) # recording prediction"
   ]
  },
  {
   "cell_type": "markdown",
   "id": "cb5fd97b",
   "metadata": {},
   "source": [
    "## Document Embeddings Baseline"
   ]
  },
  {
   "cell_type": "code",
   "execution_count": 591,
   "id": "e345fb4c",
   "metadata": {},
   "outputs": [
    {
     "name": "stdout",
     "output_type": "stream",
     "text": [
      "LR RMSE :  0.909485\n"
     ]
    }
   ],
   "source": [
    "# Linear Regression\n",
    "linreg = LinearRegression().fit(X_train.filter(regex='_EMB'), y_train)\n",
    "emb_pred = linreg.predict(X_val.filter(regex='_EMB')); linreg_rmse = np.sqrt(MSE(y_val, emb_pred)); print(\"LR RMSE : % f\" %(linreg_rmse))\n",
    "predictions = predictions.join(pd.DataFrame(emb_pred)).rename({0:'linreg_emb_baseline'}, axis=1) # recording prediction"
   ]
  },
  {
   "cell_type": "markdown",
   "id": "8a044cfc",
   "metadata": {},
   "source": [
    "### Topic Vectorization Baseline"
   ]
  },
  {
   "cell_type": "code",
   "execution_count": 592,
   "id": "d834a588",
   "metadata": {
    "scrolled": true
   },
   "outputs": [
    {
     "name": "stdout",
     "output_type": "stream",
     "text": [
      "LR RMSE :  0.937803\n"
     ]
    }
   ],
   "source": [
    "# Linear Regression\n",
    "linreg = LinearRegression().fit(X_train.filter(regex='_TOP'), y_train)\n",
    "top_pred = linreg.predict(X_val.filter(regex='_TOP')); linreg_rmse = np.sqrt(MSE(y_val, top_pred)); print(\"LR RMSE : % f\" %(linreg_rmse))\n",
    "predictions = predictions.join(pd.DataFrame(top_pred)).rename({0:'linreg_top_baseline'}, axis=1) # recording prediction"
   ]
  },
  {
   "cell_type": "markdown",
   "id": "5abeda78",
   "metadata": {},
   "source": [
    "We can see that none of these split models outperform our combined model baselines. What if we create an ensemble from our predictions?"
   ]
  },
  {
   "cell_type": "markdown",
   "id": "d86479e6",
   "metadata": {},
   "source": [
    "### Ensemble Baseline"
   ]
  },
  {
   "cell_type": "code",
   "execution_count": 571,
   "id": "3177aa82",
   "metadata": {},
   "outputs": [
    {
     "name": "stdout",
     "output_type": "stream",
     "text": [
      "LR RMSE :  0.901458\n"
     ]
    }
   ],
   "source": [
    "ensemble_pred = pd.DataFrame([meta_pred, bow_pred, emb_pred, top_pred]).transpose().mean(axis=1)\n",
    "ensemble_rmse = np.sqrt(MSE(y_val, ensemble_pred)); print(\"LR RMSE : % f\" %(ensemble_rmse))\n",
    "predictions = predictions.join(pd.DataFrame(ensemble_pred)).rename({0:'linreg_ensemble_baseline'}, axis=1) # recording prediction"
   ]
  },
  {
   "cell_type": "code",
   "execution_count": 572,
   "id": "8268c312",
   "metadata": {},
   "outputs": [
    {
     "data": {
      "image/png": "[encoded data removed]",
      "text/plain": [
       "<Figure size 576x288 with 2 Axes>"
      ]
     },
     "metadata": {
      "needs_background": "light"
     },
     "output_type": "display_data"
    }
   ],
   "source": [
    "plot_prediction(y_val, ensemble)"
   ]
  },
  {
   "cell_type": "markdown",
   "id": "0645e10d",
   "metadata": {},
   "source": [
    "This also What if we tried this with a potentially better performing machine learning algorithm?"
   ]
  },
  {
   "cell_type": "markdown",
   "id": "c3e2e96f",
   "metadata": {},
   "source": [
    "## XGBoost Ensemble"
   ]
  },
  {
   "cell_type": "markdown",
   "id": "03e12606",
   "metadata": {},
   "source": [
    "### Metadata XGBoost"
   ]
  },
  {
   "cell_type": "code",
   "execution_count": 31,
   "id": "7b6cc8ad",
   "metadata": {
    "collapsed": true
   },
   "outputs": [
    {
     "name": "stdout",
     "output_type": "stream",
     "text": [
      "[0]\tvalidation_0-rmse:1.13898\n",
      "[1]\tvalidation_0-rmse:1.00745\n",
      "[2]\tvalidation_0-rmse:0.93439\n",
      "[3]\tvalidation_0-rmse:0.89358\n",
      "[4]\tvalidation_0-rmse:0.87024\n",
      "[5]\tvalidation_0-rmse:0.85662\n",
      "[6]\tvalidation_0-rmse:0.85047\n",
      "[7]\tvalidation_0-rmse:0.84495\n",
      "[8]\tvalidation_0-rmse:0.84172\n",
      "[9]\tvalidation_0-rmse:0.83931\n",
      "[10]\tvalidation_0-rmse:0.83435\n",
      "[11]\tvalidation_0-rmse:0.83366\n",
      "[12]\tvalidation_0-rmse:0.83288\n",
      "[13]\tvalidation_0-rmse:0.83272\n",
      "[14]\tvalidation_0-rmse:0.82988\n",
      "[15]\tvalidation_0-rmse:0.82859\n",
      "[16]\tvalidation_0-rmse:0.82809\n",
      "[17]\tvalidation_0-rmse:0.82665\n",
      "[18]\tvalidation_0-rmse:0.82632\n",
      "[19]\tvalidation_0-rmse:0.82537\n",
      "[20]\tvalidation_0-rmse:0.82496\n",
      "[21]\tvalidation_0-rmse:0.82477\n",
      "[22]\tvalidation_0-rmse:0.82422\n",
      "[23]\tvalidation_0-rmse:0.82426\n",
      "[24]\tvalidation_0-rmse:0.82376\n",
      "[25]\tvalidation_0-rmse:0.82307\n",
      "[26]\tvalidation_0-rmse:0.82290\n",
      "[27]\tvalidation_0-rmse:0.82232\n",
      "[28]\tvalidation_0-rmse:0.82163\n",
      "[29]\tvalidation_0-rmse:0.82105\n",
      "[30]\tvalidation_0-rmse:0.82070\n",
      "[31]\tvalidation_0-rmse:0.82064\n",
      "[32]\tvalidation_0-rmse:0.81962\n",
      "[33]\tvalidation_0-rmse:0.81929\n",
      "[34]\tvalidation_0-rmse:0.81882\n",
      "[35]\tvalidation_0-rmse:0.81872\n",
      "[36]\tvalidation_0-rmse:0.81838\n",
      "[37]\tvalidation_0-rmse:0.81829\n",
      "[38]\tvalidation_0-rmse:0.81772\n",
      "[39]\tvalidation_0-rmse:0.81733\n",
      "[40]\tvalidation_0-rmse:0.81703\n",
      "[41]\tvalidation_0-rmse:0.81710\n",
      "[42]\tvalidation_0-rmse:0.81675\n",
      "[43]\tvalidation_0-rmse:0.81671\n",
      "[44]\tvalidation_0-rmse:0.81645\n",
      "[45]\tvalidation_0-rmse:0.81633\n",
      "[46]\tvalidation_0-rmse:0.81646\n",
      "[47]\tvalidation_0-rmse:0.81642\n",
      "[48]\tvalidation_0-rmse:0.81628\n",
      "[49]\tvalidation_0-rmse:0.81639\n",
      "[50]\tvalidation_0-rmse:0.81642\n",
      "[51]\tvalidation_0-rmse:0.81630\n",
      "[52]\tvalidation_0-rmse:0.81635\n",
      "[53]\tvalidation_0-rmse:0.81640\n",
      "[54]\tvalidation_0-rmse:0.81634\n"
     ]
    },
    {
     "name": "stderr",
     "output_type": "stream",
     "text": [
      "C:\\Users\\8D\\anaconda3\\lib\\site-packages\\xgboost\\sklearn.py:793: UserWarning: `eval_metric` in `fit` method is deprecated for better compatibility with scikit-learn, use `eval_metric` in constructor or`set_params` instead.\n",
      "  warnings.warn(\n"
     ]
    },
    {
     "name": "stdout",
     "output_type": "stream",
     "text": [
      "[55]\tvalidation_0-rmse:0.81624\n",
      "[56]\tvalidation_0-rmse:0.81615\n",
      "[57]\tvalidation_0-rmse:0.81617\n",
      "[58]\tvalidation_0-rmse:0.81612\n",
      "[59]\tvalidation_0-rmse:0.81609\n",
      "[60]\tvalidation_0-rmse:0.81602\n",
      "[61]\tvalidation_0-rmse:0.81572\n",
      "[62]\tvalidation_0-rmse:0.81564\n",
      "[63]\tvalidation_0-rmse:0.81560\n",
      "[64]\tvalidation_0-rmse:0.81563\n",
      "[65]\tvalidation_0-rmse:0.81558\n",
      "[66]\tvalidation_0-rmse:0.81542\n",
      "[67]\tvalidation_0-rmse:0.81544\n",
      "[68]\tvalidation_0-rmse:0.81536\n",
      "[69]\tvalidation_0-rmse:0.81535\n",
      "[70]\tvalidation_0-rmse:0.81541\n",
      "[71]\tvalidation_0-rmse:0.81546\n",
      "[72]\tvalidation_0-rmse:0.81543\n",
      "[73]\tvalidation_0-rmse:0.81545\n",
      "[74]\tvalidation_0-rmse:0.81544\n",
      "[75]\tvalidation_0-rmse:0.81547\n",
      "[76]\tvalidation_0-rmse:0.81542\n",
      "[77]\tvalidation_0-rmse:0.81544\n",
      "[78]\tvalidation_0-rmse:0.81545\n",
      "[79]\tvalidation_0-rmse:0.81543\n",
      "[80]\tvalidation_0-rmse:0.81542\n",
      "[81]\tvalidation_0-rmse:0.81544\n",
      "[82]\tvalidation_0-rmse:0.81543\n",
      "[83]\tvalidation_0-rmse:0.81542\n",
      "[84]\tvalidation_0-rmse:0.81546\n",
      "[85]\tvalidation_0-rmse:0.81543\n",
      "[86]\tvalidation_0-rmse:0.81544\n",
      "[87]\tvalidation_0-rmse:0.81542\n",
      "[88]\tvalidation_0-rmse:0.81542\n",
      "[89]\tvalidation_0-rmse:0.81544\n",
      "Training took a total of 0:00:00.295000\n",
      "RMSE :  0.815352\n"
     ]
    }
   ],
   "source": [
    "# XGBoost model\n",
    "start = datetime.datetime.now(); progress = dict()\n",
    "eval_set = [(X_val[['followers', 'lists']], y_val)]; val_metric = [\"rmse\"]\n",
    "XGB_meta = xgboost.XGBRegressor(objective='reg:squarederror', early_stopping_rounds=20)\n",
    "XGB_meta_hist = XGB_meta.fit(X_train[['followers', 'lists']], y_train, eval_metric=eval_metric, eval_set=eval_set)\n",
    "end = datetime.datetime.now(); elapsed = end-start\n",
    "\n",
    "# Report\n",
    "print('Training took a total of {}'.format(elapsed));\n",
    "val_meta_pred = XGB_meta.predict(X_val[['followers', 'lists']]); rmse = np.sqrt(MSE(y_val, val_meta_pred)); print(\"RMSE : % f\" %(rmse))"
   ]
  },
  {
   "cell_type": "code",
   "execution_count": 230,
   "id": "07b595d3",
   "metadata": {},
   "outputs": [],
   "source": [
    "predictions = predictions.join(pd.DataFrame(val_meta_pred)).rename({0:'XGB_metadata_baseline'}, axis=1) # recording prediction"
   ]
  },
  {
   "cell_type": "markdown",
   "id": "9e9dd6ac",
   "metadata": {},
   "source": [
    "### BOW XGBoost"
   ]
  },
  {
   "cell_type": "code",
   "execution_count": 32,
   "id": "63eacbcb",
   "metadata": {},
   "outputs": [
    {
     "name": "stdout",
     "output_type": "stream",
     "text": [
      "[0]\tvalidation_0-rmse:1.16328\n",
      "[1]\tvalidation_0-rmse:1.05276\n",
      "[2]\tvalidation_0-rmse:0.99357\n",
      "[3]\tvalidation_0-rmse:0.96309\n",
      "[4]\tvalidation_0-rmse:0.94665\n",
      "[5]\tvalidation_0-rmse:0.93819\n",
      "[6]\tvalidation_0-rmse:0.93390\n",
      "[7]\tvalidation_0-rmse:0.93190\n",
      "[8]\tvalidation_0-rmse:0.92975\n",
      "[9]\tvalidation_0-rmse:0.92860\n",
      "[10]\tvalidation_0-rmse:0.92766\n",
      "[11]\tvalidation_0-rmse:0.92752\n",
      "[12]\tvalidation_0-rmse:0.92689\n",
      "[13]\tvalidation_0-rmse:0.92671\n",
      "[14]\tvalidation_0-rmse:0.92658\n",
      "[15]\tvalidation_0-rmse:0.92658\n",
      "[16]\tvalidation_0-rmse:0.92632\n",
      "[17]\tvalidation_0-rmse:0.92666\n",
      "[18]\tvalidation_0-rmse:0.92678\n",
      "[19]\tvalidation_0-rmse:0.92671\n",
      "[20]\tvalidation_0-rmse:0.92681\n",
      "[21]\tvalidation_0-rmse:0.92666\n",
      "[22]\tvalidation_0-rmse:0.92703\n",
      "[23]\tvalidation_0-rmse:0.92707\n",
      "[24]\tvalidation_0-rmse:0.92734\n",
      "[25]\tvalidation_0-rmse:0.92772\n",
      "[26]\tvalidation_0-rmse:0.92792\n",
      "[27]\tvalidation_0-rmse:0.92818\n",
      "[28]\tvalidation_0-rmse:0.92836\n",
      "[29]\tvalidation_0-rmse:0.92840\n",
      "[30]\tvalidation_0-rmse:0.92865\n",
      "[31]\tvalidation_0-rmse:0.92902\n",
      "[32]\tvalidation_0-rmse:0.92923\n"
     ]
    },
    {
     "name": "stderr",
     "output_type": "stream",
     "text": [
      "C:\\Users\\8D\\anaconda3\\lib\\site-packages\\xgboost\\sklearn.py:793: UserWarning: `eval_metric` in `fit` method is deprecated for better compatibility with scikit-learn, use `eval_metric` in constructor or`set_params` instead.\n",
      "  warnings.warn(\n"
     ]
    },
    {
     "name": "stdout",
     "output_type": "stream",
     "text": [
      "[33]\tvalidation_0-rmse:0.92956\n",
      "[34]\tvalidation_0-rmse:0.93000\n",
      "[35]\tvalidation_0-rmse:0.93022\n",
      "Training took a total of 0:00:00.238001\n",
      "{}\n",
      "RMSE :  0.926319\n"
     ]
    }
   ],
   "source": [
    "# XGBoost model\n",
    "start = datetime.datetime.now(); progress = dict()\n",
    "eval_set = [(X_val.filter(regex='_BOW'), y_val)]; val_metric = [\"rmse\"]\n",
    "XGB_bow = xgboost.XGBRegressor(objective='reg:squarederror', early_stopping_rounds=20)\n",
    "XGB_bow_hist = XGB_bow.fit(X_train.filter(regex='_BOW'), y_train, eval_metric=eval_metric, eval_set=eval_set)\n",
    "end = datetime.datetime.now(); elapsed = end-start\n",
    "\n",
    "# Report\n",
    "print('Training took a total of {}'.format(elapsed)); print(progress)\n",
    "val_bow_pred = XGB_bow.predict(X_val.filter(regex='_BOW')); rmse = np.sqrt(MSE(y_val, val_bow_pred)); print(\"RMSE : % f\" %(rmse))"
   ]
  },
  {
   "cell_type": "code",
   "execution_count": 231,
   "id": "b20b760d",
   "metadata": {},
   "outputs": [],
   "source": [
    "predictions = predictions.join(pd.DataFrame(val_bow_pred)).rename({0:'XGB_bow_baseline'}, axis=1) # recording prediction"
   ]
  },
  {
   "cell_type": "markdown",
   "id": "fe92dc29",
   "metadata": {},
   "source": [
    "### Embeddings XGBoost"
   ]
  },
  {
   "cell_type": "code",
   "execution_count": 33,
   "id": "7a939872",
   "metadata": {},
   "outputs": [
    {
     "name": "stdout",
     "output_type": "stream",
     "text": [
      "[0]\tvalidation_0-rmse:1.16298\n"
     ]
    },
    {
     "name": "stderr",
     "output_type": "stream",
     "text": [
      "C:\\Users\\8D\\anaconda3\\lib\\site-packages\\xgboost\\sklearn.py:793: UserWarning: `eval_metric` in `fit` method is deprecated for better compatibility with scikit-learn, use `eval_metric` in constructor or`set_params` instead.\n",
      "  warnings.warn(\n"
     ]
    },
    {
     "name": "stdout",
     "output_type": "stream",
     "text": [
      "[1]\tvalidation_0-rmse:1.05437\n",
      "[2]\tvalidation_0-rmse:0.99530\n",
      "[3]\tvalidation_0-rmse:0.96304\n",
      "[4]\tvalidation_0-rmse:0.94606\n",
      "[5]\tvalidation_0-rmse:0.93524\n",
      "[6]\tvalidation_0-rmse:0.93070\n",
      "[7]\tvalidation_0-rmse:0.92940\n",
      "[8]\tvalidation_0-rmse:0.92847\n",
      "[9]\tvalidation_0-rmse:0.92761\n",
      "[10]\tvalidation_0-rmse:0.92773\n",
      "[11]\tvalidation_0-rmse:0.92838\n",
      "[12]\tvalidation_0-rmse:0.92891\n",
      "[13]\tvalidation_0-rmse:0.92822\n",
      "[14]\tvalidation_0-rmse:0.92805\n",
      "[15]\tvalidation_0-rmse:0.92631\n",
      "[16]\tvalidation_0-rmse:0.92635\n",
      "[17]\tvalidation_0-rmse:0.92596\n",
      "[18]\tvalidation_0-rmse:0.92671\n",
      "[19]\tvalidation_0-rmse:0.92597\n",
      "[20]\tvalidation_0-rmse:0.92564\n",
      "[21]\tvalidation_0-rmse:0.92566\n",
      "[22]\tvalidation_0-rmse:0.92580\n",
      "[23]\tvalidation_0-rmse:0.92607\n",
      "[24]\tvalidation_0-rmse:0.92620\n",
      "[25]\tvalidation_0-rmse:0.92628\n",
      "[26]\tvalidation_0-rmse:0.92622\n",
      "[27]\tvalidation_0-rmse:0.92628\n",
      "[28]\tvalidation_0-rmse:0.92719\n",
      "[29]\tvalidation_0-rmse:0.92746\n",
      "[30]\tvalidation_0-rmse:0.92689\n",
      "[31]\tvalidation_0-rmse:0.92705\n",
      "[32]\tvalidation_0-rmse:0.92728\n",
      "[33]\tvalidation_0-rmse:0.92750\n",
      "[34]\tvalidation_0-rmse:0.92725\n",
      "[35]\tvalidation_0-rmse:0.92704\n",
      "[36]\tvalidation_0-rmse:0.92717\n",
      "[37]\tvalidation_0-rmse:0.92737\n",
      "[38]\tvalidation_0-rmse:0.92819\n",
      "[39]\tvalidation_0-rmse:0.92821\n",
      "Training took a total of 0:00:03.360998\n",
      "{}\n",
      "RMSE :  0.925642\n"
     ]
    }
   ],
   "source": [
    "# XGBoost model\n",
    "start = datetime.datetime.now(); progress = dict()\n",
    "eval_set = [(X_val.filter(regex='_EMB'), y_val)]; val_metric = [\"rmse\"]\n",
    "XGB_emb = xgboost.XGBRegressor(objective='reg:squarederror', early_stopping_rounds=20)\n",
    "XGB_emb_hist = XGB_emb.fit(X_train.filter(regex='_EMB'), y_train, eval_metric=eval_metric, eval_set=eval_set)\n",
    "end = datetime.datetime.now(); elapsed = end-start\n",
    "\n",
    "# Report\n",
    "print('Training took a total of {}'.format(elapsed)); print(progress)\n",
    "val_emb_pred = XGB_emb.predict(X_val.filter(regex='_EMB')); rmse = np.sqrt(MSE(y_val, val_emb_pred)); print(\"RMSE : % f\" %(rmse))"
   ]
  },
  {
   "cell_type": "code",
   "execution_count": 232,
   "id": "0d0d8bf9",
   "metadata": {},
   "outputs": [],
   "source": [
    "predictions = predictions.join(pd.DataFrame(val_emb_pred)).rename({0:'XGB_emb_baseline'}, axis=1) # recording prediction"
   ]
  },
  {
   "cell_type": "markdown",
   "id": "edfa17a4",
   "metadata": {},
   "source": [
    "### Topic Vectorization XGBoost"
   ]
  },
  {
   "cell_type": "code",
   "execution_count": 34,
   "id": "b85149d0",
   "metadata": {},
   "outputs": [
    {
     "name": "stdout",
     "output_type": "stream",
     "text": [
      "[0]\tvalidation_0-rmse:1.16369\n",
      "[1]\tvalidation_0-rmse:1.05520\n",
      "[2]\tvalidation_0-rmse:0.99717\n",
      "[3]\tvalidation_0-rmse:0.96780\n",
      "[4]\tvalidation_0-rmse:0.95232\n",
      "[5]\tvalidation_0-rmse:0.94496\n",
      "[6]\tvalidation_0-rmse:0.94126\n",
      "[7]\tvalidation_0-rmse:0.93923\n",
      "[8]\tvalidation_0-rmse:0.93846\n",
      "[9]\tvalidation_0-rmse:0.93802\n",
      "[10]\tvalidation_0-rmse:0.93775\n",
      "[11]\tvalidation_0-rmse:0.93773\n",
      "[12]\tvalidation_0-rmse:0.93771\n",
      "[13]\tvalidation_0-rmse:0.93766\n",
      "[14]\tvalidation_0-rmse:0.93770\n",
      "[15]\tvalidation_0-rmse:0.93772\n",
      "[16]\tvalidation_0-rmse:0.93771\n",
      "[17]\tvalidation_0-rmse:0.93774\n",
      "[18]\tvalidation_0-rmse:0.93775\n",
      "[19]\tvalidation_0-rmse:0.93775\n",
      "[20]\tvalidation_0-rmse:0.93777\n",
      "[21]\tvalidation_0-rmse:0.93778\n",
      "[22]\tvalidation_0-rmse:0.93778\n",
      "[23]\tvalidation_0-rmse:0.93779\n",
      "[24]\tvalidation_0-rmse:0.93779\n",
      "[25]\tvalidation_0-rmse:0.93779\n",
      "[26]\tvalidation_0-rmse:0.93779\n",
      "[27]\tvalidation_0-rmse:0.93780\n",
      "[28]\tvalidation_0-rmse:0.93780\n",
      "[29]\tvalidation_0-rmse:0.93780\n",
      "[30]\tvalidation_0-rmse:0.93780\n",
      "[31]\tvalidation_0-rmse:0.93780\n",
      "[32]\tvalidation_0-rmse:0.93780\n",
      "Training took a total of 0:00:00.100000\n",
      "{}\n",
      "RMSE :  0.937665\n"
     ]
    },
    {
     "name": "stderr",
     "output_type": "stream",
     "text": [
      "C:\\Users\\8D\\anaconda3\\lib\\site-packages\\xgboost\\sklearn.py:793: UserWarning: `eval_metric` in `fit` method is deprecated for better compatibility with scikit-learn, use `eval_metric` in constructor or`set_params` instead.\n",
      "  warnings.warn(\n"
     ]
    }
   ],
   "source": [
    "# XGBoost model\n",
    "start = datetime.datetime.now(); progress = dict()\n",
    "eval_set = [(X_val.filter(regex='_TOP'), y_val)]; val_metric = [\"rmse\"]\n",
    "XGB_top = xgboost.XGBRegressor(objective='reg:squarederror', early_stopping_rounds=20)\n",
    "XGB_top_hist = XGB_top.fit(X_train.filter(regex='_TOP'), y_train, eval_metric=eval_metric, eval_set=eval_set)\n",
    "end = datetime.datetime.now(); elapsed = end-start\n",
    "\n",
    "# Report\n",
    "print('Training took a total of {}'.format(elapsed)); print(progress)\n",
    "val_top_pred = XGB_top.predict(X_val.filter(regex='_TOP')); rmse = np.sqrt(MSE(y_val, val_top_pred)); print(\"RMSE : % f\" %(rmse))"
   ]
  },
  {
   "cell_type": "code",
   "execution_count": 233,
   "id": "56553596",
   "metadata": {},
   "outputs": [],
   "source": [
    "predictions = predictions.join(pd.DataFrame(val_top_pred)).rename({0:'XGB_top_baseline'}, axis=1) # recording prediction"
   ]
  },
  {
   "cell_type": "markdown",
   "id": "e1987d02",
   "metadata": {},
   "source": [
    "### XGBoost Ensemble"
   ]
  },
  {
   "cell_type": "code",
   "execution_count": 35,
   "id": "6c6be758",
   "metadata": {
    "scrolled": true
   },
   "outputs": [
    {
     "name": "stdout",
     "output_type": "stream",
     "text": [
      "MEAN RMSE :  0.863011\n"
     ]
    }
   ],
   "source": [
    "ensemble = pd.DataFrame([val_meta_pred, val_bow_pred, val_emb_pred, val_top_pred]).transpose().mean(axis=1)\n",
    "ensemble_rmse = np.sqrt(MSE(y_val, ensemble)); print(\"MEAN RMSE : % f\" %(ensemble_rmse))"
   ]
  },
  {
   "cell_type": "code",
   "execution_count": 234,
   "id": "e60eeac4",
   "metadata": {},
   "outputs": [],
   "source": [
    "predictions = predictions.join(pd.DataFrame(ensemble)).rename({0:'XGB_mean_ensemble'}, axis=1) # recording prediction"
   ]
  },
  {
   "cell_type": "markdown",
   "id": "80f6921c",
   "metadata": {},
   "source": [
    "Here our results are more complicated. XGBoost on just metadata outperformed all of our other models, including our ensemble model. It looks like that's our new baseline, at RMSE just over 28. Can we use NLP to improve our predictions from metadata alone?"
   ]
  },
  {
   "cell_type": "markdown",
   "id": "e424ad60",
   "metadata": {},
   "source": [
    "Maybe we can ensemble these models in a more sophisticated way, compared to just taking the mean of their predictions? The next thing we will try is training an XGBoost model on the predictions of the other models."
   ]
  },
  {
   "cell_type": "code",
   "execution_count": 36,
   "id": "b9f15fdf",
   "metadata": {
    "scrolled": true
   },
   "outputs": [
    {
     "name": "stdout",
     "output_type": "stream",
     "text": [
      "LR RMSE :  0.861102\n",
      "[0]\tvalidation_0-rmse:1.12753\n",
      "[1]\tvalidation_0-rmse:0.99740\n",
      "[2]\tvalidation_0-rmse:0.92852\n",
      "[3]\tvalidation_0-rmse:0.89383\n",
      "[4]\tvalidation_0-rmse:0.87681\n",
      "[5]\tvalidation_0-rmse:0.86974\n",
      "[6]\tvalidation_0-rmse:0.86716\n",
      "[7]\tvalidation_0-rmse:0.86603\n",
      "[8]\tvalidation_0-rmse:0.86662\n",
      "[9]\tvalidation_0-rmse:0.86673\n",
      "[10]\tvalidation_0-rmse:0.86651\n",
      "[11]\tvalidation_0-rmse:0.86711\n",
      "[12]\tvalidation_0-rmse:0.86743\n",
      "[13]\tvalidation_0-rmse:0.86794\n",
      "[14]\tvalidation_0-rmse:0.86846\n",
      "[15]\tvalidation_0-rmse:0.86826\n",
      "[16]\tvalidation_0-rmse:0.86823\n",
      "Training took a total of 0:00:00.123003\n",
      "XGB RMSE :  0.866027\n"
     ]
    },
    {
     "name": "stderr",
     "output_type": "stream",
     "text": [
      "C:\\Users\\8D\\anaconda3\\lib\\site-packages\\xgboost\\sklearn.py:793: UserWarning: `eval_metric` in `fit` method is deprecated for better compatibility with scikit-learn, use `eval_metric` in constructor or`set_params` instead.\n",
      "  warnings.warn(\n"
     ]
    }
   ],
   "source": [
    "# Collect Training Set Predictions\n",
    "train_meta_pred = XGB_meta.predict(X_train[['followers', 'lists']]);\n",
    "train_bow_pred = XGB_bow.predict(X_train.filter(regex='_BOW'));\n",
    "train_emb_pred = XGB_emb.predict(X_train.filter(regex='_EMB'));\n",
    "train_top_pred = XGB_top.predict(X_train.filter(regex='_TOP'));\n",
    "\n",
    "# Collect Validation Set Predictions\n",
    "val_meta_pred = XGB_meta.predict(X_val[['followers', 'lists']]);\n",
    "val_bow_pred = XGB_bow.predict(X_val.filter(regex='_BOW'));\n",
    "val_emb_pred = XGB_emb.predict(X_val.filter(regex='_EMB'));\n",
    "val_top_pred = XGB_top.predict(X_val.filter(regex='_TOP'));\n",
    "\n",
    "# Aggregate Training and validation Set Predictions\n",
    "X_train_XGB_preds = pd.DataFrame([train_meta_pred, train_bow_pred, train_emb_pred, train_top_pred]).transpose()\n",
    "X_val_XGB_preds = pd.DataFrame([val_meta_pred, val_bow_pred, val_emb_pred, val_top_pred]).transpose()\n",
    "\n",
    "# Linear Regression Ensemble Prediction\n",
    "linreg = LinearRegression().fit(X_train_XGB_preds, y_train)\n",
    "linreg_ensemble_pred = linreg.predict(X_val_XGB_preds); linreg_e_rmse = np.sqrt(MSE(y_val, linreg_ensemble_pred)); print(\"LR RMSE : % f\" %(linreg_e_rmse))\n",
    "\n",
    "# XGBoost model, training on training predictions and y, then validating with val predictions from previous models\n",
    "start = datetime.datetime.now(); progress = dict()\n",
    "eval_set = [(X_val_XGB_preds, y_val)]; val_metric = [\"rmse\"]\n",
    "XGB_ensemble = xgboost.XGBRegressor(objective='reg:squarederror', early_stopping_rounds=10)\n",
    "XGBhist_ensemble = XGB_ensemble.fit(X_train_XGB_preds, y_train, eval_metric=eval_metric, eval_set=eval_set)\n",
    "end = datetime.datetime.now(); elapsed = end-start\n",
    "\n",
    "# Report\n",
    "print('Training took a total of {}'.format(elapsed))\n",
    "ens_val_pred = XGB_ensemble.predict(X_val_XGB_preds); rmse = np.sqrt(MSE(y_val, ens_val_pred)); print(\"XGB RMSE : % f\" %(rmse))"
   ]
  },
  {
   "cell_type": "code",
   "execution_count": 236,
   "id": "3b26c891",
   "metadata": {},
   "outputs": [],
   "source": [
    "predictions = predictions.join(pd.DataFrame(ens_val_pred)).rename({0:'XGB_XGB_ensemble'}, axis=1) # recording prediction"
   ]
  },
  {
   "cell_type": "markdown",
   "id": "f466e1aa",
   "metadata": {},
   "source": [
    "What about a linear regression model trained on model predictions?"
   ]
  },
  {
   "cell_type": "code",
   "execution_count": 238,
   "id": "ba6c4629",
   "metadata": {},
   "outputs": [
    {
     "name": "stdout",
     "output_type": "stream",
     "text": [
      "LR RMSE :  0.860438\n"
     ]
    }
   ],
   "source": [
    "# What about Linear Regression?\n",
    "linreg_ens = LinearRegression().fit(X_train_XGB_preds, y_train)\n",
    "linreg_ens_pred = linreg_ens.predict(X_val_XGB_preds); linreg_e_rmse = np.sqrt(MSE(y_val, linreg_ens_pred)); print(\"LR RMSE : % f\" %(linreg_e_rmse))"
   ]
  },
  {
   "cell_type": "code",
   "execution_count": 239,
   "id": "07584973",
   "metadata": {},
   "outputs": [],
   "source": [
    "predictions = predictions.join(pd.DataFrame(linreg_ens_pred)).rename({0:'XGB_linreg_ensemble'}, axis=1) # recording prediction"
   ]
  },
  {
   "cell_type": "markdown",
   "id": "d7877888",
   "metadata": {},
   "source": [
    "It seems that training machine learning models on our ensemble of predictions performed only slightly better than just taking the mean of our predictions - and taking the mean of our predictions performed worse than just predicting retweets from tweet metadata using XGBoost! Let's look at how these model predictions correlate with our target:"
   ]
  },
  {
   "cell_type": "code",
   "execution_count": 253,
   "id": "5cea5423",
   "metadata": {},
   "outputs": [
    {
     "data": {
      "text/plain": [
       "retweets                    1.000000\n",
       "XGB_metadata_baseline       0.526989\n",
       "XGB_mean_ensemble           0.523405\n",
       "XGB_baseline                0.482187\n",
       "XGB_linreg_ensemble         0.462157\n",
       "XGB_XGB_ensemble            0.459106\n",
       "linreg_baseline             0.451855\n",
       "linreg_ensemble_baseline    0.438294\n",
       "linreg_emb_baseline         0.319574\n",
       "XGB_emb_baseline            0.278243\n",
       "linreg_meta_baseline        0.278147\n",
       "XGB_bow_baseline            0.259668\n",
       "linreg_bow_baseline         0.250575\n",
       "XGB_top_baseline            0.211187\n",
       "linreg_top_baseline         0.210804\n",
       "Name: retweets, dtype: float64"
      ]
     },
     "execution_count": 253,
     "metadata": {},
     "output_type": "execute_result"
    }
   ],
   "source": [
    "# Checking prediction correlations with target\n",
    "predictions.join(pd.DataFrame(y_val).reset_index(drop=True)).corr()['retweets'].sort_values(ascending=False)"
   ]
  },
  {
   "cell_type": "code",
   "execution_count": 254,
   "id": "2ec1c213",
   "metadata": {},
   "outputs": [
    {
     "data": {
      "image/png": "[encoded data removed]",
      "text/plain": [
       "<Figure size 576x288 with 2 Axes>"
      ]
     },
     "metadata": {
      "needs_background": "light"
     },
     "output_type": "display_data"
    }
   ],
   "source": [
    "plot_prediction(y_val, ens_val_pred) # val_meta_pred, val_emb_pred, val_emb_pred, val_top_pred"
   ]
  },
  {
   "cell_type": "markdown",
   "id": "7db3cb90",
   "metadata": {},
   "source": [
    "It looks like XGBoost on metadata is still the most informative predictor, followed by our mean ensemble on split XGB models."
   ]
  },
  {
   "cell_type": "markdown",
   "id": "ac6bf1d0",
   "metadata": {},
   "source": [
    "## TabNet\n",
    "TabNet is a deep learning system developed by google that can reportedy beat XGBoost on Tabular Data. It's also reportedly capable of doing the bulk of our feature engineering for us. What happens if we just feed our Data into TabNet?"
   ]
  },
  {
   "cell_type": "code",
   "execution_count": 255,
   "id": "1f505c34",
   "metadata": {},
   "outputs": [],
   "source": [
    "# Converting data to Numpy Arrays\n",
    "X_train_array = X_train.values\n",
    "y_train_array = y_train.values.reshape(-1, 1)\n",
    "X_val_array = X_val.values\n",
    "y_val_array = y_val.values.reshape(-1, 1)"
   ]
  },
  {
   "cell_type": "code",
   "execution_count": 128,
   "id": "a8ec11e5",
   "metadata": {},
   "outputs": [
    {
     "name": "stderr",
     "output_type": "stream",
     "text": [
      "C:\\Users\\8D\\anaconda3\\lib\\site-packages\\pytorch_tabnet\\abstract_model.py:75: UserWarning: Device used : cpu\n",
      "  warnings.warn(f\"Device used : {self.device}\")\n"
     ]
    },
    {
     "name": "stdout",
     "output_type": "stream",
     "text": [
      "epoch 0  | loss: 1.67484 | train_mae: 0.68711 | train_rmse: 1.00718 | val_mae: 0.68698 | val_rmse: 1.00872 |  0:00:03s\n",
      "epoch 1  | loss: 0.96616 | train_mae: 0.70479 | train_rmse: 0.9596  | val_mae: 0.70579 | val_rmse: 0.96071 |  0:00:06s\n",
      "epoch 2  | loss: 0.91284 | train_mae: 0.69819 | train_rmse: 0.96533 | val_mae: 0.69888 | val_rmse: 0.96651 |  0:00:10s\n",
      "epoch 3  | loss: 0.89995 | train_mae: 0.70347 | train_rmse: 0.95828 | val_mae: 0.70437 | val_rmse: 0.95918 |  0:00:13s\n",
      "epoch 4  | loss: 0.88954 | train_mae: 0.70843 | train_rmse: 0.95728 | val_mae: 0.70928 | val_rmse: 0.95798 |  0:00:17s\n",
      "epoch 5  | loss: 0.87931 | train_mae: 0.69986 | train_rmse: 0.9613  | val_mae: 0.70033 | val_rmse: 0.96206 |  0:00:20s\n",
      "epoch 6  | loss: 0.88695 | train_mae: 0.6928  | train_rmse: 0.95058 | val_mae: 0.69307 | val_rmse: 0.95112 |  0:00:23s\n",
      "epoch 7  | loss: 0.867   | train_mae: 0.71322 | train_rmse: 0.93474 | val_mae: 0.7127  | val_rmse: 0.93257 |  0:00:27s\n",
      "epoch 8  | loss: 0.85421 | train_mae: 0.69505 | train_rmse: 0.92957 | val_mae: 0.69262 | val_rmse: 0.92738 |  0:00:30s\n",
      "epoch 9  | loss: 0.83848 | train_mae: 0.70958 | train_rmse: 0.92883 | val_mae: 0.70681 | val_rmse: 0.92566 |  0:00:34s\n",
      "epoch 10 | loss: 0.83265 | train_mae: 0.68872 | train_rmse: 0.92637 | val_mae: 0.68654 | val_rmse: 0.9243  |  0:00:38s\n",
      "epoch 11 | loss: 0.8312  | train_mae: 0.67381 | train_rmse: 0.92907 | val_mae: 0.67255 | val_rmse: 0.92786 |  0:00:41s\n",
      "epoch 12 | loss: 0.81587 | train_mae: 0.6778  | train_rmse: 0.92792 | val_mae: 0.67658 | val_rmse: 0.92701 |  0:00:45s\n",
      "epoch 13 | loss: 0.81085 | train_mae: 0.67447 | train_rmse: 0.92935 | val_mae: 0.67446 | val_rmse: 0.92976 |  0:00:48s\n",
      "epoch 14 | loss: 0.81041 | train_mae: 0.66899 | train_rmse: 0.93135 | val_mae: 0.6695  | val_rmse: 0.93293 |  0:00:52s\n",
      "epoch 15 | loss: 0.80464 | train_mae: 0.66218 | train_rmse: 0.94928 | val_mae: 0.66274 | val_rmse: 0.95065 |  0:00:56s\n",
      "epoch 16 | loss: 0.79587 | train_mae: 0.6626  | train_rmse: 0.93594 | val_mae: 0.66334 | val_rmse: 0.93693 |  0:00:59s\n",
      "epoch 17 | loss: 0.79484 | train_mae: 0.66568 | train_rmse: 0.93384 | val_mae: 0.66513 | val_rmse: 0.93414 |  0:01:03s\n",
      "epoch 18 | loss: 0.79455 | train_mae: 0.66106 | train_rmse: 0.94573 | val_mae: 0.65998 | val_rmse: 0.94534 |  0:01:06s\n",
      "epoch 19 | loss: 0.79281 | train_mae: 0.65793 | train_rmse: 0.93938 | val_mae: 0.65699 | val_rmse: 0.93842 |  0:01:10s\n",
      "epoch 20 | loss: 0.78442 | train_mae: 0.66099 | train_rmse: 0.93163 | val_mae: 0.65867 | val_rmse: 0.9285  |  0:01:13s\n",
      "epoch 21 | loss: 0.77524 | train_mae: 0.65379 | train_rmse: 0.93213 | val_mae: 0.65346 | val_rmse: 0.93083 |  0:01:17s\n",
      "epoch 22 | loss: 0.77047 | train_mae: 0.65462 | train_rmse: 0.94635 | val_mae: 0.65657 | val_rmse: 0.94775 |  0:01:20s\n",
      "epoch 23 | loss: 0.77132 | train_mae: 0.65091 | train_rmse: 0.92804 | val_mae: 0.65132 | val_rmse: 0.92658 |  0:01:24s\n",
      "epoch 24 | loss: 0.75926 | train_mae: 0.65138 | train_rmse: 0.93174 | val_mae: 0.65094 | val_rmse: 0.93023 |  0:01:27s\n",
      "epoch 25 | loss: 0.75552 | train_mae: 0.64986 | train_rmse: 0.93764 | val_mae: 0.65019 | val_rmse: 0.93717 |  0:01:31s\n",
      "epoch 26 | loss: 0.74964 | train_mae: 0.64663 | train_rmse: 0.93162 | val_mae: 0.64871 | val_rmse: 0.9332  |  0:01:34s\n",
      "epoch 27 | loss: 0.73926 | train_mae: 0.64426 | train_rmse: 0.92434 | val_mae: 0.64627 | val_rmse: 0.92678 |  0:01:38s\n",
      "epoch 28 | loss: 0.72834 | train_mae: 0.64023 | train_rmse: 0.90893 | val_mae: 0.64443 | val_rmse: 0.91364 |  0:01:41s\n",
      "epoch 29 | loss: 0.72851 | train_mae: 0.63834 | train_rmse: 0.92168 | val_mae: 0.64348 | val_rmse: 0.92884 |  0:01:45s\n",
      "epoch 30 | loss: 0.7204  | train_mae: 0.63802 | train_rmse: 0.9114  | val_mae: 0.64313 | val_rmse: 0.91963 |  0:01:48s\n",
      "epoch 31 | loss: 0.71828 | train_mae: 0.64216 | train_rmse: 0.93594 | val_mae: 0.64837 | val_rmse: 0.94582 |  0:01:52s\n",
      "epoch 32 | loss: 0.71225 | train_mae: 0.63273 | train_rmse: 0.89103 | val_mae: 0.64184 | val_rmse: 0.90557 |  0:01:55s\n",
      "epoch 33 | loss: 0.71969 | train_mae: 0.63726 | train_rmse: 0.9119  | val_mae: 0.64326 | val_rmse: 0.92252 |  0:01:59s\n",
      "epoch 34 | loss: 0.70112 | train_mae: 0.63136 | train_rmse: 0.90015 | val_mae: 0.64268 | val_rmse: 0.91873 |  0:02:02s\n",
      "epoch 35 | loss: 0.70143 | train_mae: 0.62566 | train_rmse: 0.88897 | val_mae: 0.63624 | val_rmse: 0.90696 |  0:02:06s\n",
      "epoch 36 | loss: 0.69831 | train_mae: 0.62535 | train_rmse: 0.88976 | val_mae: 0.63691 | val_rmse: 0.90903 |  0:02:10s\n",
      "epoch 37 | loss: 0.69642 | train_mae: 0.62039 | train_rmse: 0.87887 | val_mae: 0.63548 | val_rmse: 0.90377 |  0:02:13s\n",
      "epoch 38 | loss: 0.68753 | train_mae: 0.62161 | train_rmse: 0.86382 | val_mae: 0.639   | val_rmse: 0.89289 |  0:02:16s\n",
      "epoch 39 | loss: 0.69009 | train_mae: 0.61696 | train_rmse: 0.8897  | val_mae: 0.63593 | val_rmse: 0.92247 |  0:02:20s\n",
      "epoch 40 | loss: 0.68973 | train_mae: 0.61051 | train_rmse: 0.8525  | val_mae: 0.63553 | val_rmse: 0.89348 |  0:02:23s\n",
      "epoch 41 | loss: 0.67319 | train_mae: 0.60484 | train_rmse: 0.84491 | val_mae: 0.63487 | val_rmse: 0.89009 |  0:02:27s\n",
      "epoch 42 | loss: 0.67054 | train_mae: 0.60341 | train_rmse: 0.84135 | val_mae: 0.6342  | val_rmse: 0.89076 |  0:02:30s\n",
      "epoch 43 | loss: 0.66825 | train_mae: 0.59845 | train_rmse: 0.83039 | val_mae: 0.63057 | val_rmse: 0.88141 |  0:02:34s\n",
      "epoch 44 | loss: 0.66403 | train_mae: 0.59674 | train_rmse: 0.82911 | val_mae: 0.63115 | val_rmse: 0.88533 |  0:02:38s\n",
      "epoch 45 | loss: 0.66034 | train_mae: 0.59802 | train_rmse: 0.81564 | val_mae: 0.63715 | val_rmse: 0.87827 |  0:02:41s\n",
      "epoch 46 | loss: 0.65172 | train_mae: 0.59413 | train_rmse: 0.81351 | val_mae: 0.63716 | val_rmse: 0.88199 |  0:02:45s\n",
      "epoch 47 | loss: 0.65074 | train_mae: 0.58249 | train_rmse: 0.80238 | val_mae: 0.63686 | val_rmse: 0.88683 |  0:02:48s\n",
      "epoch 48 | loss: 0.64376 | train_mae: 0.58283 | train_rmse: 0.81052 | val_mae: 0.63087 | val_rmse: 0.88842 |  0:02:52s\n",
      "epoch 49 | loss: 0.64885 | train_mae: 0.5825  | train_rmse: 0.79109 | val_mae: 0.64454 | val_rmse: 0.88415 |  0:02:56s\n",
      "epoch 50 | loss: 0.64989 | train_mae: 0.58837 | train_rmse: 0.79333 | val_mae: 0.64519 | val_rmse: 0.87759 |  0:02:59s\n",
      "epoch 51 | loss: 0.64486 | train_mae: 0.5835  | train_rmse: 0.79869 | val_mae: 0.63853 | val_rmse: 0.88236 |  0:03:03s\n",
      "epoch 52 | loss: 0.63737 | train_mae: 0.58344 | train_rmse: 0.78846 | val_mae: 0.64325 | val_rmse: 0.88003 |  0:03:06s\n",
      "epoch 53 | loss: 0.63459 | train_mae: 0.57788 | train_rmse: 0.77444 | val_mae: 0.65348 | val_rmse: 0.88916 |  0:03:10s\n",
      "epoch 54 | loss: 0.62248 | train_mae: 0.57052 | train_rmse: 0.78243 | val_mae: 0.6391  | val_rmse: 0.89151 |  0:03:13s\n",
      "epoch 55 | loss: 0.62355 | train_mae: 0.56273 | train_rmse: 0.77647 | val_mae: 0.63449 | val_rmse: 0.88803 |  0:03:17s\n",
      "epoch 56 | loss: 0.61603 | train_mae: 0.56859 | train_rmse: 0.76546 | val_mae: 0.64741 | val_rmse: 0.88872 |  0:03:20s\n",
      "epoch 57 | loss: 0.61221 | train_mae: 0.56129 | train_rmse: 0.75674 | val_mae: 0.64435 | val_rmse: 0.88499 |  0:03:24s\n",
      "epoch 58 | loss: 0.60143 | train_mae: 0.56583 | train_rmse: 0.74999 | val_mae: 0.6574  | val_rmse: 0.89116 |  0:03:27s\n",
      "epoch 59 | loss: 0.58932 | train_mae: 0.55525 | train_rmse: 0.74667 | val_mae: 0.65493 | val_rmse: 0.90379 |  0:03:30s\n",
      "epoch 60 | loss: 0.59065 | train_mae: 0.55712 | train_rmse: 0.74922 | val_mae: 0.65455 | val_rmse: 0.89612 |  0:03:34s\n",
      "epoch 61 | loss: 0.58753 | train_mae: 0.55385 | train_rmse: 0.75098 | val_mae: 0.64495 | val_rmse: 0.8893  |  0:03:38s\n",
      "epoch 62 | loss: 0.59049 | train_mae: 0.55269 | train_rmse: 0.7408  | val_mae: 0.65431 | val_rmse: 0.89292 |  0:03:41s\n",
      "epoch 63 | loss: 0.57597 | train_mae: 0.54569 | train_rmse: 0.73664 | val_mae: 0.64752 | val_rmse: 0.89313 |  0:03:45s\n",
      "epoch 64 | loss: 0.57923 | train_mae: 0.54884 | train_rmse: 0.73503 | val_mae: 0.66206 | val_rmse: 0.90941 |  0:03:48s\n",
      "epoch 65 | loss: 0.57169 | train_mae: 0.55367 | train_rmse: 0.73477 | val_mae: 0.66048 | val_rmse: 0.8975  |  0:03:51s\n",
      "epoch 66 | loss: 0.56596 | train_mae: 0.54007 | train_rmse: 0.73071 | val_mae: 0.6505  | val_rmse: 0.89602 |  0:03:55s\n",
      "epoch 67 | loss: 0.56525 | train_mae: 0.54598 | train_rmse: 0.72129 | val_mae: 0.65941 | val_rmse: 0.89416 |  0:03:58s\n",
      "epoch 68 | loss: 0.55287 | train_mae: 0.52945 | train_rmse: 0.71515 | val_mae: 0.65543 | val_rmse: 0.90496 |  0:04:02s\n"
     ]
    },
    {
     "name": "stdout",
     "output_type": "stream",
     "text": [
      "epoch 69 | loss: 0.5545  | train_mae: 0.53136 | train_rmse: 0.72359 | val_mae: 0.64373 | val_rmse: 0.89436 |  0:04:05s\n",
      "epoch 70 | loss: 0.56263 | train_mae: 0.55055 | train_rmse: 0.72563 | val_mae: 0.68081 | val_rmse: 0.91987 |  0:04:09s\n",
      "epoch 71 | loss: 0.55273 | train_mae: 0.52993 | train_rmse: 0.71724 | val_mae: 0.64459 | val_rmse: 0.89436 |  0:04:12s\n",
      "epoch 72 | loss: 0.54089 | train_mae: 0.52539 | train_rmse: 0.70904 | val_mae: 0.65462 | val_rmse: 0.90801 |  0:04:16s\n",
      "epoch 73 | loss: 0.52908 | train_mae: 0.52327 | train_rmse: 0.70153 | val_mae: 0.65609 | val_rmse: 0.90293 |  0:04:19s\n",
      "epoch 74 | loss: 0.5246  | train_mae: 0.51724 | train_rmse: 0.69935 | val_mae: 0.65741 | val_rmse: 0.91107 |  0:04:23s\n",
      "epoch 75 | loss: 0.52848 | train_mae: 0.51639 | train_rmse: 0.69394 | val_mae: 0.65296 | val_rmse: 0.90032 |  0:04:26s\n",
      "epoch 76 | loss: 0.51967 | train_mae: 0.50988 | train_rmse: 0.69434 | val_mae: 0.64675 | val_rmse: 0.90489 |  0:04:29s\n",
      "epoch 77 | loss: 0.51721 | train_mae: 0.51148 | train_rmse: 0.6915  | val_mae: 0.65096 | val_rmse: 0.90669 |  0:04:33s\n",
      "epoch 78 | loss: 0.5226  | train_mae: 0.50998 | train_rmse: 0.69001 | val_mae: 0.64904 | val_rmse: 0.90483 |  0:04:36s\n",
      "epoch 79 | loss: 0.52243 | train_mae: 0.52021 | train_rmse: 0.6874  | val_mae: 0.66727 | val_rmse: 0.91287 |  0:04:40s\n",
      "epoch 80 | loss: 0.51465 | train_mae: 0.50688 | train_rmse: 0.68555 | val_mae: 0.65015 | val_rmse: 0.90648 |  0:04:43s\n",
      "epoch 81 | loss: 0.51317 | train_mae: 0.50902 | train_rmse: 0.6829  | val_mae: 0.65626 | val_rmse: 0.91146 |  0:04:47s\n",
      "epoch 82 | loss: 0.51042 | train_mae: 0.51477 | train_rmse: 0.68291 | val_mae: 0.67185 | val_rmse: 0.92283 |  0:04:50s\n",
      "epoch 83 | loss: 0.50552 | train_mae: 0.50785 | train_rmse: 0.68345 | val_mae: 0.65916 | val_rmse: 0.91124 |  0:04:53s\n",
      "epoch 84 | loss: 0.49679 | train_mae: 0.50923 | train_rmse: 0.67982 | val_mae: 0.6679  | val_rmse: 0.92364 |  0:04:57s\n",
      "epoch 85 | loss: 0.49406 | train_mae: 0.50475 | train_rmse: 0.68234 | val_mae: 0.66917 | val_rmse: 0.93212 |  0:05:00s\n",
      "epoch 86 | loss: 0.49622 | train_mae: 0.501   | train_rmse: 0.68162 | val_mae: 0.64616 | val_rmse: 0.90743 |  0:05:04s\n",
      "epoch 87 | loss: 0.49124 | train_mae: 0.51469 | train_rmse: 0.67768 | val_mae: 0.67034 | val_rmse: 0.91433 |  0:05:07s\n",
      "epoch 88 | loss: 0.48521 | train_mae: 0.49338 | train_rmse: 0.66244 | val_mae: 0.6571  | val_rmse: 0.91003 |  0:05:11s\n",
      "epoch 89 | loss: 0.47412 | train_mae: 0.48872 | train_rmse: 0.65594 | val_mae: 0.66361 | val_rmse: 0.92595 |  0:05:14s\n",
      "epoch 90 | loss: 0.46856 | train_mae: 0.4852  | train_rmse: 0.65607 | val_mae: 0.64626 | val_rmse: 0.90672 |  0:05:18s\n",
      "epoch 91 | loss: 0.46433 | train_mae: 0.49461 | train_rmse: 0.6516  | val_mae: 0.67829 | val_rmse: 0.93442 |  0:05:21s\n",
      "epoch 92 | loss: 0.46189 | train_mae: 0.48288 | train_rmse: 0.64891 | val_mae: 0.65465 | val_rmse: 0.91486 |  0:05:25s\n",
      "epoch 93 | loss: 0.45616 | train_mae: 0.47848 | train_rmse: 0.64135 | val_mae: 0.65855 | val_rmse: 0.9183  |  0:05:28s\n",
      "epoch 94 | loss: 0.45609 | train_mae: 0.49197 | train_rmse: 0.64351 | val_mae: 0.66914 | val_rmse: 0.9183  |  0:05:32s\n",
      "epoch 95 | loss: 0.45764 | train_mae: 0.48277 | train_rmse: 0.64971 | val_mae: 0.66624 | val_rmse: 0.92748 |  0:05:35s\n",
      "epoch 96 | loss: 0.46062 | train_mae: 0.48195 | train_rmse: 0.64117 | val_mae: 0.66905 | val_rmse: 0.92567 |  0:05:38s\n",
      "epoch 97 | loss: 0.45548 | train_mae: 0.48207 | train_rmse: 0.63844 | val_mae: 0.66267 | val_rmse: 0.91465 |  0:05:42s\n",
      "epoch 98 | loss: 0.45389 | train_mae: 0.48458 | train_rmse: 0.63919 | val_mae: 0.66149 | val_rmse: 0.9105  |  0:05:45s\n",
      "epoch 99 | loss: 0.439   | train_mae: 0.47203 | train_rmse: 0.63029 | val_mae: 0.65804 | val_rmse: 0.91693 |  0:05:49s\n",
      "Stop training because you reached max_epochs = 100 with best_epoch = 50 and best_val_rmse = 0.87759\n"
     ]
    },
    {
     "name": "stderr",
     "output_type": "stream",
     "text": [
      "C:\\Users\\8D\\anaconda3\\lib\\site-packages\\pytorch_tabnet\\callbacks.py:172: UserWarning: Best weights from best epoch are automatically used!\n",
      "  warnings.warn(wrn_msg)\n"
     ]
    }
   ],
   "source": [
    "TabNet = TabNetRegressor()\n",
    "max_epochs = 100\n",
    "\n",
    "TN_hist = TabNet.fit(\n",
    "    X_train=X_train_array, y_train=y_train_array,\n",
    "    eval_set=[(X_train_array, y_train_array), (X_val_array, y_val_array)],\n",
    "    eval_name=['train', 'val'],\n",
    "    eval_metric=['mae', 'rmse'],\n",
    "    max_epochs=max_epochs,\n",
    "    patience=50,\n",
    "    batch_size=1024, virtual_batch_size=128,\n",
    "    num_workers=0,\n",
    "    drop_last=False,\n",
    ") "
   ]
  },
  {
   "cell_type": "code",
   "execution_count": 129,
   "id": "e7da6148",
   "metadata": {},
   "outputs": [
    {
     "name": "stdout",
     "output_type": "stream",
     "text": [
      "FINAL TEST RMSE FOR DATA : 0.8775939506358597\n"
     ]
    }
   ],
   "source": [
    "tn_0_preds = TabNet.predict(X_val_array)\n",
    "val_score = MSE(y_pred=tn_0_preds, y_true=y_val_array)\n",
    "\n",
    "print(f\"FINAL TEST RMSE FOR DATA : {np.sqrt(val_score)}\")"
   ]
  },
  {
   "cell_type": "code",
   "execution_count": 256,
   "id": "40d2b4ee",
   "metadata": {},
   "outputs": [],
   "source": [
    "predictions = predictions.join(pd.DataFrame(tn_0_preds)).rename({0:'Tabnet_baseline'}, axis=1) # recording prediction"
   ]
  },
  {
   "cell_type": "markdown",
   "id": "d5956e70",
   "metadata": {},
   "source": [
    "It looks like TabNet on all our NLP and metadata performed just a little worse than just XGBoost on metadata alone. What if we try TabNet on our NLP datasets separately and combine them?"
   ]
  },
  {
   "cell_type": "markdown",
   "id": "a031782f",
   "metadata": {},
   "source": [
    "### TabNet on Metadata"
   ]
  },
  {
   "cell_type": "code",
   "execution_count": 43,
   "id": "e50b2276",
   "metadata": {},
   "outputs": [],
   "source": [
    "# Converting filtered data to Numpy Arrays\n",
    "X_train_array = X_train[['followers', 'lists']].values\n",
    "y_train_array = y_train.values.reshape(-1, 1)\n",
    "X_val_array = X_val[['followers', 'lists']].values\n",
    "y_val_array = y_val.values.reshape(-1, 1)"
   ]
  },
  {
   "cell_type": "code",
   "execution_count": 44,
   "id": "74aed43f",
   "metadata": {
    "scrolled": false
   },
   "outputs": [
    {
     "name": "stderr",
     "output_type": "stream",
     "text": [
      "C:\\Users\\8D\\anaconda3\\lib\\site-packages\\pytorch_tabnet\\abstract_model.py:75: UserWarning: Device used : cpu\n",
      "  warnings.warn(f\"Device used : {self.device}\")\n"
     ]
    },
    {
     "name": "stdout",
     "output_type": "stream",
     "text": [
      "epoch 0  | loss: 1.54511 | train_mae: 1.60572 | train_rmse: 2.00615 | val_mae: 1.602   | val_rmse: 2.00506 |  0:00:01s\n",
      "epoch 1  | loss: 0.85498 | train_mae: 1.0571  | train_rmse: 1.34445 | val_mae: 1.05067 | val_rmse: 1.34254 |  0:00:02s\n",
      "epoch 2  | loss: 0.8444  | train_mae: 0.95321 | train_rmse: 1.2202  | val_mae: 0.95052 | val_rmse: 1.22064 |  0:00:02s\n",
      "epoch 3  | loss: 0.84567 | train_mae: 0.7464  | train_rmse: 0.95044 | val_mae: 0.74542 | val_rmse: 0.95    |  0:00:03s\n",
      "epoch 4  | loss: 0.84072 | train_mae: 0.71441 | train_rmse: 0.9346  | val_mae: 0.71042 | val_rmse: 0.93292 |  0:00:05s\n",
      "epoch 5  | loss: 0.83818 | train_mae: 0.70787 | train_rmse: 0.93949 | val_mae: 0.70441 | val_rmse: 0.94019 |  0:00:06s\n",
      "epoch 6  | loss: 0.84087 | train_mae: 0.71023 | train_rmse: 0.93905 | val_mae: 0.71001 | val_rmse: 0.93997 |  0:00:07s\n",
      "epoch 7  | loss: 0.83365 | train_mae: 0.73707 | train_rmse: 0.94805 | val_mae: 0.73568 | val_rmse: 0.9483  |  0:00:08s\n",
      "epoch 8  | loss: 0.83622 | train_mae: 0.72169 | train_rmse: 0.93703 | val_mae: 0.7223  | val_rmse: 0.93815 |  0:00:09s\n",
      "epoch 9  | loss: 0.83631 | train_mae: 0.73455 | train_rmse: 0.93808 | val_mae: 0.7337  | val_rmse: 0.93732 |  0:00:10s\n",
      "epoch 10 | loss: 0.83569 | train_mae: 0.71263 | train_rmse: 0.93153 | val_mae: 0.71157 | val_rmse: 0.93051 |  0:00:11s\n",
      "epoch 11 | loss: 0.83432 | train_mae: 0.72652 | train_rmse: 0.92983 | val_mae: 0.72581 | val_rmse: 0.92786 |  0:00:12s\n",
      "epoch 12 | loss: 0.83086 | train_mae: 0.69467 | train_rmse: 0.91363 | val_mae: 0.69116 | val_rmse: 0.91005 |  0:00:13s\n",
      "epoch 13 | loss: 0.83323 | train_mae: 0.69373 | train_rmse: 0.91705 | val_mae: 0.69049 | val_rmse: 0.91366 |  0:00:14s\n",
      "epoch 14 | loss: 0.83204 | train_mae: 0.695   | train_rmse: 0.91203 | val_mae: 0.69254 | val_rmse: 0.91084 |  0:00:15s\n",
      "epoch 15 | loss: 0.83195 | train_mae: 0.69751 | train_rmse: 0.91006 | val_mae: 0.69538 | val_rmse: 0.90831 |  0:00:16s\n",
      "epoch 16 | loss: 0.82956 | train_mae: 0.68379 | train_rmse: 0.90572 | val_mae: 0.68105 | val_rmse: 0.90316 |  0:00:17s\n",
      "epoch 17 | loss: 0.8281  | train_mae: 0.68193 | train_rmse: 0.90467 | val_mae: 0.67892 | val_rmse: 0.90157 |  0:00:18s\n",
      "epoch 18 | loss: 0.8227  | train_mae: 0.68034 | train_rmse: 0.90374 | val_mae: 0.67846 | val_rmse: 0.90041 |  0:00:19s\n",
      "epoch 19 | loss: 0.82379 | train_mae: 0.70357 | train_rmse: 0.90795 | val_mae: 0.69838 | val_rmse: 0.90359 |  0:00:20s\n",
      "epoch 20 | loss: 0.82496 | train_mae: 0.67106 | train_rmse: 0.90033 | val_mae: 0.66616 | val_rmse: 0.89606 |  0:00:21s\n",
      "epoch 21 | loss: 0.81788 | train_mae: 0.67089 | train_rmse: 0.89997 | val_mae: 0.66971 | val_rmse: 0.89839 |  0:00:22s\n",
      "epoch 22 | loss: 0.8265  | train_mae: 0.68338 | train_rmse: 0.89782 | val_mae: 0.67944 | val_rmse: 0.89497 |  0:00:23s\n",
      "epoch 23 | loss: 0.83287 | train_mae: 0.69862 | train_rmse: 0.9092  | val_mae: 0.69593 | val_rmse: 0.9063  |  0:00:24s\n",
      "epoch 24 | loss: 0.83061 | train_mae: 0.67669 | train_rmse: 0.90658 | val_mae: 0.67412 | val_rmse: 0.90469 |  0:00:25s\n",
      "Stop training because you reached max_epochs = 25 with best_epoch = 22 and best_val_rmse = 0.89497\n"
     ]
    },
    {
     "name": "stderr",
     "output_type": "stream",
     "text": [
      "C:\\Users\\8D\\anaconda3\\lib\\site-packages\\pytorch_tabnet\\callbacks.py:172: UserWarning: Best weights from best epoch are automatically used!\n",
      "  warnings.warn(wrn_msg)\n"
     ]
    }
   ],
   "source": [
    "TabNet_1 = TabNetRegressor()\n",
    "max_epochs = 25\n",
    "\n",
    "TN_hist_1 = TabNet_1.fit(\n",
    "    X_train=X_train_array, y_train=y_train_array,\n",
    "    eval_set=[(X_train_array, y_train_array), (X_val_array, y_val_array)],\n",
    "    eval_name=['train', 'val'],\n",
    "    eval_metric=['mae', 'rmse'],\n",
    "    max_epochs=max_epochs,\n",
    "    patience=25,\n",
    "    batch_size=1024, virtual_batch_size=128,\n",
    "    num_workers=0,\n",
    "    drop_last=False,\n",
    ") "
   ]
  },
  {
   "cell_type": "code",
   "execution_count": 45,
   "id": "742b0507",
   "metadata": {},
   "outputs": [
    {
     "name": "stdout",
     "output_type": "stream",
     "text": [
      "FINAL VAL RMSE FOR DATA : 0.8949739285340979\n"
     ]
    }
   ],
   "source": [
    "tn1_preds = TabNet_1.predict(X_val_array)\n",
    "val_score_1 = MSE(y_pred=tn1_preds, y_true=y_val_array)\n",
    "\n",
    "print(f\"FINAL VAL RMSE FOR DATA : {np.sqrt(val_score_1)}\")"
   ]
  },
  {
   "cell_type": "code",
   "execution_count": 257,
   "id": "9672094b",
   "metadata": {},
   "outputs": [],
   "source": [
    "predictions = predictions.join(pd.DataFrame(tn1_preds)).rename({0:'Tabnet_metadata'}, axis=1) # recording prediction"
   ]
  },
  {
   "cell_type": "markdown",
   "id": "8c8068d0",
   "metadata": {},
   "source": [
    "### TabNet on BOW Data"
   ]
  },
  {
   "cell_type": "code",
   "execution_count": 46,
   "id": "4a4b10c6",
   "metadata": {},
   "outputs": [],
   "source": [
    "# Converting filtered data to Numpy Arrays\n",
    "X_train_array = X_train.filter(regex='_BOW').values\n",
    "y_train_array = y_train.values.reshape(-1, 1)\n",
    "X_val_array = X_val.filter(regex='_BOW').values\n",
    "y_val_array = y_val.values.reshape(-1, 1)"
   ]
  },
  {
   "cell_type": "code",
   "execution_count": 47,
   "id": "ebbd431f",
   "metadata": {},
   "outputs": [
    {
     "name": "stderr",
     "output_type": "stream",
     "text": [
      "C:\\Users\\8D\\anaconda3\\lib\\site-packages\\pytorch_tabnet\\abstract_model.py:75: UserWarning: Device used : cpu\n",
      "  warnings.warn(f\"Device used : {self.device}\")\n"
     ]
    },
    {
     "name": "stdout",
     "output_type": "stream",
     "text": [
      "epoch 0  | loss: 2.14049 | train_mae: 0.69582 | train_rmse: 0.98044 | test_mae: 0.6965  | test_rmse: 0.98173 |  0:00:01s\n",
      "epoch 1  | loss: 1.07111 | train_mae: 0.71585 | train_rmse: 0.95984 | test_mae: 0.71726 | test_rmse: 0.96044 |  0:00:02s\n",
      "epoch 2  | loss: 0.93686 | train_mae: 0.71069 | train_rmse: 0.95574 | test_mae: 0.71266 | test_rmse: 0.95737 |  0:00:03s\n",
      "epoch 3  | loss: 0.90611 | train_mae: 0.69532 | train_rmse: 0.96382 | test_mae: 0.69734 | test_rmse: 0.96649 |  0:00:04s\n",
      "epoch 4  | loss: 0.90641 | train_mae: 0.70583 | train_rmse: 0.95261 | test_mae: 0.70841 | test_rmse: 0.9553  |  0:00:05s\n",
      "epoch 5  | loss: 0.89785 | train_mae: 0.70482 | train_rmse: 0.9504  | test_mae: 0.70746 | test_rmse: 0.95411 |  0:00:06s\n",
      "epoch 6  | loss: 0.90414 | train_mae: 0.71372 | train_rmse: 0.94526 | test_mae: 0.7188  | test_rmse: 0.95107 |  0:00:08s\n",
      "epoch 7  | loss: 0.90733 | train_mae: 0.70637 | train_rmse: 0.95232 | test_mae: 0.70883 | test_rmse: 0.95571 |  0:00:09s\n",
      "epoch 8  | loss: 0.88966 | train_mae: 0.71006 | train_rmse: 0.94901 | test_mae: 0.71323 | test_rmse: 0.95319 |  0:00:10s\n",
      "epoch 9  | loss: 0.89049 | train_mae: 0.69788 | train_rmse: 0.95204 | test_mae: 0.70069 | test_rmse: 0.95667 |  0:00:11s\n",
      "epoch 10 | loss: 0.89472 | train_mae: 0.75169 | train_rmse: 0.95727 | test_mae: 0.75661 | test_rmse: 0.96085 |  0:00:12s\n",
      "epoch 11 | loss: 0.91203 | train_mae: 0.69475 | train_rmse: 0.95992 | test_mae: 0.69631 | test_rmse: 0.96424 |  0:00:13s\n",
      "epoch 12 | loss: 0.89422 | train_mae: 0.71682 | train_rmse: 0.95261 | test_mae: 0.71891 | test_rmse: 0.95518 |  0:00:14s\n",
      "epoch 13 | loss: 0.89697 | train_mae: 0.69715 | train_rmse: 0.95106 | test_mae: 0.69927 | test_rmse: 0.95579 |  0:00:16s\n",
      "epoch 14 | loss: 0.88184 | train_mae: 0.73336 | train_rmse: 0.95144 | test_mae: 0.73817 | test_rmse: 0.95587 |  0:00:17s\n",
      "epoch 15 | loss: 0.8852  | train_mae: 0.70022 | train_rmse: 0.94876 | test_mae: 0.70454 | test_rmse: 0.95511 |  0:00:18s\n",
      "epoch 16 | loss: 0.88797 | train_mae: 0.72602 | train_rmse: 0.94946 | test_mae: 0.73126 | test_rmse: 0.95467 |  0:00:19s\n",
      "epoch 17 | loss: 0.89297 | train_mae: 0.70897 | train_rmse: 0.95119 | test_mae: 0.71329 | test_rmse: 0.95605 |  0:00:20s\n",
      "epoch 18 | loss: 0.89333 | train_mae: 0.69675 | train_rmse: 0.95486 | test_mae: 0.70074 | test_rmse: 0.96113 |  0:00:21s\n",
      "epoch 19 | loss: 0.89092 | train_mae: 0.72171 | train_rmse: 0.95382 | test_mae: 0.72736 | test_rmse: 0.96001 |  0:00:23s\n",
      "epoch 20 | loss: 0.8898  | train_mae: 0.696   | train_rmse: 0.95241 | test_mae: 0.69812 | test_rmse: 0.95612 |  0:00:24s\n",
      "epoch 21 | loss: 0.88419 | train_mae: 0.69999 | train_rmse: 0.94826 | test_mae: 0.70473 | test_rmse: 0.95426 |  0:00:25s\n",
      "epoch 22 | loss: 0.88166 | train_mae: 0.70408 | train_rmse: 0.94128 | test_mae: 0.71053 | test_rmse: 0.94908 |  0:00:26s\n",
      "epoch 23 | loss: 0.88301 | train_mae: 0.69764 | train_rmse: 0.94032 | test_mae: 0.7038  | test_rmse: 0.94876 |  0:00:27s\n",
      "epoch 24 | loss: 0.88306 | train_mae: 0.69979 | train_rmse: 0.93902 | test_mae: 0.70614 | test_rmse: 0.94748 |  0:00:28s\n",
      "Stop training because you reached max_epochs = 25 with best_epoch = 24 and best_test_rmse = 0.94748\n"
     ]
    },
    {
     "name": "stderr",
     "output_type": "stream",
     "text": [
      "C:\\Users\\8D\\anaconda3\\lib\\site-packages\\pytorch_tabnet\\callbacks.py:172: UserWarning: Best weights from best epoch are automatically used!\n",
      "  warnings.warn(wrn_msg)\n"
     ]
    }
   ],
   "source": [
    "TabNet_2 = TabNetRegressor()\n",
    "max_epochs = 25\n",
    "\n",
    "TN_hist_2 = TabNet_2.fit(\n",
    "    X_train=X_train_array, y_train=y_train_array,\n",
    "    eval_set=[(X_train_array, y_train_array), (X_val_array, y_val_array)],\n",
    "    eval_name=['train', 'test'],\n",
    "    eval_metric=['mae', 'rmse'],\n",
    "    max_epochs=max_epochs,\n",
    "    patience=25,\n",
    "    batch_size=1024, virtual_batch_size=128,\n",
    "    num_workers=0,\n",
    "    drop_last=False,\n",
    ") "
   ]
  },
  {
   "cell_type": "code",
   "execution_count": 48,
   "id": "13e3fd50",
   "metadata": {},
   "outputs": [
    {
     "name": "stdout",
     "output_type": "stream",
     "text": [
      "FINAL TEST RMSE FOR DATA : 0.9474791782490241\n"
     ]
    }
   ],
   "source": [
    "tn2_preds = TabNet_2.predict(X_val_array)\n",
    "val_score_2 = MSE(y_pred=tn2_preds, y_true=y_val)\n",
    "\n",
    "print(f\"FINAL TEST RMSE FOR DATA : {np.sqrt(val_score_2)}\")"
   ]
  },
  {
   "cell_type": "code",
   "execution_count": 258,
   "id": "7aeaf1ba",
   "metadata": {},
   "outputs": [],
   "source": [
    "predictions = predictions.join(pd.DataFrame(tn2_preds)).rename({0:'Tabnet_bow'}, axis=1) # recording prediction"
   ]
  },
  {
   "cell_type": "markdown",
   "id": "015bd631",
   "metadata": {},
   "source": [
    "### TabNet on Document Embedding Data"
   ]
  },
  {
   "cell_type": "code",
   "execution_count": 49,
   "id": "cc80dfa4",
   "metadata": {},
   "outputs": [],
   "source": [
    "# Converting filtered data to Numpy Arrays\n",
    "X_train_array = X_train.filter(regex='_EMB').values\n",
    "y_train_array = y_train.values.reshape(-1, 1)\n",
    "X_val_array = X_val.filter(regex='_EMB').values\n",
    "y_val_array = y_val.values.reshape(-1, 1)"
   ]
  },
  {
   "cell_type": "code",
   "execution_count": 50,
   "id": "62934f5c",
   "metadata": {},
   "outputs": [
    {
     "name": "stderr",
     "output_type": "stream",
     "text": [
      "C:\\Users\\8D\\anaconda3\\lib\\site-packages\\pytorch_tabnet\\abstract_model.py:75: UserWarning: Device used : cpu\n",
      "  warnings.warn(f\"Device used : {self.device}\")\n"
     ]
    },
    {
     "name": "stdout",
     "output_type": "stream",
     "text": [
      "epoch 0  | loss: 3.78425 | train_mae: 0.73051 | train_rmse: 1.09722 | test_mae: 0.7318  | test_rmse: 1.09941 |  0:00:02s\n",
      "epoch 1  | loss: 1.05129 | train_mae: 0.70053 | train_rmse: 0.96487 | test_mae: 0.70128 | test_rmse: 0.96605 |  0:00:05s\n",
      "epoch 2  | loss: 0.92391 | train_mae: 0.7183  | train_rmse: 0.95839 | test_mae: 0.71977 | test_rmse: 0.95939 |  0:00:07s\n",
      "epoch 3  | loss: 0.9065  | train_mae: 0.73166 | train_rmse: 0.95826 | test_mae: 0.73366 | test_rmse: 0.95917 |  0:00:10s\n",
      "epoch 4  | loss: 0.8994  | train_mae: 0.71109 | train_rmse: 0.95846 | test_mae: 0.71228 | test_rmse: 0.95944 |  0:00:12s\n",
      "epoch 5  | loss: 0.89726 | train_mae: 0.71176 | train_rmse: 0.95812 | test_mae: 0.713   | test_rmse: 0.95909 |  0:00:15s\n",
      "epoch 6  | loss: 0.88673 | train_mae: 0.70406 | train_rmse: 0.95934 | test_mae: 0.70493 | test_rmse: 0.9604  |  0:00:17s\n",
      "epoch 7  | loss: 0.88354 | train_mae: 0.734   | train_rmse: 0.95855 | test_mae: 0.73597 | test_rmse: 0.95923 |  0:00:20s\n",
      "epoch 8  | loss: 0.87632 | train_mae: 0.70998 | train_rmse: 0.95889 | test_mae: 0.71116 | test_rmse: 0.95991 |  0:00:22s\n",
      "epoch 9  | loss: 0.868   | train_mae: 0.72464 | train_rmse: 0.95787 | test_mae: 0.72632 | test_rmse: 0.95873 |  0:00:25s\n",
      "epoch 10 | loss: 0.85925 | train_mae: 0.72201 | train_rmse: 0.95763 | test_mae: 0.72372 | test_rmse: 0.95866 |  0:00:27s\n",
      "epoch 11 | loss: 0.8521  | train_mae: 0.69935 | train_rmse: 0.96399 | test_mae: 0.70001 | test_rmse: 0.96521 |  0:00:29s\n",
      "epoch 12 | loss: 0.85206 | train_mae: 0.72596 | train_rmse: 0.95703 | test_mae: 0.72778 | test_rmse: 0.95779 |  0:00:32s\n",
      "epoch 13 | loss: 0.84259 | train_mae: 0.70138 | train_rmse: 0.95961 | test_mae: 0.70232 | test_rmse: 0.96076 |  0:00:35s\n",
      "epoch 14 | loss: 0.83801 | train_mae: 0.72478 | train_rmse: 0.95648 | test_mae: 0.72661 | test_rmse: 0.95726 |  0:00:37s\n",
      "epoch 15 | loss: 0.83324 | train_mae: 0.7091  | train_rmse: 0.95781 | test_mae: 0.7103  | test_rmse: 0.95869 |  0:00:40s\n",
      "epoch 16 | loss: 0.83263 | train_mae: 0.72427 | train_rmse: 0.957   | test_mae: 0.72574 | test_rmse: 0.95755 |  0:00:42s\n",
      "epoch 17 | loss: 0.82594 | train_mae: 0.71951 | train_rmse: 0.95657 | test_mae: 0.72075 | test_rmse: 0.95713 |  0:00:45s\n",
      "epoch 18 | loss: 0.82538 | train_mae: 0.70469 | train_rmse: 0.95627 | test_mae: 0.70579 | test_rmse: 0.95723 |  0:00:47s\n",
      "epoch 19 | loss: 0.82016 | train_mae: 0.71654 | train_rmse: 0.95125 | test_mae: 0.71823 | test_rmse: 0.95221 |  0:00:50s\n",
      "epoch 20 | loss: 0.81597 | train_mae: 0.69042 | train_rmse: 0.96214 | test_mae: 0.69098 | test_rmse: 0.96333 |  0:00:52s\n",
      "epoch 21 | loss: 0.80494 | train_mae: 0.70911 | train_rmse: 0.94924 | test_mae: 0.71054 | test_rmse: 0.95012 |  0:00:55s\n",
      "epoch 22 | loss: 0.8004  | train_mae: 0.69463 | train_rmse: 0.95091 | test_mae: 0.6958  | test_rmse: 0.95244 |  0:00:57s\n",
      "epoch 23 | loss: 0.7971  | train_mae: 0.69521 | train_rmse: 0.95008 | test_mae: 0.69539 | test_rmse: 0.95043 |  0:01:00s\n",
      "epoch 24 | loss: 0.79435 | train_mae: 0.70949 | train_rmse: 0.94563 | test_mae: 0.71059 | test_rmse: 0.94609 |  0:01:02s\n",
      "Stop training because you reached max_epochs = 25 with best_epoch = 24 and best_test_rmse = 0.94609\n"
     ]
    },
    {
     "name": "stderr",
     "output_type": "stream",
     "text": [
      "C:\\Users\\8D\\anaconda3\\lib\\site-packages\\pytorch_tabnet\\callbacks.py:172: UserWarning: Best weights from best epoch are automatically used!\n",
      "  warnings.warn(wrn_msg)\n"
     ]
    }
   ],
   "source": [
    "TabNet_3 = TabNetRegressor()\n",
    "max_epochs = 25\n",
    "\n",
    "TN_hist_3 = TabNet_3.fit(\n",
    "    X_train=X_train_array, y_train=y_train_array,\n",
    "    eval_set=[(X_train_array, y_train_array), (X_val_array, y_val_array)],\n",
    "    eval_name=['train', 'test'],\n",
    "    eval_metric=['mae', 'rmse'],\n",
    "    max_epochs=max_epochs,\n",
    "    patience=25,\n",
    "    batch_size=1024, virtual_batch_size=128,\n",
    "    num_workers=0,\n",
    "    drop_last=False,\n",
    ") "
   ]
  },
  {
   "cell_type": "code",
   "execution_count": 51,
   "id": "bb05a465",
   "metadata": {},
   "outputs": [
    {
     "name": "stdout",
     "output_type": "stream",
     "text": [
      "FINAL TEST RMSE FOR DATA : 0.946094964329127\n"
     ]
    }
   ],
   "source": [
    "tn3_preds = TabNet_3.predict(X_val_array)\n",
    "val_score_3 = MSE(y_pred=tn3_preds, y_true=y_val)\n",
    "\n",
    "print(f\"FINAL TEST RMSE FOR DATA : {np.sqrt(val_score_3)}\")"
   ]
  },
  {
   "cell_type": "code",
   "execution_count": 259,
   "id": "32a97bfe",
   "metadata": {},
   "outputs": [],
   "source": [
    "predictions = predictions.join(pd.DataFrame(tn3_preds)).rename({0:'Tabnet_emb'}, axis=1) # recording prediction"
   ]
  },
  {
   "cell_type": "markdown",
   "id": "86059d3a",
   "metadata": {},
   "source": [
    "### TabNet on Top2Vec Data"
   ]
  },
  {
   "cell_type": "code",
   "execution_count": 52,
   "id": "d2b34aa8",
   "metadata": {},
   "outputs": [],
   "source": [
    "# Converting filtered data to Numpy Arrays\n",
    "X_train_array = X_train.filter(regex='_TOP').values # breaks?\n",
    "y_train_array = y_train.values.reshape(-1, 1)\n",
    "\n",
    "X_val_array = X_val.filter(regex='_TOP').values # breaks?\n",
    "y_val_array = y_val.values.reshape(-1, 1)"
   ]
  },
  {
   "cell_type": "code",
   "execution_count": 53,
   "id": "815663fc",
   "metadata": {},
   "outputs": [
    {
     "name": "stderr",
     "output_type": "stream",
     "text": [
      "C:\\Users\\8D\\anaconda3\\lib\\site-packages\\pytorch_tabnet\\abstract_model.py:75: UserWarning: Device used : cpu\n",
      "  warnings.warn(f\"Device used : {self.device}\")\n"
     ]
    },
    {
     "name": "stdout",
     "output_type": "stream",
     "text": [
      "epoch 0  | loss: 1.85878 | train_mae: 0.69017 | train_rmse: 0.99607 | val_mae: 0.69032 | val_rmse: 0.99807 |  0:00:01s\n",
      "epoch 1  | loss: 1.02936 | train_mae: 0.76919 | train_rmse: 0.97397 | val_mae: 0.77202 | val_rmse: 0.97376 |  0:00:03s\n",
      "epoch 2  | loss: 0.95003 | train_mae: 0.689   | train_rmse: 0.99265 | val_mae: 0.68969 | val_rmse: 0.99533 |  0:00:04s\n",
      "epoch 3  | loss: 0.94791 | train_mae: 0.72835 | train_rmse: 0.95696 | val_mae: 0.72991 | val_rmse: 0.95784 |  0:00:06s\n",
      "epoch 4  | loss: 0.92147 | train_mae: 0.69658 | train_rmse: 0.94557 | val_mae: 0.69853 | val_rmse: 0.94788 |  0:00:08s\n",
      "epoch 5  | loss: 0.90313 | train_mae: 0.69435 | train_rmse: 0.95328 | val_mae: 0.69541 | val_rmse: 0.95509 |  0:00:09s\n",
      "epoch 6  | loss: 0.90509 | train_mae: 0.75205 | train_rmse: 0.95222 | val_mae: 0.75419 | val_rmse: 0.9517  |  0:00:11s\n",
      "epoch 7  | loss: 0.9039  | train_mae: 0.71789 | train_rmse: 0.94254 | val_mae: 0.72216 | val_rmse: 0.94726 |  0:00:12s\n",
      "epoch 8  | loss: 0.89535 | train_mae: 0.69642 | train_rmse: 0.94632 | val_mae: 0.70067 | val_rmse: 0.95257 |  0:00:14s\n",
      "epoch 9  | loss: 0.8914  | train_mae: 0.71592 | train_rmse: 0.94371 | val_mae: 0.71816 | val_rmse: 0.94527 |  0:00:15s\n",
      "epoch 10 | loss: 0.88795 | train_mae: 0.70142 | train_rmse: 0.94383 | val_mae: 0.70338 | val_rmse: 0.94704 |  0:00:17s\n",
      "epoch 11 | loss: 0.89155 | train_mae: 0.72968 | train_rmse: 0.94629 | val_mae: 0.73344 | val_rmse: 0.94922 |  0:00:19s\n",
      "epoch 12 | loss: 0.89317 | train_mae: 0.73227 | train_rmse: 0.94754 | val_mae: 0.7353  | val_rmse: 0.94954 |  0:00:20s\n",
      "epoch 13 | loss: 0.88725 | train_mae: 0.75742 | train_rmse: 0.95797 | val_mae: 0.76171 | val_rmse: 0.95943 |  0:00:22s\n",
      "epoch 14 | loss: 0.88775 | train_mae: 0.71199 | train_rmse: 0.94365 | val_mae: 0.7153  | val_rmse: 0.946   |  0:00:24s\n",
      "epoch 15 | loss: 0.88342 | train_mae: 0.69282 | train_rmse: 0.93985 | val_mae: 0.69383 | val_rmse: 0.94171 |  0:00:25s\n",
      "epoch 16 | loss: 0.88294 | train_mae: 0.73173 | train_rmse: 0.95654 | val_mae: 0.73406 | val_rmse: 0.96103 |  0:00:27s\n",
      "epoch 17 | loss: 0.88749 | train_mae: 0.77452 | train_rmse: 0.98415 | val_mae: 0.77974 | val_rmse: 0.98971 |  0:00:28s\n",
      "epoch 18 | loss: 0.89718 | train_mae: 0.70102 | train_rmse: 0.96917 | val_mae: 0.70534 | val_rmse: 0.97823 |  0:00:30s\n",
      "epoch 19 | loss: 0.89709 | train_mae: 0.68909 | train_rmse: 0.96092 | val_mae: 0.69059 | val_rmse: 0.96387 |  0:00:31s\n",
      "epoch 20 | loss: 0.89851 | train_mae: 0.71471 | train_rmse: 1.2138  | val_mae: 0.71989 | val_rmse: 1.23769 |  0:00:33s\n",
      "epoch 21 | loss: 0.89416 | train_mae: 0.72938 | train_rmse: 0.97295 | val_mae: 0.73504 | val_rmse: 0.98278 |  0:00:35s\n",
      "epoch 22 | loss: 0.89556 | train_mae: 0.71088 | train_rmse: 0.94785 | val_mae: 0.71638 | val_rmse: 0.95596 |  0:00:36s\n",
      "epoch 23 | loss: 0.89261 | train_mae: 0.88721 | train_rmse: 1.04993 | val_mae: 0.89522 | val_rmse: 1.05465 |  0:00:38s\n",
      "epoch 24 | loss: 0.89123 | train_mae: 0.89473 | train_rmse: 1.05581 | val_mae: 0.90068 | val_rmse: 1.05464 |  0:00:39s\n",
      "epoch 25 | loss: 0.89734 | train_mae: 0.70922 | train_rmse: 1.00894 | val_mae: 0.70764 | val_rmse: 0.99813 |  0:00:41s\n",
      "epoch 26 | loss: 0.93403 | train_mae: 0.7175  | train_rmse: 0.97992 | val_mae: 0.71848 | val_rmse: 0.98035 |  0:00:43s\n",
      "epoch 27 | loss: 0.89285 | train_mae: 0.73124 | train_rmse: 0.95466 | val_mae: 0.73469 | val_rmse: 0.95851 |  0:00:44s\n",
      "epoch 28 | loss: 0.90316 | train_mae: 0.73119 | train_rmse: 0.95181 | val_mae: 0.73466 | val_rmse: 0.95562 |  0:00:46s\n",
      "epoch 29 | loss: 0.89388 | train_mae: 0.95445 | train_rmse: 1.1055  | val_mae: 0.96134 | val_rmse: 1.10478 |  0:00:47s\n",
      "epoch 30 | loss: 0.91718 | train_mae: 1.14002 | train_rmse: 1.27788 | val_mae: 1.14406 | val_rmse: 1.27564 |  0:00:49s\n",
      "epoch 31 | loss: 0.93563 | train_mae: 1.29928 | train_rmse: 1.43569 | val_mae: 1.30282 | val_rmse: 1.43382 |  0:00:51s\n",
      "epoch 32 | loss: 0.89358 | train_mae: 0.73531 | train_rmse: 0.9459  | val_mae: 0.73751 | val_rmse: 0.94648 |  0:00:52s\n",
      "epoch 33 | loss: 0.89229 | train_mae: 0.71658 | train_rmse: 0.97867 | val_mae: 0.72116 | val_rmse: 0.98534 |  0:00:54s\n",
      "epoch 34 | loss: 0.89556 | train_mae: 0.7284  | train_rmse: 0.9516  | val_mae: 0.73111 | val_rmse: 0.95381 |  0:00:55s\n",
      "epoch 35 | loss: 0.90132 | train_mae: 0.79844 | train_rmse: 0.98432 | val_mae: 0.80581 | val_rmse: 0.98942 |  0:00:57s\n",
      "epoch 36 | loss: 0.89294 | train_mae: 0.75313 | train_rmse: 0.97836 | val_mae: 0.75543 | val_rmse: 0.97935 |  0:00:59s\n",
      "epoch 37 | loss: 0.89515 | train_mae: 0.84458 | train_rmse: 1.04017 | val_mae: 0.85213 | val_rmse: 1.04634 |  0:01:00s\n",
      "epoch 38 | loss: 0.89307 | train_mae: 0.69327 | train_rmse: 0.99825 | val_mae: 0.69781 | val_rmse: 1.00556 |  0:01:02s\n",
      "epoch 39 | loss: 0.89872 | train_mae: 0.76427 | train_rmse: 0.97085 | val_mae: 0.77031 | val_rmse: 0.97587 |  0:01:03s\n",
      "epoch 40 | loss: 0.90101 | train_mae: 1.29142 | train_rmse: 1.42915 | val_mae: 1.29649 | val_rmse: 1.42865 |  0:01:05s\n",
      "\n",
      "Early stopping occurred at epoch 40 with best_epoch = 15 and best_val_rmse = 0.94171\n"
     ]
    },
    {
     "name": "stderr",
     "output_type": "stream",
     "text": [
      "C:\\Users\\8D\\anaconda3\\lib\\site-packages\\pytorch_tabnet\\callbacks.py:172: UserWarning: Best weights from best epoch are automatically used!\n",
      "  warnings.warn(wrn_msg)\n"
     ]
    }
   ],
   "source": [
    "TabNet_4 = TabNetRegressor()\n",
    "max_epochs = 50\n",
    "\n",
    "TN_hist_4 = TabNet_4.fit(\n",
    "    X_train=X_train_array, y_train=y_train_array,\n",
    "    eval_set=[(X_train_array, y_train_array), \n",
    "              (X_val_array, y_val_array)],\n",
    "    eval_name=['train', 'val'],\n",
    "    eval_metric=['mae', 'rmse'],\n",
    "    max_epochs=max_epochs,\n",
    "    patience=25,\n",
    "    batch_size=256, virtual_batch_size=128,\n",
    "    num_workers=0,\n",
    "    drop_last=False,\n",
    ") "
   ]
  },
  {
   "cell_type": "code",
   "execution_count": 54,
   "id": "f06c7ed0",
   "metadata": {},
   "outputs": [
    {
     "name": "stdout",
     "output_type": "stream",
     "text": [
      "FINAL TEST RMSE FOR DATA : 0.9417111161687647\n"
     ]
    }
   ],
   "source": [
    "tn4_preds = TabNet_4.predict(X_val_array)\n",
    "val_score_4 = MSE(y_pred=tn4_preds, y_true=y_val)\n",
    "\n",
    "print(f\"FINAL TEST RMSE FOR DATA : {np.sqrt(val_score_4)}\")"
   ]
  },
  {
   "cell_type": "code",
   "execution_count": 261,
   "id": "57e8387c",
   "metadata": {},
   "outputs": [],
   "source": [
    "predictions = predictions.join(pd.DataFrame(tn4_preds)).rename({0:'Tabnet_top'}, axis=1) # recording prediction"
   ]
  },
  {
   "cell_type": "markdown",
   "id": "1e13686e",
   "metadata": {},
   "source": [
    "### TabNet Ensemble"
   ]
  },
  {
   "cell_type": "code",
   "execution_count": 263,
   "id": "7a068e84",
   "metadata": {},
   "outputs": [
    {
     "name": "stdout",
     "output_type": "stream",
     "text": [
      "RMSE :  0.915648\n"
     ]
    }
   ],
   "source": [
    "# Make training predictions with each TabNet model\n",
    "tn1_train_preds = pd.DataFrame(TabNet_1.predict(X_train[['followers', 'lists']].values)[:])\n",
    "tn2_train_preds = pd.DataFrame(TabNet_2.predict(X_train.filter(regex='_BOW').values)[:])\n",
    "tn3_train_preds = pd.DataFrame(TabNet_3.predict(X_train.filter(regex='_EMB').values)[:])\n",
    "tn4_train_preds = pd.DataFrame(TabNet_4.predict(X_train.filter(regex='_TOP').values)[:])\n",
    "\n",
    "# Make validation predictions with each TabNet model\n",
    "tn1_val_preds = pd.DataFrame(TabNet_1.predict(X_val[['followers', 'lists']].values)[:])\n",
    "tn2_val_preds = pd.DataFrame(TabNet_2.predict(X_val.filter(regex='_BOW').values)[:])\n",
    "tn3_val_preds = pd.DataFrame(TabNet_3.predict(X_val.filter(regex='_EMB').values)[:])\n",
    "tn4_val_preds = pd.DataFrame(TabNet_4.predict(X_val.filter(regex='_TOP').values)[:])\n",
    "\n",
    "# Aggregate Training Set Predictions\n",
    "X_train_tn_preds = pd.DataFrame(data={'meta':list(tn1_train_preds[0]), \n",
    "                                      'bow':list(tn2_train_preds[0]), \n",
    "                                      'emb':list(tn3_train_preds[0]), \n",
    "                                      'top':list(tn4_train_preds[0])})\n",
    "# and validation Set Predictions\n",
    "X_val_tn_preds = pd.DataFrame(data={'meta':list(tn1_val_preds[0]), \n",
    "                                    'bow':list(tn2_val_preds[0]), \n",
    "                                    'emb':list(tn3_val_preds[0]), \n",
    "                                    'top':list(tn4_val_preds[0])})\n",
    "\n",
    "# Take the mean of our model predictions and compare it to true values of our target\n",
    "tn_mean_preds = X_val_tn_preds.mean(axis=1)\n",
    "tn_val_ensemble_rmse = np.sqrt(MSE(y_val, tn_mean_preds)); print(\"RMSE : % f\" %(tn_val_ensemble_rmse))"
   ]
  },
  {
   "cell_type": "code",
   "execution_count": 265,
   "id": "fa83e82c",
   "metadata": {},
   "outputs": [],
   "source": [
    "predictions = predictions.join(pd.DataFrame(tn_mean_preds)).rename({0:'Tabnet_mean_ensemble'}, axis=1) # recording prediction"
   ]
  },
  {
   "cell_type": "code",
   "execution_count": 266,
   "id": "01dbbe23",
   "metadata": {},
   "outputs": [
    {
     "data": {
      "text/plain": [
       "meta        0.364731\n",
       "bow         0.161256\n",
       "emb         0.236027\n",
       "top         0.204705\n",
       "retweets    1.000000\n",
       "Name: retweets, dtype: float64"
      ]
     },
     "execution_count": 266,
     "metadata": {},
     "output_type": "execute_result"
    }
   ],
   "source": [
    "# Checking correlation of validation predictions with target 'retweets'\n",
    "X_val_tn_preds.join(pd.DataFrame(y_val).reset_index(drop=True)).rename(columns={0:'Metadata', 1:'BOW', 2:'Embeddings', 3:'Top2Vec'}).corr()['retweets']"
   ]
  },
  {
   "cell_type": "markdown",
   "id": "9a301b8a",
   "metadata": {},
   "source": [
    "Well, we really did a deep dive on TabNet and ensembling methods, and our top baseline is still just looking at metadata and predicting that accounts with lots of followers will get more retweets. Looking at our NLP data separately from metadata, we can see that they do indeed have some predictive power, but considering nlp with metadata has so far not improved our predictive power.\n",
    "\n",
    "In theory this predictive power between metadata and NLP could be combined, because our metadata and NLP pipelines are forming their predictions based on very different measures and sets of data, but experientially we haven't seen that yet."
   ]
  },
  {
   "cell_type": "markdown",
   "id": "7b94d821",
   "metadata": {},
   "source": [
    "Let's see if we can tune our XGB Hyperparameters to beat our current baseline."
   ]
  },
  {
   "cell_type": "markdown",
   "id": "b43f7997",
   "metadata": {},
   "source": [
    "# XGBoost Hyperparameter Tuning\n",
    "### Bag Of Words tuning"
   ]
  },
  {
   "cell_type": "code",
   "execution_count": 57,
   "id": "ba741465",
   "metadata": {},
   "outputs": [],
   "source": [
    "# Parameters\n",
    "optimize = 'neg_root_mean_squared_error'\n",
    "XGB = xgboost.XGBRegressor(objective='reg:squarederror')\n",
    "\n",
    "# Our hyperparameter grid, with some other options as comments - we'll use this grid for each of our XGB models and datasets\n",
    "XGB_params = {\n",
    "    'learning_rate' : [.02, .03, .05],\n",
    "    'min_child_weight' : [5],\n",
    "    'gamma' : [0.27, 0.3, 0.33],\n",
    "#     'alpha' : [0.01], # L1 regularization\n",
    "#     'eta': [1, 0.5],\n",
    "    'eval_metric':['mlogloss'],\n",
    "    'lambda':[1], # L2 regularization\n",
    "    'booster' : ['gbtree'],\n",
    "    'max_depth': [5, None],\n",
    "    'n_estimators': [100, 120, 140],\n",
    "    'colsample_bytree' : [0.5]\n",
    "#     'subsample': [0.5]\n",
    "}"
   ]
  },
  {
   "cell_type": "code",
   "execution_count": 58,
   "id": "a9125535",
   "metadata": {},
   "outputs": [
    {
     "name": "stdout",
     "output_type": "stream",
     "text": [
      "Fitting 2 folds for each of 54 candidates, totalling 108 fits\n",
      "Grid Search found the following optimal parameters: \n",
      "booster: 'gbtree'\n",
      "colsample_bytree: 0.5\n",
      "eval_metric: 'mlogloss'\n",
      "gamma: 0.33\n",
      "lambda: 1\n",
      "learning_rate: 0.05\n",
      "max_depth: None\n",
      "min_child_weight: 5\n",
      "n_estimators: 140\n",
      "Training took a total of 0:00:18.706998\n",
      "XGB RMSE :  0.924847\n"
     ]
    }
   ],
   "source": [
    "start = datetime.datetime.now() # timing\n",
    "\n",
    "# Searching Parameters\n",
    "XGB3 = GridSearchCV(XGB, XGB_params, scoring=optimize, refit=optimize, cv=2, n_jobs=1, verbose=True)\n",
    "XGB3.fit(X_train.filter(regex='_BOW'), y_train)\n",
    "\n",
    "# Reporting best parameters\n",
    "XGB_best_parameters = XGB3.best_params_\n",
    "print('Grid Search found the following optimal parameters: ')\n",
    "for param_name in sorted(XGB_best_parameters.keys()):\n",
    "    print('%s: %r' % (param_name, XGB_best_parameters[param_name]))\n",
    "\n",
    "end = datetime.datetime.now(); elapsed = end-start; print('Training took a total of {}'.format(elapsed)) # timing\n",
    "\n",
    "# Validation RMSE report\n",
    "xgb_pred_bow = XGB3.predict(X_val.filter(regex='_BOW'))\n",
    "xgb_rmse = np.sqrt(MSE(y_val, xgb_pred_bow))\n",
    "print(\"XGB RMSE : % f\" %(xgb_rmse))"
   ]
  },
  {
   "cell_type": "code",
   "execution_count": 267,
   "id": "56666a0c",
   "metadata": {},
   "outputs": [],
   "source": [
    "predictions = predictions.join(pd.DataFrame(xgb_pred_bow)).rename({0:'XGB_tuned_bow'}, axis=1) # recording prediction"
   ]
  },
  {
   "cell_type": "markdown",
   "id": "cefac8a1",
   "metadata": {},
   "source": [
    "### XGB Document Embedding Hyperparameter Tuning"
   ]
  },
  {
   "cell_type": "code",
   "execution_count": 59,
   "id": "056b370a",
   "metadata": {},
   "outputs": [
    {
     "name": "stdout",
     "output_type": "stream",
     "text": [
      "Fitting 2 folds for each of 54 candidates, totalling 108 fits\n",
      "Grid Search found the following optimal parameters: \n",
      "booster: 'gbtree'\n",
      "colsample_bytree: 0.5\n",
      "eval_metric: 'mlogloss'\n",
      "gamma: 0.33\n",
      "lambda: 1\n",
      "learning_rate: 0.05\n",
      "max_depth: None\n",
      "min_child_weight: 5\n",
      "n_estimators: 140\n",
      "Training took a total of 0:04:30.695532\n",
      "XGB RMSE :  0.903017\n"
     ]
    }
   ],
   "source": [
    "start = datetime.datetime.now() # timing\n",
    "\n",
    "# Searching Parameters\n",
    "XGB4 = GridSearchCV(XGB, XGB_params, scoring=optimize, refit=optimize, cv=2, n_jobs=1, verbose=True)\n",
    "XGB4.fit(X_train.filter(regex='_EMB'), y_train)\n",
    "\n",
    "best_parameters = XGB4.best_params_\n",
    "print('Grid Search found the following optimal parameters: ')\n",
    "for param_name in sorted(best_parameters.keys()):\n",
    "    print('%s: %r' % (param_name, XGB_best_parameters[param_name]))\n",
    "    \n",
    "end = datetime.datetime.now(); elapsed = end-start; print('Training took a total of {}'.format(elapsed)) # timing\n",
    "\n",
    "# Validation RMSE\n",
    "xgb_pred_emb = XGB4.predict(X_val.filter(regex='_EMB'))\n",
    "xgb_rmse = np.sqrt(MSE(y_val, xgb_pred_emb))\n",
    "print(\"XGB RMSE : % f\" %(xgb_rmse))"
   ]
  },
  {
   "cell_type": "code",
   "execution_count": 268,
   "id": "49fe5af0",
   "metadata": {},
   "outputs": [],
   "source": [
    "predictions = predictions.join(pd.DataFrame(xgb_pred_emb)).rename({0:'XGB_tuned_emb'}, axis=1) # recording prediction"
   ]
  },
  {
   "cell_type": "markdown",
   "id": "de4d17ae",
   "metadata": {},
   "source": [
    "### XGB Topic Hyperparameter Tuning"
   ]
  },
  {
   "cell_type": "code",
   "execution_count": 60,
   "id": "51bfc674",
   "metadata": {},
   "outputs": [
    {
     "name": "stdout",
     "output_type": "stream",
     "text": [
      "Fitting 2 folds for each of 54 candidates, totalling 108 fits\n",
      "Grid Search found the following optimal parameters: \n",
      "booster: 'gbtree'\n",
      "colsample_bytree: 0.5\n",
      "eval_metric: 'mlogloss'\n",
      "gamma: 0.33\n",
      "lambda: 1\n",
      "learning_rate: 0.05\n",
      "max_depth: None\n",
      "min_child_weight: 5\n",
      "n_estimators: 140\n",
      "Training took a total of 0:00:09.701002\n",
      "XGB RMSE :  0.937653\n"
     ]
    }
   ],
   "source": [
    "start = datetime.datetime.now() # timing\n",
    "\n",
    "# Searching Parameters\n",
    "XGB5 = GridSearchCV(XGB, XGB_params, scoring=optimize, refit=optimize, cv=2, n_jobs=1, verbose=True)\n",
    "XGB5.fit(X_train.filter(regex='_TOP'), y_train)\n",
    "\n",
    "best_parameters = XGB5.best_params_\n",
    "print('Grid Search found the following optimal parameters: ')\n",
    "for param_name in sorted(best_parameters.keys()):\n",
    "    print('%s: %r' % (param_name, XGB_best_parameters[param_name]))\n",
    "    \n",
    "end = datetime.datetime.now(); elapsed = end-start; print('Training took a total of {}'.format(elapsed)) # timing\n",
    "\n",
    "# Validation RMSE\n",
    "xgb_pred_top = XGB5.predict(X_val.filter(regex='_TOP'))\n",
    "xgb_rmse = np.sqrt(MSE(y_val, xgb_pred_top))\n",
    "print(\"XGB RMSE : % f\" %(xgb_rmse))"
   ]
  },
  {
   "cell_type": "code",
   "execution_count": 269,
   "id": "418e220b",
   "metadata": {},
   "outputs": [],
   "source": [
    "predictions = predictions.join(pd.DataFrame(xgb_pred_top)).rename({0:'XGB_tuned_top'}, axis=1) # recording prediction"
   ]
  },
  {
   "cell_type": "markdown",
   "id": "d4d2e914",
   "metadata": {},
   "source": [
    "### XGB Metadata Hyperparameter Tuning"
   ]
  },
  {
   "cell_type": "code",
   "execution_count": 288,
   "id": "69944ba9",
   "metadata": {},
   "outputs": [],
   "source": [
    "# Parameters\n",
    "optimize = 'neg_root_mean_squared_error'\n",
    "XGB = xgboost.XGBRegressor(objective='reg:squarederror')\n",
    "\n",
    "# Our hyperparameter grid, with some other options as comments - we'll use this grid for each of our XGB models and datasets\n",
    "XGB_params = {\n",
    "    'learning_rate' : [.05, 0.2, 0.3],\n",
    "    'min_child_weight' : [1, 3, 5],\n",
    "    'gamma' : [0, 0.15, 0.33],\n",
    "#     'eta': [1, 0.5],\n",
    "    'eval_metric':['mlogloss'],\n",
    "#     'alpha' : [0.01], # L1 regularization\n",
    "    'lambda':[1], # L2 regularization\n",
    "    'booster' : ['gbtree'],\n",
    "    'max_depth': [6, None],\n",
    "    'n_estimators': [140],\n",
    "    'colsample_bytree' : [0.5]\n",
    "#     'subsample': [0.8, 1]\n",
    "}"
   ]
  },
  {
   "cell_type": "code",
   "execution_count": 289,
   "id": "fc4524f2",
   "metadata": {},
   "outputs": [
    {
     "name": "stdout",
     "output_type": "stream",
     "text": [
      "Fitting 2 folds for each of 54 candidates, totalling 108 fits\n",
      "Grid Search found the following optimal parameters: \n",
      "booster: 'gbtree'\n",
      "colsample_bytree: 0.5\n",
      "eval_metric: 'mlogloss'\n",
      "gamma: 0.33\n",
      "lambda: 1\n",
      "learning_rate: 0.05\n",
      "max_depth: None\n",
      "min_child_weight: 5\n",
      "n_estimators: 140\n",
      "Training took a total of 0:00:17.509119\n",
      "XGB RMSE :  0.815383\n"
     ]
    }
   ],
   "source": [
    "start = datetime.datetime.now() # timing\n",
    "\n",
    "# Searching Parameters\n",
    "XGB6 = GridSearchCV(XGB, XGB_params, scoring=optimize, refit=optimize, cv=2, n_jobs=1, verbose=True)\n",
    "XGB6.fit(X_train[['followers', 'lists']], y_train)\n",
    "\n",
    "best_parameters = XGB6.best_params_\n",
    "print('Grid Search found the following optimal parameters: ')\n",
    "for param_name in sorted(best_parameters.keys()):\n",
    "    print('%s: %r' % (param_name, XGB_best_parameters[param_name]))\n",
    "    \n",
    "end = datetime.datetime.now(); elapsed = end-start; print('Training took a total of {}'.format(elapsed)) # timing\n",
    "\n",
    "# Validation RMSE\n",
    "xgb_pred_meta = XGB6.predict(X_val[['followers', 'lists']])\n",
    "xgb_rmse = np.sqrt(MSE(y_val, xgb_pred_meta))\n",
    "print(\"XGB RMSE : % f\" %(xgb_rmse))"
   ]
  },
  {
   "cell_type": "code",
   "execution_count": 270,
   "id": "4709eee4",
   "metadata": {},
   "outputs": [],
   "source": [
    "predictions = predictions.join(pd.DataFrame(xgb_pred_meta)).rename({0:'XGB_tuned_meta'}, axis=1) # recording prediction"
   ]
  },
  {
   "cell_type": "markdown",
   "id": "3c04d371",
   "metadata": {},
   "source": [
    "Hmm, well tuning our hyperparameters with our metadata has improved our baseline."
   ]
  },
  {
   "cell_type": "markdown",
   "id": "0a12a8bb",
   "metadata": {},
   "source": [
    "### Tuned XGB Ensemble"
   ]
  },
  {
   "cell_type": "code",
   "execution_count": 74,
   "id": "782abf2c",
   "metadata": {},
   "outputs": [
    {
     "name": "stdout",
     "output_type": "stream",
     "text": [
      "mean ensemble on training set: 0.8166893314431944\n",
      "mean ensemble on validation set: 0.8737030442009339\n",
      "\n",
      "[0]\tvalidation_0-rmse:1.12675\n",
      "[1]\tvalidation_0-rmse:0.99788\n",
      "[2]\tvalidation_0-rmse:0.92900\n",
      "[3]\tvalidation_0-rmse:0.89447\n",
      "[4]\tvalidation_0-rmse:0.87824\n",
      "[5]\tvalidation_0-rmse:0.86998\n",
      "[6]\tvalidation_0-rmse:0.86687\n",
      "[7]\tvalidation_0-rmse:0.86594\n",
      "[8]\tvalidation_0-rmse:0.86518\n",
      "[9]\tvalidation_0-rmse:0.86461\n",
      "[10]\tvalidation_0-rmse:0.86337\n",
      "[11]\tvalidation_0-rmse:0.86379\n",
      "[12]\tvalidation_0-rmse:0.86402\n",
      "[13]\tvalidation_0-rmse:0.86380\n",
      "[14]\tvalidation_0-rmse:0.86380\n",
      "[15]\tvalidation_0-rmse:0.86371\n",
      "[16]\tvalidation_0-rmse:0.86429\n",
      "[17]\tvalidation_0-rmse:0.86466\n",
      "[18]\tvalidation_0-rmse:0.86419\n",
      "[19]\tvalidation_0-rmse:0.86429\n",
      "[20]\tvalidation_0-rmse:0.86403\n",
      "[21]\tvalidation_0-rmse:0.86439\n",
      "[22]\tvalidation_0-rmse:0.86403\n",
      "[23]\tvalidation_0-rmse:0.86338\n",
      "[24]\tvalidation_0-rmse:0.86356\n",
      "[25]\tvalidation_0-rmse:0.86345\n",
      "[26]\tvalidation_0-rmse:0.86413\n",
      "[27]\tvalidation_0-rmse:0.86454\n",
      "[28]\tvalidation_0-rmse:0.86440\n"
     ]
    },
    {
     "name": "stderr",
     "output_type": "stream",
     "text": [
      "C:\\Users\\8D\\anaconda3\\lib\\site-packages\\xgboost\\sklearn.py:793: UserWarning: `eval_metric` in `fit` method is deprecated for better compatibility with scikit-learn, use `eval_metric` in constructor or`set_params` instead.\n",
      "  warnings.warn(\n"
     ]
    },
    {
     "name": "stdout",
     "output_type": "stream",
     "text": [
      "[29]\tvalidation_0-rmse:0.86453\n",
      "[30]\tvalidation_0-rmse:0.86429\n",
      "Training took a total of 0:00:00.201088\n",
      "\n",
      "RMSE :  0.863372\n"
     ]
    }
   ],
   "source": [
    "XGB_hype_bow =XGB3.predict(X_train.filter(regex='_BOW'))\n",
    "XGB_hype_emb =XGB4.predict(X_train.filter(regex='_EMB'))\n",
    "XGB_hype_top =XGB5.predict(X_train.filter(regex='_TOP'))\n",
    "XGB_hype_meta = XGB6.predict(X_train[['followers', 'lists']])\n",
    "\n",
    "X_train_XGB_preds = pd.DataFrame([XGB_hype_meta, XGB_hype_bow, XGB_hype_emb, XGB_hype_top]).transpose()\n",
    "X_val_XGB_preds = pd.DataFrame([xgb_pred_meta, xgb_pred_bow, xgb_pred_emb, xgb_pred_top]).transpose()\n",
    "\n",
    "print('mean ensemble on training set: ' + str(np.sqrt(MSE(y_train, X_train_XGB_preds.mean(axis=1)))))\n",
    "print('mean ensemble on validation set: ' + str(np.sqrt(MSE(y_val, X_val_XGB_preds.mean(axis=1)))))\n",
    "print()\n",
    "\n",
    "# XGBoost model\n",
    "start = datetime.datetime.now(); progress = dict()\n",
    "eval_set = [(X_val_XGB_preds, y_val)]; val_metric = [\"rmse\"]\n",
    "XGB_ensemble_2 = xgboost.XGBRegressor(objective='reg:squarederror', early_stopping_rounds=20)\n",
    "XGBhist_ensemble_2 = XGB_ensemble_2.fit(X_train_XGB_preds, y_train, eval_metric=eval_metric, eval_set=eval_set)\n",
    "end = datetime.datetime.now(); elapsed = end-start\n",
    "\n",
    "# Report\n",
    "print('Training took a total of {}'.format(elapsed))\n",
    "print()\n",
    "ensemble_2_preds = XGB_ensemble_2.predict(X_val_XGB_preds); rmse = np.sqrt(MSE(y_val, ensemble_2_preds)); print(\"RMSE : % f\" %(rmse))"
   ]
  },
  {
   "cell_type": "code",
   "execution_count": 273,
   "id": "2b6d715c",
   "metadata": {},
   "outputs": [],
   "source": [
    "predictions = predictions.join(pd.DataFrame(X_val_XGB_preds.mean(axis=1))).rename({0:'XGB_mean_tuned_ensemble'}, axis=1) # recording prediction"
   ]
  },
  {
   "cell_type": "code",
   "execution_count": 271,
   "id": "58d6a78f",
   "metadata": {},
   "outputs": [],
   "source": [
    "predictions = predictions.join(pd.DataFrame(ensemble_2_preds)).rename({0:'XGB_tuned_ensemble'}, axis=1) # recording prediction"
   ]
  },
  {
   "cell_type": "code",
   "execution_count": 63,
   "id": "4988877d",
   "metadata": {},
   "outputs": [
    {
     "data": {
      "image/png": "[encoded data removed]",
      "text/plain": [
       "<Figure size 576x288 with 2 Axes>"
      ]
     },
     "metadata": {
      "needs_background": "light"
     },
     "output_type": "display_data"
    }
   ],
   "source": [
    "# Visualizing ensemble of tuned XGB models, with another XGB model trained on their predictions\n",
    "plot_prediction(y_val, ensemble_2_preds)"
   ]
  },
  {
   "cell_type": "markdown",
   "id": "54a6bdd5",
   "metadata": {},
   "source": [
    "# Model Evaluation\n",
    "We've done some pretty deep NLP and machine learning analysis on our data - what are our findings? What is our best performing model, and how does it perform on our holdout data?"
   ]
  },
  {
   "cell_type": "code",
   "execution_count": 528,
   "id": "b7522b3a",
   "metadata": {},
   "outputs": [
    {
     "name": "stdout",
     "output_type": "stream",
     "text": [
      "Sorted models, scored on R2:\n"
     ]
    },
    {
     "data": {
      "text/html": [
       "<div>\n",
       "<style scoped>\n",
       "    .dataframe tbody tr th:only-of-type {\n",
       "        vertical-align: middle;\n",
       "    }\n",
       "\n",
       "    .dataframe tbody tr th {\n",
       "        vertical-align: top;\n",
       "    }\n",
       "\n",
       "    .dataframe thead th {\n",
       "        text-align: right;\n",
       "    }\n",
       "</style>\n",
       "<table border=\"1\" class=\"dataframe\">\n",
       "  <thead>\n",
       "    <tr style=\"text-align: right;\">\n",
       "      <th></th>\n",
       "      <th>retweets</th>\n",
       "    </tr>\n",
       "  </thead>\n",
       "  <tbody>\n",
       "    <tr>\n",
       "      <th>retweets</th>\n",
       "      <td>1.000000</td>\n",
       "    </tr>\n",
       "    <tr>\n",
       "      <th>XGB_baseline</th>\n",
       "      <td>0.212288</td>\n",
       "    </tr>\n",
       "    <tr>\n",
       "      <th>linreg_baseline</th>\n",
       "      <td>0.199123</td>\n",
       "    </tr>\n",
       "    <tr>\n",
       "      <th>linreg_ensemble_baseline</th>\n",
       "      <td>0.180404</td>\n",
       "    </tr>\n",
       "    <tr>\n",
       "      <th>linreg_emb_baseline</th>\n",
       "      <td>0.102371</td>\n",
       "    </tr>\n",
       "    <tr>\n",
       "      <th>linreg_meta_baseline</th>\n",
       "      <td>0.077366</td>\n",
       "    </tr>\n",
       "    <tr>\n",
       "      <th>linreg_bow_baseline</th>\n",
       "      <td>0.063152</td>\n",
       "    </tr>\n",
       "    <tr>\n",
       "      <th>linreg_top_baseline</th>\n",
       "      <td>0.024053</td>\n",
       "    </tr>\n",
       "  </tbody>\n",
       "</table>\n",
       "</div>"
      ],
      "text/plain": [
       "                          retweets\n",
       "retweets                  1.000000\n",
       "XGB_baseline              0.212288\n",
       "linreg_baseline           0.199123\n",
       "linreg_ensemble_baseline  0.180404\n",
       "linreg_emb_baseline       0.102371\n",
       "linreg_meta_baseline      0.077366\n",
       "linreg_bow_baseline       0.063152\n",
       "linreg_top_baseline       0.024053"
      ]
     },
     "execution_count": 528,
     "metadata": {},
     "output_type": "execute_result"
    }
   ],
   "source": [
    "# Checking prediction R2 with target\n",
    "print('Sorted models, scored on R2:')\n",
    "pd.DataFrame(predictions.join(pd.DataFrame(y_val).reset_index(drop=True))\n",
    "             .corr()['retweets']\n",
    "             .sort_values(ascending=False))**2"
   ]
  },
  {
   "cell_type": "markdown",
   "id": "0183ceff",
   "metadata": {},
   "source": [
    "It looks like forecasting from our metadata - the follower count and list count of tweeting accounts - still beats our Natural Language Processing methods. And that's not a huge surprise! It makes sense that follower count contains a lot of data about how often something is retweeted. Our models that contain this metadata consistently outperform our models that don't, and typically models with more features diluted this predictive power. Our model based on followers and lists alone accounted for 27.8% of the variance in retweet count.\n",
    "\n",
    "Our best performing NLP model was a tuned XGB on document embeddings. Document embeddings provide deep, high-dimensional vectors about our text content. Exploring further in this direction may be the next step for natural language processing.\n",
    "\n",
    "Also, somewhat unexpectedly, our hyperparameter tuning was not very effective on our data. This may be because the default XGB values work well for high numbers of features, or some other strange interaction.\n",
    "\n",
    "XGB and Linear Regression outperformed TabNet on our validation data. This was surprising to me, as I had high hopes for TabNet. Deep learning with dense networks and 1D CNNs were also tried, but their performance was worse than tabnet, and at some point were cut from the analysis.\n",
    "\n",
    "Taking a batch of model predictions and feeding them into another model usually performed better than just taking the mean of those predictions. This was cool to see in practice."
   ]
  },
  {
   "cell_type": "code",
   "execution_count": 301,
   "id": "86195989",
   "metadata": {
    "scrolled": true
   },
   "outputs": [
    {
     "data": {
      "image/png": "[encoded data removed]",
      "text/plain": [
       "<Figure size 576x288 with 2 Axes>"
      ]
     },
     "metadata": {
      "needs_background": "light"
     },
     "output_type": "display_data"
    }
   ],
   "source": [
    "# Distribution of predictions and true values\n",
    "plot_prediction(y_val, predictions['XGB_metadata_baseline']) # val_meta_pred, val_emb_pred, val_emb_pred, val_top_pred"
   ]
  },
  {
   "cell_type": "markdown",
   "id": "56337b26",
   "metadata": {},
   "source": [
    "## Testing on Holdout Data"
   ]
  },
  {
   "cell_type": "code",
   "execution_count": 421,
   "id": "8d4ba9bc",
   "metadata": {},
   "outputs": [
    {
     "name": "stdout",
     "output_type": "stream",
     "text": [
      "Document Embeddings log RMSE:  0.9107\n",
      "Document Embeddings RMSE:  23.6174\n",
      "Document Embeddings R2:  0.1056\n"
     ]
    }
   ],
   "source": [
    "# NLP Prediction from document embeddings - expected to be the least accurate\n",
    "document_embeddings_test_predictions = XGB4.predict(X_test.filter(regex='_EMB')) # Prediction\n",
    "\n",
    "doc_emb_log_rmse = round(np.sqrt(MSE(y_test, document_embeddings_test_predictions)), 4)\n",
    "doc_emb_rmse = round(np.sqrt(MSE((np.exp(y_test) - 1), np.exp(document_embeddings_test_predictions) - 1)), 4)\n",
    "doc_emb_r2 = round(pd.DataFrame(document_embeddings_test_predictions).join(y_test.reset_index(drop=True)).corr()['retweets'][0]**2, 4)\n",
    "\n",
    "print('Document Embeddings log RMSE: ', doc_emb_log_rmse) # RMSE\n",
    "print('Document Embeddings RMSE: ', doc_emb_rmse)\n",
    "print('Document Embeddings R2: ', doc_emb_r2)"
   ]
  },
  {
   "cell_type": "code",
   "execution_count": 422,
   "id": "a10b654f",
   "metadata": {},
   "outputs": [
    {
     "name": "stdout",
     "output_type": "stream",
     "text": [
      "Final Ensemble log RMSE :  0.871\n",
      "Final Ensemble RMSE:  23.3141\n",
      "Final ensemble R2:  0.2605\n"
     ]
    }
   ],
   "source": [
    "# Our ensemble prediction - Possibly more robust\n",
    "final_preds = pd.DataFrame(XGB_meta.predict(X_test[['followers', 'lists']])).rename({0:'meta'}, axis=1)\n",
    "final_preds = final_preds.join(pd.DataFrame(XGB_bow.predict(X_test.filter(regex='_BOW')))).rename({0:'bow'}, axis=1)\n",
    "final_preds = final_preds.join(pd.DataFrame(XGB_emb.predict(X_test.filter(regex='_EMB')))).rename({0:'emb'}, axis=1)\n",
    "final_preds = final_preds.join(pd.DataFrame(XGB_top.predict(X_test.filter(regex='_TOP')))).rename({0:'top'}, axis=1)\n",
    "\n",
    "final_ensemble = final_preds.mean(axis=1) # Taking the mean\n",
    "\n",
    "fin_ens_log_rmse = round(np.sqrt(MSE(y_test, final_ensemble)), 4)\n",
    "fin_ens_rmse = round(np.sqrt(MSE((np.exp(y_test) - 1), np.exp(final_ensemble) - 1)), 4)\n",
    "fin_ens_r2 = round(pd.DataFrame(final_ensemble).join(y_test.reset_index(drop=True)).corr()['retweets'][0]**2, 4)\n",
    "\n",
    "print(\"Final Ensemble log RMSE : \", fin_ens_log_rmse) # RMSE\n",
    "print('Final Ensemble RMSE: ', fin_ens_rmse)\n",
    "print('Final ensemble R2: ', fin_ens_r2)"
   ]
  },
  {
   "cell_type": "code",
   "execution_count": 423,
   "id": "d1b63b36",
   "metadata": {},
   "outputs": [
    {
     "name": "stdout",
     "output_type": "stream",
     "text": [
      "Account Info log RMSE:  0.8239\n",
      "Account Info RMSE:  22.3162\n",
      "Account Info R2:  0.2678\n"
     ]
    }
   ],
   "source": [
    "# Prediction from Account Info - expected to be most accurate\n",
    "metadata_test_predictions = XGB6.predict(X_test[['followers', 'lists']]) # Prediction\n",
    "\n",
    "meta_log_rmse = round(np.sqrt(MSE(y_test, metadata_test_predictions)), 4)\n",
    "meta_rmse = round(np.sqrt(MSE((np.exp(y_test) - 1), np.exp(metadata_test_predictions) - 1)), 4)\n",
    "meta_r2 = round(pd.DataFrame(metadata_test_predictions).join(y_test.reset_index(drop=True)).corr()['retweets'][0]**2, 4)\n",
    "\n",
    "print('Account Info log RMSE: ', meta_log_rmse) # RMSE\n",
    "print('Account Info RMSE: ', meta_rmse)\n",
    "print('Account Info R2: ', meta_r2)"
   ]
  },
  {
   "cell_type": "markdown",
   "id": "a7bc26e2",
   "metadata": {},
   "source": [
    "# Findings\n",
    "Here we can see that our models perform comparably on our holdout data as on our validation data. Our most accurate indicator is still predicting retweet frequency from account information, accounts that have more followers are more likely to get retweeted, and this relationship explains about 28% of the variance on its own.\n",
    "\n",
    "Looking at document embeddings, we can explain roughly another 10-11% of the variance. In practice, ensembling these predictions to build a more accurate model is nontrivial, and neither taking the mean nor feeding ensemble predictions into another layer of machine learning were able to beat account metadata for predictive power."
   ]
  },
  {
   "cell_type": "code",
   "execution_count": 448,
   "id": "de5ae880",
   "metadata": {},
   "outputs": [],
   "source": [
    "# Making some dataframes from top models for graphs\n",
    "model_names = {0:'Document Embeddings', 1:'XGB Ensemble', 2:'MetaData'}\n",
    "log_rmse_tests = pd.DataFrame([doc_emb_log_rmse, fin_ens_log_rmse, meta_log_rmse]).rename(model_names).rename({0:'log_RMSE'}, axis=1)\n",
    "rmse_tests = pd.DataFrame([doc_emb_rmse, fin_ens_rmse, meta_rmse]).rename(model_names).rename({0:'RMSE'}, axis=1)\n",
    "r2_tests = pd.DataFrame([doc_emb_r2, fin_ens_r2, meta_r2]).rename(model_names).rename({0:'R2'}, axis=1)"
   ]
  },
  {
   "cell_type": "code",
   "execution_count": 525,
   "id": "e1a2a087",
   "metadata": {},
   "outputs": [
    {
     "data": {
      "text/plain": [
       "<Figure size 720x576 with 0 Axes>"
      ]
     },
     "metadata": {},
     "output_type": "display_data"
    },
    {
     "data": {
      "image/png": "[encoded data removed]",
      "text/plain": [
       "<Figure size 432x288 with 1 Axes>"
      ]
     },
     "metadata": {
      "needs_background": "light"
     },
     "output_type": "display_data"
    },
    {
     "data": {
      "text/plain": [
       "<Figure size 720x576 with 0 Axes>"
      ]
     },
     "metadata": {},
     "output_type": "display_data"
    },
    {
     "data": {
      "image/png": "[encoded data removed]",
      "text/plain": [
       "<Figure size 432x288 with 1 Axes>"
      ]
     },
     "metadata": {
      "needs_background": "light"
     },
     "output_type": "display_data"
    },
    {
     "data": {
      "text/plain": [
       "<Figure size 720x576 with 0 Axes>"
      ]
     },
     "metadata": {},
     "output_type": "display_data"
    },
    {
     "data": {
      "image/png": "[encoded data removed]",
      "text/plain": [
       "<Figure size 432x288 with 1 Axes>"
      ]
     },
     "metadata": {
      "needs_background": "light"
     },
     "output_type": "display_data"
    }
   ],
   "source": [
    "# Graph of log RMSE\n",
    "plt.figure(figsize=(10, 8))\n",
    "(log_rmse_tests).plot.barh();\n",
    "plt.xlabel('Log RMSE (lower is Better)')\n",
    "plt.ylabel('Models');\n",
    "plt.show()\n",
    "\n",
    "# Graph of RMSE\n",
    "plt.figure(figsize=(10, 8))\n",
    "(rmse_tests).plot.barh()\n",
    "plt.xlabel('RMSE (lower is Better)')\n",
    "plt.ylabel('Models')\n",
    "plt.show()\n",
    "\n",
    "# Graph of r2\n",
    "plt.figure(figsize=(10, 8))\n",
    "(r2_tests).plot.barh()\n",
    "plt.xlabel('R2 (Higher is Better)')\n",
    "plt.ylabel('Models')\n",
    "plt.show()"
   ]
  },
  {
   "cell_type": "markdown",
   "id": "a5bb26f7",
   "metadata": {},
   "source": [
    "# Conclusions\n",
    "Being able to explain 10% of virality based on text alone is still useful, and building that into copywriting, social media management, or communications dashboards would be a useful reference. Communication on the whole is complicated and very high dimensional, but the existence of our relatively simple models consistently describing some amount of information propagation rate provides a useful reference.\n",
    "\n",
    "Virality is a hard thing to predict, partly because, like the stock market, once people find a strategy that consistently works, it influences the information landscape and eventually stops working. This evolving information landscape leads to the need for constantly shifting communication strategies. This means any model trained on language will probably decay in accuracy, depending on the rate of cultural change. This has some interesting ramifications, and means you can't just predict what has worked, but also what will work at the time of posting. It doesn't currently seem possible to have a predictive model with anywhere near the level of resolution needed to predict future trends, but it may be an interesting experiment if you have access to enough data.\n",
    "\n",
    "More work was done that was cut from this notebook - All of the deep learning besides tabnet were removed, as well as random forest regression, as in each case they consistently underperformed our other options. For brevity I moved their coding blocks into a scratch-code notebook which I can share upon request.\n",
    "\n",
    "### Next Steps\n",
    "The next steps for predicting virality fall into a few categories:\n",
    "- integrating with users, for example through a dashboard where people can input text to get a virality score\n",
    "- Improving the quality of our predictive models, either through collecting more data or more sophisticated NLP\n",
    "- mapping out our graph of actors and ties and interpreting the predictive power of the network itself\n",
    "- studying the structure of various feeds and interpreting how information is selected and shown\n",
    "- finding the right way to ensemble our current predictive power\n",
    "\n",
    "Areas that are not likely to yield further gains:\n",
    "- machine learning algorithms don't seem likely to see significant improvement on the current data through hyperparameter tuning\n",
    "- Deep learning still seems to struggle with tabular data, and we still need something better than TabNet for this kind of task\n"
   ]
  },
  {
   "cell_type": "markdown",
   "id": "08b5e741",
   "metadata": {},
   "source": [
    "# The End :)\n",
    "\n",
    "For more information or contract work, reach out to me at:\n",
    "- blakemcme@gmail.com\n",
    "- github.com/thegrandblooms\n",
    "- linkedin.com/in/blakemcme"
   ]
  }
 ],
 "metadata": {
  "kernelspec": {
   "display_name": "Python (learn-env)",
   "language": "python",
   "name": "learn-env"
  },
  "language_info": {
   "codemirror_mode": {
    "name": "ipython",
    "version": 3
   },
   "file_extension": ".py",
   "mimetype": "text/x-python",
   "name": "python",
   "nbconvert_exporter": "python",
   "pygments_lexer": "ipython3",
   "version": "3.9.7"
  }
 },
 "nbformat": 4,
 "nbformat_minor": 5
}
