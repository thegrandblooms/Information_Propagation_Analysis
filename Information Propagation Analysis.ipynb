{
 "cells": [
  {
   "cell_type": "markdown",
   "id": "84b1d595",
   "metadata": {},
   "source": [
    "# Information Propagation Analysis using Machine Learning\n",
    "Can we use machine learning to better understand the propagation of information? Like ecosystems, information also reproduces, has niches, and is subject to selection pressures. When a piece of information on average propagates to more than one person, it tends to spread exponentially, or \"goes viral\". The spread of information is relevant everywhere, but in this analysis we'll focus on scientific communication happening on twitter Machine Learning communities.\n",
    "\n",
    "Two huge factors to consider are the follower count of accounts, and the niche that those accounts are in.\n",
    "\n",
    "A tweet can go viral in one niche but not others. By specifically looking for \"accounts connected to a prominent machine-learning researcher\" we can make the assumption that these will mostly represent a \"machine learning\" niche within the social network.\n",
    "\n",
    "Correcting for follower count can happen in a few different ways - the first process I tried was to predict the ratio of followers to retweets. This would punish large accounts and boost small accounts, and this simple approach turned out to be ineffective for a number of reasons. A better approach would to look at the curve for how account size relates to average retweet frequency, and normalize for account size. Another simpler approach would be to 'bin' accounts to different follower ranges and only compare them to one-another, say 0-500, 500-1000, 1000-1500, etc. \n",
    "\n",
    "Another consideration is that the further back in time you go, the more our \"follower count\" feature loses accuracy."
   ]
  },
  {
   "cell_type": "markdown",
   "id": "534c0709",
   "metadata": {},
   "source": [
    "## Setup"
   ]
  },
  {
   "cell_type": "code",
   "execution_count": 1,
   "id": "061f7bbb",
   "metadata": {},
   "outputs": [],
   "source": [
    "# !pip install -U sentence-transformers\n",
    "# !pip install pytorch\n",
    "# !pip install pytorch-lightning\n",
    "# !pip install typing-extensions --upgrade\n",
    "# !pip install tensorboard\n",
    "# !pip install pytorch-tabnet\n",
    "\n",
    "# Standard Packages\n",
    "import pandas as pd\n",
    "import numpy as np\n",
    "import datetime\n",
    "import seaborn as sns\n",
    "import matplotlib.pyplot as plt\n",
    "%matplotlib inline\n",
    "import warnings\n",
    "warnings.filterwarnings(action='ignore', category=FutureWarning)\n",
    "import os\n",
    "from pathlib import Path\n",
    "\n",
    "# NLP Packages\n",
    "from sentence_transformers import SentenceTransformer\n",
    "from sklearn.metrics.pairwise import cosine_similarity\n",
    "from top2vec import Top2Vec\n",
    "\n",
    "# ML Packages\n",
    "from imblearn.over_sampling import SMOTE, SMOTENC\n",
    "from xgboost import XGBClassifier\n",
    "import xgboost\n",
    "import statsmodels.api as sm\n",
    "import torch\n",
    "from pytorch_tabnet.tab_model import TabNetRegressor\n",
    "\n",
    "\n",
    "from sklearn import metrics, model_selection, svm\n",
    "from sklearn.metrics import accuracy_score, classification_report, confusion_matrix, roc_curve, auc, f1_score\n",
    "from sklearn.metrics import mean_squared_error as MSE\n",
    "from sklearn.model_selection import train_test_split, GridSearchCV, RandomizedSearchCV\n",
    "from sklearn.preprocessing import StandardScaler, LabelBinarizer, LabelEncoder\n",
    "from sklearn.neighbors import KNeighborsClassifier\n",
    "from sklearn.tree import DecisionTreeClassifier\n",
    "from sklearn.linear_model import LinearRegression\n",
    "from sklearn.ensemble import BaggingClassifier, RandomForestRegressor\n",
    "from sklearn.pipeline import Pipeline\n",
    "from sklearn.decomposition import PCA\n",
    "from sklearn.feature_extraction.text import CountVectorizer\n",
    "\n",
    "from keras.utils.np_utils import to_categorical\n",
    "from keras.preprocessing.image import ImageDataGenerator\n",
    "from keras.preprocessing.text import Tokenizer\n",
    "from keras.applications.resnet import preprocess_input\n",
    "from keras import layers, models, regularizers\n",
    "from keras.models import Sequential\n",
    "from keras.layers import Conv2D, Flatten, Dense, MaxPooling2D, Dropout , BatchNormalization\n",
    "from keras.callbacks import EarlyStopping, ModelCheckpoint\n",
    "\n",
    "import tensorflow as tf\n",
    "from tensorflow import keras\n",
    "from tensorflow.keras.layers import SeparableConv2D\n",
    "from tensorflow.keras.layers import SeparableConv1D\n",
    "from tensorflow.keras import optimizers\n",
    "from tensorflow.keras import Model\n",
    "\n",
    "np.random.seed(0)"
   ]
  },
  {
   "cell_type": "code",
   "execution_count": 195,
   "id": "0888434a",
   "metadata": {},
   "outputs": [],
   "source": [
    "### Model Evaluation Functions\n",
    "\n",
    "def plot_history(history):\n",
    "  plt.figure()\n",
    "  plt.xlabel('Epoch')\n",
    "  plt.ylabel('Mean Abs Error [log_retweets]')\n",
    "  plt.plot(history.epoch, np.array(history.history['root_mean_squared_error']), label='Train')\n",
    "  plt.plot(history.epoch, np.array(history.history['val_root_mean_squared_error']), label = 'Val')\n",
    "  plt.legend()\n",
    "  plt.ylim([0,max(history.history['val_root_mean_squared_error'])])\n",
    "\n",
    "def plot_prediction(test_labels, test_predictions):\n",
    "  f = plt.figure(figsize=(8, 4))\n",
    "\n",
    "  f1 = f.add_subplot(1,2,1)\n",
    "  plt.scatter(test_labels, test_predictions)\n",
    "  plt.xlabel('True Values [log_retweets]')\n",
    "  plt.ylabel('Predictions [log_retweets]')\n",
    "  plt.axis('equal')\n",
    "  plt.xlim(plt.xlim())\n",
    "  plt.ylim(plt.ylim())\n",
    "\n",
    "  error = test_predictions - test_labels\n",
    "  f2 = f.add_subplot(1,2,2)\n",
    "  plt.hist(error, bins = 50)\n",
    "  plt.xlabel(\"Prediction Error [log_retweets]\")\n",
    "  plt.ylabel(\"Count\")\n",
    "    \n",
    "  plt.tight_layout()\n",
    "  plt.show()"
   ]
  },
  {
   "cell_type": "markdown",
   "id": "8cea7054",
   "metadata": {},
   "source": [
    "### Loading our data\n",
    "This analysis was done on two separate datasets. For brevity, we'll only cover the first in this notebook, looking at the last 100 tweets with over 1 retweet from the people Andrew Ng is following, and seeing if it's possible to use NLP and machine learning to predict their retweet count.\n",
    "\n",
    "First we will explore a Top2Vec pipeline to mine data from text, and then later we'll explore raw document embeddings from Roberta-Large, and see how these NLP techniques impact our machine-learning results."
   ]
  },
  {
   "cell_type": "code",
   "execution_count": 58,
   "id": "63cb9b1f",
   "metadata": {},
   "outputs": [
    {
     "data": {
      "text/plain": [
       "(63033, 7)"
      ]
     },
     "execution_count": 58,
     "metadata": {},
     "output_type": "execute_result"
    }
   ],
   "source": [
    "df = pd.read_csv('data/combined_data.csv', index_col=0)\n",
    "df.shape"
   ]
  },
  {
   "cell_type": "code",
   "execution_count": 59,
   "id": "9d5ceded",
   "metadata": {},
   "outputs": [
    {
     "data": {
      "text/html": [
       "<div>\n",
       "<style scoped>\n",
       "    .dataframe tbody tr th:only-of-type {\n",
       "        vertical-align: middle;\n",
       "    }\n",
       "\n",
       "    .dataframe tbody tr th {\n",
       "        vertical-align: top;\n",
       "    }\n",
       "\n",
       "    .dataframe thead th {\n",
       "        text-align: right;\n",
       "    }\n",
       "</style>\n",
       "<table border=\"1\" class=\"dataframe\">\n",
       "  <thead>\n",
       "    <tr style=\"text-align: right;\">\n",
       "      <th></th>\n",
       "      <th>creation_time</th>\n",
       "      <th>user</th>\n",
       "      <th>tweet</th>\n",
       "      <th>retweets</th>\n",
       "      <th>favorites</th>\n",
       "      <th>followers</th>\n",
       "      <th>lists</th>\n",
       "    </tr>\n",
       "  </thead>\n",
       "  <tbody>\n",
       "    <tr>\n",
       "      <th>17321</th>\n",
       "      <td>2022-05-20 07:54:54+00:00</td>\n",
       "      <td>Smerity</td>\n",
       "      <td>The key for me was \"Without pretending to pred...</td>\n",
       "      <td>1</td>\n",
       "      <td>7</td>\n",
       "      <td>32666</td>\n",
       "      <td>873</td>\n",
       "    </tr>\n",
       "    <tr>\n",
       "      <th>40190</th>\n",
       "      <td>2021-08-06 19:17:48+00:00</td>\n",
       "      <td>bhorowitz</td>\n",
       "      <td>How does @Nas keep dropping classic albums? I ...</td>\n",
       "      <td>43</td>\n",
       "      <td>200</td>\n",
       "      <td>636473</td>\n",
       "      <td>9117</td>\n",
       "    </tr>\n",
       "    <tr>\n",
       "      <th>42034</th>\n",
       "      <td>2022-05-08 18:12:26+00:00</td>\n",
       "      <td>melissakorn</td>\n",
       "      <td>Motherhood can be beautiful and heartbreaking ...</td>\n",
       "      <td>3</td>\n",
       "      <td>39</td>\n",
       "      <td>18268</td>\n",
       "      <td>606</td>\n",
       "    </tr>\n",
       "    <tr>\n",
       "      <th>30482</th>\n",
       "      <td>2022-09-17 00:20:05+00:00</td>\n",
       "      <td>TensorFlow</td>\n",
       "      <td>📖When incorporating Responsible AI in your ML ...</td>\n",
       "      <td>11</td>\n",
       "      <td>57</td>\n",
       "      <td>341129</td>\n",
       "      <td>4028</td>\n",
       "    </tr>\n",
       "    <tr>\n",
       "      <th>16743</th>\n",
       "      <td>2022-05-07 19:44:52+00:00</td>\n",
       "      <td>iamtrask</td>\n",
       "      <td>If one professor hadn't decided to issue an ov...</td>\n",
       "      <td>15</td>\n",
       "      <td>189</td>\n",
       "      <td>67208</td>\n",
       "      <td>1304</td>\n",
       "    </tr>\n",
       "  </tbody>\n",
       "</table>\n",
       "</div>"
      ],
      "text/plain": [
       "                   creation_time         user  \\\n",
       "17321  2022-05-20 07:54:54+00:00      Smerity   \n",
       "40190  2021-08-06 19:17:48+00:00    bhorowitz   \n",
       "42034  2022-05-08 18:12:26+00:00  melissakorn   \n",
       "30482  2022-09-17 00:20:05+00:00   TensorFlow   \n",
       "16743  2022-05-07 19:44:52+00:00     iamtrask   \n",
       "\n",
       "                                                   tweet  retweets  favorites  \\\n",
       "17321  The key for me was \"Without pretending to pred...         1          7   \n",
       "40190  How does @Nas keep dropping classic albums? I ...        43        200   \n",
       "42034  Motherhood can be beautiful and heartbreaking ...         3         39   \n",
       "30482  📖When incorporating Responsible AI in your ML ...        11         57   \n",
       "16743  If one professor hadn't decided to issue an ov...        15        189   \n",
       "\n",
       "       followers  lists  \n",
       "17321      32666    873  \n",
       "40190     636473   9117  \n",
       "42034      18268    606  \n",
       "30482     341129   4028  \n",
       "16743      67208   1304  "
      ]
     },
     "execution_count": 59,
     "metadata": {},
     "output_type": "execute_result"
    }
   ],
   "source": [
    "df.sample(5)"
   ]
  },
  {
   "cell_type": "code",
   "execution_count": 60,
   "id": "f1bd5ee2",
   "metadata": {},
   "outputs": [
    {
     "data": {
      "text/html": [
       "<div>\n",
       "<style scoped>\n",
       "    .dataframe tbody tr th:only-of-type {\n",
       "        vertical-align: middle;\n",
       "    }\n",
       "\n",
       "    .dataframe tbody tr th {\n",
       "        vertical-align: top;\n",
       "    }\n",
       "\n",
       "    .dataframe thead th {\n",
       "        text-align: right;\n",
       "    }\n",
       "</style>\n",
       "<table border=\"1\" class=\"dataframe\">\n",
       "  <thead>\n",
       "    <tr style=\"text-align: right;\">\n",
       "      <th></th>\n",
       "      <th>retweets</th>\n",
       "      <th>favorites</th>\n",
       "      <th>followers</th>\n",
       "      <th>lists</th>\n",
       "    </tr>\n",
       "  </thead>\n",
       "  <tbody>\n",
       "    <tr>\n",
       "      <th>retweets</th>\n",
       "      <td>1.000000</td>\n",
       "      <td>0.930035</td>\n",
       "      <td>0.341763</td>\n",
       "      <td>0.277502</td>\n",
       "    </tr>\n",
       "    <tr>\n",
       "      <th>favorites</th>\n",
       "      <td>0.930035</td>\n",
       "      <td>1.000000</td>\n",
       "      <td>0.401457</td>\n",
       "      <td>0.324698</td>\n",
       "    </tr>\n",
       "    <tr>\n",
       "      <th>followers</th>\n",
       "      <td>0.341763</td>\n",
       "      <td>0.401457</td>\n",
       "      <td>1.000000</td>\n",
       "      <td>0.901672</td>\n",
       "    </tr>\n",
       "    <tr>\n",
       "      <th>lists</th>\n",
       "      <td>0.277502</td>\n",
       "      <td>0.324698</td>\n",
       "      <td>0.901672</td>\n",
       "      <td>1.000000</td>\n",
       "    </tr>\n",
       "  </tbody>\n",
       "</table>\n",
       "</div>"
      ],
      "text/plain": [
       "           retweets  favorites  followers     lists\n",
       "retweets   1.000000   0.930035   0.341763  0.277502\n",
       "favorites  0.930035   1.000000   0.401457  0.324698\n",
       "followers  0.341763   0.401457   1.000000  0.901672\n",
       "lists      0.277502   0.324698   0.901672  1.000000"
      ]
     },
     "metadata": {},
     "output_type": "display_data"
    },
    {
     "data": {
      "image/png": "[encoded data removed]",
      "text/plain": [
       "<Figure size 432x288 with 1 Axes>"
      ]
     },
     "metadata": {
      "needs_background": "light"
     },
     "output_type": "display_data"
    }
   ],
   "source": [
    "### Interpreting our data:\n",
    "# Correlation Matrix\n",
    "display(df.corr())\n",
    "\n",
    "# scatter plot to show how followers relate to retweets\n",
    "plt.scatter(df['followers'], df['retweets'])\n",
    "plt.xlabel('Followers')\n",
    "plt.ylabel('Retweets')\n",
    "plt.title('Followers vs Retweets')\n",
    "plt.show()"
   ]
  },
  {
   "cell_type": "markdown",
   "id": "e13d87fc",
   "metadata": {},
   "source": [
    "We can see that followers and lists seem to have a high correlation with retweets, but much of this is driven by outliers as we'll see after filtering down our data."
   ]
  },
  {
   "cell_type": "markdown",
   "id": "a2fe2081",
   "metadata": {},
   "source": [
    "# Natural Language Processing\n",
    "To get the most out of our text data, we'll try a multiscale analysis, each layer getting a bit more abstract. First we'll look at words themselves with a traditional Bag Of Words method, then document embeddings using ROBERTA-large, then topics from Top2Vec. Then we analyze and select our features at every layer of abstraction and integrate with metadata into a final predictive model."
   ]
  },
  {
   "cell_type": "markdown",
   "id": "75e4bad0",
   "metadata": {},
   "source": [
    "### Bag of Words\n",
    "The simplest part of our NLP, we will just identify word (or word pairing(bigram)) frequency."
   ]
  },
  {
   "cell_type": "code",
   "execution_count": 102,
   "id": "9c3d3052",
   "metadata": {},
   "outputs": [],
   "source": [
    "# We'll filter down our words to some range of semi-frequent words\n",
    "max_doc_frequency = 0.04\n",
    "min_doc_frequency = 0.004\n",
    "\n",
    "vectorizer = CountVectorizer(lowercase=True, stop_words={'english'}, ngram_range=(1, 2), max_df=max_doc_frequency, min_df=min_doc_frequency)\n",
    "docs = df.tweet.tolist()\n",
    "words = vectorizer.fit_transform(docs)\n",
    "BOW = pd.DataFrame(words.toarray(), columns=vectorizer.get_feature_names())\n",
    "BOW = BOW.add_suffix('_BOW')"
   ]
  },
  {
   "cell_type": "code",
   "execution_count": 103,
   "id": "4468d29e",
   "metadata": {},
   "outputs": [
    {
     "data": {
      "text/plain": [
       "(63033, 940)"
      ]
     },
     "metadata": {},
     "output_type": "display_data"
    },
    {
     "data": {
      "text/html": [
       "<div>\n",
       "<style scoped>\n",
       "    .dataframe tbody tr th:only-of-type {\n",
       "        vertical-align: middle;\n",
       "    }\n",
       "\n",
       "    .dataframe tbody tr th {\n",
       "        vertical-align: top;\n",
       "    }\n",
       "\n",
       "    .dataframe thead th {\n",
       "        text-align: right;\n",
       "    }\n",
       "</style>\n",
       "<table border=\"1\" class=\"dataframe\">\n",
       "  <thead>\n",
       "    <tr style=\"text-align: right;\">\n",
       "      <th></th>\n",
       "      <th>000_BOW</th>\n",
       "      <th>10_BOW</th>\n",
       "      <th>100_BOW</th>\n",
       "      <th>100daysofcode_BOW</th>\n",
       "      <th>11_BOW</th>\n",
       "      <th>12_BOW</th>\n",
       "      <th>15_BOW</th>\n",
       "      <th>19_BOW</th>\n",
       "      <th>20_BOW</th>\n",
       "      <th>2020_BOW</th>\n",
       "      <th>...</th>\n",
       "      <th>you know_BOW</th>\n",
       "      <th>you ll_BOW</th>\n",
       "      <th>you need_BOW</th>\n",
       "      <th>you re_BOW</th>\n",
       "      <th>you to_BOW</th>\n",
       "      <th>you want_BOW</th>\n",
       "      <th>young_BOW</th>\n",
       "      <th>yourself_BOW</th>\n",
       "      <th>youtube_BOW</th>\n",
       "      <th>zero_BOW</th>\n",
       "    </tr>\n",
       "  </thead>\n",
       "  <tbody>\n",
       "    <tr>\n",
       "      <th>33138</th>\n",
       "      <td>0</td>\n",
       "      <td>0</td>\n",
       "      <td>0</td>\n",
       "      <td>0</td>\n",
       "      <td>0</td>\n",
       "      <td>0</td>\n",
       "      <td>0</td>\n",
       "      <td>0</td>\n",
       "      <td>0</td>\n",
       "      <td>0</td>\n",
       "      <td>...</td>\n",
       "      <td>0</td>\n",
       "      <td>0</td>\n",
       "      <td>0</td>\n",
       "      <td>0</td>\n",
       "      <td>0</td>\n",
       "      <td>0</td>\n",
       "      <td>0</td>\n",
       "      <td>0</td>\n",
       "      <td>0</td>\n",
       "      <td>0</td>\n",
       "    </tr>\n",
       "    <tr>\n",
       "      <th>41020</th>\n",
       "      <td>0</td>\n",
       "      <td>0</td>\n",
       "      <td>0</td>\n",
       "      <td>0</td>\n",
       "      <td>0</td>\n",
       "      <td>0</td>\n",
       "      <td>0</td>\n",
       "      <td>0</td>\n",
       "      <td>0</td>\n",
       "      <td>0</td>\n",
       "      <td>...</td>\n",
       "      <td>0</td>\n",
       "      <td>0</td>\n",
       "      <td>0</td>\n",
       "      <td>0</td>\n",
       "      <td>0</td>\n",
       "      <td>0</td>\n",
       "      <td>0</td>\n",
       "      <td>0</td>\n",
       "      <td>0</td>\n",
       "      <td>0</td>\n",
       "    </tr>\n",
       "    <tr>\n",
       "      <th>39542</th>\n",
       "      <td>0</td>\n",
       "      <td>0</td>\n",
       "      <td>0</td>\n",
       "      <td>0</td>\n",
       "      <td>0</td>\n",
       "      <td>0</td>\n",
       "      <td>0</td>\n",
       "      <td>0</td>\n",
       "      <td>0</td>\n",
       "      <td>0</td>\n",
       "      <td>...</td>\n",
       "      <td>0</td>\n",
       "      <td>0</td>\n",
       "      <td>0</td>\n",
       "      <td>0</td>\n",
       "      <td>0</td>\n",
       "      <td>0</td>\n",
       "      <td>1</td>\n",
       "      <td>0</td>\n",
       "      <td>0</td>\n",
       "      <td>0</td>\n",
       "    </tr>\n",
       "  </tbody>\n",
       "</table>\n",
       "<p>3 rows × 940 columns</p>\n",
       "</div>"
      ],
      "text/plain": [
       "       000_BOW  10_BOW  100_BOW  100daysofcode_BOW  11_BOW  12_BOW  15_BOW  \\\n",
       "33138        0       0        0                  0       0       0       0   \n",
       "41020        0       0        0                  0       0       0       0   \n",
       "39542        0       0        0                  0       0       0       0   \n",
       "\n",
       "       19_BOW  20_BOW  2020_BOW  ...  you know_BOW  you ll_BOW  you need_BOW  \\\n",
       "33138       0       0         0  ...             0           0             0   \n",
       "41020       0       0         0  ...             0           0             0   \n",
       "39542       0       0         0  ...             0           0             0   \n",
       "\n",
       "       you re_BOW  you to_BOW  you want_BOW  young_BOW  yourself_BOW  \\\n",
       "33138           0           0             0          0             0   \n",
       "41020           0           0             0          0             0   \n",
       "39542           0           0             0          1             0   \n",
       "\n",
       "       youtube_BOW  zero_BOW  \n",
       "33138            0         0  \n",
       "41020            0         0  \n",
       "39542            0         0  \n",
       "\n",
       "[3 rows x 940 columns]"
      ]
     },
     "execution_count": 103,
     "metadata": {},
     "output_type": "execute_result"
    }
   ],
   "source": [
    "display(BOW.shape)\n",
    "BOW.sample(3)"
   ]
  },
  {
   "cell_type": "markdown",
   "id": "8203f83c",
   "metadata": {},
   "source": [
    "### Document Embeddings\n",
    "Check out the other notebook for the document embedding pipeline! We'll just be loading the data here."
   ]
  },
  {
   "cell_type": "code",
   "execution_count": 63,
   "id": "7f481f29",
   "metadata": {},
   "outputs": [],
   "source": [
    "### Loading our embeddings\n",
    "emb = pd.read_csv('data/combined_document_embeddings.csv', index_col=0)\n",
    "emb = emb.add_suffix('_EMB')"
   ]
  },
  {
   "cell_type": "code",
   "execution_count": 64,
   "id": "89201bf1",
   "metadata": {},
   "outputs": [
    {
     "data": {
      "text/plain": [
       "(63033, 1024)"
      ]
     },
     "metadata": {},
     "output_type": "display_data"
    },
    {
     "data": {
      "text/html": [
       "<div>\n",
       "<style scoped>\n",
       "    .dataframe tbody tr th:only-of-type {\n",
       "        vertical-align: middle;\n",
       "    }\n",
       "\n",
       "    .dataframe tbody tr th {\n",
       "        vertical-align: top;\n",
       "    }\n",
       "\n",
       "    .dataframe thead th {\n",
       "        text-align: right;\n",
       "    }\n",
       "</style>\n",
       "<table border=\"1\" class=\"dataframe\">\n",
       "  <thead>\n",
       "    <tr style=\"text-align: right;\">\n",
       "      <th></th>\n",
       "      <th>0_EMB</th>\n",
       "      <th>1_EMB</th>\n",
       "      <th>2_EMB</th>\n",
       "      <th>3_EMB</th>\n",
       "      <th>4_EMB</th>\n",
       "      <th>5_EMB</th>\n",
       "      <th>6_EMB</th>\n",
       "      <th>7_EMB</th>\n",
       "      <th>8_EMB</th>\n",
       "      <th>9_EMB</th>\n",
       "      <th>...</th>\n",
       "      <th>1014_EMB</th>\n",
       "      <th>1015_EMB</th>\n",
       "      <th>1016_EMB</th>\n",
       "      <th>1017_EMB</th>\n",
       "      <th>1018_EMB</th>\n",
       "      <th>1019_EMB</th>\n",
       "      <th>1020_EMB</th>\n",
       "      <th>1021_EMB</th>\n",
       "      <th>1022_EMB</th>\n",
       "      <th>1023_EMB</th>\n",
       "    </tr>\n",
       "  </thead>\n",
       "  <tbody>\n",
       "    <tr>\n",
       "      <th>44173</th>\n",
       "      <td>-0.031071</td>\n",
       "      <td>-0.045788</td>\n",
       "      <td>0.003398</td>\n",
       "      <td>-0.013222</td>\n",
       "      <td>0.019588</td>\n",
       "      <td>-0.031589</td>\n",
       "      <td>-0.043653</td>\n",
       "      <td>-0.013059</td>\n",
       "      <td>-0.001697</td>\n",
       "      <td>-0.054971</td>\n",
       "      <td>...</td>\n",
       "      <td>0.005818</td>\n",
       "      <td>0.017261</td>\n",
       "      <td>0.021145</td>\n",
       "      <td>0.037045</td>\n",
       "      <td>-0.065276</td>\n",
       "      <td>-0.023296</td>\n",
       "      <td>0.023763</td>\n",
       "      <td>0.041899</td>\n",
       "      <td>-0.011696</td>\n",
       "      <td>-0.024266</td>\n",
       "    </tr>\n",
       "    <tr>\n",
       "      <th>1404</th>\n",
       "      <td>-0.001090</td>\n",
       "      <td>-0.006708</td>\n",
       "      <td>-0.007952</td>\n",
       "      <td>0.022474</td>\n",
       "      <td>-0.079510</td>\n",
       "      <td>0.013223</td>\n",
       "      <td>-0.000516</td>\n",
       "      <td>-0.039681</td>\n",
       "      <td>0.024145</td>\n",
       "      <td>0.017258</td>\n",
       "      <td>...</td>\n",
       "      <td>-0.027698</td>\n",
       "      <td>-0.009032</td>\n",
       "      <td>-0.040108</td>\n",
       "      <td>-0.025451</td>\n",
       "      <td>-0.029952</td>\n",
       "      <td>0.001002</td>\n",
       "      <td>-0.004326</td>\n",
       "      <td>0.028843</td>\n",
       "      <td>0.010973</td>\n",
       "      <td>0.012300</td>\n",
       "    </tr>\n",
       "    <tr>\n",
       "      <th>60000</th>\n",
       "      <td>0.016343</td>\n",
       "      <td>0.006711</td>\n",
       "      <td>-0.040879</td>\n",
       "      <td>0.019481</td>\n",
       "      <td>-0.039547</td>\n",
       "      <td>-0.046462</td>\n",
       "      <td>-0.004161</td>\n",
       "      <td>0.097614</td>\n",
       "      <td>0.001780</td>\n",
       "      <td>0.016255</td>\n",
       "      <td>...</td>\n",
       "      <td>0.013266</td>\n",
       "      <td>-0.012287</td>\n",
       "      <td>0.032432</td>\n",
       "      <td>0.038115</td>\n",
       "      <td>0.014463</td>\n",
       "      <td>-0.002267</td>\n",
       "      <td>0.008946</td>\n",
       "      <td>0.025390</td>\n",
       "      <td>-0.026402</td>\n",
       "      <td>0.015943</td>\n",
       "    </tr>\n",
       "  </tbody>\n",
       "</table>\n",
       "<p>3 rows × 1024 columns</p>\n",
       "</div>"
      ],
      "text/plain": [
       "          0_EMB     1_EMB     2_EMB     3_EMB     4_EMB     5_EMB     6_EMB  \\\n",
       "44173 -0.031071 -0.045788  0.003398 -0.013222  0.019588 -0.031589 -0.043653   \n",
       "1404  -0.001090 -0.006708 -0.007952  0.022474 -0.079510  0.013223 -0.000516   \n",
       "60000  0.016343  0.006711 -0.040879  0.019481 -0.039547 -0.046462 -0.004161   \n",
       "\n",
       "          7_EMB     8_EMB     9_EMB  ...  1014_EMB  1015_EMB  1016_EMB  \\\n",
       "44173 -0.013059 -0.001697 -0.054971  ...  0.005818  0.017261  0.021145   \n",
       "1404  -0.039681  0.024145  0.017258  ... -0.027698 -0.009032 -0.040108   \n",
       "60000  0.097614  0.001780  0.016255  ...  0.013266 -0.012287  0.032432   \n",
       "\n",
       "       1017_EMB  1018_EMB  1019_EMB  1020_EMB  1021_EMB  1022_EMB  1023_EMB  \n",
       "44173  0.037045 -0.065276 -0.023296  0.023763  0.041899 -0.011696 -0.024266  \n",
       "1404  -0.025451 -0.029952  0.001002 -0.004326  0.028843  0.010973  0.012300  \n",
       "60000  0.038115  0.014463 -0.002267  0.008946  0.025390 -0.026402  0.015943  \n",
       "\n",
       "[3 rows x 1024 columns]"
      ]
     },
     "execution_count": 64,
     "metadata": {},
     "output_type": "execute_result"
    }
   ],
   "source": [
    "display(emb.shape)\n",
    "emb.sample(3)"
   ]
  },
  {
   "cell_type": "markdown",
   "id": "5952c13a",
   "metadata": {},
   "source": [
    "### Top2Vec\n",
    "Same thing here, check out the notebook \"Top2Vec_Data_Processing\" for the pipeline."
   ]
  },
  {
   "cell_type": "code",
   "execution_count": 169,
   "id": "d9bb0ad4",
   "metadata": {},
   "outputs": [],
   "source": [
    "# Import topics\n",
    "top = pd.read_csv('data/topics.csv', index_col=0)\n",
    "top = pd.get_dummies(top['topic']).add_suffix('_TOP') # getting dummy columns"
   ]
  },
  {
   "cell_type": "code",
   "execution_count": 170,
   "id": "5803ede8",
   "metadata": {
    "scrolled": false
   },
   "outputs": [
    {
     "data": {
      "text/plain": [
       "(63033, 448)"
      ]
     },
     "metadata": {},
     "output_type": "display_data"
    },
    {
     "data": {
      "text/html": [
       "<div>\n",
       "<style scoped>\n",
       "    .dataframe tbody tr th:only-of-type {\n",
       "        vertical-align: middle;\n",
       "    }\n",
       "\n",
       "    .dataframe tbody tr th {\n",
       "        vertical-align: top;\n",
       "    }\n",
       "\n",
       "    .dataframe thead th {\n",
       "        text-align: right;\n",
       "    }\n",
       "</style>\n",
       "<table border=\"1\" class=\"dataframe\">\n",
       "  <thead>\n",
       "    <tr style=\"text-align: right;\">\n",
       "      <th></th>\n",
       "      <th>0_TOP</th>\n",
       "      <th>1_TOP</th>\n",
       "      <th>2_TOP</th>\n",
       "      <th>3_TOP</th>\n",
       "      <th>4_TOP</th>\n",
       "      <th>5_TOP</th>\n",
       "      <th>6_TOP</th>\n",
       "      <th>7_TOP</th>\n",
       "      <th>8_TOP</th>\n",
       "      <th>9_TOP</th>\n",
       "      <th>...</th>\n",
       "      <th>438_TOP</th>\n",
       "      <th>439_TOP</th>\n",
       "      <th>440_TOP</th>\n",
       "      <th>441_TOP</th>\n",
       "      <th>442_TOP</th>\n",
       "      <th>443_TOP</th>\n",
       "      <th>444_TOP</th>\n",
       "      <th>445_TOP</th>\n",
       "      <th>446_TOP</th>\n",
       "      <th>447_TOP</th>\n",
       "    </tr>\n",
       "  </thead>\n",
       "  <tbody>\n",
       "    <tr>\n",
       "      <th>58505</th>\n",
       "      <td>0</td>\n",
       "      <td>0</td>\n",
       "      <td>0</td>\n",
       "      <td>0</td>\n",
       "      <td>0</td>\n",
       "      <td>0</td>\n",
       "      <td>0</td>\n",
       "      <td>0</td>\n",
       "      <td>0</td>\n",
       "      <td>0</td>\n",
       "      <td>...</td>\n",
       "      <td>0</td>\n",
       "      <td>0</td>\n",
       "      <td>0</td>\n",
       "      <td>0</td>\n",
       "      <td>0</td>\n",
       "      <td>0</td>\n",
       "      <td>0</td>\n",
       "      <td>0</td>\n",
       "      <td>0</td>\n",
       "      <td>0</td>\n",
       "    </tr>\n",
       "    <tr>\n",
       "      <th>35081</th>\n",
       "      <td>0</td>\n",
       "      <td>0</td>\n",
       "      <td>0</td>\n",
       "      <td>0</td>\n",
       "      <td>0</td>\n",
       "      <td>0</td>\n",
       "      <td>0</td>\n",
       "      <td>0</td>\n",
       "      <td>0</td>\n",
       "      <td>0</td>\n",
       "      <td>...</td>\n",
       "      <td>0</td>\n",
       "      <td>0</td>\n",
       "      <td>0</td>\n",
       "      <td>0</td>\n",
       "      <td>0</td>\n",
       "      <td>0</td>\n",
       "      <td>0</td>\n",
       "      <td>0</td>\n",
       "      <td>0</td>\n",
       "      <td>0</td>\n",
       "    </tr>\n",
       "    <tr>\n",
       "      <th>12227</th>\n",
       "      <td>0</td>\n",
       "      <td>0</td>\n",
       "      <td>0</td>\n",
       "      <td>0</td>\n",
       "      <td>0</td>\n",
       "      <td>0</td>\n",
       "      <td>0</td>\n",
       "      <td>0</td>\n",
       "      <td>0</td>\n",
       "      <td>0</td>\n",
       "      <td>...</td>\n",
       "      <td>0</td>\n",
       "      <td>0</td>\n",
       "      <td>0</td>\n",
       "      <td>0</td>\n",
       "      <td>0</td>\n",
       "      <td>0</td>\n",
       "      <td>0</td>\n",
       "      <td>0</td>\n",
       "      <td>0</td>\n",
       "      <td>0</td>\n",
       "    </tr>\n",
       "  </tbody>\n",
       "</table>\n",
       "<p>3 rows × 448 columns</p>\n",
       "</div>"
      ],
      "text/plain": [
       "       0_TOP  1_TOP  2_TOP  3_TOP  4_TOP  5_TOP  6_TOP  7_TOP  8_TOP  9_TOP  \\\n",
       "58505      0      0      0      0      0      0      0      0      0      0   \n",
       "35081      0      0      0      0      0      0      0      0      0      0   \n",
       "12227      0      0      0      0      0      0      0      0      0      0   \n",
       "\n",
       "       ...  438_TOP  439_TOP  440_TOP  441_TOP  442_TOP  443_TOP  444_TOP  \\\n",
       "58505  ...        0        0        0        0        0        0        0   \n",
       "35081  ...        0        0        0        0        0        0        0   \n",
       "12227  ...        0        0        0        0        0        0        0   \n",
       "\n",
       "       445_TOP  446_TOP  447_TOP  \n",
       "58505        0        0        0  \n",
       "35081        0        0        0  \n",
       "12227        0        0        0  \n",
       "\n",
       "[3 rows x 448 columns]"
      ]
     },
     "execution_count": 170,
     "metadata": {},
     "output_type": "execute_result"
    }
   ],
   "source": [
    "display(top.shape)\n",
    "top.sample(3)"
   ]
  },
  {
   "cell_type": "markdown",
   "id": "7853007d",
   "metadata": {},
   "source": [
    "Our data should be all ready now! We have four different datasets, 'df' contains our metadata and target, 'BOW' contains our bag-of-word data, 'emb' contains our document embeddings from ROBERTA, and 'top' contains our topic vectorization."
   ]
  },
  {
   "cell_type": "markdown",
   "id": "33a93177",
   "metadata": {},
   "source": [
    "---\n",
    "### Combining all data and filtering outliers"
   ]
  },
  {
   "cell_type": "code",
   "execution_count": 210,
   "id": "46d2ea0a",
   "metadata": {},
   "outputs": [
    {
     "data": {
      "text/plain": [
       "(63033, 943)"
      ]
     },
     "metadata": {},
     "output_type": "display_data"
    },
    {
     "data": {
      "text/plain": [
       "(63033, 1967)"
      ]
     },
     "metadata": {},
     "output_type": "display_data"
    },
    {
     "data": {
      "text/plain": [
       "(63033, 2415)"
      ]
     },
     "metadata": {},
     "output_type": "display_data"
    },
    {
     "name": "stderr",
     "output_type": "stream",
     "text": [
      "C:\\Users\\8D\\AppData\\Local\\Temp/ipykernel_31380/130863504.py:17: UserWarning: Boolean Series key will be reindexed to match DataFrame index.\n",
      "  total_df = total_df[df['retweets'] <= 1000]\n"
     ]
    },
    {
     "data": {
      "text/plain": [
       "(28914, 2415)"
      ]
     },
     "metadata": {},
     "output_type": "display_data"
    }
   ],
   "source": [
    "# Joining BOW data\n",
    "total_df = df.drop(['creation_time', 'user', 'tweet', 'favorites'], axis=1).join(BOW)\n",
    "display(total_df.shape)\n",
    "\n",
    "# joining document embeddings\n",
    "total_df = total_df.join(emb)\n",
    "display(total_df.shape)\n",
    "\n",
    "# joining topics\n",
    "total_df = total_df.join(top)\n",
    "display(total_df.shape)\n",
    "\n",
    "# Removing outliers\n",
    "total_df = total_df.loc[total_df['followers'] <= 50000]\n",
    "total_df = total_df.loc[total_df['followers'] >= 1000]\n",
    "total_df = total_df.dropna(axis=1)\n",
    "total_df = total_df[df['retweets'] <= 1000]\n",
    "# total_df['retweets'] = np.log1p(total_df['retweets']) # Log Transform of y (target)\n",
    "display(total_df.shape)"
   ]
  },
  {
   "cell_type": "markdown",
   "id": "69b26ea1",
   "metadata": {},
   "source": [
    "### Linear Regression Baseline on Combined Data"
   ]
  },
  {
   "cell_type": "code",
   "execution_count": 211,
   "id": "d06d7fa5",
   "metadata": {},
   "outputs": [
    {
     "name": "stdout",
     "output_type": "stream",
     "text": [
      "LR RMSE :  24.421417\n"
     ]
    }
   ],
   "source": [
    "X = total_df.drop(['retweets'], axis=1)\n",
    "y = total_df['retweets']\n",
    "X_train, X_test, y_train, y_test = train_test_split(X, y, random_state=42)\n",
    "\n",
    "# Linear Regression\n",
    "linreg = LinearRegression().fit(X_train, y_train)\n",
    "meta_pred = linreg.predict(X_test); linreg_rmse = np.sqrt(MSE(y_test, meta_pred)); print(\"LR RMSE : % f\" %(linreg_rmse))"
   ]
  },
  {
   "cell_type": "markdown",
   "id": "096d0dec",
   "metadata": {},
   "source": [
    "### XGBoost Baseline on Combined Data"
   ]
  },
  {
   "cell_type": "code",
   "execution_count": 202,
   "id": "aeb97b3c",
   "metadata": {},
   "outputs": [
    {
     "name": "stdout",
     "output_type": "stream",
     "text": [
      "[0]\tvalidation_0-rmse:23.93613\n",
      "[1]\tvalidation_0-rmse:23.55464\n",
      "[2]\tvalidation_0-rmse:23.80824\n",
      "[3]\tvalidation_0-rmse:23.87297\n",
      "[4]\tvalidation_0-rmse:23.98737\n",
      "[5]\tvalidation_0-rmse:24.15281\n",
      "[6]\tvalidation_0-rmse:24.15926\n",
      "[7]\tvalidation_0-rmse:24.17770\n",
      "[8]\tvalidation_0-rmse:24.25719\n",
      "[9]\tvalidation_0-rmse:24.34170\n",
      "[10]\tvalidation_0-rmse:24.39722\n",
      "Training took a total of 0:00:10.395104\n",
      "{}\n"
     ]
    }
   ],
   "source": [
    "start = datetime.datetime.now()\n",
    "\n",
    "progress = dict()\n",
    "eval_set = [(X_test, y_test)]\n",
    "eval_metric = [\"rmse\"]\n",
    "\n",
    "XGB = xgboost.XGBRegressor(early_stopping_rounds=10) # , early_stopping_rounds=1\n",
    "XGBhist = XGB.fit(X_train, y_train, eval_metric=eval_metric, eval_set=eval_set)\n",
    "\n",
    "end = datetime.datetime.now(); elapsed = end-start\n",
    "print('Training took a total of {}'.format(elapsed))\n",
    "print(progress)"
   ]
  },
  {
   "cell_type": "markdown",
   "id": "8452ce71",
   "metadata": {},
   "source": [
    "Here we can see our XGBoost baseline is actually getting worse on our combined data. With this much data, we are definitely overfitting."
   ]
  },
  {
   "cell_type": "code",
   "execution_count": 207,
   "id": "c5df3918",
   "metadata": {},
   "outputs": [
    {
     "data": {
      "image/png": "[encoded data removed]",
      "text/plain": [
       "<Figure size 576x288 with 2 Axes>"
      ]
     },
     "metadata": {
      "needs_background": "light"
     },
     "output_type": "display_data"
    }
   ],
   "source": [
    "test_predictions = XGB.predict(X_test).flatten()\n",
    "plot_prediction(y_test, test_predictions)"
   ]
  },
  {
   "cell_type": "markdown",
   "id": "e77cf29d",
   "metadata": {},
   "source": [
    "# Baselines for split Data\n",
    "One thing we can try is an ensemble model, where we perform machine learning on each of our Natural Language Processing datasets (as well as metadata) and combine them. Let's try a Linear Regression baseline for each dataset considered separately."
   ]
  },
  {
   "cell_type": "code",
   "execution_count": 163,
   "id": "3cb76c03",
   "metadata": {},
   "outputs": [],
   "source": [
    "# Data Preparation - filtering outliers for high/low follower count, and extremely high retweet count\n",
    "filtered_df = df.loc[df['followers'] <= 50000].dropna(axis=1)\n",
    "filtered_df = filtered_df.loc[filtered_df['followers'] >= 1000]\n",
    "filtered_df = filtered_df[filtered_df['retweets'] <= 1000]\n",
    "# filtered_df['retweets'] = np.log1p(filtered_df['retweets']) # Log Transform of y (target)"
   ]
  },
  {
   "cell_type": "markdown",
   "id": "d25ee1e9",
   "metadata": {},
   "source": [
    "### Metadata Baseline"
   ]
  },
  {
   "cell_type": "code",
   "execution_count": 164,
   "id": "8495f6cc",
   "metadata": {},
   "outputs": [
    {
     "name": "stdout",
     "output_type": "stream",
     "text": [
      "LR RMSE :  23.154065\n"
     ]
    }
   ],
   "source": [
    "# Data Preparation\n",
    "X = filtered_df[['followers', 'lists']]\n",
    "y = filtered_df['retweets']\n",
    "X_train, X_test, y_train, y_test = train_test_split(X, y, random_state=42)\n",
    "\n",
    "# Linear Regression\n",
    "linreg = LinearRegression().fit(X_train, y_train)\n",
    "meta_pred = linreg.predict(X_test); linreg_rmse = np.sqrt(MSE(y_test, meta_pred)); print(\"LR RMSE : % f\" %(linreg_rmse))"
   ]
  },
  {
   "cell_type": "markdown",
   "id": "080864da",
   "metadata": {},
   "source": [
    "### Bag Of Words Baseline"
   ]
  },
  {
   "cell_type": "code",
   "execution_count": 165,
   "id": "750f812f",
   "metadata": {},
   "outputs": [
    {
     "name": "stdout",
     "output_type": "stream",
     "text": [
      "LR RMSE :  23.480091\n"
     ]
    }
   ],
   "source": [
    "# Filtering Data\n",
    "bow_filtered = filtered_df[['retweets']].join(BOW)\n",
    "\n",
    "# Data Preparation\n",
    "X = bow_filtered.drop(['retweets'], axis=1)\n",
    "y = bow_filtered['retweets']\n",
    "X_train, X_test, y_train, y_test = train_test_split(X, y, random_state=42)\n",
    "\n",
    "# Linear Regression\n",
    "linreg = LinearRegression().fit(X_train, y_train)\n",
    "bow_pred = linreg.predict(X_test); linreg_rmse = np.sqrt(MSE(y_test, bow_pred)); print(\"LR RMSE : % f\" %(linreg_rmse))"
   ]
  },
  {
   "cell_type": "markdown",
   "id": "45eb1b10",
   "metadata": {},
   "source": [
    "### Document Embeddings Baseline"
   ]
  },
  {
   "cell_type": "code",
   "execution_count": 166,
   "id": "6adaff3c",
   "metadata": {},
   "outputs": [
    {
     "name": "stdout",
     "output_type": "stream",
     "text": [
      "LR RMSE :  23.918626\n"
     ]
    }
   ],
   "source": [
    "# Filtering Data\n",
    "emb_filtered = filtered_df[['retweets']].join(emb)\n",
    "\n",
    "# Data Preparation\n",
    "X = emb_filtered.drop(['retweets'], axis=1)\n",
    "y = emb_filtered['retweets']\n",
    "X_train, X_test, y_train, y_test = train_test_split(X, y, random_state=42)\n",
    "\n",
    "# Linear Regression\n",
    "linreg = LinearRegression().fit(X_train, y_train)\n",
    "emb_pred = linreg.predict(X_test); linreg_rmse = np.sqrt(MSE(y_test, emb_pred)); print(\"LR RMSE : % f\" %(linreg_rmse))"
   ]
  },
  {
   "cell_type": "markdown",
   "id": "d6210edb",
   "metadata": {},
   "source": [
    "### Topic Vectorization Baseline"
   ]
  },
  {
   "cell_type": "code",
   "execution_count": 167,
   "id": "e7515f99",
   "metadata": {
    "scrolled": true
   },
   "outputs": [
    {
     "name": "stdout",
     "output_type": "stream",
     "text": [
      "LR RMSE :  23.050944\n"
     ]
    }
   ],
   "source": [
    "# Filtering Data\n",
    "top_filtered = filtered_df[['retweets']].join(top)\n",
    "\n",
    "# Data Preparation\n",
    "X = top_filtered.drop(['retweets'], axis=1)\n",
    "y = top_filtered['retweets']\n",
    "X_train, X_test, y_train, y_test = train_test_split(X, y, random_state=42)\n",
    "\n",
    "# Linear Regression\n",
    "linreg = LinearRegression().fit(X_train, y_train)\n",
    "top_pred = linreg.predict(X_test); linreg_rmse = np.sqrt(MSE(y_test, top_pred)); print(\"LR RMSE : % f\" %(linreg_rmse))"
   ]
  },
  {
   "cell_type": "markdown",
   "id": "3b12bf59",
   "metadata": {},
   "source": [
    "We can see that every one of these split models outperform both of our combined model baselines. What if we create an ensemble from our predictions?"
   ]
  },
  {
   "cell_type": "markdown",
   "id": "84394e4a",
   "metadata": {},
   "source": [
    "### Ensemble Baseline"
   ]
  },
  {
   "cell_type": "code",
   "execution_count": 168,
   "id": "20b63186",
   "metadata": {},
   "outputs": [
    {
     "name": "stdout",
     "output_type": "stream",
     "text": [
      "LR RMSE :  22.423325\n"
     ]
    }
   ],
   "source": [
    "ensemble = pd.DataFrame([meta_pred, bow_pred, emb_pred, top_pred]).transpose().mean(axis=1)\n",
    "ensemble_rmse = np.sqrt(MSE(y_test, ensemble)); print(\"LR RMSE : % f\" %(ensemble_rmse))"
   ]
  },
  {
   "cell_type": "markdown",
   "id": "68bad85d",
   "metadata": {},
   "source": [
    "A RMSE of 22.42 beats each of our models individually. Again, that's a considerable improvement! This means that on average, our model predicts the retweet count to within 22.4 retweets. What if we tried this ensemble technique with a better performing machine learning algorithm?"
   ]
  },
  {
   "cell_type": "markdown",
   "id": "9f81dd10",
   "metadata": {},
   "source": [
    "## XGBoost Ensemble"
   ]
  },
  {
   "cell_type": "markdown",
   "id": "0d415db2",
   "metadata": {},
   "source": [
    "### Metadata XGBoost"
   ]
  },
  {
   "cell_type": "code",
   "execution_count": 218,
   "id": "5d9b04a6",
   "metadata": {},
   "outputs": [
    {
     "name": "stdout",
     "output_type": "stream",
     "text": [
      "[0]\tvalidation_0-rmse:23.26245\n",
      "[1]\tvalidation_0-rmse:22.53909\n",
      "[2]\tvalidation_0-rmse:22.25665\n",
      "[3]\tvalidation_0-rmse:22.15203\n",
      "[4]\tvalidation_0-rmse:22.01560\n",
      "[5]\tvalidation_0-rmse:21.96984\n",
      "[6]\tvalidation_0-rmse:21.97678\n",
      "[7]\tvalidation_0-rmse:21.97478\n",
      "[8]\tvalidation_0-rmse:21.94790\n",
      "[9]\tvalidation_0-rmse:21.94762\n",
      "[10]\tvalidation_0-rmse:21.94504\n",
      "[11]\tvalidation_0-rmse:21.93984\n",
      "[12]\tvalidation_0-rmse:21.91395\n",
      "[13]\tvalidation_0-rmse:21.93312\n",
      "[14]\tvalidation_0-rmse:21.92050\n",
      "[15]\tvalidation_0-rmse:21.91806\n",
      "[16]\tvalidation_0-rmse:21.91518\n",
      "[17]\tvalidation_0-rmse:21.90769\n",
      "[18]\tvalidation_0-rmse:21.90264\n",
      "[19]\tvalidation_0-rmse:21.88974\n",
      "[20]\tvalidation_0-rmse:21.88780\n",
      "[21]\tvalidation_0-rmse:21.88503\n",
      "[22]\tvalidation_0-rmse:21.88559\n",
      "[23]\tvalidation_0-rmse:21.88191\n",
      "[24]\tvalidation_0-rmse:21.87945\n",
      "[25]\tvalidation_0-rmse:21.88131\n",
      "[26]\tvalidation_0-rmse:21.87360\n",
      "[27]\tvalidation_0-rmse:21.87497\n",
      "[28]\tvalidation_0-rmse:21.86956\n",
      "[29]\tvalidation_0-rmse:21.87210\n",
      "[30]\tvalidation_0-rmse:21.87137\n",
      "[31]\tvalidation_0-rmse:21.86897\n",
      "[32]\tvalidation_0-rmse:21.86692\n",
      "[33]\tvalidation_0-rmse:21.86822\n",
      "[34]\tvalidation_0-rmse:21.87051\n",
      "[35]\tvalidation_0-rmse:21.86960\n",
      "[36]\tvalidation_0-rmse:21.86926\n",
      "[37]\tvalidation_0-rmse:21.87044\n",
      "[38]\tvalidation_0-rmse:21.87215\n"
     ]
    },
    {
     "name": "stderr",
     "output_type": "stream",
     "text": [
      "C:\\Users\\8D\\anaconda3\\lib\\site-packages\\xgboost\\sklearn.py:793: UserWarning: `eval_metric` in `fit` method is deprecated for better compatibility with scikit-learn, use `eval_metric` in constructor or`set_params` instead.\n",
      "  warnings.warn(\n"
     ]
    },
    {
     "name": "stdout",
     "output_type": "stream",
     "text": [
      "[39]\tvalidation_0-rmse:21.87087\n",
      "[40]\tvalidation_0-rmse:21.86607\n",
      "[41]\tvalidation_0-rmse:21.86566\n",
      "[42]\tvalidation_0-rmse:21.86727\n",
      "[43]\tvalidation_0-rmse:21.86914\n",
      "[44]\tvalidation_0-rmse:21.86659\n",
      "[45]\tvalidation_0-rmse:21.86348\n",
      "[46]\tvalidation_0-rmse:21.86614\n",
      "[47]\tvalidation_0-rmse:21.86566\n",
      "[48]\tvalidation_0-rmse:21.86711\n",
      "[49]\tvalidation_0-rmse:21.86698\n",
      "[50]\tvalidation_0-rmse:21.86879\n",
      "[51]\tvalidation_0-rmse:21.86918\n",
      "[52]\tvalidation_0-rmse:21.86962\n",
      "[53]\tvalidation_0-rmse:21.87043\n",
      "[54]\tvalidation_0-rmse:21.87088\n",
      "[55]\tvalidation_0-rmse:21.87058\n",
      "[56]\tvalidation_0-rmse:21.87199\n",
      "[57]\tvalidation_0-rmse:21.87407\n",
      "[58]\tvalidation_0-rmse:21.87367\n",
      "[59]\tvalidation_0-rmse:21.87329\n",
      "[60]\tvalidation_0-rmse:21.87308\n",
      "[61]\tvalidation_0-rmse:21.87339\n",
      "[62]\tvalidation_0-rmse:21.87339\n",
      "[63]\tvalidation_0-rmse:21.87474\n",
      "[64]\tvalidation_0-rmse:21.87497\n",
      "[65]\tvalidation_0-rmse:21.87597\n",
      "Training took a total of 0:00:00.296999\n",
      "RMSE :  21.863483\n"
     ]
    }
   ],
   "source": [
    "# Data Preparation\n",
    "X = filtered_df[['followers', 'lists']]\n",
    "y = filtered_df['retweets']\n",
    "X_train, X_test, y_train, y_test = train_test_split(X, y, random_state=42)\n",
    "\n",
    "# XGBoost model\n",
    "start = datetime.datetime.now(); progress = dict()\n",
    "eval_set = [(X_test, y_test)]; val_metric = [\"rmse\"]\n",
    "XGB = xgboost.XGBRegressor(objective='reg:squarederror', early_stopping_rounds=20)\n",
    "XGBhist = XGB.fit(X_train, y_train, eval_metric=eval_metric, eval_set=eval_set)\n",
    "end = datetime.datetime.now(); elapsed = end-start\n",
    "\n",
    "# Report\n",
    "print('Training took a total of {}'.format(elapsed));\n",
    "meta_pred = XGB.predict(X_test); rmse = np.sqrt(MSE(y_test, meta_pred)); print(\"RMSE : % f\" %(rmse))"
   ]
  },
  {
   "cell_type": "markdown",
   "id": "63c4c7a1",
   "metadata": {},
   "source": [
    "### BOW XGBoost"
   ]
  },
  {
   "cell_type": "code",
   "execution_count": 222,
   "id": "b3d6ae43",
   "metadata": {},
   "outputs": [
    {
     "name": "stdout",
     "output_type": "stream",
     "text": [
      "[0]\tvalidation_0-rmse:23.71449\n"
     ]
    },
    {
     "name": "stderr",
     "output_type": "stream",
     "text": [
      "C:\\Users\\8D\\anaconda3\\lib\\site-packages\\xgboost\\sklearn.py:793: UserWarning: `eval_metric` in `fit` method is deprecated for better compatibility with scikit-learn, use `eval_metric` in constructor or`set_params` instead.\n",
      "  warnings.warn(\n"
     ]
    },
    {
     "name": "stdout",
     "output_type": "stream",
     "text": [
      "[1]\tvalidation_0-rmse:23.28826\n",
      "[2]\tvalidation_0-rmse:22.97264\n",
      "[3]\tvalidation_0-rmse:22.85073\n",
      "[4]\tvalidation_0-rmse:22.74760\n",
      "[5]\tvalidation_0-rmse:22.75313\n",
      "[6]\tvalidation_0-rmse:22.74142\n",
      "[7]\tvalidation_0-rmse:22.75677\n",
      "[8]\tvalidation_0-rmse:22.70442\n",
      "[9]\tvalidation_0-rmse:22.68838\n",
      "[10]\tvalidation_0-rmse:22.71635\n",
      "[11]\tvalidation_0-rmse:22.79533\n",
      "[12]\tvalidation_0-rmse:22.80510\n",
      "[13]\tvalidation_0-rmse:22.81882\n",
      "[14]\tvalidation_0-rmse:22.82485\n",
      "[15]\tvalidation_0-rmse:22.82441\n",
      "[16]\tvalidation_0-rmse:22.84515\n",
      "[17]\tvalidation_0-rmse:22.93237\n",
      "[18]\tvalidation_0-rmse:22.94121\n",
      "[19]\tvalidation_0-rmse:22.93579\n",
      "[20]\tvalidation_0-rmse:22.93034\n",
      "[21]\tvalidation_0-rmse:23.00708\n",
      "[22]\tvalidation_0-rmse:23.03486\n",
      "[23]\tvalidation_0-rmse:23.08534\n",
      "[24]\tvalidation_0-rmse:23.09333\n",
      "[25]\tvalidation_0-rmse:23.19944\n",
      "[26]\tvalidation_0-rmse:23.26213\n",
      "[27]\tvalidation_0-rmse:23.26192\n",
      "[28]\tvalidation_0-rmse:23.27322\n",
      "[29]\tvalidation_0-rmse:23.31868\n",
      "Training took a total of 0:00:03.432001\n",
      "{}\n",
      "RMSE :  22.688382\n"
     ]
    }
   ],
   "source": [
    "# Filtering Data\n",
    "bow_filtered = filtered_df[['retweets']].join(BOW)\n",
    "\n",
    "# Data Preparation\n",
    "X = bow_filtered.drop(['retweets'], axis=1)\n",
    "y = bow_filtered['retweets']\n",
    "X_train, X_test, y_train, y_test = train_test_split(X, y, random_state=42)\n",
    "\n",
    "# XGBoost model\n",
    "start = datetime.datetime.now(); progress = dict()\n",
    "eval_set = [(X_test, y_test)]; val_metric = [\"rmse\"]\n",
    "XGB = xgboost.XGBRegressor(objective='reg:squarederror', early_stopping_rounds=20)\n",
    "XGBhist = XGB.fit(X_train, y_train, eval_metric=eval_metric, eval_set=eval_set)\n",
    "end = datetime.datetime.now(); elapsed = end-start\n",
    "\n",
    "# Report\n",
    "print('Training took a total of {}'.format(elapsed)); print(progress)\n",
    "bow_pred = XGB.predict(X_test); rmse = np.sqrt(MSE(y_test, bow_pred)); print(\"RMSE : % f\" %(rmse))"
   ]
  },
  {
   "cell_type": "markdown",
   "id": "3a55db45",
   "metadata": {},
   "source": [
    "### Embeddings XGBoost"
   ]
  },
  {
   "cell_type": "code",
   "execution_count": 223,
   "id": "38030a56",
   "metadata": {},
   "outputs": [
    {
     "name": "stderr",
     "output_type": "stream",
     "text": [
      "C:\\Users\\8D\\anaconda3\\lib\\site-packages\\xgboost\\sklearn.py:793: UserWarning: `eval_metric` in `fit` method is deprecated for better compatibility with scikit-learn, use `eval_metric` in constructor or`set_params` instead.\n",
      "  warnings.warn(\n"
     ]
    },
    {
     "name": "stdout",
     "output_type": "stream",
     "text": [
      "[0]\tvalidation_0-rmse:24.11383\n",
      "[1]\tvalidation_0-rmse:24.10377\n",
      "[2]\tvalidation_0-rmse:24.03130\n",
      "[3]\tvalidation_0-rmse:24.15191\n",
      "[4]\tvalidation_0-rmse:24.30792\n",
      "[5]\tvalidation_0-rmse:24.51327\n",
      "[6]\tvalidation_0-rmse:24.79774\n",
      "[7]\tvalidation_0-rmse:24.77931\n",
      "[8]\tvalidation_0-rmse:24.80206\n",
      "[9]\tvalidation_0-rmse:24.92855\n",
      "[10]\tvalidation_0-rmse:25.07875\n",
      "[11]\tvalidation_0-rmse:25.14159\n",
      "[12]\tvalidation_0-rmse:25.19136\n",
      "[13]\tvalidation_0-rmse:25.22130\n",
      "[14]\tvalidation_0-rmse:25.22364\n",
      "[15]\tvalidation_0-rmse:25.22607\n",
      "[16]\tvalidation_0-rmse:25.22388\n",
      "[17]\tvalidation_0-rmse:25.33567\n",
      "[18]\tvalidation_0-rmse:25.39930\n",
      "[19]\tvalidation_0-rmse:25.47790\n",
      "[20]\tvalidation_0-rmse:25.48554\n",
      "[21]\tvalidation_0-rmse:25.53429\n",
      "Training took a total of 0:00:13.873056\n",
      "{}\n",
      "RMSE :  24.031296\n"
     ]
    }
   ],
   "source": [
    "# Filtering Data\n",
    "emb_filtered = filtered_df[['retweets']].join(emb)\n",
    "\n",
    "# Data Preparation\n",
    "X = emb_filtered.drop(['retweets'], axis=1)\n",
    "y = emb_filtered['retweets']\n",
    "X_train, X_test, y_train, y_test = train_test_split(X, y, random_state=42)\n",
    "\n",
    "# XGBoost model\n",
    "start = datetime.datetime.now(); progress = dict()\n",
    "eval_set = [(X_test, y_test)]; val_metric = [\"rmse\"]\n",
    "XGB = xgboost.XGBRegressor(objective='reg:squarederror', early_stopping_rounds=20)\n",
    "XGBhist = XGB.fit(X_train, y_train, eval_metric=eval_metric, eval_set=eval_set)\n",
    "end = datetime.datetime.now(); elapsed = end-start\n",
    "\n",
    "# Report\n",
    "print('Training took a total of {}'.format(elapsed)); print(progress)\n",
    "emb_pred = XGB.predict(X_test); rmse = np.sqrt(MSE(y_test, emb_pred)); print(\"RMSE : % f\" %(rmse))"
   ]
  },
  {
   "cell_type": "markdown",
   "id": "d9d57362",
   "metadata": {},
   "source": [
    "### Topic Vectorization XGBoost"
   ]
  },
  {
   "cell_type": "code",
   "execution_count": 224,
   "id": "2e6856f0",
   "metadata": {},
   "outputs": [
    {
     "name": "stdout",
     "output_type": "stream",
     "text": [
      "[0]\tvalidation_0-rmse:23.71361\n",
      "[1]\tvalidation_0-rmse:23.29061\n",
      "[2]\tvalidation_0-rmse:23.08783\n"
     ]
    },
    {
     "name": "stderr",
     "output_type": "stream",
     "text": [
      "C:\\Users\\8D\\anaconda3\\lib\\site-packages\\xgboost\\sklearn.py:793: UserWarning: `eval_metric` in `fit` method is deprecated for better compatibility with scikit-learn, use `eval_metric` in constructor or`set_params` instead.\n",
      "  warnings.warn(\n"
     ]
    },
    {
     "name": "stdout",
     "output_type": "stream",
     "text": [
      "[3]\tvalidation_0-rmse:22.98062\n",
      "[4]\tvalidation_0-rmse:22.94216\n",
      "[5]\tvalidation_0-rmse:22.91856\n",
      "[6]\tvalidation_0-rmse:22.90231\n",
      "[7]\tvalidation_0-rmse:22.89068\n",
      "[8]\tvalidation_0-rmse:22.90885\n",
      "[9]\tvalidation_0-rmse:22.90136\n",
      "[10]\tvalidation_0-rmse:22.89302\n",
      "[11]\tvalidation_0-rmse:22.88622\n",
      "[12]\tvalidation_0-rmse:22.88307\n",
      "[13]\tvalidation_0-rmse:22.88605\n",
      "[14]\tvalidation_0-rmse:22.90046\n",
      "[15]\tvalidation_0-rmse:22.90438\n",
      "[16]\tvalidation_0-rmse:22.89486\n",
      "[17]\tvalidation_0-rmse:22.89905\n",
      "[18]\tvalidation_0-rmse:22.88952\n",
      "[19]\tvalidation_0-rmse:22.89242\n",
      "[20]\tvalidation_0-rmse:22.89408\n",
      "[21]\tvalidation_0-rmse:22.90003\n",
      "[22]\tvalidation_0-rmse:22.91006\n",
      "[23]\tvalidation_0-rmse:22.91717\n",
      "[24]\tvalidation_0-rmse:22.91420\n",
      "[25]\tvalidation_0-rmse:22.91818\n",
      "[26]\tvalidation_0-rmse:22.91184\n",
      "[27]\tvalidation_0-rmse:22.91448\n",
      "[28]\tvalidation_0-rmse:22.91208\n",
      "[29]\tvalidation_0-rmse:22.90898\n",
      "[30]\tvalidation_0-rmse:22.90988\n",
      "[31]\tvalidation_0-rmse:22.90892\n",
      "[32]\tvalidation_0-rmse:22.91193\n",
      "Training took a total of 0:00:01.845999\n",
      "{}\n",
      "RMSE :  22.883066\n"
     ]
    }
   ],
   "source": [
    "# Filtering Data\n",
    "top_filtered = filtered_df[['retweets']].join(top)\n",
    "\n",
    "# Data Preparation\n",
    "X = top_filtered.drop(['retweets'], axis=1)\n",
    "y = top_filtered['retweets']\n",
    "X_train, X_test, y_train, y_test = train_test_split(X, y, random_state=42)\n",
    "\n",
    "# XGBoost model\n",
    "start = datetime.datetime.now(); progress = dict()\n",
    "eval_set = [(X_test, y_test)]; val_metric = [\"rmse\"]\n",
    "XGB = xgboost.XGBRegressor(objective='reg:squarederror', early_stopping_rounds=20)\n",
    "XGBhist = XGB.fit(X_train, y_train, eval_metric=eval_metric, eval_set=eval_set)\n",
    "end = datetime.datetime.now(); elapsed = end-start\n",
    "\n",
    "# Report\n",
    "print('Training took a total of {}'.format(elapsed)); print(progress)\n",
    "top_pred = XGB.predict(X_test); rmse = np.sqrt(MSE(y_test, top_pred)); print(\"RMSE : % f\" %(rmse))"
   ]
  },
  {
   "cell_type": "markdown",
   "id": "ee728dc5",
   "metadata": {},
   "source": [
    "### XGBoost Ensemble"
   ]
  },
  {
   "cell_type": "code",
   "execution_count": 225,
   "id": "5e76b752",
   "metadata": {
    "scrolled": true
   },
   "outputs": [
    {
     "name": "stdout",
     "output_type": "stream",
     "text": [
      "LR RMSE :  22.078832\n"
     ]
    }
   ],
   "source": [
    "ensemble = pd.DataFrame([meta_pred, bow_pred, emb_pred, top_pred]).transpose().mean(axis=1)\n",
    "ensemble_rmse = np.sqrt(MSE(y_test, ensemble)); print(\"LR RMSE : % f\" %(ensemble_rmse))"
   ]
  },
  {
   "cell_type": "markdown",
   "id": "42b6374e",
   "metadata": {},
   "source": [
    "Here our results are more complicated. XGBoost on just metadata outperformed all of our other models, including our ensemble models. It looks like that's our new baseline - can we use NLP to beat predictions from metadata alone? Can we construct our ensemble model in a different way to maximize the different predictive powers of metadata and NLP?"
   ]
  },
  {
   "cell_type": "markdown",
   "id": "455943c2",
   "metadata": {},
   "source": [
    "## TabNet\n",
    "TabNet is a deep learning system developed by google that can reportedy beat XGBoost on Tabular Data"
   ]
  },
  {
   "cell_type": "code",
   "execution_count": 233,
   "id": "d037f269",
   "metadata": {
    "scrolled": true
   },
   "outputs": [
    {
     "name": "stderr",
     "output_type": "stream",
     "text": [
      "C:\\Users\\8D\\anaconda3\\lib\\site-packages\\pytorch_tabnet\\abstract_model.py:75: UserWarning: Device used : cpu\n",
      "  warnings.warn(f\"Device used : {self.device}\")\n"
     ]
    }
   ],
   "source": [
    "clf = TabNetRegressor()\n",
    "max_epochs = 50 if not os.getenv(\"CI\", False) else 2"
   ]
  },
  {
   "cell_type": "code",
   "execution_count": 280,
   "id": "89ba3f55",
   "metadata": {},
   "outputs": [],
   "source": [
    "# Filtering Data\n",
    "tabnet_data = filtered_df[['retweets']].join(BOW).join(top).join(emb)\n",
    "\n",
    "# Data Preparation\n",
    "X = tabnet_data.drop(['retweets'], axis=1)\n",
    "y = tabnet_data['retweets']\n",
    "X_train, X_test, y_train, y_test = train_test_split(X, y, random_state=42)\n",
    "\n",
    "# Converting to Numpy Arrays\n",
    "X_train = X_train.values\n",
    "y_train = y_train.values.reshape(-1, 1)\n",
    "X_test = X_test.values\n",
    "y_test = y_test.values.reshape(-1, 1)"
   ]
  },
  {
   "cell_type": "code",
   "execution_count": 282,
   "id": "95fa3c12",
   "metadata": {},
   "outputs": [
    {
     "ename": "KeyboardInterrupt",
     "evalue": "",
     "output_type": "error",
     "traceback": [
      "\u001b[1;31m---------------------------------------------------------------------------\u001b[0m",
      "\u001b[1;31mKeyboardInterrupt\u001b[0m                         Traceback (most recent call last)",
      "\u001b[1;32m~\\AppData\\Local\\Temp/ipykernel_31380/2613185829.py\u001b[0m in \u001b[0;36m<module>\u001b[1;34m\u001b[0m\n\u001b[0;32m      1\u001b[0m \u001b[0mmax_epochs\u001b[0m \u001b[1;33m=\u001b[0m \u001b[1;36m100\u001b[0m \u001b[1;32mif\u001b[0m \u001b[1;32mnot\u001b[0m \u001b[0mos\u001b[0m\u001b[1;33m.\u001b[0m\u001b[0mgetenv\u001b[0m\u001b[1;33m(\u001b[0m\u001b[1;34m\"CI\"\u001b[0m\u001b[1;33m,\u001b[0m \u001b[1;32mFalse\u001b[0m\u001b[1;33m)\u001b[0m \u001b[1;32melse\u001b[0m \u001b[1;36m2\u001b[0m\u001b[1;33m\u001b[0m\u001b[1;33m\u001b[0m\u001b[0m\n\u001b[0;32m      2\u001b[0m \u001b[1;33m\u001b[0m\u001b[0m\n\u001b[1;32m----> 3\u001b[1;33m clf.fit(\n\u001b[0m\u001b[0;32m      4\u001b[0m     \u001b[0mX_train\u001b[0m\u001b[1;33m=\u001b[0m\u001b[0mX_train\u001b[0m\u001b[1;33m,\u001b[0m \u001b[0my_train\u001b[0m\u001b[1;33m=\u001b[0m\u001b[0my_train\u001b[0m\u001b[1;33m,\u001b[0m\u001b[1;33m\u001b[0m\u001b[1;33m\u001b[0m\u001b[0m\n\u001b[0;32m      5\u001b[0m     \u001b[0meval_set\u001b[0m\u001b[1;33m=\u001b[0m\u001b[1;33m[\u001b[0m\u001b[1;33m(\u001b[0m\u001b[0mX_train\u001b[0m\u001b[1;33m,\u001b[0m \u001b[0my_train\u001b[0m\u001b[1;33m)\u001b[0m\u001b[1;33m,\u001b[0m \u001b[1;33m(\u001b[0m\u001b[0mX_test\u001b[0m\u001b[1;33m,\u001b[0m \u001b[0my_test\u001b[0m\u001b[1;33m)\u001b[0m\u001b[1;33m]\u001b[0m\u001b[1;33m,\u001b[0m\u001b[1;33m\u001b[0m\u001b[1;33m\u001b[0m\u001b[0m\n",
      "\u001b[1;32m~\\anaconda3\\lib\\site-packages\\pytorch_tabnet\\abstract_model.py\u001b[0m in \u001b[0;36mfit\u001b[1;34m(self, X_train, y_train, eval_set, eval_name, eval_metric, loss_fn, weights, max_epochs, patience, batch_size, virtual_batch_size, num_workers, drop_last, callbacks, pin_memory, from_unsupervised, warm_start, augmentations)\u001b[0m\n\u001b[0;32m    239\u001b[0m             \u001b[0mself\u001b[0m\u001b[1;33m.\u001b[0m\u001b[0m_callback_container\u001b[0m\u001b[1;33m.\u001b[0m\u001b[0mon_epoch_begin\u001b[0m\u001b[1;33m(\u001b[0m\u001b[0mepoch_idx\u001b[0m\u001b[1;33m)\u001b[0m\u001b[1;33m\u001b[0m\u001b[1;33m\u001b[0m\u001b[0m\n\u001b[0;32m    240\u001b[0m \u001b[1;33m\u001b[0m\u001b[0m\n\u001b[1;32m--> 241\u001b[1;33m             \u001b[0mself\u001b[0m\u001b[1;33m.\u001b[0m\u001b[0m_train_epoch\u001b[0m\u001b[1;33m(\u001b[0m\u001b[0mtrain_dataloader\u001b[0m\u001b[1;33m)\u001b[0m\u001b[1;33m\u001b[0m\u001b[1;33m\u001b[0m\u001b[0m\n\u001b[0m\u001b[0;32m    242\u001b[0m \u001b[1;33m\u001b[0m\u001b[0m\n\u001b[0;32m    243\u001b[0m             \u001b[1;31m# Apply predict epoch to all eval sets\u001b[0m\u001b[1;33m\u001b[0m\u001b[1;33m\u001b[0m\u001b[0m\n",
      "\u001b[1;32m~\\anaconda3\\lib\\site-packages\\pytorch_tabnet\\abstract_model.py\u001b[0m in \u001b[0;36m_train_epoch\u001b[1;34m(self, train_loader)\u001b[0m\n\u001b[0;32m    455\u001b[0m             \u001b[0mself\u001b[0m\u001b[1;33m.\u001b[0m\u001b[0m_callback_container\u001b[0m\u001b[1;33m.\u001b[0m\u001b[0mon_batch_begin\u001b[0m\u001b[1;33m(\u001b[0m\u001b[0mbatch_idx\u001b[0m\u001b[1;33m)\u001b[0m\u001b[1;33m\u001b[0m\u001b[1;33m\u001b[0m\u001b[0m\n\u001b[0;32m    456\u001b[0m \u001b[1;33m\u001b[0m\u001b[0m\n\u001b[1;32m--> 457\u001b[1;33m             \u001b[0mbatch_logs\u001b[0m \u001b[1;33m=\u001b[0m \u001b[0mself\u001b[0m\u001b[1;33m.\u001b[0m\u001b[0m_train_batch\u001b[0m\u001b[1;33m(\u001b[0m\u001b[0mX\u001b[0m\u001b[1;33m,\u001b[0m \u001b[0my\u001b[0m\u001b[1;33m)\u001b[0m\u001b[1;33m\u001b[0m\u001b[1;33m\u001b[0m\u001b[0m\n\u001b[0m\u001b[0;32m    458\u001b[0m \u001b[1;33m\u001b[0m\u001b[0m\n\u001b[0;32m    459\u001b[0m             \u001b[0mself\u001b[0m\u001b[1;33m.\u001b[0m\u001b[0m_callback_container\u001b[0m\u001b[1;33m.\u001b[0m\u001b[0mon_batch_end\u001b[0m\u001b[1;33m(\u001b[0m\u001b[0mbatch_idx\u001b[0m\u001b[1;33m,\u001b[0m \u001b[0mbatch_logs\u001b[0m\u001b[1;33m)\u001b[0m\u001b[1;33m\u001b[0m\u001b[1;33m\u001b[0m\u001b[0m\n",
      "\u001b[1;32m~\\anaconda3\\lib\\site-packages\\pytorch_tabnet\\abstract_model.py\u001b[0m in \u001b[0;36m_train_batch\u001b[1;34m(self, X, y)\u001b[0m\n\u001b[0;32m    493\u001b[0m             \u001b[0mparam\u001b[0m\u001b[1;33m.\u001b[0m\u001b[0mgrad\u001b[0m \u001b[1;33m=\u001b[0m \u001b[1;32mNone\u001b[0m\u001b[1;33m\u001b[0m\u001b[1;33m\u001b[0m\u001b[0m\n\u001b[0;32m    494\u001b[0m \u001b[1;33m\u001b[0m\u001b[0m\n\u001b[1;32m--> 495\u001b[1;33m         \u001b[0moutput\u001b[0m\u001b[1;33m,\u001b[0m \u001b[0mM_loss\u001b[0m \u001b[1;33m=\u001b[0m \u001b[0mself\u001b[0m\u001b[1;33m.\u001b[0m\u001b[0mnetwork\u001b[0m\u001b[1;33m(\u001b[0m\u001b[0mX\u001b[0m\u001b[1;33m)\u001b[0m\u001b[1;33m\u001b[0m\u001b[1;33m\u001b[0m\u001b[0m\n\u001b[0m\u001b[0;32m    496\u001b[0m \u001b[1;33m\u001b[0m\u001b[0m\n\u001b[0;32m    497\u001b[0m         \u001b[0mloss\u001b[0m \u001b[1;33m=\u001b[0m \u001b[0mself\u001b[0m\u001b[1;33m.\u001b[0m\u001b[0mcompute_loss\u001b[0m\u001b[1;33m(\u001b[0m\u001b[0moutput\u001b[0m\u001b[1;33m,\u001b[0m \u001b[0my\u001b[0m\u001b[1;33m)\u001b[0m\u001b[1;33m\u001b[0m\u001b[1;33m\u001b[0m\u001b[0m\n",
      "\u001b[1;32m~\\anaconda3\\lib\\site-packages\\torch\\nn\\modules\\module.py\u001b[0m in \u001b[0;36m_call_impl\u001b[1;34m(self, *input, **kwargs)\u001b[0m\n\u001b[0;32m   1128\u001b[0m         if not (self._backward_hooks or self._forward_hooks or self._forward_pre_hooks or _global_backward_hooks\n\u001b[0;32m   1129\u001b[0m                 or _global_forward_hooks or _global_forward_pre_hooks):\n\u001b[1;32m-> 1130\u001b[1;33m             \u001b[1;32mreturn\u001b[0m \u001b[0mforward_call\u001b[0m\u001b[1;33m(\u001b[0m\u001b[1;33m*\u001b[0m\u001b[0minput\u001b[0m\u001b[1;33m,\u001b[0m \u001b[1;33m**\u001b[0m\u001b[0mkwargs\u001b[0m\u001b[1;33m)\u001b[0m\u001b[1;33m\u001b[0m\u001b[1;33m\u001b[0m\u001b[0m\n\u001b[0m\u001b[0;32m   1131\u001b[0m         \u001b[1;31m# Do not call functions when jit is used\u001b[0m\u001b[1;33m\u001b[0m\u001b[1;33m\u001b[0m\u001b[0m\n\u001b[0;32m   1132\u001b[0m         \u001b[0mfull_backward_hooks\u001b[0m\u001b[1;33m,\u001b[0m \u001b[0mnon_full_backward_hooks\u001b[0m \u001b[1;33m=\u001b[0m \u001b[1;33m[\u001b[0m\u001b[1;33m]\u001b[0m\u001b[1;33m,\u001b[0m \u001b[1;33m[\u001b[0m\u001b[1;33m]\u001b[0m\u001b[1;33m\u001b[0m\u001b[1;33m\u001b[0m\u001b[0m\n",
      "\u001b[1;32m~\\anaconda3\\lib\\site-packages\\pytorch_tabnet\\tab_network.py\u001b[0m in \u001b[0;36mforward\u001b[1;34m(self, x)\u001b[0m\n\u001b[0;32m    584\u001b[0m     \u001b[1;32mdef\u001b[0m \u001b[0mforward\u001b[0m\u001b[1;33m(\u001b[0m\u001b[0mself\u001b[0m\u001b[1;33m,\u001b[0m \u001b[0mx\u001b[0m\u001b[1;33m)\u001b[0m\u001b[1;33m:\u001b[0m\u001b[1;33m\u001b[0m\u001b[1;33m\u001b[0m\u001b[0m\n\u001b[0;32m    585\u001b[0m         \u001b[0mx\u001b[0m \u001b[1;33m=\u001b[0m \u001b[0mself\u001b[0m\u001b[1;33m.\u001b[0m\u001b[0membedder\u001b[0m\u001b[1;33m(\u001b[0m\u001b[0mx\u001b[0m\u001b[1;33m)\u001b[0m\u001b[1;33m\u001b[0m\u001b[1;33m\u001b[0m\u001b[0m\n\u001b[1;32m--> 586\u001b[1;33m         \u001b[1;32mreturn\u001b[0m \u001b[0mself\u001b[0m\u001b[1;33m.\u001b[0m\u001b[0mtabnet\u001b[0m\u001b[1;33m(\u001b[0m\u001b[0mx\u001b[0m\u001b[1;33m)\u001b[0m\u001b[1;33m\u001b[0m\u001b[1;33m\u001b[0m\u001b[0m\n\u001b[0m\u001b[0;32m    587\u001b[0m \u001b[1;33m\u001b[0m\u001b[0m\n\u001b[0;32m    588\u001b[0m     \u001b[1;32mdef\u001b[0m \u001b[0mforward_masks\u001b[0m\u001b[1;33m(\u001b[0m\u001b[0mself\u001b[0m\u001b[1;33m,\u001b[0m \u001b[0mx\u001b[0m\u001b[1;33m)\u001b[0m\u001b[1;33m:\u001b[0m\u001b[1;33m\u001b[0m\u001b[1;33m\u001b[0m\u001b[0m\n",
      "\u001b[1;32m~\\anaconda3\\lib\\site-packages\\torch\\nn\\modules\\module.py\u001b[0m in \u001b[0;36m_call_impl\u001b[1;34m(self, *input, **kwargs)\u001b[0m\n\u001b[0;32m   1128\u001b[0m         if not (self._backward_hooks or self._forward_hooks or self._forward_pre_hooks or _global_backward_hooks\n\u001b[0;32m   1129\u001b[0m                 or _global_forward_hooks or _global_forward_pre_hooks):\n\u001b[1;32m-> 1130\u001b[1;33m             \u001b[1;32mreturn\u001b[0m \u001b[0mforward_call\u001b[0m\u001b[1;33m(\u001b[0m\u001b[1;33m*\u001b[0m\u001b[0minput\u001b[0m\u001b[1;33m,\u001b[0m \u001b[1;33m**\u001b[0m\u001b[0mkwargs\u001b[0m\u001b[1;33m)\u001b[0m\u001b[1;33m\u001b[0m\u001b[1;33m\u001b[0m\u001b[0m\n\u001b[0m\u001b[0;32m   1131\u001b[0m         \u001b[1;31m# Do not call functions when jit is used\u001b[0m\u001b[1;33m\u001b[0m\u001b[1;33m\u001b[0m\u001b[0m\n\u001b[0;32m   1132\u001b[0m         \u001b[0mfull_backward_hooks\u001b[0m\u001b[1;33m,\u001b[0m \u001b[0mnon_full_backward_hooks\u001b[0m \u001b[1;33m=\u001b[0m \u001b[1;33m[\u001b[0m\u001b[1;33m]\u001b[0m\u001b[1;33m,\u001b[0m \u001b[1;33m[\u001b[0m\u001b[1;33m]\u001b[0m\u001b[1;33m\u001b[0m\u001b[1;33m\u001b[0m\u001b[0m\n",
      "\u001b[1;32m~\\anaconda3\\lib\\site-packages\\pytorch_tabnet\\tab_network.py\u001b[0m in \u001b[0;36mforward\u001b[1;34m(self, x)\u001b[0m\n\u001b[0;32m    469\u001b[0m     \u001b[1;32mdef\u001b[0m \u001b[0mforward\u001b[0m\u001b[1;33m(\u001b[0m\u001b[0mself\u001b[0m\u001b[1;33m,\u001b[0m \u001b[0mx\u001b[0m\u001b[1;33m)\u001b[0m\u001b[1;33m:\u001b[0m\u001b[1;33m\u001b[0m\u001b[1;33m\u001b[0m\u001b[0m\n\u001b[0;32m    470\u001b[0m         \u001b[0mres\u001b[0m \u001b[1;33m=\u001b[0m \u001b[1;36m0\u001b[0m\u001b[1;33m\u001b[0m\u001b[1;33m\u001b[0m\u001b[0m\n\u001b[1;32m--> 471\u001b[1;33m         \u001b[0msteps_output\u001b[0m\u001b[1;33m,\u001b[0m \u001b[0mM_loss\u001b[0m \u001b[1;33m=\u001b[0m \u001b[0mself\u001b[0m\u001b[1;33m.\u001b[0m\u001b[0mencoder\u001b[0m\u001b[1;33m(\u001b[0m\u001b[0mx\u001b[0m\u001b[1;33m)\u001b[0m\u001b[1;33m\u001b[0m\u001b[1;33m\u001b[0m\u001b[0m\n\u001b[0m\u001b[0;32m    472\u001b[0m         \u001b[0mres\u001b[0m \u001b[1;33m=\u001b[0m \u001b[0mtorch\u001b[0m\u001b[1;33m.\u001b[0m\u001b[0msum\u001b[0m\u001b[1;33m(\u001b[0m\u001b[0mtorch\u001b[0m\u001b[1;33m.\u001b[0m\u001b[0mstack\u001b[0m\u001b[1;33m(\u001b[0m\u001b[0msteps_output\u001b[0m\u001b[1;33m,\u001b[0m \u001b[0mdim\u001b[0m\u001b[1;33m=\u001b[0m\u001b[1;36m0\u001b[0m\u001b[1;33m)\u001b[0m\u001b[1;33m,\u001b[0m \u001b[0mdim\u001b[0m\u001b[1;33m=\u001b[0m\u001b[1;36m0\u001b[0m\u001b[1;33m)\u001b[0m\u001b[1;33m\u001b[0m\u001b[1;33m\u001b[0m\u001b[0m\n\u001b[0;32m    473\u001b[0m \u001b[1;33m\u001b[0m\u001b[0m\n",
      "\u001b[1;32m~\\anaconda3\\lib\\site-packages\\torch\\nn\\modules\\module.py\u001b[0m in \u001b[0;36m_call_impl\u001b[1;34m(self, *input, **kwargs)\u001b[0m\n\u001b[0;32m   1128\u001b[0m         if not (self._backward_hooks or self._forward_hooks or self._forward_pre_hooks or _global_backward_hooks\n\u001b[0;32m   1129\u001b[0m                 or _global_forward_hooks or _global_forward_pre_hooks):\n\u001b[1;32m-> 1130\u001b[1;33m             \u001b[1;32mreturn\u001b[0m \u001b[0mforward_call\u001b[0m\u001b[1;33m(\u001b[0m\u001b[1;33m*\u001b[0m\u001b[0minput\u001b[0m\u001b[1;33m,\u001b[0m \u001b[1;33m**\u001b[0m\u001b[0mkwargs\u001b[0m\u001b[1;33m)\u001b[0m\u001b[1;33m\u001b[0m\u001b[1;33m\u001b[0m\u001b[0m\n\u001b[0m\u001b[0;32m   1131\u001b[0m         \u001b[1;31m# Do not call functions when jit is used\u001b[0m\u001b[1;33m\u001b[0m\u001b[1;33m\u001b[0m\u001b[0m\n\u001b[0;32m   1132\u001b[0m         \u001b[0mfull_backward_hooks\u001b[0m\u001b[1;33m,\u001b[0m \u001b[0mnon_full_backward_hooks\u001b[0m \u001b[1;33m=\u001b[0m \u001b[1;33m[\u001b[0m\u001b[1;33m]\u001b[0m\u001b[1;33m,\u001b[0m \u001b[1;33m[\u001b[0m\u001b[1;33m]\u001b[0m\u001b[1;33m\u001b[0m\u001b[1;33m\u001b[0m\u001b[0m\n",
      "\u001b[1;32m~\\anaconda3\\lib\\site-packages\\pytorch_tabnet\\tab_network.py\u001b[0m in \u001b[0;36mforward\u001b[1;34m(self, x, prior)\u001b[0m\n\u001b[0;32m    158\u001b[0m         \u001b[0msteps_output\u001b[0m \u001b[1;33m=\u001b[0m \u001b[1;33m[\u001b[0m\u001b[1;33m]\u001b[0m\u001b[1;33m\u001b[0m\u001b[1;33m\u001b[0m\u001b[0m\n\u001b[0;32m    159\u001b[0m         \u001b[1;32mfor\u001b[0m \u001b[0mstep\u001b[0m \u001b[1;32min\u001b[0m \u001b[0mrange\u001b[0m\u001b[1;33m(\u001b[0m\u001b[0mself\u001b[0m\u001b[1;33m.\u001b[0m\u001b[0mn_steps\u001b[0m\u001b[1;33m)\u001b[0m\u001b[1;33m:\u001b[0m\u001b[1;33m\u001b[0m\u001b[1;33m\u001b[0m\u001b[0m\n\u001b[1;32m--> 160\u001b[1;33m             \u001b[0mM\u001b[0m \u001b[1;33m=\u001b[0m \u001b[0mself\u001b[0m\u001b[1;33m.\u001b[0m\u001b[0matt_transformers\u001b[0m\u001b[1;33m[\u001b[0m\u001b[0mstep\u001b[0m\u001b[1;33m]\u001b[0m\u001b[1;33m(\u001b[0m\u001b[0mprior\u001b[0m\u001b[1;33m,\u001b[0m \u001b[0matt\u001b[0m\u001b[1;33m)\u001b[0m\u001b[1;33m\u001b[0m\u001b[1;33m\u001b[0m\u001b[0m\n\u001b[0m\u001b[0;32m    161\u001b[0m             M_loss += torch.mean(\n\u001b[0;32m    162\u001b[0m                 \u001b[0mtorch\u001b[0m\u001b[1;33m.\u001b[0m\u001b[0msum\u001b[0m\u001b[1;33m(\u001b[0m\u001b[0mtorch\u001b[0m\u001b[1;33m.\u001b[0m\u001b[0mmul\u001b[0m\u001b[1;33m(\u001b[0m\u001b[0mM\u001b[0m\u001b[1;33m,\u001b[0m \u001b[0mtorch\u001b[0m\u001b[1;33m.\u001b[0m\u001b[0mlog\u001b[0m\u001b[1;33m(\u001b[0m\u001b[0mM\u001b[0m \u001b[1;33m+\u001b[0m \u001b[0mself\u001b[0m\u001b[1;33m.\u001b[0m\u001b[0mepsilon\u001b[0m\u001b[1;33m)\u001b[0m\u001b[1;33m)\u001b[0m\u001b[1;33m,\u001b[0m \u001b[0mdim\u001b[0m\u001b[1;33m=\u001b[0m\u001b[1;36m1\u001b[0m\u001b[1;33m)\u001b[0m\u001b[1;33m\u001b[0m\u001b[1;33m\u001b[0m\u001b[0m\n",
      "\u001b[1;32m~\\anaconda3\\lib\\site-packages\\torch\\nn\\modules\\module.py\u001b[0m in \u001b[0;36m_call_impl\u001b[1;34m(self, *input, **kwargs)\u001b[0m\n\u001b[0;32m   1128\u001b[0m         if not (self._backward_hooks or self._forward_hooks or self._forward_pre_hooks or _global_backward_hooks\n\u001b[0;32m   1129\u001b[0m                 or _global_forward_hooks or _global_forward_pre_hooks):\n\u001b[1;32m-> 1130\u001b[1;33m             \u001b[1;32mreturn\u001b[0m \u001b[0mforward_call\u001b[0m\u001b[1;33m(\u001b[0m\u001b[1;33m*\u001b[0m\u001b[0minput\u001b[0m\u001b[1;33m,\u001b[0m \u001b[1;33m**\u001b[0m\u001b[0mkwargs\u001b[0m\u001b[1;33m)\u001b[0m\u001b[1;33m\u001b[0m\u001b[1;33m\u001b[0m\u001b[0m\n\u001b[0m\u001b[0;32m   1131\u001b[0m         \u001b[1;31m# Do not call functions when jit is used\u001b[0m\u001b[1;33m\u001b[0m\u001b[1;33m\u001b[0m\u001b[0m\n\u001b[0;32m   1132\u001b[0m         \u001b[0mfull_backward_hooks\u001b[0m\u001b[1;33m,\u001b[0m \u001b[0mnon_full_backward_hooks\u001b[0m \u001b[1;33m=\u001b[0m \u001b[1;33m[\u001b[0m\u001b[1;33m]\u001b[0m\u001b[1;33m,\u001b[0m \u001b[1;33m[\u001b[0m\u001b[1;33m]\u001b[0m\u001b[1;33m\u001b[0m\u001b[1;33m\u001b[0m\u001b[0m\n",
      "\u001b[1;32m~\\anaconda3\\lib\\site-packages\\pytorch_tabnet\\tab_network.py\u001b[0m in \u001b[0;36mforward\u001b[1;34m(self, priors, processed_feat)\u001b[0m\n\u001b[0;32m    638\u001b[0m         \u001b[0mx\u001b[0m \u001b[1;33m=\u001b[0m \u001b[0mself\u001b[0m\u001b[1;33m.\u001b[0m\u001b[0mbn\u001b[0m\u001b[1;33m(\u001b[0m\u001b[0mx\u001b[0m\u001b[1;33m)\u001b[0m\u001b[1;33m\u001b[0m\u001b[1;33m\u001b[0m\u001b[0m\n\u001b[0;32m    639\u001b[0m         \u001b[0mx\u001b[0m \u001b[1;33m=\u001b[0m \u001b[0mtorch\u001b[0m\u001b[1;33m.\u001b[0m\u001b[0mmul\u001b[0m\u001b[1;33m(\u001b[0m\u001b[0mx\u001b[0m\u001b[1;33m,\u001b[0m \u001b[0mpriors\u001b[0m\u001b[1;33m)\u001b[0m\u001b[1;33m\u001b[0m\u001b[1;33m\u001b[0m\u001b[0m\n\u001b[1;32m--> 640\u001b[1;33m         \u001b[0mx\u001b[0m \u001b[1;33m=\u001b[0m \u001b[0mself\u001b[0m\u001b[1;33m.\u001b[0m\u001b[0mselector\u001b[0m\u001b[1;33m(\u001b[0m\u001b[0mx\u001b[0m\u001b[1;33m)\u001b[0m\u001b[1;33m\u001b[0m\u001b[1;33m\u001b[0m\u001b[0m\n\u001b[0m\u001b[0;32m    641\u001b[0m         \u001b[1;32mreturn\u001b[0m \u001b[0mx\u001b[0m\u001b[1;33m\u001b[0m\u001b[1;33m\u001b[0m\u001b[0m\n\u001b[0;32m    642\u001b[0m \u001b[1;33m\u001b[0m\u001b[0m\n",
      "\u001b[1;32m~\\anaconda3\\lib\\site-packages\\torch\\nn\\modules\\module.py\u001b[0m in \u001b[0;36m_call_impl\u001b[1;34m(self, *input, **kwargs)\u001b[0m\n\u001b[0;32m   1128\u001b[0m         if not (self._backward_hooks or self._forward_hooks or self._forward_pre_hooks or _global_backward_hooks\n\u001b[0;32m   1129\u001b[0m                 or _global_forward_hooks or _global_forward_pre_hooks):\n\u001b[1;32m-> 1130\u001b[1;33m             \u001b[1;32mreturn\u001b[0m \u001b[0mforward_call\u001b[0m\u001b[1;33m(\u001b[0m\u001b[1;33m*\u001b[0m\u001b[0minput\u001b[0m\u001b[1;33m,\u001b[0m \u001b[1;33m**\u001b[0m\u001b[0mkwargs\u001b[0m\u001b[1;33m)\u001b[0m\u001b[1;33m\u001b[0m\u001b[1;33m\u001b[0m\u001b[0m\n\u001b[0m\u001b[0;32m   1131\u001b[0m         \u001b[1;31m# Do not call functions when jit is used\u001b[0m\u001b[1;33m\u001b[0m\u001b[1;33m\u001b[0m\u001b[0m\n\u001b[0;32m   1132\u001b[0m         \u001b[0mfull_backward_hooks\u001b[0m\u001b[1;33m,\u001b[0m \u001b[0mnon_full_backward_hooks\u001b[0m \u001b[1;33m=\u001b[0m \u001b[1;33m[\u001b[0m\u001b[1;33m]\u001b[0m\u001b[1;33m,\u001b[0m \u001b[1;33m[\u001b[0m\u001b[1;33m]\u001b[0m\u001b[1;33m\u001b[0m\u001b[1;33m\u001b[0m\u001b[0m\n",
      "\u001b[1;32m~\\anaconda3\\lib\\site-packages\\pytorch_tabnet\\sparsemax.py\u001b[0m in \u001b[0;36mforward\u001b[1;34m(self, input)\u001b[0m\n\u001b[0;32m    107\u001b[0m \u001b[1;33m\u001b[0m\u001b[0m\n\u001b[0;32m    108\u001b[0m     \u001b[1;32mdef\u001b[0m \u001b[0mforward\u001b[0m\u001b[1;33m(\u001b[0m\u001b[0mself\u001b[0m\u001b[1;33m,\u001b[0m \u001b[0minput\u001b[0m\u001b[1;33m)\u001b[0m\u001b[1;33m:\u001b[0m\u001b[1;33m\u001b[0m\u001b[1;33m\u001b[0m\u001b[0m\n\u001b[1;32m--> 109\u001b[1;33m         \u001b[1;32mreturn\u001b[0m \u001b[0msparsemax\u001b[0m\u001b[1;33m(\u001b[0m\u001b[0minput\u001b[0m\u001b[1;33m,\u001b[0m \u001b[0mself\u001b[0m\u001b[1;33m.\u001b[0m\u001b[0mdim\u001b[0m\u001b[1;33m)\u001b[0m\u001b[1;33m\u001b[0m\u001b[1;33m\u001b[0m\u001b[0m\n\u001b[0m\u001b[0;32m    110\u001b[0m \u001b[1;33m\u001b[0m\u001b[0m\n\u001b[0;32m    111\u001b[0m \u001b[1;33m\u001b[0m\u001b[0m\n",
      "\u001b[1;32m~\\anaconda3\\lib\\site-packages\\pytorch_tabnet\\sparsemax.py\u001b[0m in \u001b[0;36mforward\u001b[1;34m(ctx, input, dim)\u001b[0m\n\u001b[0;32m     50\u001b[0m         \u001b[0mmax_val\u001b[0m\u001b[1;33m,\u001b[0m \u001b[0m_\u001b[0m \u001b[1;33m=\u001b[0m \u001b[0minput\u001b[0m\u001b[1;33m.\u001b[0m\u001b[0mmax\u001b[0m\u001b[1;33m(\u001b[0m\u001b[0mdim\u001b[0m\u001b[1;33m=\u001b[0m\u001b[0mdim\u001b[0m\u001b[1;33m,\u001b[0m \u001b[0mkeepdim\u001b[0m\u001b[1;33m=\u001b[0m\u001b[1;32mTrue\u001b[0m\u001b[1;33m)\u001b[0m\u001b[1;33m\u001b[0m\u001b[1;33m\u001b[0m\u001b[0m\n\u001b[0;32m     51\u001b[0m         \u001b[0minput\u001b[0m \u001b[1;33m-=\u001b[0m \u001b[0mmax_val\u001b[0m  \u001b[1;31m# same numerical stability trick as for softmax\u001b[0m\u001b[1;33m\u001b[0m\u001b[1;33m\u001b[0m\u001b[0m\n\u001b[1;32m---> 52\u001b[1;33m         \u001b[0mtau\u001b[0m\u001b[1;33m,\u001b[0m \u001b[0msupp_size\u001b[0m \u001b[1;33m=\u001b[0m \u001b[0mSparsemaxFunction\u001b[0m\u001b[1;33m.\u001b[0m\u001b[0m_threshold_and_support\u001b[0m\u001b[1;33m(\u001b[0m\u001b[0minput\u001b[0m\u001b[1;33m,\u001b[0m \u001b[0mdim\u001b[0m\u001b[1;33m=\u001b[0m\u001b[0mdim\u001b[0m\u001b[1;33m)\u001b[0m\u001b[1;33m\u001b[0m\u001b[1;33m\u001b[0m\u001b[0m\n\u001b[0m\u001b[0;32m     53\u001b[0m         \u001b[0moutput\u001b[0m \u001b[1;33m=\u001b[0m \u001b[0mtorch\u001b[0m\u001b[1;33m.\u001b[0m\u001b[0mclamp\u001b[0m\u001b[1;33m(\u001b[0m\u001b[0minput\u001b[0m \u001b[1;33m-\u001b[0m \u001b[0mtau\u001b[0m\u001b[1;33m,\u001b[0m \u001b[0mmin\u001b[0m\u001b[1;33m=\u001b[0m\u001b[1;36m0\u001b[0m\u001b[1;33m)\u001b[0m\u001b[1;33m\u001b[0m\u001b[1;33m\u001b[0m\u001b[0m\n\u001b[0;32m     54\u001b[0m         \u001b[0mctx\u001b[0m\u001b[1;33m.\u001b[0m\u001b[0msave_for_backward\u001b[0m\u001b[1;33m(\u001b[0m\u001b[0msupp_size\u001b[0m\u001b[1;33m,\u001b[0m \u001b[0moutput\u001b[0m\u001b[1;33m)\u001b[0m\u001b[1;33m\u001b[0m\u001b[1;33m\u001b[0m\u001b[0m\n",
      "\u001b[1;32m~\\anaconda3\\lib\\site-packages\\pytorch_tabnet\\sparsemax.py\u001b[0m in \u001b[0;36m_threshold_and_support\u001b[1;34m(input, dim)\u001b[0m\n\u001b[0;32m     86\u001b[0m         \"\"\"\n\u001b[0;32m     87\u001b[0m \u001b[1;33m\u001b[0m\u001b[0m\n\u001b[1;32m---> 88\u001b[1;33m         \u001b[0minput_srt\u001b[0m\u001b[1;33m,\u001b[0m \u001b[0m_\u001b[0m \u001b[1;33m=\u001b[0m \u001b[0mtorch\u001b[0m\u001b[1;33m.\u001b[0m\u001b[0msort\u001b[0m\u001b[1;33m(\u001b[0m\u001b[0minput\u001b[0m\u001b[1;33m,\u001b[0m \u001b[0mdescending\u001b[0m\u001b[1;33m=\u001b[0m\u001b[1;32mTrue\u001b[0m\u001b[1;33m,\u001b[0m \u001b[0mdim\u001b[0m\u001b[1;33m=\u001b[0m\u001b[0mdim\u001b[0m\u001b[1;33m)\u001b[0m\u001b[1;33m\u001b[0m\u001b[1;33m\u001b[0m\u001b[0m\n\u001b[0m\u001b[0;32m     89\u001b[0m         \u001b[0minput_cumsum\u001b[0m \u001b[1;33m=\u001b[0m \u001b[0minput_srt\u001b[0m\u001b[1;33m.\u001b[0m\u001b[0mcumsum\u001b[0m\u001b[1;33m(\u001b[0m\u001b[0mdim\u001b[0m\u001b[1;33m)\u001b[0m \u001b[1;33m-\u001b[0m \u001b[1;36m1\u001b[0m\u001b[1;33m\u001b[0m\u001b[1;33m\u001b[0m\u001b[0m\n\u001b[0;32m     90\u001b[0m         \u001b[0mrhos\u001b[0m \u001b[1;33m=\u001b[0m \u001b[0m_make_ix_like\u001b[0m\u001b[1;33m(\u001b[0m\u001b[0minput\u001b[0m\u001b[1;33m,\u001b[0m \u001b[0mdim\u001b[0m\u001b[1;33m)\u001b[0m\u001b[1;33m\u001b[0m\u001b[1;33m\u001b[0m\u001b[0m\n",
      "\u001b[1;31mKeyboardInterrupt\u001b[0m: "
     ]
    }
   ],
   "source": [
    "max_epochs = 100 if not os.getenv(\"CI\", False) else 2\n",
    "\n",
    "clf.fit(\n",
    "    X_train=X_train, y_train=y_train,\n",
    "    eval_set=[(X_train, y_train), (X_test, y_test)],\n",
    "    eval_name=['train', 'test'],\n",
    "    eval_metric=['mae', 'rmse'],\n",
    "    max_epochs=max_epochs,\n",
    "    patience=20,\n",
    "    batch_size=1024, virtual_batch_size=128,\n",
    "    num_workers=0,\n",
    "    drop_last=False,\n",
    ") "
   ]
  },
  {
   "cell_type": "code",
   "execution_count": 279,
   "id": "b9d190aa",
   "metadata": {},
   "outputs": [
    {
     "name": "stdout",
     "output_type": "stream",
     "text": [
      "FINAL TEST RMSE FOR DATA : 22.86256453071145\n"
     ]
    }
   ],
   "source": [
    "preds = clf.predict(X_test)\n",
    "test_score = MSE(y_pred=preds, y_true=y_test)\n",
    "\n",
    "print(f\"FINAL TEST RMSE FOR DATA : {np.sqrt(test_score)}\")"
   ]
  },
  {
   "cell_type": "markdown",
   "id": "2f28c45d",
   "metadata": {},
   "source": [
    "## Splitting data to X and y"
   ]
  },
  {
   "cell_type": "code",
   "execution_count": 22,
   "id": "8f9ca5d6",
   "metadata": {},
   "outputs": [],
   "source": [
    "# Assigning X and y values\n",
    "# Note the comment about dropping followers and lists too\n",
    "# X = df_dummies.drop(['retweets', 'favorites', 'tweet', 'user', 'creation_time', 'followers', 'lists'], axis=1) #\n",
    "X = df_features.drop(['retweets'], axis=1) #\n",
    "y = df_features['retweets']"
   ]
  },
  {
   "cell_type": "code",
   "execution_count": 277,
   "id": "36dd7807",
   "metadata": {},
   "outputs": [],
   "source": [
    "# # Run this cell if you're using our feature selection\n",
    "# X = df_features.drop('retweets', axis=1)\n",
    "# y = df_features['retweets']"
   ]
  },
  {
   "cell_type": "code",
   "execution_count": 23,
   "id": "7406decb",
   "metadata": {},
   "outputs": [],
   "source": [
    "# Log transform of y\n",
    "y_log = np.log1p(y)\n",
    "\n",
    "# Train-test Split\n",
    "X_train, X_test, y_train, y_test = train_test_split(X, y_log, random_state=42)\n",
    "\n",
    "# Creating Validation Set\n",
    "X_train, X_val, y_train, y_val = train_test_split(X_train, y_train, random_state=42)"
   ]
  },
  {
   "cell_type": "code",
   "execution_count": 24,
   "id": "3a19f409",
   "metadata": {},
   "outputs": [
    {
     "data": {
      "text/html": [
       "<div>\n",
       "<style scoped>\n",
       "    .dataframe tbody tr th:only-of-type {\n",
       "        vertical-align: middle;\n",
       "    }\n",
       "\n",
       "    .dataframe tbody tr th {\n",
       "        vertical-align: top;\n",
       "    }\n",
       "\n",
       "    .dataframe thead th {\n",
       "        text-align: right;\n",
       "    }\n",
       "</style>\n",
       "<table border=\"1\" class=\"dataframe\">\n",
       "  <thead>\n",
       "    <tr style=\"text-align: right;\">\n",
       "      <th></th>\n",
       "      <th>followers</th>\n",
       "      <th>lists</th>\n",
       "      <th>00_BOW</th>\n",
       "      <th>000_BOW</th>\n",
       "      <th>10_BOW</th>\n",
       "      <th>100_BOW</th>\n",
       "      <th>100daysofcode_BOW</th>\n",
       "      <th>11_BOW</th>\n",
       "      <th>12_BOW</th>\n",
       "      <th>13_BOW</th>\n",
       "      <th>...</th>\n",
       "      <th>438_TOP</th>\n",
       "      <th>439_TOP</th>\n",
       "      <th>440_TOP</th>\n",
       "      <th>441_TOP</th>\n",
       "      <th>442_TOP</th>\n",
       "      <th>443_TOP</th>\n",
       "      <th>444_TOP</th>\n",
       "      <th>445_TOP</th>\n",
       "      <th>446_TOP</th>\n",
       "      <th>447_TOP</th>\n",
       "    </tr>\n",
       "  </thead>\n",
       "  <tbody>\n",
       "    <tr>\n",
       "      <th>50811</th>\n",
       "      <td>1359</td>\n",
       "      <td>20</td>\n",
       "      <td>0</td>\n",
       "      <td>0</td>\n",
       "      <td>0</td>\n",
       "      <td>0</td>\n",
       "      <td>0</td>\n",
       "      <td>0</td>\n",
       "      <td>0</td>\n",
       "      <td>0</td>\n",
       "      <td>...</td>\n",
       "      <td>0</td>\n",
       "      <td>0</td>\n",
       "      <td>0</td>\n",
       "      <td>0</td>\n",
       "      <td>0</td>\n",
       "      <td>0</td>\n",
       "      <td>0</td>\n",
       "      <td>0</td>\n",
       "      <td>0</td>\n",
       "      <td>0</td>\n",
       "    </tr>\n",
       "    <tr>\n",
       "      <th>41513</th>\n",
       "      <td>7359</td>\n",
       "      <td>206</td>\n",
       "      <td>0</td>\n",
       "      <td>0</td>\n",
       "      <td>0</td>\n",
       "      <td>0</td>\n",
       "      <td>0</td>\n",
       "      <td>0</td>\n",
       "      <td>0</td>\n",
       "      <td>0</td>\n",
       "      <td>...</td>\n",
       "      <td>0</td>\n",
       "      <td>0</td>\n",
       "      <td>0</td>\n",
       "      <td>0</td>\n",
       "      <td>0</td>\n",
       "      <td>0</td>\n",
       "      <td>0</td>\n",
       "      <td>0</td>\n",
       "      <td>0</td>\n",
       "      <td>0</td>\n",
       "    </tr>\n",
       "    <tr>\n",
       "      <th>4442</th>\n",
       "      <td>21497</td>\n",
       "      <td>263</td>\n",
       "      <td>0</td>\n",
       "      <td>0</td>\n",
       "      <td>0</td>\n",
       "      <td>0</td>\n",
       "      <td>0</td>\n",
       "      <td>0</td>\n",
       "      <td>0</td>\n",
       "      <td>0</td>\n",
       "      <td>...</td>\n",
       "      <td>0</td>\n",
       "      <td>0</td>\n",
       "      <td>0</td>\n",
       "      <td>0</td>\n",
       "      <td>0</td>\n",
       "      <td>0</td>\n",
       "      <td>0</td>\n",
       "      <td>0</td>\n",
       "      <td>0</td>\n",
       "      <td>0</td>\n",
       "    </tr>\n",
       "    <tr>\n",
       "      <th>43618</th>\n",
       "      <td>33971</td>\n",
       "      <td>820</td>\n",
       "      <td>0</td>\n",
       "      <td>0</td>\n",
       "      <td>0</td>\n",
       "      <td>0</td>\n",
       "      <td>0</td>\n",
       "      <td>0</td>\n",
       "      <td>0</td>\n",
       "      <td>0</td>\n",
       "      <td>...</td>\n",
       "      <td>0</td>\n",
       "      <td>0</td>\n",
       "      <td>0</td>\n",
       "      <td>0</td>\n",
       "      <td>0</td>\n",
       "      <td>0</td>\n",
       "      <td>0</td>\n",
       "      <td>0</td>\n",
       "      <td>0</td>\n",
       "      <td>0</td>\n",
       "    </tr>\n",
       "    <tr>\n",
       "      <th>26911</th>\n",
       "      <td>3618</td>\n",
       "      <td>111</td>\n",
       "      <td>0</td>\n",
       "      <td>0</td>\n",
       "      <td>0</td>\n",
       "      <td>0</td>\n",
       "      <td>0</td>\n",
       "      <td>0</td>\n",
       "      <td>0</td>\n",
       "      <td>0</td>\n",
       "      <td>...</td>\n",
       "      <td>0</td>\n",
       "      <td>0</td>\n",
       "      <td>0</td>\n",
       "      <td>0</td>\n",
       "      <td>0</td>\n",
       "      <td>0</td>\n",
       "      <td>0</td>\n",
       "      <td>0</td>\n",
       "      <td>0</td>\n",
       "      <td>0</td>\n",
       "    </tr>\n",
       "    <tr>\n",
       "      <th>...</th>\n",
       "      <td>...</td>\n",
       "      <td>...</td>\n",
       "      <td>...</td>\n",
       "      <td>...</td>\n",
       "      <td>...</td>\n",
       "      <td>...</td>\n",
       "      <td>...</td>\n",
       "      <td>...</td>\n",
       "      <td>...</td>\n",
       "      <td>...</td>\n",
       "      <td>...</td>\n",
       "      <td>...</td>\n",
       "      <td>...</td>\n",
       "      <td>...</td>\n",
       "      <td>...</td>\n",
       "      <td>...</td>\n",
       "      <td>...</td>\n",
       "      <td>...</td>\n",
       "      <td>...</td>\n",
       "      <td>...</td>\n",
       "      <td>...</td>\n",
       "    </tr>\n",
       "    <tr>\n",
       "      <th>59828</th>\n",
       "      <td>2748</td>\n",
       "      <td>14</td>\n",
       "      <td>0</td>\n",
       "      <td>0</td>\n",
       "      <td>0</td>\n",
       "      <td>0</td>\n",
       "      <td>0</td>\n",
       "      <td>0</td>\n",
       "      <td>0</td>\n",
       "      <td>0</td>\n",
       "      <td>...</td>\n",
       "      <td>0</td>\n",
       "      <td>0</td>\n",
       "      <td>0</td>\n",
       "      <td>0</td>\n",
       "      <td>0</td>\n",
       "      <td>0</td>\n",
       "      <td>0</td>\n",
       "      <td>0</td>\n",
       "      <td>0</td>\n",
       "      <td>0</td>\n",
       "    </tr>\n",
       "    <tr>\n",
       "      <th>47403</th>\n",
       "      <td>6910</td>\n",
       "      <td>236</td>\n",
       "      <td>0</td>\n",
       "      <td>0</td>\n",
       "      <td>0</td>\n",
       "      <td>0</td>\n",
       "      <td>0</td>\n",
       "      <td>0</td>\n",
       "      <td>0</td>\n",
       "      <td>0</td>\n",
       "      <td>...</td>\n",
       "      <td>0</td>\n",
       "      <td>0</td>\n",
       "      <td>0</td>\n",
       "      <td>0</td>\n",
       "      <td>0</td>\n",
       "      <td>0</td>\n",
       "      <td>0</td>\n",
       "      <td>0</td>\n",
       "      <td>0</td>\n",
       "      <td>0</td>\n",
       "    </tr>\n",
       "    <tr>\n",
       "      <th>51489</th>\n",
       "      <td>3680</td>\n",
       "      <td>102</td>\n",
       "      <td>0</td>\n",
       "      <td>0</td>\n",
       "      <td>0</td>\n",
       "      <td>0</td>\n",
       "      <td>0</td>\n",
       "      <td>0</td>\n",
       "      <td>0</td>\n",
       "      <td>0</td>\n",
       "      <td>...</td>\n",
       "      <td>0</td>\n",
       "      <td>0</td>\n",
       "      <td>0</td>\n",
       "      <td>0</td>\n",
       "      <td>0</td>\n",
       "      <td>0</td>\n",
       "      <td>0</td>\n",
       "      <td>0</td>\n",
       "      <td>0</td>\n",
       "      <td>0</td>\n",
       "    </tr>\n",
       "    <tr>\n",
       "      <th>18573</th>\n",
       "      <td>8736</td>\n",
       "      <td>97</td>\n",
       "      <td>3</td>\n",
       "      <td>0</td>\n",
       "      <td>0</td>\n",
       "      <td>0</td>\n",
       "      <td>0</td>\n",
       "      <td>0</td>\n",
       "      <td>0</td>\n",
       "      <td>0</td>\n",
       "      <td>...</td>\n",
       "      <td>0</td>\n",
       "      <td>0</td>\n",
       "      <td>0</td>\n",
       "      <td>0</td>\n",
       "      <td>0</td>\n",
       "      <td>0</td>\n",
       "      <td>0</td>\n",
       "      <td>0</td>\n",
       "      <td>0</td>\n",
       "      <td>0</td>\n",
       "    </tr>\n",
       "    <tr>\n",
       "      <th>5637</th>\n",
       "      <td>6370</td>\n",
       "      <td>35</td>\n",
       "      <td>0</td>\n",
       "      <td>0</td>\n",
       "      <td>0</td>\n",
       "      <td>0</td>\n",
       "      <td>0</td>\n",
       "      <td>0</td>\n",
       "      <td>0</td>\n",
       "      <td>0</td>\n",
       "      <td>...</td>\n",
       "      <td>0</td>\n",
       "      <td>0</td>\n",
       "      <td>0</td>\n",
       "      <td>0</td>\n",
       "      <td>0</td>\n",
       "      <td>0</td>\n",
       "      <td>0</td>\n",
       "      <td>0</td>\n",
       "      <td>0</td>\n",
       "      <td>0</td>\n",
       "    </tr>\n",
       "  </tbody>\n",
       "</table>\n",
       "<p>16263 rows × 3513 columns</p>\n",
       "</div>"
      ],
      "text/plain": [
       "       followers  lists  00_BOW  000_BOW  10_BOW  100_BOW  100daysofcode_BOW  \\\n",
       "50811       1359     20       0        0       0        0                  0   \n",
       "41513       7359    206       0        0       0        0                  0   \n",
       "4442       21497    263       0        0       0        0                  0   \n",
       "43618      33971    820       0        0       0        0                  0   \n",
       "26911       3618    111       0        0       0        0                  0   \n",
       "...          ...    ...     ...      ...     ...      ...                ...   \n",
       "59828       2748     14       0        0       0        0                  0   \n",
       "47403       6910    236       0        0       0        0                  0   \n",
       "51489       3680    102       0        0       0        0                  0   \n",
       "18573       8736     97       3        0       0        0                  0   \n",
       "5637        6370     35       0        0       0        0                  0   \n",
       "\n",
       "       11_BOW  12_BOW  13_BOW  ...  438_TOP  439_TOP  440_TOP  441_TOP  \\\n",
       "50811       0       0       0  ...        0        0        0        0   \n",
       "41513       0       0       0  ...        0        0        0        0   \n",
       "4442        0       0       0  ...        0        0        0        0   \n",
       "43618       0       0       0  ...        0        0        0        0   \n",
       "26911       0       0       0  ...        0        0        0        0   \n",
       "...       ...     ...     ...  ...      ...      ...      ...      ...   \n",
       "59828       0       0       0  ...        0        0        0        0   \n",
       "47403       0       0       0  ...        0        0        0        0   \n",
       "51489       0       0       0  ...        0        0        0        0   \n",
       "18573       0       0       0  ...        0        0        0        0   \n",
       "5637        0       0       0  ...        0        0        0        0   \n",
       "\n",
       "       442_TOP  443_TOP  444_TOP  445_TOP  446_TOP  447_TOP  \n",
       "50811        0        0        0        0        0        0  \n",
       "41513        0        0        0        0        0        0  \n",
       "4442         0        0        0        0        0        0  \n",
       "43618        0        0        0        0        0        0  \n",
       "26911        0        0        0        0        0        0  \n",
       "...        ...      ...      ...      ...      ...      ...  \n",
       "59828        0        0        0        0        0        0  \n",
       "47403        0        0        0        0        0        0  \n",
       "51489        0        0        0        0        0        0  \n",
       "18573        0        0        0        0        0        0  \n",
       "5637         0        0        0        0        0        0  \n",
       "\n",
       "[16263 rows x 3513 columns]"
      ]
     },
     "execution_count": 24,
     "metadata": {},
     "output_type": "execute_result"
    }
   ],
   "source": [
    "X_train"
   ]
  },
  {
   "cell_type": "markdown",
   "id": "547311c0",
   "metadata": {},
   "source": [
    "# Machine Learning\n",
    "Our data should be prepped and ready for machine learning! We'll compare five different models in two rounds, then pick one or two to iterate further. The first round will be untuned, the second round will be after some tuning."
   ]
  },
  {
   "cell_type": "markdown",
   "id": "15f8f90e",
   "metadata": {},
   "source": [
    "## Linear Regression Baseline"
   ]
  },
  {
   "cell_type": "code",
   "execution_count": 25,
   "id": "a9242cc1",
   "metadata": {},
   "outputs": [
    {
     "name": "stdout",
     "output_type": "stream",
     "text": [
      "Training Accuracy: 45.53%\n",
      "Validation accuracy: 8.478%\n",
      "LR RMSE :  0.917642\n"
     ]
    }
   ],
   "source": [
    "linreg = LinearRegression().fit(X_train, y_train)\n",
    "\n",
    "print('Training Accuracy: {:.4}%'.format(linreg.score(X_train, y_train) * 100))\n",
    "print('Validation accuracy: {:.4}%'.format(linreg.score(X_val, y_val) * 100))\n",
    "\n",
    "pred = linreg.predict(X_val)\n",
    "linreg_rmse = np.sqrt(MSE(y_val, pred))\n",
    "print(\"LR RMSE : % f\" %(linreg_rmse))"
   ]
  },
  {
   "cell_type": "markdown",
   "id": "323f116d",
   "metadata": {},
   "source": [
    "## XGBoost Baseline"
   ]
  },
  {
   "cell_type": "code",
   "execution_count": 26,
   "id": "1f8114a3",
   "metadata": {},
   "outputs": [
    {
     "name": "stderr",
     "output_type": "stream",
     "text": [
      "C:\\Users\\8D\\anaconda3\\lib\\site-packages\\xgboost\\sklearn.py:793: UserWarning: `eval_metric` in `fit` method is deprecated for better compatibility with scikit-learn, use `eval_metric` in constructor or`set_params` instead.\n",
      "  warnings.warn(\n"
     ]
    },
    {
     "name": "stdout",
     "output_type": "stream",
     "text": [
      "[0]\tvalidation_0-rmse:1.14329\tvalidation_0-mae:0.75138\n",
      "[1]\tvalidation_0-rmse:1.01575\tvalidation_0-mae:0.67335\n",
      "[2]\tvalidation_0-rmse:0.94474\tvalidation_0-mae:0.64182\n",
      "[3]\tvalidation_0-rmse:0.90574\tvalidation_0-mae:0.62920\n",
      "[4]\tvalidation_0-rmse:0.88184\tvalidation_0-mae:0.62379\n",
      "[5]\tvalidation_0-rmse:0.87016\tvalidation_0-mae:0.62419\n",
      "[6]\tvalidation_0-rmse:0.86324\tvalidation_0-mae:0.62465\n",
      "[7]\tvalidation_0-rmse:0.85819\tvalidation_0-mae:0.62420\n",
      "[8]\tvalidation_0-rmse:0.85481\tvalidation_0-mae:0.62462\n",
      "[9]\tvalidation_0-rmse:0.85114\tvalidation_0-mae:0.62397\n",
      "[10]\tvalidation_0-rmse:0.84963\tvalidation_0-mae:0.62393\n",
      "[11]\tvalidation_0-rmse:0.85031\tvalidation_0-mae:0.62573\n",
      "[12]\tvalidation_0-rmse:0.85015\tvalidation_0-mae:0.62630\n",
      "[13]\tvalidation_0-rmse:0.84915\tvalidation_0-mae:0.62563\n",
      "[14]\tvalidation_0-rmse:0.84934\tvalidation_0-mae:0.62610\n",
      "[15]\tvalidation_0-rmse:0.84767\tvalidation_0-mae:0.62510\n",
      "[16]\tvalidation_0-rmse:0.84772\tvalidation_0-mae:0.62508\n",
      "[17]\tvalidation_0-rmse:0.84763\tvalidation_0-mae:0.62512\n",
      "[18]\tvalidation_0-rmse:0.84338\tvalidation_0-mae:0.62230\n",
      "[19]\tvalidation_0-rmse:0.84316\tvalidation_0-mae:0.62191\n",
      "[20]\tvalidation_0-rmse:0.84368\tvalidation_0-mae:0.62182\n",
      "[21]\tvalidation_0-rmse:0.84030\tvalidation_0-mae:0.61902\n",
      "[22]\tvalidation_0-rmse:0.84071\tvalidation_0-mae:0.61974\n",
      "[23]\tvalidation_0-rmse:0.84041\tvalidation_0-mae:0.61932\n",
      "[24]\tvalidation_0-rmse:0.84093\tvalidation_0-mae:0.61983\n",
      "[25]\tvalidation_0-rmse:0.84158\tvalidation_0-mae:0.62026\n",
      "[26]\tvalidation_0-rmse:0.84254\tvalidation_0-mae:0.62081\n",
      "[27]\tvalidation_0-rmse:0.84074\tvalidation_0-mae:0.61943\n",
      "[28]\tvalidation_0-rmse:0.84098\tvalidation_0-mae:0.61936\n",
      "[29]\tvalidation_0-rmse:0.84110\tvalidation_0-mae:0.61952\n",
      "[30]\tvalidation_0-rmse:0.84043\tvalidation_0-mae:0.61940\n",
      "[31]\tvalidation_0-rmse:0.83997\tvalidation_0-mae:0.61908\n",
      "[32]\tvalidation_0-rmse:0.83989\tvalidation_0-mae:0.61911\n",
      "[33]\tvalidation_0-rmse:0.83979\tvalidation_0-mae:0.61916\n",
      "[34]\tvalidation_0-rmse:0.83977\tvalidation_0-mae:0.61907\n",
      "[35]\tvalidation_0-rmse:0.84051\tvalidation_0-mae:0.61942\n",
      "[36]\tvalidation_0-rmse:0.84004\tvalidation_0-mae:0.61902\n",
      "[37]\tvalidation_0-rmse:0.84067\tvalidation_0-mae:0.61952\n",
      "[38]\tvalidation_0-rmse:0.84092\tvalidation_0-mae:0.61924\n",
      "[39]\tvalidation_0-rmse:0.84074\tvalidation_0-mae:0.61920\n",
      "[40]\tvalidation_0-rmse:0.84038\tvalidation_0-mae:0.61926\n",
      "[41]\tvalidation_0-rmse:0.83976\tvalidation_0-mae:0.61936\n",
      "[42]\tvalidation_0-rmse:0.84002\tvalidation_0-mae:0.61936\n",
      "[43]\tvalidation_0-rmse:0.83966\tvalidation_0-mae:0.61911\n",
      "[44]\tvalidation_0-rmse:0.83987\tvalidation_0-mae:0.61941\n",
      "[45]\tvalidation_0-rmse:0.83988\tvalidation_0-mae:0.61929\n",
      "[46]\tvalidation_0-rmse:0.84013\tvalidation_0-mae:0.61955\n",
      "[47]\tvalidation_0-rmse:0.84022\tvalidation_0-mae:0.61963\n",
      "[48]\tvalidation_0-rmse:0.84021\tvalidation_0-mae:0.61953\n",
      "[49]\tvalidation_0-rmse:0.84032\tvalidation_0-mae:0.61947\n",
      "[50]\tvalidation_0-rmse:0.84002\tvalidation_0-mae:0.61921\n",
      "[51]\tvalidation_0-rmse:0.84080\tvalidation_0-mae:0.61986\n",
      "[52]\tvalidation_0-rmse:0.84157\tvalidation_0-mae:0.61993\n",
      "[53]\tvalidation_0-rmse:0.84229\tvalidation_0-mae:0.62039\n",
      "[54]\tvalidation_0-rmse:0.84290\tvalidation_0-mae:0.62061\n",
      "[55]\tvalidation_0-rmse:0.84294\tvalidation_0-mae:0.62083\n",
      "[56]\tvalidation_0-rmse:0.84284\tvalidation_0-mae:0.62073\n",
      "[57]\tvalidation_0-rmse:0.84295\tvalidation_0-mae:0.62071\n",
      "[58]\tvalidation_0-rmse:0.84298\tvalidation_0-mae:0.62061\n",
      "[59]\tvalidation_0-rmse:0.84312\tvalidation_0-mae:0.62075\n",
      "[60]\tvalidation_0-rmse:0.84374\tvalidation_0-mae:0.62137\n",
      "[61]\tvalidation_0-rmse:0.84399\tvalidation_0-mae:0.62174\n",
      "[62]\tvalidation_0-rmse:0.84433\tvalidation_0-mae:0.62213\n",
      "[63]\tvalidation_0-rmse:0.84419\tvalidation_0-mae:0.62195\n",
      "[64]\tvalidation_0-rmse:0.84436\tvalidation_0-mae:0.62188\n",
      "[65]\tvalidation_0-rmse:0.84395\tvalidation_0-mae:0.62189\n",
      "[66]\tvalidation_0-rmse:0.84414\tvalidation_0-mae:0.62174\n",
      "[67]\tvalidation_0-rmse:0.84404\tvalidation_0-mae:0.62158\n",
      "[68]\tvalidation_0-rmse:0.84462\tvalidation_0-mae:0.62221\n",
      "[69]\tvalidation_0-rmse:0.84452\tvalidation_0-mae:0.62225\n",
      "[70]\tvalidation_0-rmse:0.84489\tvalidation_0-mae:0.62296\n",
      "[71]\tvalidation_0-rmse:0.84538\tvalidation_0-mae:0.62328\n",
      "[72]\tvalidation_0-rmse:0.84540\tvalidation_0-mae:0.62339\n",
      "[73]\tvalidation_0-rmse:0.84561\tvalidation_0-mae:0.62339\n",
      "[74]\tvalidation_0-rmse:0.84565\tvalidation_0-mae:0.62331\n",
      "[75]\tvalidation_0-rmse:0.84570\tvalidation_0-mae:0.62326\n",
      "[76]\tvalidation_0-rmse:0.84578\tvalidation_0-mae:0.62350\n",
      "[77]\tvalidation_0-rmse:0.84575\tvalidation_0-mae:0.62330\n",
      "[78]\tvalidation_0-rmse:0.84563\tvalidation_0-mae:0.62315\n",
      "[79]\tvalidation_0-rmse:0.84596\tvalidation_0-mae:0.62345\n",
      "[80]\tvalidation_0-rmse:0.84621\tvalidation_0-mae:0.62356\n",
      "[81]\tvalidation_0-rmse:0.84619\tvalidation_0-mae:0.62349\n",
      "[82]\tvalidation_0-rmse:0.84619\tvalidation_0-mae:0.62377\n",
      "[83]\tvalidation_0-rmse:0.84626\tvalidation_0-mae:0.62413\n",
      "[84]\tvalidation_0-rmse:0.84614\tvalidation_0-mae:0.62413\n",
      "[85]\tvalidation_0-rmse:0.84619\tvalidation_0-mae:0.62418\n",
      "[86]\tvalidation_0-rmse:0.84697\tvalidation_0-mae:0.62482\n",
      "[87]\tvalidation_0-rmse:0.84716\tvalidation_0-mae:0.62487\n",
      "[88]\tvalidation_0-rmse:0.84720\tvalidation_0-mae:0.62477\n",
      "[89]\tvalidation_0-rmse:0.84712\tvalidation_0-mae:0.62490\n",
      "[90]\tvalidation_0-rmse:0.84747\tvalidation_0-mae:0.62540\n",
      "[91]\tvalidation_0-rmse:0.84772\tvalidation_0-mae:0.62542\n",
      "[92]\tvalidation_0-rmse:0.84723\tvalidation_0-mae:0.62512\n",
      "[93]\tvalidation_0-rmse:0.84697\tvalidation_0-mae:0.62506\n",
      "[94]\tvalidation_0-rmse:0.84720\tvalidation_0-mae:0.62538\n",
      "[95]\tvalidation_0-rmse:0.84737\tvalidation_0-mae:0.62518\n",
      "[96]\tvalidation_0-rmse:0.84780\tvalidation_0-mae:0.62552\n",
      "[97]\tvalidation_0-rmse:0.84798\tvalidation_0-mae:0.62601\n",
      "[98]\tvalidation_0-rmse:0.84830\tvalidation_0-mae:0.62628\n",
      "[99]\tvalidation_0-rmse:0.84800\tvalidation_0-mae:0.62623\n",
      "Training took a total of 0:01:02.637998\n",
      "{}\n"
     ]
    }
   ],
   "source": [
    "start = datetime.datetime.now()\n",
    "\n",
    "progress = dict()\n",
    "eval_set = [(X_val, y_val)]\n",
    "eval_metric = [\"rmse\",\"mae\"]\n",
    "\n",
    "XGB = xgboost.XGBRegressor(objective='reg:squarederror') # , early_stopping_rounds=1\n",
    "XGBhist = XGB.fit(X_train, y_train, eval_metric=eval_metric, eval_set=eval_set, )\n",
    "\n",
    "end = datetime.datetime.now(); elapsed = end-start\n",
    "print('Training took a total of {}'.format(elapsed))\n",
    "print(progress)"
   ]
  },
  {
   "cell_type": "code",
   "execution_count": 27,
   "id": "3697fef2",
   "metadata": {},
   "outputs": [
    {
     "name": "stdout",
     "output_type": "stream",
     "text": [
      "Training Accuracy: 84.36%\n",
      "Validation accuracy: 21.8%\n",
      "XGB RMSE :  0.848004\n"
     ]
    }
   ],
   "source": [
    "# Accuracy of training and val sets\n",
    "print('Training Accuracy: {:.4}%'.format(XGB.score(X_train, y_train) * 100))\n",
    "print('Validation accuracy: {:.3}%'.format(XGB.score(X_val, y_val) * 100))\n",
    "\n",
    "pred = XGB.predict(X_val)\n",
    "xgb_rmse = np.sqrt(MSE(y_val, pred))\n",
    "print(\"XGB RMSE : % f\" %(xgb_rmse))"
   ]
  },
  {
   "cell_type": "markdown",
   "id": "91dfdfe5",
   "metadata": {},
   "source": [
    "## Random Forest Regressor"
   ]
  },
  {
   "cell_type": "code",
   "execution_count": 28,
   "id": "515b8a1e",
   "metadata": {},
   "outputs": [
    {
     "name": "stdout",
     "output_type": "stream",
     "text": [
      "Training took a total of 0:25:47.662213\n"
     ]
    }
   ],
   "source": [
    "# Timing\n",
    "start = datetime.datetime.now()\n",
    "\n",
    "# Instantiate and fit a RandomForest Regressor\n",
    "forest = RandomForestRegressor(max_depth=8, n_estimators=200)\n",
    "forest.fit(X_train, y_train)\n",
    "\n",
    "# Timing\n",
    "end = datetime.datetime.now(); elapsed = end-start\n",
    "print('Training took a total of {}'.format(elapsed))"
   ]
  },
  {
   "cell_type": "code",
   "execution_count": 29,
   "id": "542fa01d",
   "metadata": {
    "scrolled": true
   },
   "outputs": [
    {
     "name": "stdout",
     "output_type": "stream",
     "text": [
      "Training Accuracy: 36.43%\n",
      "Validation accuracy: 19.15%\n",
      "RF RMSE :  0.859512\n"
     ]
    }
   ],
   "source": [
    "# Training and Testing accuracy score\n",
    "print('Training Accuracy: {:.4}%'.format(forest.score(X_train, y_train) * 100))\n",
    "print('Validation accuracy: {:.4}%'.format(forest.score(X_test, y_test) * 100))\n",
    "\n",
    "pred = forest.predict(X_val)\n",
    "forest_rmse = np.sqrt(MSE(y_val, pred))\n",
    "print(\"RF RMSE : % f\" %(forest_rmse))"
   ]
  },
  {
   "cell_type": "markdown",
   "id": "74c8e61c",
   "metadata": {},
   "source": [
    "## Deep Learning"
   ]
  },
  {
   "cell_type": "code",
   "execution_count": 289,
   "id": "f4989380",
   "metadata": {},
   "outputs": [],
   "source": [
    "# Establish our metrics\n",
    "METRICS = [tf.keras.metrics.MeanAbsoluteError(),\n",
    "           tf.keras.metrics.RootMeanSquaredError()]"
   ]
  },
  {
   "cell_type": "code",
   "execution_count": 296,
   "id": "afd9025f",
   "metadata": {},
   "outputs": [],
   "source": [
    "def build_model():\n",
    "  model = keras.Sequential([\n",
    "    keras.layers.Input(shape=(X_train.shape[1],)),                  \n",
    "    keras.layers.Dense(64, activation=tf.nn.crelu), # tf.keras.layers.Dropout(0.05),\n",
    "    tf.keras.layers.BatchNormalization(),\n",
    "    keras.layers.Dense(64, activation=tf.nn.crelu), # tf.keras.layers.Dropout(0.05),\n",
    "    keras.layers.Dense(1)\n",
    "  ], name=\"MLP_model\")\n",
    "\n",
    "  optimizer = 'adam'\n",
    "\n",
    "  model.compile(loss='mse',\n",
    "                optimizer=optimizer,\n",
    "                metrics=METRICS)\n",
    "  return model\n",
    "\n",
    "deep_1 = build_model()\n",
    "# deep_1.summary()"
   ]
  },
  {
   "cell_type": "code",
   "execution_count": 297,
   "id": "f2ef713b",
   "metadata": {
    "scrolled": false
   },
   "outputs": [
    {
     "name": "stdout",
     "output_type": "stream",
     "text": [
      "Epoch 1/5\n",
      "407/407 [==============================] - 1s 1ms/step - loss: 0.9745 - mean_absolute_error: 0.7407 - root_mean_squared_error: 1.0070 - val_loss: 1.2958 - val_mean_absolute_error: 0.7514 - val_root_mean_squared_error: 1.1383\n",
      "Epoch 2/5\n",
      "407/407 [==============================] - 0s 1ms/step - loss: 0.8431 - mean_absolute_error: 0.6833 - root_mean_squared_error: 0.9182 - val_loss: 0.8821 - val_mean_absolute_error: 0.6717 - val_root_mean_squared_error: 0.9392\n",
      "Epoch 3/5\n",
      "407/407 [==============================] - 1s 1ms/step - loss: 0.8043 - mean_absolute_error: 0.6683 - root_mean_squared_error: 0.8968 - val_loss: 0.8766 - val_mean_absolute_error: 0.6860 - val_root_mean_squared_error: 0.9363\n",
      "Epoch 4/5\n",
      "407/407 [==============================] - 1s 1ms/step - loss: 0.7874 - mean_absolute_error: 0.6613 - root_mean_squared_error: 0.8874 - val_loss: 0.8797 - val_mean_absolute_error: 0.6829 - val_root_mean_squared_error: 0.9379\n",
      "Epoch 5/5\n",
      "407/407 [==============================] - 1s 1ms/step - loss: 0.7615 - mean_absolute_error: 0.6511 - root_mean_squared_error: 0.8726 - val_loss: 0.8598 - val_mean_absolute_error: 0.6820 - val_root_mean_squared_error: 0.9273\n",
      "Training took a total of 0:00:03.136003\n"
     ]
    }
   ],
   "source": [
    "# Timing\n",
    "start = datetime.datetime.now()\n",
    "\n",
    "EPOCHS = 5\n",
    "# Store training stats\n",
    "deep_hist_1 = deep_1.fit(X_train, y_train, epochs=EPOCHS,\n",
    "                    validation_split=0.2, verbose=1)\n",
    "\n",
    "# Timing\n",
    "end = datetime.datetime.now(); elapsed = end-start\n",
    "print('Training took a total of {}'.format(elapsed))"
   ]
  },
  {
   "cell_type": "code",
   "execution_count": 298,
   "id": "ed2300a7",
   "metadata": {
    "scrolled": true
   },
   "outputs": [
    {
     "name": "stdout",
     "output_type": "stream",
     "text": [
      "Train RMSE:  0.8924\n",
      "Val RMSE:  0.9621\n"
     ]
    },
    {
     "data": {
      "image/png": "[encoded data removed]",
      "text/plain": [
       "<Figure size 432x288 with 1 Axes>"
      ]
     },
     "metadata": {
      "needs_background": "light"
     },
     "output_type": "display_data"
    }
   ],
   "source": [
    "plot_history(deep_hist_1)\n",
    "\n",
    "train_score = deep_1.evaluate(X_train, y_train, verbose = 0) \n",
    "# print('Val loss:', score[0]) \n",
    "print('Train RMSE:  {:.4}'.format(train_score[2]))\n",
    "\n",
    "val_score = deep_1.evaluate(X_val, y_val, verbose = 0) \n",
    "# print('Val loss:', score[0]) \n",
    "print('Val RMSE:  {:.4}'.format(val_score[2]))"
   ]
  },
  {
   "cell_type": "markdown",
   "id": "60463c7c",
   "metadata": {},
   "source": [
    "## Comparing our Baselines"
   ]
  },
  {
   "cell_type": "code",
   "execution_count": 288,
   "id": "f93c6fe3",
   "metadata": {
    "scrolled": false
   },
   "outputs": [
    {
     "name": "stdout",
     "output_type": "stream",
     "text": [
      "Linear Regression Predictions:\n",
      "Linear Regression Validation RMSE :  0.897655\n"
     ]
    },
    {
     "data": {
      "image/png": "[encoded data removed]",
      "text/plain": [
       "<Figure size 576x288 with 2 Axes>"
      ]
     },
     "metadata": {
      "needs_background": "light"
     },
     "output_type": "display_data"
    },
    {
     "name": "stdout",
     "output_type": "stream",
     "text": [
      "XGBoost Predictions:\n",
      "XGBoost Validation RMSE :  0.929571\n"
     ]
    },
    {
     "data": {
      "image/png": "[encoded data removed]",
      "text/plain": [
       "<Figure size 576x288 with 2 Axes>"
      ]
     },
     "metadata": {
      "needs_background": "light"
     },
     "output_type": "display_data"
    },
    {
     "name": "stdout",
     "output_type": "stream",
     "text": [
      "Random Forest Predictions:\n",
      "RF Validation RMSE :  0.912194\n"
     ]
    },
    {
     "data": {
      "image/png": "[encoded data removed]",
      "text/plain": [
       "<Figure size 576x288 with 2 Axes>"
      ]
     },
     "metadata": {
      "needs_background": "light"
     },
     "output_type": "display_data"
    },
    {
     "name": "stdout",
     "output_type": "stream",
     "text": [
      "Deep Learning Predictions:\n"
     ]
    },
    {
     "ename": "InvalidArgumentError",
     "evalue": "Graph execution error:\n\nDetected at node 'MLP_model/dense_9/BiasAdd' defined at (most recent call last):\n    File \"C:\\Users\\8D\\anaconda3\\lib\\runpy.py\", line 197, in _run_module_as_main\n      return _run_code(code, main_globals, None,\n    File \"C:\\Users\\8D\\anaconda3\\lib\\runpy.py\", line 87, in _run_code\n      exec(code, run_globals)\n    File \"C:\\Users\\8D\\anaconda3\\lib\\site-packages\\ipykernel_launcher.py\", line 16, in <module>\n      app.launch_new_instance()\n    File \"C:\\Users\\8D\\anaconda3\\lib\\site-packages\\traitlets\\config\\application.py\", line 846, in launch_instance\n      app.start()\n    File \"C:\\Users\\8D\\anaconda3\\lib\\site-packages\\ipykernel\\kernelapp.py\", line 677, in start\n      self.io_loop.start()\n    File \"C:\\Users\\8D\\anaconda3\\lib\\site-packages\\tornado\\platform\\asyncio.py\", line 199, in start\n      self.asyncio_loop.run_forever()\n    File \"C:\\Users\\8D\\anaconda3\\lib\\asyncio\\base_events.py\", line 596, in run_forever\n      self._run_once()\n    File \"C:\\Users\\8D\\anaconda3\\lib\\asyncio\\base_events.py\", line 1890, in _run_once\n      handle._run()\n    File \"C:\\Users\\8D\\anaconda3\\lib\\asyncio\\events.py\", line 80, in _run\n      self._context.run(self._callback, *self._args)\n    File \"C:\\Users\\8D\\anaconda3\\lib\\site-packages\\ipykernel\\kernelbase.py\", line 457, in dispatch_queue\n      await self.process_one()\n    File \"C:\\Users\\8D\\anaconda3\\lib\\site-packages\\ipykernel\\kernelbase.py\", line 446, in process_one\n      await dispatch(*args)\n    File \"C:\\Users\\8D\\anaconda3\\lib\\site-packages\\ipykernel\\kernelbase.py\", line 353, in dispatch_shell\n      await result\n    File \"C:\\Users\\8D\\anaconda3\\lib\\site-packages\\ipykernel\\kernelbase.py\", line 648, in execute_request\n      reply_content = await reply_content\n    File \"C:\\Users\\8D\\anaconda3\\lib\\site-packages\\ipykernel\\ipkernel.py\", line 353, in do_execute\n      res = shell.run_cell(code, store_history=store_history, silent=silent)\n    File \"C:\\Users\\8D\\anaconda3\\lib\\site-packages\\ipykernel\\zmqshell.py\", line 533, in run_cell\n      return super(ZMQInteractiveShell, self).run_cell(*args, **kwargs)\n    File \"C:\\Users\\8D\\anaconda3\\lib\\site-packages\\IPython\\core\\interactiveshell.py\", line 2901, in run_cell\n      result = self._run_cell(\n    File \"C:\\Users\\8D\\anaconda3\\lib\\site-packages\\IPython\\core\\interactiveshell.py\", line 2947, in _run_cell\n      return runner(coro)\n    File \"C:\\Users\\8D\\anaconda3\\lib\\site-packages\\IPython\\core\\async_helpers.py\", line 68, in _pseudo_sync_runner\n      coro.send(None)\n    File \"C:\\Users\\8D\\anaconda3\\lib\\site-packages\\IPython\\core\\interactiveshell.py\", line 3172, in run_cell_async\n      has_raised = await self.run_ast_nodes(code_ast.body, cell_name,\n    File \"C:\\Users\\8D\\anaconda3\\lib\\site-packages\\IPython\\core\\interactiveshell.py\", line 3364, in run_ast_nodes\n      if (await self.run_code(code, result,  async_=asy)):\n    File \"C:\\Users\\8D\\anaconda3\\lib\\site-packages\\IPython\\core\\interactiveshell.py\", line 3444, in run_code\n      exec(code_obj, self.user_global_ns, self.user_ns)\n    File \"C:\\Users\\8D\\AppData\\Local\\Temp/ipykernel_16632/174559341.py\", line 26, in <module>\n      train_score = deep_1.evaluate(X_train, y_train, verbose = 0)\n    File \"C:\\Users\\8D\\anaconda3\\lib\\site-packages\\keras\\utils\\traceback_utils.py\", line 64, in error_handler\n      return fn(*args, **kwargs)\n    File \"C:\\Users\\8D\\anaconda3\\lib\\site-packages\\keras\\engine\\training.py\", line 1756, in evaluate\n      tmp_logs = self.test_function(iterator)\n    File \"C:\\Users\\8D\\anaconda3\\lib\\site-packages\\keras\\engine\\training.py\", line 1557, in test_function\n      return step_function(self, iterator)\n    File \"C:\\Users\\8D\\anaconda3\\lib\\site-packages\\keras\\engine\\training.py\", line 1546, in step_function\n      outputs = model.distribute_strategy.run(run_step, args=(data,))\n    File \"C:\\Users\\8D\\anaconda3\\lib\\site-packages\\keras\\engine\\training.py\", line 1535, in run_step\n      outputs = model.test_step(data)\n    File \"C:\\Users\\8D\\anaconda3\\lib\\site-packages\\keras\\engine\\training.py\", line 1499, in test_step\n      y_pred = self(x, training=False)\n    File \"C:\\Users\\8D\\anaconda3\\lib\\site-packages\\keras\\utils\\traceback_utils.py\", line 64, in error_handler\n      return fn(*args, **kwargs)\n    File \"C:\\Users\\8D\\anaconda3\\lib\\site-packages\\keras\\engine\\training.py\", line 490, in __call__\n      return super().__call__(*args, **kwargs)\n    File \"C:\\Users\\8D\\anaconda3\\lib\\site-packages\\keras\\utils\\traceback_utils.py\", line 64, in error_handler\n      return fn(*args, **kwargs)\n    File \"C:\\Users\\8D\\anaconda3\\lib\\site-packages\\keras\\engine\\base_layer.py\", line 1014, in __call__\n      outputs = call_fn(inputs, *args, **kwargs)\n    File \"C:\\Users\\8D\\anaconda3\\lib\\site-packages\\keras\\utils\\traceback_utils.py\", line 92, in error_handler\n      return fn(*args, **kwargs)\n    File \"C:\\Users\\8D\\anaconda3\\lib\\site-packages\\keras\\engine\\sequential.py\", line 374, in call\n      return super(Sequential, self).call(inputs, training=training, mask=mask)\n    File \"C:\\Users\\8D\\anaconda3\\lib\\site-packages\\keras\\engine\\functional.py\", line 458, in call\n      return self._run_internal_graph(\n    File \"C:\\Users\\8D\\anaconda3\\lib\\site-packages\\keras\\engine\\functional.py\", line 596, in _run_internal_graph\n      outputs = node.layer(*args, **kwargs)\n    File \"C:\\Users\\8D\\anaconda3\\lib\\site-packages\\keras\\utils\\traceback_utils.py\", line 64, in error_handler\n      return fn(*args, **kwargs)\n    File \"C:\\Users\\8D\\anaconda3\\lib\\site-packages\\keras\\engine\\base_layer.py\", line 1014, in __call__\n      outputs = call_fn(inputs, *args, **kwargs)\n    File \"C:\\Users\\8D\\anaconda3\\lib\\site-packages\\keras\\utils\\traceback_utils.py\", line 92, in error_handler\n      return fn(*args, **kwargs)\n    File \"C:\\Users\\8D\\anaconda3\\lib\\site-packages\\keras\\layers\\core\\dense.py\", line 232, in call\n      outputs = tf.nn.bias_add(outputs, self.bias)\nNode: 'MLP_model/dense_9/BiasAdd'\nMatrix size-incompatible: In[0]: [32,97], In[1]: [299,64]\n\t [[{{node MLP_model/dense_9/BiasAdd}}]] [Op:__inference_test_function_249444]",
     "output_type": "error",
     "traceback": [
      "\u001b[1;31m---------------------------------------------------------------------------\u001b[0m",
      "\u001b[1;31mInvalidArgumentError\u001b[0m                      Traceback (most recent call last)",
      "\u001b[1;32m~\\AppData\\Local\\Temp/ipykernel_16632/174559341.py\u001b[0m in \u001b[0;36m<module>\u001b[1;34m\u001b[0m\n\u001b[0;32m     24\u001b[0m \u001b[1;33m\u001b[0m\u001b[0m\n\u001b[0;32m     25\u001b[0m \u001b[0mprint\u001b[0m\u001b[1;33m(\u001b[0m\u001b[1;34m'Deep Learning Predictions:'\u001b[0m\u001b[1;33m)\u001b[0m\u001b[1;33m\u001b[0m\u001b[1;33m\u001b[0m\u001b[0m\n\u001b[1;32m---> 26\u001b[1;33m \u001b[0mtrain_score\u001b[0m \u001b[1;33m=\u001b[0m \u001b[0mdeep_1\u001b[0m\u001b[1;33m.\u001b[0m\u001b[0mevaluate\u001b[0m\u001b[1;33m(\u001b[0m\u001b[0mX_train\u001b[0m\u001b[1;33m,\u001b[0m \u001b[0my_train\u001b[0m\u001b[1;33m,\u001b[0m \u001b[0mverbose\u001b[0m \u001b[1;33m=\u001b[0m \u001b[1;36m0\u001b[0m\u001b[1;33m)\u001b[0m\u001b[1;33m\u001b[0m\u001b[1;33m\u001b[0m\u001b[0m\n\u001b[0m\u001b[0;32m     27\u001b[0m \u001b[0mprint\u001b[0m\u001b[1;33m(\u001b[0m\u001b[1;34m'Deep Learning Validation RMSE:  {:.4}'\u001b[0m\u001b[1;33m.\u001b[0m\u001b[0mformat\u001b[0m\u001b[1;33m(\u001b[0m\u001b[0mval_score\u001b[0m\u001b[1;33m[\u001b[0m\u001b[1;36m2\u001b[0m\u001b[1;33m]\u001b[0m\u001b[1;33m)\u001b[0m\u001b[1;33m)\u001b[0m\u001b[1;33m\u001b[0m\u001b[1;33m\u001b[0m\u001b[0m\n\u001b[0;32m     28\u001b[0m \u001b[0mval_predictions\u001b[0m \u001b[1;33m=\u001b[0m \u001b[0mdeep_1\u001b[0m\u001b[1;33m.\u001b[0m\u001b[0mpredict\u001b[0m\u001b[1;33m(\u001b[0m\u001b[0mX_val\u001b[0m\u001b[1;33m)\u001b[0m\u001b[1;33m.\u001b[0m\u001b[0mflatten\u001b[0m\u001b[1;33m(\u001b[0m\u001b[1;33m)\u001b[0m\u001b[1;33m\u001b[0m\u001b[1;33m\u001b[0m\u001b[0m\n",
      "\u001b[1;32m~\\anaconda3\\lib\\site-packages\\keras\\utils\\traceback_utils.py\u001b[0m in \u001b[0;36merror_handler\u001b[1;34m(*args, **kwargs)\u001b[0m\n\u001b[0;32m     65\u001b[0m     \u001b[1;32mexcept\u001b[0m \u001b[0mException\u001b[0m \u001b[1;32mas\u001b[0m \u001b[0me\u001b[0m\u001b[1;33m:\u001b[0m  \u001b[1;31m# pylint: disable=broad-except\u001b[0m\u001b[1;33m\u001b[0m\u001b[1;33m\u001b[0m\u001b[0m\n\u001b[0;32m     66\u001b[0m       \u001b[0mfiltered_tb\u001b[0m \u001b[1;33m=\u001b[0m \u001b[0m_process_traceback_frames\u001b[0m\u001b[1;33m(\u001b[0m\u001b[0me\u001b[0m\u001b[1;33m.\u001b[0m\u001b[0m__traceback__\u001b[0m\u001b[1;33m)\u001b[0m\u001b[1;33m\u001b[0m\u001b[1;33m\u001b[0m\u001b[0m\n\u001b[1;32m---> 67\u001b[1;33m       \u001b[1;32mraise\u001b[0m \u001b[0me\u001b[0m\u001b[1;33m.\u001b[0m\u001b[0mwith_traceback\u001b[0m\u001b[1;33m(\u001b[0m\u001b[0mfiltered_tb\u001b[0m\u001b[1;33m)\u001b[0m \u001b[1;32mfrom\u001b[0m \u001b[1;32mNone\u001b[0m\u001b[1;33m\u001b[0m\u001b[1;33m\u001b[0m\u001b[0m\n\u001b[0m\u001b[0;32m     68\u001b[0m     \u001b[1;32mfinally\u001b[0m\u001b[1;33m:\u001b[0m\u001b[1;33m\u001b[0m\u001b[1;33m\u001b[0m\u001b[0m\n\u001b[0;32m     69\u001b[0m       \u001b[1;32mdel\u001b[0m \u001b[0mfiltered_tb\u001b[0m\u001b[1;33m\u001b[0m\u001b[1;33m\u001b[0m\u001b[0m\n",
      "\u001b[1;32m~\\anaconda3\\lib\\site-packages\\tensorflow\\python\\eager\\execute.py\u001b[0m in \u001b[0;36mquick_execute\u001b[1;34m(op_name, num_outputs, inputs, attrs, ctx, name)\u001b[0m\n\u001b[0;32m     52\u001b[0m   \u001b[1;32mtry\u001b[0m\u001b[1;33m:\u001b[0m\u001b[1;33m\u001b[0m\u001b[1;33m\u001b[0m\u001b[0m\n\u001b[0;32m     53\u001b[0m     \u001b[0mctx\u001b[0m\u001b[1;33m.\u001b[0m\u001b[0mensure_initialized\u001b[0m\u001b[1;33m(\u001b[0m\u001b[1;33m)\u001b[0m\u001b[1;33m\u001b[0m\u001b[1;33m\u001b[0m\u001b[0m\n\u001b[1;32m---> 54\u001b[1;33m     tensors = pywrap_tfe.TFE_Py_Execute(ctx._handle, device_name, op_name,\n\u001b[0m\u001b[0;32m     55\u001b[0m                                         inputs, attrs, num_outputs)\n\u001b[0;32m     56\u001b[0m   \u001b[1;32mexcept\u001b[0m \u001b[0mcore\u001b[0m\u001b[1;33m.\u001b[0m\u001b[0m_NotOkStatusException\u001b[0m \u001b[1;32mas\u001b[0m \u001b[0me\u001b[0m\u001b[1;33m:\u001b[0m\u001b[1;33m\u001b[0m\u001b[1;33m\u001b[0m\u001b[0m\n",
      "\u001b[1;31mInvalidArgumentError\u001b[0m: Graph execution error:\n\nDetected at node 'MLP_model/dense_9/BiasAdd' defined at (most recent call last):\n    File \"C:\\Users\\8D\\anaconda3\\lib\\runpy.py\", line 197, in _run_module_as_main\n      return _run_code(code, main_globals, None,\n    File \"C:\\Users\\8D\\anaconda3\\lib\\runpy.py\", line 87, in _run_code\n      exec(code, run_globals)\n    File \"C:\\Users\\8D\\anaconda3\\lib\\site-packages\\ipykernel_launcher.py\", line 16, in <module>\n      app.launch_new_instance()\n    File \"C:\\Users\\8D\\anaconda3\\lib\\site-packages\\traitlets\\config\\application.py\", line 846, in launch_instance\n      app.start()\n    File \"C:\\Users\\8D\\anaconda3\\lib\\site-packages\\ipykernel\\kernelapp.py\", line 677, in start\n      self.io_loop.start()\n    File \"C:\\Users\\8D\\anaconda3\\lib\\site-packages\\tornado\\platform\\asyncio.py\", line 199, in start\n      self.asyncio_loop.run_forever()\n    File \"C:\\Users\\8D\\anaconda3\\lib\\asyncio\\base_events.py\", line 596, in run_forever\n      self._run_once()\n    File \"C:\\Users\\8D\\anaconda3\\lib\\asyncio\\base_events.py\", line 1890, in _run_once\n      handle._run()\n    File \"C:\\Users\\8D\\anaconda3\\lib\\asyncio\\events.py\", line 80, in _run\n      self._context.run(self._callback, *self._args)\n    File \"C:\\Users\\8D\\anaconda3\\lib\\site-packages\\ipykernel\\kernelbase.py\", line 457, in dispatch_queue\n      await self.process_one()\n    File \"C:\\Users\\8D\\anaconda3\\lib\\site-packages\\ipykernel\\kernelbase.py\", line 446, in process_one\n      await dispatch(*args)\n    File \"C:\\Users\\8D\\anaconda3\\lib\\site-packages\\ipykernel\\kernelbase.py\", line 353, in dispatch_shell\n      await result\n    File \"C:\\Users\\8D\\anaconda3\\lib\\site-packages\\ipykernel\\kernelbase.py\", line 648, in execute_request\n      reply_content = await reply_content\n    File \"C:\\Users\\8D\\anaconda3\\lib\\site-packages\\ipykernel\\ipkernel.py\", line 353, in do_execute\n      res = shell.run_cell(code, store_history=store_history, silent=silent)\n    File \"C:\\Users\\8D\\anaconda3\\lib\\site-packages\\ipykernel\\zmqshell.py\", line 533, in run_cell\n      return super(ZMQInteractiveShell, self).run_cell(*args, **kwargs)\n    File \"C:\\Users\\8D\\anaconda3\\lib\\site-packages\\IPython\\core\\interactiveshell.py\", line 2901, in run_cell\n      result = self._run_cell(\n    File \"C:\\Users\\8D\\anaconda3\\lib\\site-packages\\IPython\\core\\interactiveshell.py\", line 2947, in _run_cell\n      return runner(coro)\n    File \"C:\\Users\\8D\\anaconda3\\lib\\site-packages\\IPython\\core\\async_helpers.py\", line 68, in _pseudo_sync_runner\n      coro.send(None)\n    File \"C:\\Users\\8D\\anaconda3\\lib\\site-packages\\IPython\\core\\interactiveshell.py\", line 3172, in run_cell_async\n      has_raised = await self.run_ast_nodes(code_ast.body, cell_name,\n    File \"C:\\Users\\8D\\anaconda3\\lib\\site-packages\\IPython\\core\\interactiveshell.py\", line 3364, in run_ast_nodes\n      if (await self.run_code(code, result,  async_=asy)):\n    File \"C:\\Users\\8D\\anaconda3\\lib\\site-packages\\IPython\\core\\interactiveshell.py\", line 3444, in run_code\n      exec(code_obj, self.user_global_ns, self.user_ns)\n    File \"C:\\Users\\8D\\AppData\\Local\\Temp/ipykernel_16632/174559341.py\", line 26, in <module>\n      train_score = deep_1.evaluate(X_train, y_train, verbose = 0)\n    File \"C:\\Users\\8D\\anaconda3\\lib\\site-packages\\keras\\utils\\traceback_utils.py\", line 64, in error_handler\n      return fn(*args, **kwargs)\n    File \"C:\\Users\\8D\\anaconda3\\lib\\site-packages\\keras\\engine\\training.py\", line 1756, in evaluate\n      tmp_logs = self.test_function(iterator)\n    File \"C:\\Users\\8D\\anaconda3\\lib\\site-packages\\keras\\engine\\training.py\", line 1557, in test_function\n      return step_function(self, iterator)\n    File \"C:\\Users\\8D\\anaconda3\\lib\\site-packages\\keras\\engine\\training.py\", line 1546, in step_function\n      outputs = model.distribute_strategy.run(run_step, args=(data,))\n    File \"C:\\Users\\8D\\anaconda3\\lib\\site-packages\\keras\\engine\\training.py\", line 1535, in run_step\n      outputs = model.test_step(data)\n    File \"C:\\Users\\8D\\anaconda3\\lib\\site-packages\\keras\\engine\\training.py\", line 1499, in test_step\n      y_pred = self(x, training=False)\n    File \"C:\\Users\\8D\\anaconda3\\lib\\site-packages\\keras\\utils\\traceback_utils.py\", line 64, in error_handler\n      return fn(*args, **kwargs)\n    File \"C:\\Users\\8D\\anaconda3\\lib\\site-packages\\keras\\engine\\training.py\", line 490, in __call__\n      return super().__call__(*args, **kwargs)\n    File \"C:\\Users\\8D\\anaconda3\\lib\\site-packages\\keras\\utils\\traceback_utils.py\", line 64, in error_handler\n      return fn(*args, **kwargs)\n    File \"C:\\Users\\8D\\anaconda3\\lib\\site-packages\\keras\\engine\\base_layer.py\", line 1014, in __call__\n      outputs = call_fn(inputs, *args, **kwargs)\n    File \"C:\\Users\\8D\\anaconda3\\lib\\site-packages\\keras\\utils\\traceback_utils.py\", line 92, in error_handler\n      return fn(*args, **kwargs)\n    File \"C:\\Users\\8D\\anaconda3\\lib\\site-packages\\keras\\engine\\sequential.py\", line 374, in call\n      return super(Sequential, self).call(inputs, training=training, mask=mask)\n    File \"C:\\Users\\8D\\anaconda3\\lib\\site-packages\\keras\\engine\\functional.py\", line 458, in call\n      return self._run_internal_graph(\n    File \"C:\\Users\\8D\\anaconda3\\lib\\site-packages\\keras\\engine\\functional.py\", line 596, in _run_internal_graph\n      outputs = node.layer(*args, **kwargs)\n    File \"C:\\Users\\8D\\anaconda3\\lib\\site-packages\\keras\\utils\\traceback_utils.py\", line 64, in error_handler\n      return fn(*args, **kwargs)\n    File \"C:\\Users\\8D\\anaconda3\\lib\\site-packages\\keras\\engine\\base_layer.py\", line 1014, in __call__\n      outputs = call_fn(inputs, *args, **kwargs)\n    File \"C:\\Users\\8D\\anaconda3\\lib\\site-packages\\keras\\utils\\traceback_utils.py\", line 92, in error_handler\n      return fn(*args, **kwargs)\n    File \"C:\\Users\\8D\\anaconda3\\lib\\site-packages\\keras\\layers\\core\\dense.py\", line 232, in call\n      outputs = tf.nn.bias_add(outputs, self.bias)\nNode: 'MLP_model/dense_9/BiasAdd'\nMatrix size-incompatible: In[0]: [32,97], In[1]: [299,64]\n\t [[{{node MLP_model/dense_9/BiasAdd}}]] [Op:__inference_test_function_249444]"
     ]
    }
   ],
   "source": [
    "# Comparing all three models\n",
    "print('Linear Regression Predictions:')\n",
    "val_predictions = linreg.predict(X_val).flatten()\n",
    "linreg_rmse = np.sqrt(MSE(y_val, val_predictions))\n",
    "print(\"Linear Regression Validation RMSE : % f\" %(linreg_rmse))\n",
    "val_predictions = linreg.predict(X_val).flatten()\n",
    "plot_prediction(y_val, val_predictions)\n",
    "plt.show()\n",
    "\n",
    "print('XGBoost Predictions:')\n",
    "val_predictions = XGB.predict(X_val).flatten()\n",
    "xgb_rmse = np.sqrt(MSE(y_val, val_predictions))\n",
    "print(\"XGBoost Validation RMSE : % f\" %(xgb_rmse))\n",
    "val_predictions = XGB.predict(X_val).flatten()\n",
    "plot_prediction(y_val, val_predictions)\n",
    "plt.show()\n",
    "\n",
    "print('Random Forest Predictions:')\n",
    "val_predictions = forest.predict(X_val).flatten()\n",
    "forest_rmse = np.sqrt(MSE(y_val, val_predictions))\n",
    "print(\"RF Validation RMSE : % f\" %(forest_rmse))\n",
    "plot_prediction(y_val, val_predictions)\n",
    "plt.show()\n",
    "\n",
    "print('Deep Learning Predictions:')\n",
    "train_score = deep_1.evaluate(X_train, y_train, verbose = 0) \n",
    "print('Deep Learning Validation RMSE:  {:.4}'.format(val_score[2]))\n",
    "val_predictions = deep_1.predict(X_val).flatten()\n",
    "plot_prediction(y_val, val_predictions)"
   ]
  },
  {
   "cell_type": "markdown",
   "id": "0b34aea7",
   "metadata": {},
   "source": [
    "# Hyperparameter Tuning for Top2Vec models\n",
    "Linear Regression doesn't have hyperparameters to tune, so we'll start with XGBoost"
   ]
  },
  {
   "cell_type": "code",
   "execution_count": 68,
   "id": "fee5e383",
   "metadata": {},
   "outputs": [],
   "source": [
    "optimize = 'neg_root_mean_squared_error'"
   ]
  },
  {
   "cell_type": "code",
   "execution_count": 69,
   "id": "f441dd69",
   "metadata": {},
   "outputs": [
    {
     "name": "stdout",
     "output_type": "stream",
     "text": [
      "Fitting 3 folds for each of 1 candidates, totalling 3 fits\n",
      "Grid Search found the following optimal parameters: \n",
      "booster: 'gbtree'\n",
      "colsample_bytree: 0.5\n",
      "eval_metric: 'mlogloss'\n",
      "lambda: 1\n",
      "learning_rate: 0.3\n",
      "max_depth: 5\n",
      "min_child_weight: 4\n",
      "n_estimators: 130\n",
      "Training took a total of 0:00:09.678518\n",
      "{}\n"
     ]
    }
   ],
   "source": [
    "# Our hyperparameter grid, with some other options as comments\n",
    "\n",
    "XGB = xgboost.XGBRegressor(objective='reg:squarederror')\n",
    "\n",
    "XGB_params = {\n",
    "    'learning_rate' : [0.3],\n",
    "    'min_child_weight' : [4],\n",
    "#     'gamma' : [0.0, 0.1, 0.2 , 0.3],\n",
    "    'colsample_bytree' : [0.5],\n",
    "#     'alpha' : [0.01], # L1 regularization\n",
    "#     'eta': [1, 0.5],\n",
    "    'eval_metric':['mlogloss'],\n",
    "    'lambda':[1], # L2 regularization\n",
    "    'booster' : ['gbtree'],\n",
    "    'max_depth': [5],\n",
    "    'n_estimators': [130],\n",
    "#     'subsample': [0.5]\n",
    "}\n",
    "\n",
    "start = datetime.datetime.now()\n",
    "\n",
    "# Searching Parameters\n",
    "XGB3 = GridSearchCV(XGB, XGB_params, scoring=optimize, refit=optimize, cv=3, n_jobs=1, verbose=True)\n",
    "XGB3.fit(X_train, y_train)\n",
    "\n",
    "XGB_best_parameters = XGB3.best_params_\n",
    "\n",
    "print('Grid Search found the following optimal parameters: ')\n",
    "for param_name in sorted(XGB_best_parameters.keys()):\n",
    "    print('%s: %r' % (param_name, XGB_best_parameters[param_name]))\n",
    "    \n",
    "end = datetime.datetime.now(); elapsed = end-start\n",
    "print('Training took a total of {}'.format(elapsed))\n",
    "print(progress)"
   ]
  },
  {
   "cell_type": "code",
   "execution_count": 70,
   "id": "e48cbc47",
   "metadata": {},
   "outputs": [
    {
     "name": "stdout",
     "output_type": "stream",
     "text": [
      "XGB RMSE :  0.918140\n"
     ]
    }
   ],
   "source": [
    "# Validation RMSE\n",
    "pred3 = XGB3.predict(X_val)\n",
    "xgb_rmse = np.sqrt(MSE(y_val, pred3))\n",
    "print(\"XGB RMSE : % f\" %(xgb_rmse))"
   ]
  },
  {
   "cell_type": "markdown",
   "id": "edf470db",
   "metadata": {},
   "source": [
    "## Random Forest Hyperparameter tuning"
   ]
  },
  {
   "cell_type": "code",
   "execution_count": 71,
   "id": "9ad8ed55",
   "metadata": {},
   "outputs": [
    {
     "name": "stdout",
     "output_type": "stream",
     "text": [
      "Grid Search found the following optimal parameters: \n",
      "bootstrap: True\n",
      "max_depth: None\n",
      "max_features: 'auto'\n",
      "n_estimators: 100\n",
      "Training took a total of 0:05:33.044936\n"
     ]
    }
   ],
   "source": [
    "# Our hyperparameter grid, with some other options as comments\n",
    "rf_params = {\n",
    "    'bootstrap' : [True],\n",
    "    'max_features' : ['auto'],\n",
    "    'max_depth' : [None],\n",
    "    'n_estimators' : [100]\n",
    "}\n",
    "\n",
    "start = datetime.datetime.now()\n",
    "\n",
    "# Searching parameters\n",
    "forest3 = GridSearchCV(RandomForestRegressor(), rf_params, scoring='neg_root_mean_squared_error', cv=2, n_jobs=1)\n",
    "forest3.fit(X_train, y_train)\n",
    "\n",
    "rf_best_params = forest3.best_params_\n",
    "\n",
    "print('Grid Search found the following optimal parameters: ')\n",
    "for param_name in sorted(rf_best_params.keys()):\n",
    "    print('%s: %r' % (param_name, rf_best_params[param_name]))\n",
    "    \n",
    "end = datetime.datetime.now(); elapsed = end-start\n",
    "print('Training took a total of {}'.format(elapsed))"
   ]
  },
  {
   "cell_type": "code",
   "execution_count": 72,
   "id": "75aed6e8",
   "metadata": {},
   "outputs": [
    {
     "name": "stdout",
     "output_type": "stream",
     "text": [
      "Forest RMSE :  0.897809\n"
     ]
    }
   ],
   "source": [
    "# Validation RMSE\n",
    "pred3 = forest3.predict(X_val)\n",
    "forest_rmse = np.sqrt(MSE(y_val, pred3))\n",
    "print(\"Forest RMSE : % f\" %(forest_rmse))"
   ]
  },
  {
   "cell_type": "markdown",
   "id": "2e01db57",
   "metadata": {},
   "source": [
    "## Hyperparameter Tuning Analysis"
   ]
  },
  {
   "cell_type": "code",
   "execution_count": null,
   "id": "eaf59aad",
   "metadata": {},
   "outputs": [],
   "source": [
    "print('XGBoost Predictions:')\n",
    "val_predictions = XGB.predict(X_val).flatten()\n",
    "xgb_rmse = np.sqrt(MSE(y_val, val_predictions))\n",
    "print(\"XGBoost Validation RMSE : % f\" %(xgb_rmse))\n",
    "val_predictions = XGB.predict(X_val).flatten()\n",
    "plot_prediction(y_val, val_predictions)\n",
    "plt.show()\n",
    "\n",
    "print('Random Forest Predictions:')\n",
    "val_predictions = forest.predict(X_val).flatten()\n",
    "forest_rmse = np.sqrt(MSE(y_val, val_predictions))\n",
    "print(\"RF Validation RMSE : % f\" %(forest_rmse))\n",
    "plot_prediction(y_val, val_predictions)\n",
    "plt.show()"
   ]
  },
  {
   "cell_type": "markdown",
   "id": "df81f59a",
   "metadata": {},
   "source": [
    "It looks like of these models, XGBoost and Random Forest models performed the best on our data. Going forward, to improve our predictive power, we can either change the data we are feeding these algorithms, or the algorithms themselves.\n",
    "\n",
    "Changing our data means either changing our data collection strategy, or changing our data preparation and feature-engineering. For the purposes of this analysis, our central question is how semantic content influences virality of information. Top2Vec has given us a baseline, and shows that there is some correlation between topics and virality. It seems likely that if we had a better model for the meaning of language, we might have a better way to predict which statements go viral. The next level of complexity for natural language processing is to look at \"document embeddings.\"\n",
    "\n",
    "One of the main ways to derive document embeddings is by leveraging a large pretrained model (like BERT) which has been used to analyze lots and lots of text to determine principle components or important semantic vectors. These vectors can then be used as measures of similarity between sentences or documents. We already did some document embedding in our Top2Vec pipeline, but will our models perform better if we: 1.) use more document embeddings with a larger language model (ROBERTA), and 2.) feed the raw vector data to our machine learning models? Let's find out!"
   ]
  },
  {
   "cell_type": "markdown",
   "id": "518780a1",
   "metadata": {},
   "source": [
    "## Roberta Embedding Extraction\n",
    "Here's where we'll analyze our documents using [ROBERTA](https://huggingface.co/transformers/v2.9.1/model_doc/roberta.html), a large pretrained language model.\n",
    "\n",
    "This stage takes a lot of processing, on my computer this section took 6 hours to run! I have the document embeddings available on request, or you could run this section overnight to get the same embeddings."
   ]
  },
  {
   "cell_type": "code",
   "execution_count": 25,
   "id": "4700faeb",
   "metadata": {},
   "outputs": [],
   "source": [
    "# ### Takes hours to run this cell!\n",
    "# start = datetime.datetime.now()\n",
    "\n",
    "# model = SentenceTransformer('sentence-transformers/all-roberta-large-v1')\n",
    "# embeddings = model.encode(docs) # Note that we're reusing 'docs' from the top2vec \n",
    "\n",
    "# end = datetime.datetime.now(); elapsed = end-start\n",
    "# print('Training took a total of {}'.format(elapsed))"
   ]
  },
  {
   "cell_type": "code",
   "execution_count": 5,
   "id": "612d351b",
   "metadata": {},
   "outputs": [],
   "source": [
    "# ### Saving our embeddings\n",
    "# pd.DataFrame(embeddings).to_csv('ng_embeddings.csv')\n",
    "\n",
    "### Loading our embeddings\n",
    "emb = pd.read_csv('data/ng_embeddings.csv', index_col=0)"
   ]
  },
  {
   "cell_type": "code",
   "execution_count": 8,
   "id": "c0c5d07e",
   "metadata": {
    "scrolled": false
   },
   "outputs": [
    {
     "data": {
      "text/html": [
       "<div>\n",
       "<style scoped>\n",
       "    .dataframe tbody tr th:only-of-type {\n",
       "        vertical-align: middle;\n",
       "    }\n",
       "\n",
       "    .dataframe tbody tr th {\n",
       "        vertical-align: top;\n",
       "    }\n",
       "\n",
       "    .dataframe thead th {\n",
       "        text-align: right;\n",
       "    }\n",
       "</style>\n",
       "<table border=\"1\" class=\"dataframe\">\n",
       "  <thead>\n",
       "    <tr style=\"text-align: right;\">\n",
       "      <th></th>\n",
       "      <th>0</th>\n",
       "      <th>1</th>\n",
       "      <th>2</th>\n",
       "      <th>3</th>\n",
       "      <th>4</th>\n",
       "      <th>5</th>\n",
       "      <th>6</th>\n",
       "      <th>7</th>\n",
       "      <th>8</th>\n",
       "      <th>9</th>\n",
       "      <th>...</th>\n",
       "      <th>1014</th>\n",
       "      <th>1015</th>\n",
       "      <th>1016</th>\n",
       "      <th>1017</th>\n",
       "      <th>1018</th>\n",
       "      <th>1019</th>\n",
       "      <th>1020</th>\n",
       "      <th>1021</th>\n",
       "      <th>1022</th>\n",
       "      <th>1023</th>\n",
       "    </tr>\n",
       "  </thead>\n",
       "  <tbody>\n",
       "    <tr>\n",
       "      <th>0</th>\n",
       "      <td>0.005032</td>\n",
       "      <td>-0.030947</td>\n",
       "      <td>-0.006062</td>\n",
       "      <td>0.047324</td>\n",
       "      <td>-0.055165</td>\n",
       "      <td>-0.057167</td>\n",
       "      <td>-0.030257</td>\n",
       "      <td>-0.031478</td>\n",
       "      <td>0.055101</td>\n",
       "      <td>0.022555</td>\n",
       "      <td>...</td>\n",
       "      <td>-0.010593</td>\n",
       "      <td>0.060685</td>\n",
       "      <td>0.012057</td>\n",
       "      <td>0.050567</td>\n",
       "      <td>-0.049132</td>\n",
       "      <td>-0.028009</td>\n",
       "      <td>-0.038905</td>\n",
       "      <td>-0.025987</td>\n",
       "      <td>0.004756</td>\n",
       "      <td>-0.034641</td>\n",
       "    </tr>\n",
       "    <tr>\n",
       "      <th>1</th>\n",
       "      <td>-0.017376</td>\n",
       "      <td>-0.004529</td>\n",
       "      <td>-0.010203</td>\n",
       "      <td>0.036250</td>\n",
       "      <td>-0.015020</td>\n",
       "      <td>0.017352</td>\n",
       "      <td>-0.022352</td>\n",
       "      <td>-0.022748</td>\n",
       "      <td>0.032929</td>\n",
       "      <td>0.027165</td>\n",
       "      <td>...</td>\n",
       "      <td>0.004835</td>\n",
       "      <td>0.057194</td>\n",
       "      <td>0.040557</td>\n",
       "      <td>0.032773</td>\n",
       "      <td>-0.031219</td>\n",
       "      <td>-0.043274</td>\n",
       "      <td>-0.021079</td>\n",
       "      <td>-0.008907</td>\n",
       "      <td>0.009224</td>\n",
       "      <td>-0.024085</td>\n",
       "    </tr>\n",
       "    <tr>\n",
       "      <th>2</th>\n",
       "      <td>-0.042825</td>\n",
       "      <td>-0.020346</td>\n",
       "      <td>-0.008057</td>\n",
       "      <td>0.014741</td>\n",
       "      <td>-0.019099</td>\n",
       "      <td>-0.007700</td>\n",
       "      <td>-0.026105</td>\n",
       "      <td>-0.042662</td>\n",
       "      <td>0.036060</td>\n",
       "      <td>0.011172</td>\n",
       "      <td>...</td>\n",
       "      <td>0.024967</td>\n",
       "      <td>0.033303</td>\n",
       "      <td>0.043724</td>\n",
       "      <td>0.027738</td>\n",
       "      <td>-0.062944</td>\n",
       "      <td>-0.028252</td>\n",
       "      <td>-0.003424</td>\n",
       "      <td>0.017833</td>\n",
       "      <td>0.011276</td>\n",
       "      <td>0.048103</td>\n",
       "    </tr>\n",
       "  </tbody>\n",
       "</table>\n",
       "<p>3 rows × 1024 columns</p>\n",
       "</div>"
      ],
      "text/plain": [
       "          0         1         2         3         4         5         6  \\\n",
       "0  0.005032 -0.030947 -0.006062  0.047324 -0.055165 -0.057167 -0.030257   \n",
       "1 -0.017376 -0.004529 -0.010203  0.036250 -0.015020  0.017352 -0.022352   \n",
       "2 -0.042825 -0.020346 -0.008057  0.014741 -0.019099 -0.007700 -0.026105   \n",
       "\n",
       "          7         8         9  ...      1014      1015      1016      1017  \\\n",
       "0 -0.031478  0.055101  0.022555  ... -0.010593  0.060685  0.012057  0.050567   \n",
       "1 -0.022748  0.032929  0.027165  ...  0.004835  0.057194  0.040557  0.032773   \n",
       "2 -0.042662  0.036060  0.011172  ...  0.024967  0.033303  0.043724  0.027738   \n",
       "\n",
       "       1018      1019      1020      1021      1022      1023  \n",
       "0 -0.049132 -0.028009 -0.038905 -0.025987  0.004756 -0.034641  \n",
       "1 -0.031219 -0.043274 -0.021079 -0.008907  0.009224 -0.024085  \n",
       "2 -0.062944 -0.028252 -0.003424  0.017833  0.011276  0.048103  \n",
       "\n",
       "[3 rows x 1024 columns]"
      ]
     },
     "execution_count": 8,
     "metadata": {},
     "output_type": "execute_result"
    }
   ],
   "source": [
    "emb.head(3)"
   ]
  },
  {
   "cell_type": "markdown",
   "id": "9c7f2aa3",
   "metadata": {},
   "source": [
    "Principle Component Analysis is very useful for us to filter down our features, increasing our model speed and accuracy by minimizing multicollinearity!"
   ]
  },
  {
   "cell_type": "code",
   "execution_count": 6,
   "id": "719ca24e",
   "metadata": {},
   "outputs": [],
   "source": [
    "# Principle Component Analysis -- RUNNING THIS CELL MORE THAN ONCE CAN CAUSE PROBLEMS --\n",
    "pca = PCA(n_components=256)\n",
    "emb_pca = pca.fit_transform(emb)\n",
    "emb_pca = pd.DataFrame(emb_pca)"
   ]
  },
  {
   "cell_type": "code",
   "execution_count": 7,
   "id": "ca079026",
   "metadata": {},
   "outputs": [
    {
     "data": {
      "text/html": [
       "<div>\n",
       "<style scoped>\n",
       "    .dataframe tbody tr th:only-of-type {\n",
       "        vertical-align: middle;\n",
       "    }\n",
       "\n",
       "    .dataframe tbody tr th {\n",
       "        vertical-align: top;\n",
       "    }\n",
       "\n",
       "    .dataframe thead th {\n",
       "        text-align: right;\n",
       "    }\n",
       "</style>\n",
       "<table border=\"1\" class=\"dataframe\">\n",
       "  <thead>\n",
       "    <tr style=\"text-align: right;\">\n",
       "      <th></th>\n",
       "      <th>0</th>\n",
       "      <th>1</th>\n",
       "      <th>2</th>\n",
       "      <th>3</th>\n",
       "      <th>4</th>\n",
       "      <th>5</th>\n",
       "      <th>6</th>\n",
       "      <th>7</th>\n",
       "      <th>8</th>\n",
       "      <th>9</th>\n",
       "      <th>...</th>\n",
       "      <th>246</th>\n",
       "      <th>247</th>\n",
       "      <th>248</th>\n",
       "      <th>249</th>\n",
       "      <th>250</th>\n",
       "      <th>251</th>\n",
       "      <th>252</th>\n",
       "      <th>253</th>\n",
       "      <th>254</th>\n",
       "      <th>255</th>\n",
       "    </tr>\n",
       "  </thead>\n",
       "  <tbody>\n",
       "    <tr>\n",
       "      <th>0</th>\n",
       "      <td>0.302150</td>\n",
       "      <td>-0.057887</td>\n",
       "      <td>-0.101407</td>\n",
       "      <td>-0.000749</td>\n",
       "      <td>-0.058885</td>\n",
       "      <td>-0.013129</td>\n",
       "      <td>0.081130</td>\n",
       "      <td>-0.206353</td>\n",
       "      <td>0.108440</td>\n",
       "      <td>-0.005820</td>\n",
       "      <td>...</td>\n",
       "      <td>-0.004228</td>\n",
       "      <td>-0.061090</td>\n",
       "      <td>0.015971</td>\n",
       "      <td>0.014438</td>\n",
       "      <td>-0.035498</td>\n",
       "      <td>-0.010885</td>\n",
       "      <td>0.018600</td>\n",
       "      <td>-0.007072</td>\n",
       "      <td>0.012611</td>\n",
       "      <td>0.006123</td>\n",
       "    </tr>\n",
       "    <tr>\n",
       "      <th>1</th>\n",
       "      <td>0.123581</td>\n",
       "      <td>0.138708</td>\n",
       "      <td>-0.163301</td>\n",
       "      <td>0.083789</td>\n",
       "      <td>-0.183423</td>\n",
       "      <td>0.151625</td>\n",
       "      <td>0.126398</td>\n",
       "      <td>-0.162715</td>\n",
       "      <td>-0.107949</td>\n",
       "      <td>-0.064109</td>\n",
       "      <td>...</td>\n",
       "      <td>-0.002569</td>\n",
       "      <td>-0.026643</td>\n",
       "      <td>0.013468</td>\n",
       "      <td>-0.017201</td>\n",
       "      <td>0.023292</td>\n",
       "      <td>0.005852</td>\n",
       "      <td>0.010911</td>\n",
       "      <td>-0.000127</td>\n",
       "      <td>-0.013687</td>\n",
       "      <td>0.027662</td>\n",
       "    </tr>\n",
       "    <tr>\n",
       "      <th>2</th>\n",
       "      <td>0.284664</td>\n",
       "      <td>0.389809</td>\n",
       "      <td>-0.187073</td>\n",
       "      <td>-0.008677</td>\n",
       "      <td>0.021548</td>\n",
       "      <td>-0.047239</td>\n",
       "      <td>-0.086756</td>\n",
       "      <td>-0.250323</td>\n",
       "      <td>-0.110190</td>\n",
       "      <td>-0.004221</td>\n",
       "      <td>...</td>\n",
       "      <td>-0.032440</td>\n",
       "      <td>0.002358</td>\n",
       "      <td>0.012697</td>\n",
       "      <td>-0.012938</td>\n",
       "      <td>-0.048768</td>\n",
       "      <td>-0.009406</td>\n",
       "      <td>0.026641</td>\n",
       "      <td>-0.024035</td>\n",
       "      <td>0.005489</td>\n",
       "      <td>0.026206</td>\n",
       "    </tr>\n",
       "  </tbody>\n",
       "</table>\n",
       "<p>3 rows × 256 columns</p>\n",
       "</div>"
      ],
      "text/plain": [
       "        0         1         2         3         4         5         6    \\\n",
       "0  0.302150 -0.057887 -0.101407 -0.000749 -0.058885 -0.013129  0.081130   \n",
       "1  0.123581  0.138708 -0.163301  0.083789 -0.183423  0.151625  0.126398   \n",
       "2  0.284664  0.389809 -0.187073 -0.008677  0.021548 -0.047239 -0.086756   \n",
       "\n",
       "        7         8         9    ...       246       247       248       249  \\\n",
       "0 -0.206353  0.108440 -0.005820  ... -0.004228 -0.061090  0.015971  0.014438   \n",
       "1 -0.162715 -0.107949 -0.064109  ... -0.002569 -0.026643  0.013468 -0.017201   \n",
       "2 -0.250323 -0.110190 -0.004221  ... -0.032440  0.002358  0.012697 -0.012938   \n",
       "\n",
       "        250       251       252       253       254       255  \n",
       "0 -0.035498 -0.010885  0.018600 -0.007072  0.012611  0.006123  \n",
       "1  0.023292  0.005852  0.010911 -0.000127 -0.013687  0.027662  \n",
       "2 -0.048768 -0.009406  0.026641 -0.024035  0.005489  0.026206  \n",
       "\n",
       "[3 rows x 256 columns]"
      ]
     },
     "execution_count": 7,
     "metadata": {},
     "output_type": "execute_result"
    }
   ],
   "source": [
    "emb_pca.head(3)"
   ]
  },
  {
   "cell_type": "markdown",
   "id": "2a2162bf",
   "metadata": {},
   "source": [
    "## Turning Document Embeddings into Training Data\n",
    "When we look at this data, each row corresponds to a tweet with 1024 different columns of semantic association."
   ]
  },
  {
   "cell_type": "code",
   "execution_count": 60,
   "id": "187ba630",
   "metadata": {},
   "outputs": [],
   "source": [
    "# Filtering down to just documents between 5 and 50 thousand followers\n",
    "df = pd.read_csv('data/ng_friend_tweets.csv', index_col=0)\n",
    "filtered = df[['followers', 'lists', 'retweets']].join(emb_pca)\n",
    "filtered = filtered.loc[filtered['followers'] < 50000].loc[filtered['followers'] > 5000]\n",
    "filtered_df = filtered.drop(['retweets'], axis=1)"
   ]
  },
  {
   "cell_type": "code",
   "execution_count": 67,
   "id": "cd00b8e8",
   "metadata": {},
   "outputs": [],
   "source": [
    "# Normalizing followers and lists columns\n",
    "from sklearn import preprocessing\n",
    "from sklearn.preprocessing import MinMaxScaler\n",
    "\n",
    "scaler = MinMaxScaler()\n",
    "filtered_df[['followers', 'lists']] = scaler.fit_transform(filtered_df[['followers', 'lists']])"
   ]
  },
  {
   "cell_type": "code",
   "execution_count": 108,
   "id": "bf6ea15c",
   "metadata": {},
   "outputs": [
    {
     "data": {
      "text/html": [
       "<div>\n",
       "<style scoped>\n",
       "    .dataframe tbody tr th:only-of-type {\n",
       "        vertical-align: middle;\n",
       "    }\n",
       "\n",
       "    .dataframe tbody tr th {\n",
       "        vertical-align: top;\n",
       "    }\n",
       "\n",
       "    .dataframe thead th {\n",
       "        text-align: right;\n",
       "    }\n",
       "</style>\n",
       "<table border=\"1\" class=\"dataframe\">\n",
       "  <thead>\n",
       "    <tr style=\"text-align: right;\">\n",
       "      <th></th>\n",
       "      <th>followers</th>\n",
       "      <th>lists</th>\n",
       "      <th>0</th>\n",
       "      <th>1</th>\n",
       "      <th>2</th>\n",
       "      <th>3</th>\n",
       "      <th>4</th>\n",
       "      <th>5</th>\n",
       "      <th>6</th>\n",
       "      <th>7</th>\n",
       "      <th>...</th>\n",
       "      <th>246</th>\n",
       "      <th>247</th>\n",
       "      <th>248</th>\n",
       "      <th>249</th>\n",
       "      <th>250</th>\n",
       "      <th>251</th>\n",
       "      <th>252</th>\n",
       "      <th>253</th>\n",
       "      <th>254</th>\n",
       "      <th>255</th>\n",
       "    </tr>\n",
       "  </thead>\n",
       "  <tbody>\n",
       "    <tr>\n",
       "      <th>195</th>\n",
       "      <td>0.735742</td>\n",
       "      <td>0.297035</td>\n",
       "      <td>-0.021253</td>\n",
       "      <td>0.196070</td>\n",
       "      <td>0.108836</td>\n",
       "      <td>0.009545</td>\n",
       "      <td>0.126497</td>\n",
       "      <td>0.364913</td>\n",
       "      <td>-0.075109</td>\n",
       "      <td>-0.036550</td>\n",
       "      <td>...</td>\n",
       "      <td>-0.014430</td>\n",
       "      <td>-0.003448</td>\n",
       "      <td>0.024183</td>\n",
       "      <td>-0.014651</td>\n",
       "      <td>-0.034393</td>\n",
       "      <td>-0.031589</td>\n",
       "      <td>0.032391</td>\n",
       "      <td>-0.007780</td>\n",
       "      <td>0.020987</td>\n",
       "      <td>-0.036631</td>\n",
       "    </tr>\n",
       "    <tr>\n",
       "      <th>196</th>\n",
       "      <td>0.735742</td>\n",
       "      <td>0.297035</td>\n",
       "      <td>0.242462</td>\n",
       "      <td>0.266910</td>\n",
       "      <td>-0.138842</td>\n",
       "      <td>-0.002129</td>\n",
       "      <td>0.144411</td>\n",
       "      <td>0.000816</td>\n",
       "      <td>-0.088337</td>\n",
       "      <td>-0.204370</td>\n",
       "      <td>...</td>\n",
       "      <td>0.018464</td>\n",
       "      <td>-0.012420</td>\n",
       "      <td>-0.001123</td>\n",
       "      <td>-0.018264</td>\n",
       "      <td>0.010540</td>\n",
       "      <td>-0.009843</td>\n",
       "      <td>0.016405</td>\n",
       "      <td>-0.027341</td>\n",
       "      <td>0.008196</td>\n",
       "      <td>-0.012217</td>\n",
       "    </tr>\n",
       "    <tr>\n",
       "      <th>197</th>\n",
       "      <td>0.735742</td>\n",
       "      <td>0.297035</td>\n",
       "      <td>0.045698</td>\n",
       "      <td>0.413429</td>\n",
       "      <td>-0.138450</td>\n",
       "      <td>0.005729</td>\n",
       "      <td>0.253127</td>\n",
       "      <td>0.016676</td>\n",
       "      <td>-0.068474</td>\n",
       "      <td>-0.237227</td>\n",
       "      <td>...</td>\n",
       "      <td>0.000367</td>\n",
       "      <td>-0.009567</td>\n",
       "      <td>0.036470</td>\n",
       "      <td>-0.022533</td>\n",
       "      <td>-0.004594</td>\n",
       "      <td>-0.006371</td>\n",
       "      <td>-0.004413</td>\n",
       "      <td>0.001972</td>\n",
       "      <td>-0.036398</td>\n",
       "      <td>-0.019882</td>\n",
       "    </tr>\n",
       "    <tr>\n",
       "      <th>198</th>\n",
       "      <td>0.735742</td>\n",
       "      <td>0.297035</td>\n",
       "      <td>0.225201</td>\n",
       "      <td>0.072460</td>\n",
       "      <td>-0.013669</td>\n",
       "      <td>0.008931</td>\n",
       "      <td>-0.127521</td>\n",
       "      <td>0.090898</td>\n",
       "      <td>0.243644</td>\n",
       "      <td>0.063626</td>\n",
       "      <td>...</td>\n",
       "      <td>-0.061864</td>\n",
       "      <td>0.028202</td>\n",
       "      <td>-0.000050</td>\n",
       "      <td>0.067390</td>\n",
       "      <td>-0.016645</td>\n",
       "      <td>0.002959</td>\n",
       "      <td>-0.010566</td>\n",
       "      <td>0.013866</td>\n",
       "      <td>0.001951</td>\n",
       "      <td>0.016211</td>\n",
       "    </tr>\n",
       "    <tr>\n",
       "      <th>199</th>\n",
       "      <td>0.735742</td>\n",
       "      <td>0.297035</td>\n",
       "      <td>0.336097</td>\n",
       "      <td>0.010745</td>\n",
       "      <td>-0.107828</td>\n",
       "      <td>0.155454</td>\n",
       "      <td>-0.021747</td>\n",
       "      <td>-0.018535</td>\n",
       "      <td>-0.005195</td>\n",
       "      <td>-0.201158</td>\n",
       "      <td>...</td>\n",
       "      <td>-0.029632</td>\n",
       "      <td>-0.001497</td>\n",
       "      <td>-0.002184</td>\n",
       "      <td>0.055669</td>\n",
       "      <td>-0.033577</td>\n",
       "      <td>-0.006628</td>\n",
       "      <td>0.057648</td>\n",
       "      <td>0.026969</td>\n",
       "      <td>-0.020362</td>\n",
       "      <td>-0.007139</td>\n",
       "    </tr>\n",
       "    <tr>\n",
       "      <th>...</th>\n",
       "      <td>...</td>\n",
       "      <td>...</td>\n",
       "      <td>...</td>\n",
       "      <td>...</td>\n",
       "      <td>...</td>\n",
       "      <td>...</td>\n",
       "      <td>...</td>\n",
       "      <td>...</td>\n",
       "      <td>...</td>\n",
       "      <td>...</td>\n",
       "      <td>...</td>\n",
       "      <td>...</td>\n",
       "      <td>...</td>\n",
       "      <td>...</td>\n",
       "      <td>...</td>\n",
       "      <td>...</td>\n",
       "      <td>...</td>\n",
       "      <td>...</td>\n",
       "      <td>...</td>\n",
       "      <td>...</td>\n",
       "      <td>...</td>\n",
       "    </tr>\n",
       "    <tr>\n",
       "      <th>45488</th>\n",
       "      <td>0.035152</td>\n",
       "      <td>0.080700</td>\n",
       "      <td>0.214227</td>\n",
       "      <td>-0.128694</td>\n",
       "      <td>-0.075616</td>\n",
       "      <td>0.040383</td>\n",
       "      <td>0.176813</td>\n",
       "      <td>0.014190</td>\n",
       "      <td>0.116881</td>\n",
       "      <td>0.244904</td>\n",
       "      <td>...</td>\n",
       "      <td>-0.030724</td>\n",
       "      <td>-0.001708</td>\n",
       "      <td>0.028958</td>\n",
       "      <td>0.015300</td>\n",
       "      <td>0.021365</td>\n",
       "      <td>0.022486</td>\n",
       "      <td>0.002817</td>\n",
       "      <td>0.007697</td>\n",
       "      <td>0.006290</td>\n",
       "      <td>0.006981</td>\n",
       "    </tr>\n",
       "    <tr>\n",
       "      <th>45489</th>\n",
       "      <td>0.035152</td>\n",
       "      <td>0.080700</td>\n",
       "      <td>0.069834</td>\n",
       "      <td>0.010011</td>\n",
       "      <td>0.113053</td>\n",
       "      <td>-0.186331</td>\n",
       "      <td>-0.035229</td>\n",
       "      <td>-0.138606</td>\n",
       "      <td>-0.003519</td>\n",
       "      <td>0.313665</td>\n",
       "      <td>...</td>\n",
       "      <td>0.011875</td>\n",
       "      <td>0.027322</td>\n",
       "      <td>0.025227</td>\n",
       "      <td>0.024604</td>\n",
       "      <td>-0.054596</td>\n",
       "      <td>-0.022006</td>\n",
       "      <td>0.032286</td>\n",
       "      <td>-0.023403</td>\n",
       "      <td>-0.047468</td>\n",
       "      <td>-0.026898</td>\n",
       "    </tr>\n",
       "    <tr>\n",
       "      <th>45490</th>\n",
       "      <td>0.035152</td>\n",
       "      <td>0.080700</td>\n",
       "      <td>0.290125</td>\n",
       "      <td>-0.160100</td>\n",
       "      <td>-0.010381</td>\n",
       "      <td>0.100232</td>\n",
       "      <td>0.218831</td>\n",
       "      <td>-0.090160</td>\n",
       "      <td>0.022140</td>\n",
       "      <td>0.075849</td>\n",
       "      <td>...</td>\n",
       "      <td>-0.001666</td>\n",
       "      <td>-0.000956</td>\n",
       "      <td>0.002039</td>\n",
       "      <td>0.016580</td>\n",
       "      <td>0.061105</td>\n",
       "      <td>-0.034960</td>\n",
       "      <td>-0.013718</td>\n",
       "      <td>-0.004340</td>\n",
       "      <td>-0.005004</td>\n",
       "      <td>0.027581</td>\n",
       "    </tr>\n",
       "    <tr>\n",
       "      <th>45491</th>\n",
       "      <td>0.035152</td>\n",
       "      <td>0.080700</td>\n",
       "      <td>0.167535</td>\n",
       "      <td>-0.024694</td>\n",
       "      <td>-0.269161</td>\n",
       "      <td>0.045780</td>\n",
       "      <td>0.091376</td>\n",
       "      <td>0.138483</td>\n",
       "      <td>0.272396</td>\n",
       "      <td>0.117616</td>\n",
       "      <td>...</td>\n",
       "      <td>0.023387</td>\n",
       "      <td>0.026087</td>\n",
       "      <td>-0.030280</td>\n",
       "      <td>-0.022133</td>\n",
       "      <td>0.034936</td>\n",
       "      <td>-0.009135</td>\n",
       "      <td>-0.001371</td>\n",
       "      <td>0.005564</td>\n",
       "      <td>-0.031319</td>\n",
       "      <td>0.008649</td>\n",
       "    </tr>\n",
       "    <tr>\n",
       "      <th>45492</th>\n",
       "      <td>0.035152</td>\n",
       "      <td>0.080700</td>\n",
       "      <td>0.241106</td>\n",
       "      <td>-0.267395</td>\n",
       "      <td>-0.212816</td>\n",
       "      <td>-0.054334</td>\n",
       "      <td>0.079995</td>\n",
       "      <td>0.107130</td>\n",
       "      <td>0.130755</td>\n",
       "      <td>-0.039982</td>\n",
       "      <td>...</td>\n",
       "      <td>0.018565</td>\n",
       "      <td>-0.010952</td>\n",
       "      <td>-0.023424</td>\n",
       "      <td>0.016314</td>\n",
       "      <td>0.034897</td>\n",
       "      <td>0.000742</td>\n",
       "      <td>-0.003933</td>\n",
       "      <td>-0.010194</td>\n",
       "      <td>0.026177</td>\n",
       "      <td>0.006941</td>\n",
       "    </tr>\n",
       "  </tbody>\n",
       "</table>\n",
       "<p>16819 rows × 258 columns</p>\n",
       "</div>"
      ],
      "text/plain": [
       "       followers     lists         0         1         2         3         4  \\\n",
       "195     0.735742  0.297035 -0.021253  0.196070  0.108836  0.009545  0.126497   \n",
       "196     0.735742  0.297035  0.242462  0.266910 -0.138842 -0.002129  0.144411   \n",
       "197     0.735742  0.297035  0.045698  0.413429 -0.138450  0.005729  0.253127   \n",
       "198     0.735742  0.297035  0.225201  0.072460 -0.013669  0.008931 -0.127521   \n",
       "199     0.735742  0.297035  0.336097  0.010745 -0.107828  0.155454 -0.021747   \n",
       "...          ...       ...       ...       ...       ...       ...       ...   \n",
       "45488   0.035152  0.080700  0.214227 -0.128694 -0.075616  0.040383  0.176813   \n",
       "45489   0.035152  0.080700  0.069834  0.010011  0.113053 -0.186331 -0.035229   \n",
       "45490   0.035152  0.080700  0.290125 -0.160100 -0.010381  0.100232  0.218831   \n",
       "45491   0.035152  0.080700  0.167535 -0.024694 -0.269161  0.045780  0.091376   \n",
       "45492   0.035152  0.080700  0.241106 -0.267395 -0.212816 -0.054334  0.079995   \n",
       "\n",
       "              5         6         7  ...       246       247       248  \\\n",
       "195    0.364913 -0.075109 -0.036550  ... -0.014430 -0.003448  0.024183   \n",
       "196    0.000816 -0.088337 -0.204370  ...  0.018464 -0.012420 -0.001123   \n",
       "197    0.016676 -0.068474 -0.237227  ...  0.000367 -0.009567  0.036470   \n",
       "198    0.090898  0.243644  0.063626  ... -0.061864  0.028202 -0.000050   \n",
       "199   -0.018535 -0.005195 -0.201158  ... -0.029632 -0.001497 -0.002184   \n",
       "...         ...       ...       ...  ...       ...       ...       ...   \n",
       "45488  0.014190  0.116881  0.244904  ... -0.030724 -0.001708  0.028958   \n",
       "45489 -0.138606 -0.003519  0.313665  ...  0.011875  0.027322  0.025227   \n",
       "45490 -0.090160  0.022140  0.075849  ... -0.001666 -0.000956  0.002039   \n",
       "45491  0.138483  0.272396  0.117616  ...  0.023387  0.026087 -0.030280   \n",
       "45492  0.107130  0.130755 -0.039982  ...  0.018565 -0.010952 -0.023424   \n",
       "\n",
       "            249       250       251       252       253       254       255  \n",
       "195   -0.014651 -0.034393 -0.031589  0.032391 -0.007780  0.020987 -0.036631  \n",
       "196   -0.018264  0.010540 -0.009843  0.016405 -0.027341  0.008196 -0.012217  \n",
       "197   -0.022533 -0.004594 -0.006371 -0.004413  0.001972 -0.036398 -0.019882  \n",
       "198    0.067390 -0.016645  0.002959 -0.010566  0.013866  0.001951  0.016211  \n",
       "199    0.055669 -0.033577 -0.006628  0.057648  0.026969 -0.020362 -0.007139  \n",
       "...         ...       ...       ...       ...       ...       ...       ...  \n",
       "45488  0.015300  0.021365  0.022486  0.002817  0.007697  0.006290  0.006981  \n",
       "45489  0.024604 -0.054596 -0.022006  0.032286 -0.023403 -0.047468 -0.026898  \n",
       "45490  0.016580  0.061105 -0.034960 -0.013718 -0.004340 -0.005004  0.027581  \n",
       "45491 -0.022133  0.034936 -0.009135 -0.001371  0.005564 -0.031319  0.008649  \n",
       "45492  0.016314  0.034897  0.000742 -0.003933 -0.010194  0.026177  0.006941  \n",
       "\n",
       "[16819 rows x 258 columns]"
      ]
     },
     "execution_count": 108,
     "metadata": {},
     "output_type": "execute_result"
    }
   ],
   "source": [
    "filtered_df"
   ]
  },
  {
   "cell_type": "markdown",
   "id": "8891166b",
   "metadata": {},
   "source": [
    "Now we'll need to recreate our train-val-test split."
   ]
  },
  {
   "cell_type": "code",
   "execution_count": 69,
   "id": "670f6c13",
   "metadata": {},
   "outputs": [],
   "source": [
    "# Data and Target Split\n",
    "# X2 = emb # df[['followers', 'lists']].join(emb) # Uncomment to train on raw document embeddings\n",
    "X2 = filtered_df\n",
    "y = filtered['retweets'] # This is the same as our original y\n",
    "\n",
    "# Log transform of y\n",
    "y_log = np.log1p(y)\n",
    "\n",
    "# Train-test Split\n",
    "X_train2, X_test2, y_train2, y_test2 = train_test_split(X2, y_log, random_state=42)\n",
    "\n",
    "# Creating Validation Set\n",
    "X_train2, X_val2, y_train2, y_val2 = train_test_split(X_train2, y_train2, random_state=42)"
   ]
  },
  {
   "cell_type": "markdown",
   "id": "5cec7de6",
   "metadata": {},
   "source": [
    "And now we can try this new data on our baseline models and see how their results compare."
   ]
  },
  {
   "cell_type": "markdown",
   "id": "0ba063a6",
   "metadata": {},
   "source": [
    "# Baselines for Document Embedding Models"
   ]
  },
  {
   "cell_type": "markdown",
   "id": "ac145e63",
   "metadata": {},
   "source": [
    "## Linear Regression Baseline"
   ]
  },
  {
   "cell_type": "code",
   "execution_count": 109,
   "id": "583bd0be",
   "metadata": {},
   "outputs": [
    {
     "name": "stdout",
     "output_type": "stream",
     "text": [
      "Training Accuracy: 21.11%\n",
      "Validation accuracy: 16.91%\n",
      "LR RMSE :  0.938536\n"
     ]
    }
   ],
   "source": [
    "linreg2 = LinearRegression().fit(X_train2, y_train2)\n",
    "\n",
    "print('Training Accuracy: {:.4}%'.format(linreg2.score(X_train2, y_train2) * 100))\n",
    "print('Validation accuracy: {:.4}%'.format(linreg2.score(X_val2, y_val2) * 100))\n",
    "\n",
    "pred2 = linreg2.predict(X_val2)\n",
    "linreg_rmse2 = np.sqrt(MSE(y_val2, pred2))\n",
    "print(\"LR RMSE : % f\" %(linreg_rmse2))"
   ]
  },
  {
   "cell_type": "code",
   "execution_count": 76,
   "id": "7d7f0638",
   "metadata": {},
   "outputs": [],
   "source": [
    "# ### Logistic Regression Baseline\n",
    "# X_train_const = sm.add_constant(X_train) # Adding constant\n",
    "# log_reg = sm.OLS(y_train, X_train_const) # defining model parameters\n",
    "\n",
    "# results = log_reg.fit() # Fitting model\n",
    "# results.summary() # Peeping summary"
   ]
  },
  {
   "cell_type": "markdown",
   "id": "b8fa47a5",
   "metadata": {},
   "source": [
    "## XGBoost Baseline"
   ]
  },
  {
   "cell_type": "code",
   "execution_count": 77,
   "id": "390465e8",
   "metadata": {
    "scrolled": true
   },
   "outputs": [
    {
     "name": "stdout",
     "output_type": "stream",
     "text": [
      "[0]\tvalidation_0-rmse:1.26521\tvalidation_0-mae:0.87060\n",
      "[1]\tvalidation_0-rmse:1.12136\tvalidation_0-mae:0.76618\n",
      "[2]\tvalidation_0-rmse:1.03750\tvalidation_0-mae:0.72122\n",
      "[3]\tvalidation_0-rmse:0.99113\tvalidation_0-mae:0.70417\n",
      "[4]\tvalidation_0-rmse:0.96800\tvalidation_0-mae:0.69976\n",
      "[5]\tvalidation_0-rmse:0.94795\tvalidation_0-mae:0.69144\n",
      "[6]\tvalidation_0-rmse:0.94139\tvalidation_0-mae:0.69251\n",
      "[7]\tvalidation_0-rmse:0.93902\tvalidation_0-mae:0.69477\n",
      "[8]\tvalidation_0-rmse:0.93156\tvalidation_0-mae:0.69313\n",
      "[9]\tvalidation_0-rmse:0.93036\tvalidation_0-mae:0.69522\n",
      "[10]\tvalidation_0-rmse:0.92819\tvalidation_0-mae:0.69592\n",
      "[11]\tvalidation_0-rmse:0.92664\tvalidation_0-mae:0.69444\n",
      "Training took a total of 0:00:00.893999\n",
      "{}\n"
     ]
    }
   ],
   "source": [
    "start = datetime.datetime.now()\n",
    "\n",
    "progress = dict()\n",
    "eval_set = [(X_val2, y_val2)]\n",
    "eval_metric = [\"rmse\",\"mae\"]\n",
    "\n",
    "XGB2 = xgboost.XGBRegressor(objective='reg:squarederror', eval_metric=eval_metric, early_stopping_rounds=6)\n",
    "XGBhist2 = XGB2.fit(X_train2, y_train2, eval_set=eval_set)\n",
    "\n",
    "end = datetime.datetime.now(); elapsed = end-start\n",
    "print('Training took a total of {}'.format(elapsed))\n",
    "print(progress)"
   ]
  },
  {
   "cell_type": "code",
   "execution_count": 78,
   "id": "93a89122",
   "metadata": {},
   "outputs": [
    {
     "name": "stdout",
     "output_type": "stream",
     "text": [
      "Training Accuracy: 33.63%\n",
      "Validation accuracy: 15.2%\n",
      "XGB RMSE :  0.947951\n"
     ]
    }
   ],
   "source": [
    "# Accuracy of training and val sets\n",
    "print('Training Accuracy: {:.4}%'.format(XGB2.score(X_train2, y_train2) * 100))\n",
    "print('Validation accuracy: {:.3}%'.format(XGB2.score(X_val2, y_val2) * 100))\n",
    "\n",
    "pred2 = XGB2.predict(X_val2)\n",
    "xgb_rmse = np.sqrt(MSE(y_val2, pred2))\n",
    "print(\"XGB RMSE : % f\" %(xgb_rmse))"
   ]
  },
  {
   "cell_type": "markdown",
   "id": "c3269aef",
   "metadata": {},
   "source": [
    "## Random Forest Regressor"
   ]
  },
  {
   "cell_type": "code",
   "execution_count": 79,
   "id": "31fc302a",
   "metadata": {},
   "outputs": [
    {
     "name": "stdout",
     "output_type": "stream",
     "text": [
      "Training took a total of 0:02:48.910511\n"
     ]
    }
   ],
   "source": [
    "# Timing\n",
    "start = datetime.datetime.now()\n",
    "\n",
    "# Instantiate and fit a RandomForest Regressor\n",
    "forest2 = RandomForestRegressor(warm_start=True)\n",
    "forest2.fit(X_train2, y_train2)\n",
    "\n",
    "# Timing\n",
    "end = datetime.datetime.now(); elapsed = end-start\n",
    "print('Training took a total of {}'.format(elapsed))"
   ]
  },
  {
   "cell_type": "code",
   "execution_count": 80,
   "id": "09736ff8",
   "metadata": {
    "scrolled": false
   },
   "outputs": [
    {
     "name": "stdout",
     "output_type": "stream",
     "text": [
      "Training Accuracy: 88.72%\n",
      "Validation accuracy: 21.16%\n",
      "RF RMSE :  0.910974\n"
     ]
    }
   ],
   "source": [
    "# Training and Testing accuracy score\n",
    "print('Training Accuracy: {:.4}%'.format(forest2.score(X_train2, y_train2) * 100))\n",
    "print('Validation accuracy: {:.4}%'.format(forest2.score(X_test2, y_test2) * 100))\n",
    "\n",
    "pred = forest2.predict(X_val2)\n",
    "forest_rmse = np.sqrt(MSE(y_val2, pred))\n",
    "print(\"RF RMSE : % f\" %(forest_rmse))"
   ]
  },
  {
   "cell_type": "markdown",
   "id": "f1f9b49b",
   "metadata": {},
   "source": [
    "## Deep Learning"
   ]
  },
  {
   "cell_type": "code",
   "execution_count": 81,
   "id": "69b59e35",
   "metadata": {},
   "outputs": [],
   "source": [
    "# Establish our metrics\n",
    "METRICS = [tf.keras.metrics.MeanAbsoluteError(),\n",
    "           tf.keras.metrics.RootMeanSquaredError()]"
   ]
  },
  {
   "cell_type": "code",
   "execution_count": 82,
   "id": "11eac86f",
   "metadata": {},
   "outputs": [],
   "source": [
    "def build_model():\n",
    "  model = keras.Sequential([\n",
    "    keras.layers.Input(shape=(X_train2.shape[1],)),                  \n",
    "    keras.layers.Dense(64, activation=tf.nn.crelu), # tf.keras.layers.Dropout(0.05),\n",
    "    tf.keras.layers.BatchNormalization(),\n",
    "    keras.layers.Dense(64, activation=tf.nn.crelu), # tf.keras.layers.Dropout(0.05),\n",
    "    keras.layers.Dense(1)\n",
    "  ], name=\"MLP_model\")\n",
    "\n",
    "  optimizer = 'adam'\n",
    "\n",
    "  model.compile(loss='mse',\n",
    "                optimizer=optimizer,\n",
    "                metrics=METRICS)\n",
    "  return model\n",
    "\n",
    "deep_2 = build_model()\n",
    "# deep_1.summary()"
   ]
  },
  {
   "cell_type": "code",
   "execution_count": 83,
   "id": "9600ca5b",
   "metadata": {
    "scrolled": false
   },
   "outputs": [
    {
     "name": "stdout",
     "output_type": "stream",
     "text": [
      "Epoch 1/50\n",
      "237/237 [==============================] - 1s 2ms/step - loss: 1.4360 - mean_absolute_error: 0.8791 - root_mean_squared_error: 1.1983 - val_loss: 2.2902 - val_mean_absolute_error: 1.1299 - val_root_mean_squared_error: 1.5134\n",
      "Epoch 2/50\n",
      "237/237 [==============================] - 0s 1ms/step - loss: 0.8086 - mean_absolute_error: 0.6768 - root_mean_squared_error: 0.8992 - val_loss: 1.3860 - val_mean_absolute_error: 0.8185 - val_root_mean_squared_error: 1.1773\n",
      "Epoch 3/50\n",
      "237/237 [==============================] - 0s 1ms/step - loss: 0.6630 - mean_absolute_error: 0.6177 - root_mean_squared_error: 0.8142 - val_loss: 0.9960 - val_mean_absolute_error: 0.7511 - val_root_mean_squared_error: 0.9980\n",
      "Epoch 4/50\n",
      "237/237 [==============================] - 0s 1ms/step - loss: 0.5533 - mean_absolute_error: 0.5644 - root_mean_squared_error: 0.7438 - val_loss: 1.0189 - val_mean_absolute_error: 0.7840 - val_root_mean_squared_error: 1.0094\n",
      "Epoch 5/50\n",
      "237/237 [==============================] - 0s 1ms/step - loss: 0.4563 - mean_absolute_error: 0.5159 - root_mean_squared_error: 0.6755 - val_loss: 1.1119 - val_mean_absolute_error: 0.7931 - val_root_mean_squared_error: 1.0545\n",
      "Epoch 6/50\n",
      "237/237 [==============================] - 0s 1ms/step - loss: 0.3756 - mean_absolute_error: 0.4720 - root_mean_squared_error: 0.6129 - val_loss: 1.1326 - val_mean_absolute_error: 0.8241 - val_root_mean_squared_error: 1.0642\n",
      "Epoch 7/50\n",
      "237/237 [==============================] - 0s 1ms/step - loss: 0.3129 - mean_absolute_error: 0.4325 - root_mean_squared_error: 0.5594 - val_loss: 1.1644 - val_mean_absolute_error: 0.8286 - val_root_mean_squared_error: 1.0791\n",
      "Epoch 8/50\n",
      "237/237 [==============================] - 0s 1ms/step - loss: 0.2582 - mean_absolute_error: 0.3942 - root_mean_squared_error: 0.5082 - val_loss: 1.1776 - val_mean_absolute_error: 0.8381 - val_root_mean_squared_error: 1.0852\n",
      "Epoch 9/50\n",
      "237/237 [==============================] - 0s 1ms/step - loss: 0.2134 - mean_absolute_error: 0.3604 - root_mean_squared_error: 0.4620 - val_loss: 1.2292 - val_mean_absolute_error: 0.8669 - val_root_mean_squared_error: 1.1087\n",
      "Epoch 10/50\n",
      "237/237 [==============================] - 0s 1ms/step - loss: 0.1923 - mean_absolute_error: 0.3426 - root_mean_squared_error: 0.4385 - val_loss: 1.2115 - val_mean_absolute_error: 0.8483 - val_root_mean_squared_error: 1.1007\n",
      "Epoch 11/50\n",
      "237/237 [==============================] - 0s 1ms/step - loss: 0.1709 - mean_absolute_error: 0.3238 - root_mean_squared_error: 0.4134 - val_loss: 1.2261 - val_mean_absolute_error: 0.8563 - val_root_mean_squared_error: 1.1073\n",
      "Epoch 12/50\n",
      "237/237 [==============================] - 0s 1ms/step - loss: 0.1601 - mean_absolute_error: 0.3129 - root_mean_squared_error: 0.4002 - val_loss: 1.2422 - val_mean_absolute_error: 0.8638 - val_root_mean_squared_error: 1.1145\n",
      "Epoch 13/50\n",
      "237/237 [==============================] - 0s 1ms/step - loss: 0.1425 - mean_absolute_error: 0.2974 - root_mean_squared_error: 0.3775 - val_loss: 1.2754 - val_mean_absolute_error: 0.8726 - val_root_mean_squared_error: 1.1293\n",
      "Epoch 14/50\n",
      "237/237 [==============================] - 0s 1ms/step - loss: 0.1443 - mean_absolute_error: 0.3000 - root_mean_squared_error: 0.3799 - val_loss: 1.2544 - val_mean_absolute_error: 0.8567 - val_root_mean_squared_error: 1.1200\n",
      "Epoch 15/50\n",
      "237/237 [==============================] - 0s 1ms/step - loss: 0.1406 - mean_absolute_error: 0.2950 - root_mean_squared_error: 0.3750 - val_loss: 1.2321 - val_mean_absolute_error: 0.8517 - val_root_mean_squared_error: 1.1100\n",
      "Epoch 16/50\n",
      "237/237 [==============================] - 0s 1ms/step - loss: 0.1306 - mean_absolute_error: 0.2848 - root_mean_squared_error: 0.3614 - val_loss: 1.2291 - val_mean_absolute_error: 0.8576 - val_root_mean_squared_error: 1.1087\n",
      "Epoch 17/50\n",
      "237/237 [==============================] - 0s 1ms/step - loss: 0.1258 - mean_absolute_error: 0.2783 - root_mean_squared_error: 0.3547 - val_loss: 1.2462 - val_mean_absolute_error: 0.8598 - val_root_mean_squared_error: 1.1164\n",
      "Epoch 18/50\n",
      "237/237 [==============================] - 0s 1ms/step - loss: 0.1279 - mean_absolute_error: 0.2808 - root_mean_squared_error: 0.3576 - val_loss: 1.2219 - val_mean_absolute_error: 0.8467 - val_root_mean_squared_error: 1.1054\n",
      "Epoch 19/50\n",
      "237/237 [==============================] - 0s 1ms/step - loss: 0.1192 - mean_absolute_error: 0.2721 - root_mean_squared_error: 0.3453 - val_loss: 1.2215 - val_mean_absolute_error: 0.8552 - val_root_mean_squared_error: 1.1052\n",
      "Epoch 20/50\n",
      "237/237 [==============================] - 0s 1ms/step - loss: 0.1172 - mean_absolute_error: 0.2694 - root_mean_squared_error: 0.3424 - val_loss: 1.2188 - val_mean_absolute_error: 0.8501 - val_root_mean_squared_error: 1.1040\n",
      "Epoch 21/50\n",
      "237/237 [==============================] - 0s 1ms/step - loss: 0.1106 - mean_absolute_error: 0.2623 - root_mean_squared_error: 0.3326 - val_loss: 1.2236 - val_mean_absolute_error: 0.8539 - val_root_mean_squared_error: 1.1062\n",
      "Epoch 22/50\n",
      "237/237 [==============================] - 0s 1ms/step - loss: 0.1047 - mean_absolute_error: 0.2539 - root_mean_squared_error: 0.3236 - val_loss: 1.2401 - val_mean_absolute_error: 0.8550 - val_root_mean_squared_error: 1.1136\n",
      "Epoch 23/50\n",
      "237/237 [==============================] - 0s 1ms/step - loss: 0.1058 - mean_absolute_error: 0.2555 - root_mean_squared_error: 0.3253 - val_loss: 1.2269 - val_mean_absolute_error: 0.8545 - val_root_mean_squared_error: 1.1077\n",
      "Epoch 24/50\n",
      "237/237 [==============================] - 0s 1ms/step - loss: 0.1022 - mean_absolute_error: 0.2508 - root_mean_squared_error: 0.3197 - val_loss: 1.2248 - val_mean_absolute_error: 0.8538 - val_root_mean_squared_error: 1.1067\n",
      "Epoch 25/50\n",
      "237/237 [==============================] - 0s 1ms/step - loss: 0.1056 - mean_absolute_error: 0.2569 - root_mean_squared_error: 0.3250 - val_loss: 1.2013 - val_mean_absolute_error: 0.8435 - val_root_mean_squared_error: 1.0960\n",
      "Epoch 26/50\n",
      "237/237 [==============================] - 0s 1ms/step - loss: 0.1046 - mean_absolute_error: 0.2544 - root_mean_squared_error: 0.3234 - val_loss: 1.2056 - val_mean_absolute_error: 0.8410 - val_root_mean_squared_error: 1.0980\n",
      "Epoch 27/50\n",
      "237/237 [==============================] - 0s 1ms/step - loss: 0.0996 - mean_absolute_error: 0.2486 - root_mean_squared_error: 0.3156 - val_loss: 1.1951 - val_mean_absolute_error: 0.8396 - val_root_mean_squared_error: 1.0932\n",
      "Epoch 28/50\n",
      "237/237 [==============================] - 0s 1ms/step - loss: 0.1015 - mean_absolute_error: 0.2501 - root_mean_squared_error: 0.3186 - val_loss: 1.1836 - val_mean_absolute_error: 0.8379 - val_root_mean_squared_error: 1.0879\n",
      "Epoch 29/50\n",
      "237/237 [==============================] - 0s 1ms/step - loss: 0.1021 - mean_absolute_error: 0.2497 - root_mean_squared_error: 0.3196 - val_loss: 1.2037 - val_mean_absolute_error: 0.8407 - val_root_mean_squared_error: 1.0971\n",
      "Epoch 30/50\n",
      "237/237 [==============================] - 0s 1ms/step - loss: 0.0993 - mean_absolute_error: 0.2470 - root_mean_squared_error: 0.3151 - val_loss: 1.2010 - val_mean_absolute_error: 0.8354 - val_root_mean_squared_error: 1.0959\n",
      "Epoch 31/50\n",
      "237/237 [==============================] - 0s 1ms/step - loss: 0.0922 - mean_absolute_error: 0.2390 - root_mean_squared_error: 0.3036 - val_loss: 1.1868 - val_mean_absolute_error: 0.8311 - val_root_mean_squared_error: 1.0894\n",
      "Epoch 32/50\n",
      "237/237 [==============================] - 0s 1ms/step - loss: 0.0916 - mean_absolute_error: 0.2375 - root_mean_squared_error: 0.3026 - val_loss: 1.2129 - val_mean_absolute_error: 0.8496 - val_root_mean_squared_error: 1.1013\n",
      "Epoch 33/50\n",
      "237/237 [==============================] - 0s 1ms/step - loss: 0.0913 - mean_absolute_error: 0.2363 - root_mean_squared_error: 0.3022 - val_loss: 1.1773 - val_mean_absolute_error: 0.8351 - val_root_mean_squared_error: 1.0851\n",
      "Epoch 34/50\n",
      "237/237 [==============================] - 0s 1ms/step - loss: 0.0886 - mean_absolute_error: 0.2339 - root_mean_squared_error: 0.2976 - val_loss: 1.1840 - val_mean_absolute_error: 0.8330 - val_root_mean_squared_error: 1.0881\n",
      "Epoch 35/50\n",
      "237/237 [==============================] - 0s 1ms/step - loss: 0.0912 - mean_absolute_error: 0.2365 - root_mean_squared_error: 0.3020 - val_loss: 1.1699 - val_mean_absolute_error: 0.8252 - val_root_mean_squared_error: 1.0816\n"
     ]
    },
    {
     "name": "stdout",
     "output_type": "stream",
     "text": [
      "Epoch 36/50\n",
      "237/237 [==============================] - 0s 1ms/step - loss: 0.0885 - mean_absolute_error: 0.2346 - root_mean_squared_error: 0.2975 - val_loss: 1.1569 - val_mean_absolute_error: 0.8289 - val_root_mean_squared_error: 1.0756\n",
      "Epoch 37/50\n",
      "237/237 [==============================] - 0s 1ms/step - loss: 0.0865 - mean_absolute_error: 0.2295 - root_mean_squared_error: 0.2941 - val_loss: 1.1800 - val_mean_absolute_error: 0.8269 - val_root_mean_squared_error: 1.0863\n",
      "Epoch 38/50\n",
      "237/237 [==============================] - 0s 1ms/step - loss: 0.0871 - mean_absolute_error: 0.2309 - root_mean_squared_error: 0.2951 - val_loss: 1.1837 - val_mean_absolute_error: 0.8432 - val_root_mean_squared_error: 1.0880\n",
      "Epoch 39/50\n",
      "237/237 [==============================] - 0s 1ms/step - loss: 0.0834 - mean_absolute_error: 0.2267 - root_mean_squared_error: 0.2887 - val_loss: 1.1710 - val_mean_absolute_error: 0.8259 - val_root_mean_squared_error: 1.0821\n",
      "Epoch 40/50\n",
      "237/237 [==============================] - 0s 1ms/step - loss: 0.0850 - mean_absolute_error: 0.2290 - root_mean_squared_error: 0.2915 - val_loss: 1.1511 - val_mean_absolute_error: 0.8152 - val_root_mean_squared_error: 1.0729\n",
      "Epoch 41/50\n",
      "237/237 [==============================] - 0s 1ms/step - loss: 0.0836 - mean_absolute_error: 0.2263 - root_mean_squared_error: 0.2891 - val_loss: 1.1718 - val_mean_absolute_error: 0.8282 - val_root_mean_squared_error: 1.0825\n",
      "Epoch 42/50\n",
      "237/237 [==============================] - 0s 1ms/step - loss: 0.0835 - mean_absolute_error: 0.2255 - root_mean_squared_error: 0.2889 - val_loss: 1.1623 - val_mean_absolute_error: 0.8236 - val_root_mean_squared_error: 1.0781\n",
      "Epoch 43/50\n",
      "237/237 [==============================] - 0s 1ms/step - loss: 0.0786 - mean_absolute_error: 0.2208 - root_mean_squared_error: 0.2804 - val_loss: 1.1297 - val_mean_absolute_error: 0.8128 - val_root_mean_squared_error: 1.0629\n",
      "Epoch 44/50\n",
      "237/237 [==============================] - 0s 1ms/step - loss: 0.0851 - mean_absolute_error: 0.2283 - root_mean_squared_error: 0.2917 - val_loss: 1.1548 - val_mean_absolute_error: 0.8117 - val_root_mean_squared_error: 1.0746\n",
      "Epoch 45/50\n",
      "237/237 [==============================] - 0s 1ms/step - loss: 0.0854 - mean_absolute_error: 0.2295 - root_mean_squared_error: 0.2922 - val_loss: 1.1431 - val_mean_absolute_error: 0.8270 - val_root_mean_squared_error: 1.0691\n",
      "Epoch 46/50\n",
      "237/237 [==============================] - 0s 1ms/step - loss: 0.0776 - mean_absolute_error: 0.2171 - root_mean_squared_error: 0.2786 - val_loss: 1.1945 - val_mean_absolute_error: 0.8502 - val_root_mean_squared_error: 1.0929\n",
      "Epoch 47/50\n",
      "237/237 [==============================] - 0s 1ms/step - loss: 0.0825 - mean_absolute_error: 0.2248 - root_mean_squared_error: 0.2873 - val_loss: 1.1415 - val_mean_absolute_error: 0.8238 - val_root_mean_squared_error: 1.0684\n",
      "Epoch 48/50\n",
      "237/237 [==============================] - 0s 1ms/step - loss: 0.0769 - mean_absolute_error: 0.2167 - root_mean_squared_error: 0.2772 - val_loss: 1.1423 - val_mean_absolute_error: 0.8197 - val_root_mean_squared_error: 1.0688\n",
      "Epoch 49/50\n",
      "237/237 [==============================] - 0s 1ms/step - loss: 0.0766 - mean_absolute_error: 0.2166 - root_mean_squared_error: 0.2767 - val_loss: 1.1511 - val_mean_absolute_error: 0.8269 - val_root_mean_squared_error: 1.0729\n",
      "Epoch 50/50\n",
      "237/237 [==============================] - 0s 1ms/step - loss: 0.0735 - mean_absolute_error: 0.2122 - root_mean_squared_error: 0.2710 - val_loss: 1.1209 - val_mean_absolute_error: 0.8089 - val_root_mean_squared_error: 1.0587\n",
      "Training took a total of 0:00:15.610003\n"
     ]
    }
   ],
   "source": [
    "# Timing\n",
    "start = datetime.datetime.now()\n",
    "\n",
    "EPOCHS = 50\n",
    "# Store training stats\n",
    "deep_hist_2 = deep_2.fit(X_train2, y_train2, epochs=EPOCHS,\n",
    "                    validation_split=0.2, verbose=1)\n",
    "\n",
    "# Timing\n",
    "end = datetime.datetime.now(); elapsed = end-start\n",
    "print('Training took a total of {}'.format(elapsed))"
   ]
  },
  {
   "cell_type": "code",
   "execution_count": 84,
   "id": "75f9cfdd",
   "metadata": {
    "scrolled": true
   },
   "outputs": [
    {
     "name": "stdout",
     "output_type": "stream",
     "text": [
      "Train RMSE:  0.5146\n",
      "Val RMSE:  1.047\n"
     ]
    },
    {
     "data": {
      "image/png": "[encoded data removed]",
      "text/plain": [
       "<Figure size 432x288 with 1 Axes>"
      ]
     },
     "metadata": {
      "needs_background": "light"
     },
     "output_type": "display_data"
    }
   ],
   "source": [
    "plot_history(deep_hist_2)\n",
    "\n",
    "train_score = deep_2.evaluate(X_train2, y_train2, verbose = 0) \n",
    "# print('Val loss:', score[0]) \n",
    "print('Train RMSE:  {:.4}'.format(train_score[2]))\n",
    "\n",
    "val_score = deep_2.evaluate(X_val2, y_val2, verbose = 0) \n",
    "# print('Val loss:', score[0]) \n",
    "print('Val RMSE:  {:.4}'.format(val_score[2]))"
   ]
  },
  {
   "cell_type": "markdown",
   "id": "05597959",
   "metadata": {},
   "source": [
    "## Comparing our Second Round of Baselines"
   ]
  },
  {
   "cell_type": "code",
   "execution_count": 85,
   "id": "f829c843",
   "metadata": {
    "scrolled": false
   },
   "outputs": [
    {
     "name": "stdout",
     "output_type": "stream",
     "text": [
      "Linear Regression Predictions:\n",
      "Linear Regression Validation RMSE : 0.9385\n"
     ]
    },
    {
     "data": {
      "image/png": "[encoded data removed]",
      "text/plain": [
       "<Figure size 576x288 with 2 Axes>"
      ]
     },
     "metadata": {
      "needs_background": "light"
     },
     "output_type": "display_data"
    },
    {
     "name": "stdout",
     "output_type": "stream",
     "text": [
      "XGBoost Predictions:\n",
      "XGBoost Validation RMSE : 0.948\n"
     ]
    },
    {
     "data": {
      "image/png": "[encoded data removed]",
      "text/plain": [
       "<Figure size 576x288 with 2 Axes>"
      ]
     },
     "metadata": {
      "needs_background": "light"
     },
     "output_type": "display_data"
    },
    {
     "name": "stdout",
     "output_type": "stream",
     "text": [
      "Random Forest Predictions:\n",
      "RF Validation RMSE : 0.911\n"
     ]
    },
    {
     "data": {
      "image/png": "[encoded data removed]",
      "text/plain": [
       "<Figure size 576x288 with 2 Axes>"
      ]
     },
     "metadata": {
      "needs_background": "light"
     },
     "output_type": "display_data"
    },
    {
     "name": "stdout",
     "output_type": "stream",
     "text": [
      "Deep Learning Predictions:\n",
      "Deep Learning Validation RMSE:  1.047\n",
      "99/99 [==============================] - 0s 633us/step\n"
     ]
    },
    {
     "data": {
      "image/png": "[encoded data removed]",
      "text/plain": [
       "<Figure size 576x288 with 2 Axes>"
      ]
     },
     "metadata": {
      "needs_background": "light"
     },
     "output_type": "display_data"
    }
   ],
   "source": [
    "# Comparing all three models\n",
    "print('Linear Regression Predictions:')\n",
    "val_predictions = linreg2.predict(X_val2).flatten()\n",
    "linreg_rmse = np.sqrt(MSE(y_val2, val_predictions))\n",
    "print(\"Linear Regression Validation RMSE : {:.4}\".format(linreg_rmse))\n",
    "val_predictions = linreg2.predict(X_val2).flatten()\n",
    "plot_prediction(y_val2, val_predictions)\n",
    "plt.show()\n",
    "\n",
    "print('XGBoost Predictions:')\n",
    "val_predictions = XGB2.predict(X_val2).flatten()\n",
    "xgb_rmse = np.sqrt(MSE(y_val2, val_predictions))\n",
    "print(\"XGBoost Validation RMSE : {:.4}\".format(xgb_rmse))\n",
    "val_predictions = XGB2.predict(X_val2).flatten()\n",
    "plot_prediction(y_val2, val_predictions)\n",
    "plt.show()\n",
    "\n",
    "print('Random Forest Predictions:')\n",
    "val_predictions = forest2.predict(X_val2).flatten()\n",
    "forest_rmse = np.sqrt(MSE(y_val2, val_predictions))\n",
    "print(\"RF Validation RMSE : {:.4}\".format(forest_rmse))\n",
    "plot_prediction(y_val2, val_predictions)\n",
    "plt.show()\n",
    "\n",
    "print('Deep Learning Predictions:')\n",
    "train_score = deep_2.evaluate(X_train2, y_train2, verbose = 0) \n",
    "print('Deep Learning Validation RMSE:  {:.4}'.format(val_score[2]))\n",
    "val_predictions = deep_2.predict(X_val2).flatten()\n",
    "plot_prediction(y_val2, val_predictions)"
   ]
  },
  {
   "cell_type": "markdown",
   "id": "27ac18de",
   "metadata": {},
   "source": [
    "Well, we can see some improvements in our RMSE, and most of our baselines did perform better! If we were to choose between Top2Vec and Document Embeddings with PCA, our Document Embeddings probably perform better and contain more data. Let's see if we can improve upon these predictions with some hyperparameter tuning."
   ]
  },
  {
   "cell_type": "markdown",
   "id": "b78750e8",
   "metadata": {},
   "source": [
    "# Hyperparameter Tuning\n",
    "Linear Regression doesn't have hyperparameters to tune, so we'll start with XGBoost"
   ]
  },
  {
   "cell_type": "code",
   "execution_count": 86,
   "id": "d5ccb7e5",
   "metadata": {},
   "outputs": [],
   "source": [
    "optimize = 'neg_root_mean_squared_error'"
   ]
  },
  {
   "cell_type": "code",
   "execution_count": 87,
   "id": "2d1397e7",
   "metadata": {},
   "outputs": [
    {
     "name": "stdout",
     "output_type": "stream",
     "text": [
      "[0]\tvalidation_0-rmse:1.26521\tvalidation_0-mae:0.87060\n",
      "[1]\tvalidation_0-rmse:1.12136\tvalidation_0-mae:0.76618\n",
      "[2]\tvalidation_0-rmse:1.03750\tvalidation_0-mae:0.72122\n",
      "[3]\tvalidation_0-rmse:0.99113\tvalidation_0-mae:0.70417\n",
      "[4]\tvalidation_0-rmse:0.96800\tvalidation_0-mae:0.69976\n",
      "[5]\tvalidation_0-rmse:0.94795\tvalidation_0-mae:0.69144\n",
      "[6]\tvalidation_0-rmse:0.94139\tvalidation_0-mae:0.69251\n",
      "[7]\tvalidation_0-rmse:0.93902\tvalidation_0-mae:0.69477\n",
      "[8]\tvalidation_0-rmse:0.93156\tvalidation_0-mae:0.69313\n",
      "[9]\tvalidation_0-rmse:0.93036\tvalidation_0-mae:0.69522\n",
      "[10]\tvalidation_0-rmse:0.92819\tvalidation_0-mae:0.69592\n",
      "[11]\tvalidation_0-rmse:0.92664\tvalidation_0-mae:0.69444\n"
     ]
    }
   ],
   "source": [
    "eval_metric = [\"rmse\",\"mae\"]\n",
    "\n",
    "XGB2 = xgboost.XGBRegressor(objective='reg:squarederror', eval_metric=eval_metric, early_stopping_rounds=6)\n",
    "XGBhist2 = XGB2.fit(X_train2, y_train2, eval_set=eval_set, )"
   ]
  },
  {
   "cell_type": "code",
   "execution_count": 88,
   "id": "1184f676",
   "metadata": {},
   "outputs": [
    {
     "name": "stdout",
     "output_type": "stream",
     "text": [
      "Fitting 3 folds for each of 2 candidates, totalling 6 fits\n",
      "Grid Search found the following optimal parameters: \n",
      "eval_metric: 'mlogloss'\n",
      "lambda: 1\n",
      "learning_rate: 0.2\n",
      "max_depth: 7\n",
      "min_child_weight: 3\n",
      "n_estimators: 100\n",
      "Training took a total of 0:00:45.667593\n",
      "{}\n"
     ]
    }
   ],
   "source": [
    "# Our hyperparameter grid, with some other options as comments\n",
    "\n",
    "XGB = xgboost.XGBRegressor(objective='reg:squarederror')\n",
    "\n",
    "XGB_params = {\n",
    "    'learning_rate' : [0.2],\n",
    "    'min_child_weight' : [3],\n",
    "#     'gamma' : [0.0, 0.1, 0.2 , 0.3],\n",
    "#     'colsample_bytree' : [0.3, 0.4, 0.5],\n",
    "#     'alpha' : [0.01], # L1 regularization\n",
    "#     'eta': [1, 0.1, 0.01,],\n",
    "    'eval_metric':['mlogloss'],\n",
    "    'lambda':[1], # L2 regularization\n",
    "#     'booster' : ['gbtree', 'gblinear', 'dart'],\n",
    "    'max_depth': [7],\n",
    "    'n_estimators': [100, 150],\n",
    "#     'subsample': [0.5]\n",
    "}\n",
    "\n",
    "start = datetime.datetime.now()\n",
    "\n",
    "# Searching Parameters\n",
    "XGB3 = GridSearchCV(XGB, XGB_params, scoring=optimize, refit=optimize, cv=3, n_jobs=1, verbose=True)\n",
    "XGB3.fit(X_train2, y_train2)\n",
    "\n",
    "XGB_best_parameters = XGB3.best_params_\n",
    "\n",
    "print('Grid Search found the following optimal parameters: ')\n",
    "for param_name in sorted(XGB_best_parameters.keys()):\n",
    "    print('%s: %r' % (param_name, XGB_best_parameters[param_name]))\n",
    "    \n",
    "end = datetime.datetime.now(); elapsed = end-start\n",
    "print('Training took a total of {}'.format(elapsed))\n",
    "print(progress)"
   ]
  },
  {
   "cell_type": "code",
   "execution_count": 89,
   "id": "fdb88621",
   "metadata": {},
   "outputs": [
    {
     "name": "stdout",
     "output_type": "stream",
     "text": [
      "XGB RMSE :  0.916620\n"
     ]
    }
   ],
   "source": [
    "# Validation RMSE\n",
    "pred3 = XGB3.predict(X_val2)\n",
    "xgb_rmse = np.sqrt(MSE(y_val2, pred3))\n",
    "print(\"XGB RMSE : % f\" %(xgb_rmse))"
   ]
  },
  {
   "cell_type": "markdown",
   "id": "fae89553",
   "metadata": {},
   "source": [
    "## Random Forest Hyperparameter tuning"
   ]
  },
  {
   "cell_type": "code",
   "execution_count": 90,
   "id": "5516e5ad",
   "metadata": {},
   "outputs": [
    {
     "name": "stdout",
     "output_type": "stream",
     "text": [
      "Grid Search found the following optimal parameters: \n",
      "bootstrap: True\n",
      "max_depth: None\n",
      "max_features: 'auto'\n",
      "n_estimators: 100\n",
      "Training took a total of 0:05:20.697200\n"
     ]
    }
   ],
   "source": [
    "# Our hyperparameter grid, with some other options as comments\n",
    "rf_params = {\n",
    "    'bootstrap' : [True],\n",
    "#     'criterion' : ['entropy'], # 'gini', \n",
    "    'max_features' : ['auto'],\n",
    "    'max_depth' : [None],\n",
    "    'n_estimators' : [100]\n",
    "}\n",
    "\n",
    "start = datetime.datetime.now()\n",
    "\n",
    "# Searching parameters\n",
    "forest3 = GridSearchCV(RandomForestRegressor(), rf_params, scoring='neg_root_mean_squared_error', cv=2, n_jobs=1)\n",
    "forest3.fit(X_train2, y_train2)\n",
    "\n",
    "rf_best_params = forest3.best_params_\n",
    "\n",
    "print('Grid Search found the following optimal parameters: ')\n",
    "for param_name in sorted(rf_best_params.keys()):\n",
    "    print('%s: %r' % (param_name, rf_best_params[param_name]))\n",
    "    \n",
    "end = datetime.datetime.now(); elapsed = end-start\n",
    "print('Training took a total of {}'.format(elapsed))"
   ]
  },
  {
   "cell_type": "code",
   "execution_count": 91,
   "id": "a4578b1d",
   "metadata": {},
   "outputs": [
    {
     "name": "stdout",
     "output_type": "stream",
     "text": [
      "Forest RMSE :  0.917132\n"
     ]
    }
   ],
   "source": [
    "# Validation RMSE\n",
    "pred3 = forest3.predict(X_val2)\n",
    "forest_rmse = np.sqrt(MSE(y_val2, pred3))\n",
    "print(\"Forest RMSE : % f\" %(forest_rmse))"
   ]
  },
  {
   "cell_type": "markdown",
   "id": "584266ec",
   "metadata": {},
   "source": [
    "## Deep Learning Tuning\n",
    "Deep Learning is not usually used for tabular data, but let's fiddle around with it a little more and see if we can get better results. We'll also try a 1D CNN, where we trick the CNN to think of our tabular data as image data."
   ]
  },
  {
   "cell_type": "code",
   "execution_count": 92,
   "id": "2fb4cc3c",
   "metadata": {},
   "outputs": [
    {
     "data": {
      "text/html": [
       "<div>\n",
       "<style scoped>\n",
       "    .dataframe tbody tr th:only-of-type {\n",
       "        vertical-align: middle;\n",
       "    }\n",
       "\n",
       "    .dataframe tbody tr th {\n",
       "        vertical-align: top;\n",
       "    }\n",
       "\n",
       "    .dataframe thead th {\n",
       "        text-align: right;\n",
       "    }\n",
       "</style>\n",
       "<table border=\"1\" class=\"dataframe\">\n",
       "  <thead>\n",
       "    <tr style=\"text-align: right;\">\n",
       "      <th></th>\n",
       "      <th>followers</th>\n",
       "      <th>lists</th>\n",
       "      <th>0</th>\n",
       "      <th>1</th>\n",
       "      <th>2</th>\n",
       "      <th>3</th>\n",
       "      <th>4</th>\n",
       "      <th>5</th>\n",
       "      <th>6</th>\n",
       "      <th>7</th>\n",
       "      <th>...</th>\n",
       "      <th>246</th>\n",
       "      <th>247</th>\n",
       "      <th>248</th>\n",
       "      <th>249</th>\n",
       "      <th>250</th>\n",
       "      <th>251</th>\n",
       "      <th>252</th>\n",
       "      <th>253</th>\n",
       "      <th>254</th>\n",
       "      <th>255</th>\n",
       "    </tr>\n",
       "  </thead>\n",
       "  <tbody>\n",
       "    <tr>\n",
       "      <th>2380</th>\n",
       "      <td>0.738906</td>\n",
       "      <td>0.168206</td>\n",
       "      <td>0.189464</td>\n",
       "      <td>-0.278304</td>\n",
       "      <td>0.040095</td>\n",
       "      <td>-0.136290</td>\n",
       "      <td>-0.016943</td>\n",
       "      <td>0.215020</td>\n",
       "      <td>0.235772</td>\n",
       "      <td>0.066923</td>\n",
       "      <td>...</td>\n",
       "      <td>-0.028428</td>\n",
       "      <td>-0.039181</td>\n",
       "      <td>0.001380</td>\n",
       "      <td>0.009837</td>\n",
       "      <td>-0.023183</td>\n",
       "      <td>-0.042216</td>\n",
       "      <td>-0.020111</td>\n",
       "      <td>0.012855</td>\n",
       "      <td>0.014109</td>\n",
       "      <td>-0.004070</td>\n",
       "    </tr>\n",
       "    <tr>\n",
       "      <th>30230</th>\n",
       "      <td>0.620544</td>\n",
       "      <td>0.327175</td>\n",
       "      <td>-0.115962</td>\n",
       "      <td>0.418614</td>\n",
       "      <td>-0.002963</td>\n",
       "      <td>0.064523</td>\n",
       "      <td>0.315844</td>\n",
       "      <td>-0.090441</td>\n",
       "      <td>-0.104711</td>\n",
       "      <td>-0.226997</td>\n",
       "      <td>...</td>\n",
       "      <td>0.020100</td>\n",
       "      <td>-0.027454</td>\n",
       "      <td>-0.003872</td>\n",
       "      <td>0.013818</td>\n",
       "      <td>-0.016718</td>\n",
       "      <td>0.008131</td>\n",
       "      <td>-0.021172</td>\n",
       "      <td>-0.003225</td>\n",
       "      <td>-0.021528</td>\n",
       "      <td>-0.003012</td>\n",
       "    </tr>\n",
       "    <tr>\n",
       "      <th>1801</th>\n",
       "      <td>0.012727</td>\n",
       "      <td>0.024793</td>\n",
       "      <td>-0.044501</td>\n",
       "      <td>0.312341</td>\n",
       "      <td>0.284731</td>\n",
       "      <td>0.059969</td>\n",
       "      <td>-0.126446</td>\n",
       "      <td>-0.040466</td>\n",
       "      <td>-0.124169</td>\n",
       "      <td>-0.036214</td>\n",
       "      <td>...</td>\n",
       "      <td>0.015680</td>\n",
       "      <td>-0.010017</td>\n",
       "      <td>0.016149</td>\n",
       "      <td>0.028363</td>\n",
       "      <td>-0.011745</td>\n",
       "      <td>0.041380</td>\n",
       "      <td>-0.028732</td>\n",
       "      <td>-0.071920</td>\n",
       "      <td>-0.004127</td>\n",
       "      <td>-0.010586</td>\n",
       "    </tr>\n",
       "    <tr>\n",
       "      <th>31911</th>\n",
       "      <td>0.886204</td>\n",
       "      <td>0.406903</td>\n",
       "      <td>-0.083766</td>\n",
       "      <td>0.115864</td>\n",
       "      <td>-0.371840</td>\n",
       "      <td>0.079753</td>\n",
       "      <td>0.135250</td>\n",
       "      <td>0.008940</td>\n",
       "      <td>0.045281</td>\n",
       "      <td>0.008044</td>\n",
       "      <td>...</td>\n",
       "      <td>-0.004786</td>\n",
       "      <td>0.009456</td>\n",
       "      <td>0.011374</td>\n",
       "      <td>-0.051420</td>\n",
       "      <td>0.012188</td>\n",
       "      <td>-0.008504</td>\n",
       "      <td>0.012883</td>\n",
       "      <td>0.015632</td>\n",
       "      <td>0.018997</td>\n",
       "      <td>-0.001448</td>\n",
       "    </tr>\n",
       "    <tr>\n",
       "      <th>3711</th>\n",
       "      <td>0.153740</td>\n",
       "      <td>0.177443</td>\n",
       "      <td>0.164243</td>\n",
       "      <td>0.034703</td>\n",
       "      <td>-0.165356</td>\n",
       "      <td>0.065451</td>\n",
       "      <td>-0.000700</td>\n",
       "      <td>0.084136</td>\n",
       "      <td>0.295006</td>\n",
       "      <td>-0.086896</td>\n",
       "      <td>...</td>\n",
       "      <td>-0.021658</td>\n",
       "      <td>-0.010023</td>\n",
       "      <td>0.042438</td>\n",
       "      <td>-0.003872</td>\n",
       "      <td>0.008782</td>\n",
       "      <td>0.013382</td>\n",
       "      <td>0.027935</td>\n",
       "      <td>-0.011926</td>\n",
       "      <td>-0.030409</td>\n",
       "      <td>0.022390</td>\n",
       "    </tr>\n",
       "    <tr>\n",
       "      <th>...</th>\n",
       "      <td>...</td>\n",
       "      <td>...</td>\n",
       "      <td>...</td>\n",
       "      <td>...</td>\n",
       "      <td>...</td>\n",
       "      <td>...</td>\n",
       "      <td>...</td>\n",
       "      <td>...</td>\n",
       "      <td>...</td>\n",
       "      <td>...</td>\n",
       "      <td>...</td>\n",
       "      <td>...</td>\n",
       "      <td>...</td>\n",
       "      <td>...</td>\n",
       "      <td>...</td>\n",
       "      <td>...</td>\n",
       "      <td>...</td>\n",
       "      <td>...</td>\n",
       "      <td>...</td>\n",
       "      <td>...</td>\n",
       "      <td>...</td>\n",
       "    </tr>\n",
       "    <tr>\n",
       "      <th>2043</th>\n",
       "      <td>0.369464</td>\n",
       "      <td>0.247448</td>\n",
       "      <td>-0.267909</td>\n",
       "      <td>-0.060072</td>\n",
       "      <td>0.005094</td>\n",
       "      <td>-0.089269</td>\n",
       "      <td>0.158497</td>\n",
       "      <td>0.060437</td>\n",
       "      <td>0.095444</td>\n",
       "      <td>-0.087021</td>\n",
       "      <td>...</td>\n",
       "      <td>0.017528</td>\n",
       "      <td>-0.004090</td>\n",
       "      <td>-0.015900</td>\n",
       "      <td>0.036552</td>\n",
       "      <td>-0.006277</td>\n",
       "      <td>-0.033013</td>\n",
       "      <td>0.006512</td>\n",
       "      <td>-0.024535</td>\n",
       "      <td>-0.003338</td>\n",
       "      <td>-0.008352</td>\n",
       "    </tr>\n",
       "    <tr>\n",
       "      <th>27281</th>\n",
       "      <td>0.563397</td>\n",
       "      <td>0.225571</td>\n",
       "      <td>-0.164357</td>\n",
       "      <td>0.242475</td>\n",
       "      <td>-0.129535</td>\n",
       "      <td>0.024315</td>\n",
       "      <td>-0.186801</td>\n",
       "      <td>0.026636</td>\n",
       "      <td>0.277702</td>\n",
       "      <td>0.150384</td>\n",
       "      <td>...</td>\n",
       "      <td>-0.059450</td>\n",
       "      <td>-0.018215</td>\n",
       "      <td>-0.022508</td>\n",
       "      <td>0.025499</td>\n",
       "      <td>-0.016668</td>\n",
       "      <td>0.018102</td>\n",
       "      <td>0.008822</td>\n",
       "      <td>0.005976</td>\n",
       "      <td>-0.002374</td>\n",
       "      <td>0.004327</td>\n",
       "    </tr>\n",
       "    <tr>\n",
       "      <th>27197</th>\n",
       "      <td>0.563397</td>\n",
       "      <td>0.225571</td>\n",
       "      <td>0.226170</td>\n",
       "      <td>-0.151485</td>\n",
       "      <td>-0.257428</td>\n",
       "      <td>0.166806</td>\n",
       "      <td>0.100113</td>\n",
       "      <td>0.081518</td>\n",
       "      <td>0.179688</td>\n",
       "      <td>-0.064557</td>\n",
       "      <td>...</td>\n",
       "      <td>0.002319</td>\n",
       "      <td>-0.039479</td>\n",
       "      <td>0.007391</td>\n",
       "      <td>0.001641</td>\n",
       "      <td>0.009616</td>\n",
       "      <td>0.009985</td>\n",
       "      <td>0.020370</td>\n",
       "      <td>-0.005463</td>\n",
       "      <td>0.012718</td>\n",
       "      <td>-0.001913</td>\n",
       "    </tr>\n",
       "    <tr>\n",
       "      <th>3974</th>\n",
       "      <td>0.734498</td>\n",
       "      <td>0.343704</td>\n",
       "      <td>-0.016326</td>\n",
       "      <td>0.093078</td>\n",
       "      <td>-0.066305</td>\n",
       "      <td>0.053012</td>\n",
       "      <td>0.063670</td>\n",
       "      <td>-0.169542</td>\n",
       "      <td>0.030738</td>\n",
       "      <td>-0.062225</td>\n",
       "      <td>...</td>\n",
       "      <td>-0.081020</td>\n",
       "      <td>0.038703</td>\n",
       "      <td>0.006473</td>\n",
       "      <td>-0.040208</td>\n",
       "      <td>-0.034800</td>\n",
       "      <td>0.008963</td>\n",
       "      <td>0.014929</td>\n",
       "      <td>0.019801</td>\n",
       "      <td>-0.027730</td>\n",
       "      <td>-0.001600</td>\n",
       "    </tr>\n",
       "    <tr>\n",
       "      <th>25996</th>\n",
       "      <td>0.646450</td>\n",
       "      <td>0.072922</td>\n",
       "      <td>-0.254923</td>\n",
       "      <td>-0.081837</td>\n",
       "      <td>0.300918</td>\n",
       "      <td>-0.010610</td>\n",
       "      <td>0.178206</td>\n",
       "      <td>-0.052158</td>\n",
       "      <td>0.102977</td>\n",
       "      <td>-0.101432</td>\n",
       "      <td>...</td>\n",
       "      <td>0.014722</td>\n",
       "      <td>-0.030600</td>\n",
       "      <td>0.080005</td>\n",
       "      <td>-0.026375</td>\n",
       "      <td>0.034497</td>\n",
       "      <td>-0.018826</td>\n",
       "      <td>0.002545</td>\n",
       "      <td>0.032527</td>\n",
       "      <td>0.013965</td>\n",
       "      <td>-0.031262</td>\n",
       "    </tr>\n",
       "  </tbody>\n",
       "</table>\n",
       "<p>9460 rows × 258 columns</p>\n",
       "</div>"
      ],
      "text/plain": [
       "       followers     lists         0         1         2         3         4  \\\n",
       "2380    0.738906  0.168206  0.189464 -0.278304  0.040095 -0.136290 -0.016943   \n",
       "30230   0.620544  0.327175 -0.115962  0.418614 -0.002963  0.064523  0.315844   \n",
       "1801    0.012727  0.024793 -0.044501  0.312341  0.284731  0.059969 -0.126446   \n",
       "31911   0.886204  0.406903 -0.083766  0.115864 -0.371840  0.079753  0.135250   \n",
       "3711    0.153740  0.177443  0.164243  0.034703 -0.165356  0.065451 -0.000700   \n",
       "...          ...       ...       ...       ...       ...       ...       ...   \n",
       "2043    0.369464  0.247448 -0.267909 -0.060072  0.005094 -0.089269  0.158497   \n",
       "27281   0.563397  0.225571 -0.164357  0.242475 -0.129535  0.024315 -0.186801   \n",
       "27197   0.563397  0.225571  0.226170 -0.151485 -0.257428  0.166806  0.100113   \n",
       "3974    0.734498  0.343704 -0.016326  0.093078 -0.066305  0.053012  0.063670   \n",
       "25996   0.646450  0.072922 -0.254923 -0.081837  0.300918 -0.010610  0.178206   \n",
       "\n",
       "              5         6         7  ...       246       247       248  \\\n",
       "2380   0.215020  0.235772  0.066923  ... -0.028428 -0.039181  0.001380   \n",
       "30230 -0.090441 -0.104711 -0.226997  ...  0.020100 -0.027454 -0.003872   \n",
       "1801  -0.040466 -0.124169 -0.036214  ...  0.015680 -0.010017  0.016149   \n",
       "31911  0.008940  0.045281  0.008044  ... -0.004786  0.009456  0.011374   \n",
       "3711   0.084136  0.295006 -0.086896  ... -0.021658 -0.010023  0.042438   \n",
       "...         ...       ...       ...  ...       ...       ...       ...   \n",
       "2043   0.060437  0.095444 -0.087021  ...  0.017528 -0.004090 -0.015900   \n",
       "27281  0.026636  0.277702  0.150384  ... -0.059450 -0.018215 -0.022508   \n",
       "27197  0.081518  0.179688 -0.064557  ...  0.002319 -0.039479  0.007391   \n",
       "3974  -0.169542  0.030738 -0.062225  ... -0.081020  0.038703  0.006473   \n",
       "25996 -0.052158  0.102977 -0.101432  ...  0.014722 -0.030600  0.080005   \n",
       "\n",
       "            249       250       251       252       253       254       255  \n",
       "2380   0.009837 -0.023183 -0.042216 -0.020111  0.012855  0.014109 -0.004070  \n",
       "30230  0.013818 -0.016718  0.008131 -0.021172 -0.003225 -0.021528 -0.003012  \n",
       "1801   0.028363 -0.011745  0.041380 -0.028732 -0.071920 -0.004127 -0.010586  \n",
       "31911 -0.051420  0.012188 -0.008504  0.012883  0.015632  0.018997 -0.001448  \n",
       "3711  -0.003872  0.008782  0.013382  0.027935 -0.011926 -0.030409  0.022390  \n",
       "...         ...       ...       ...       ...       ...       ...       ...  \n",
       "2043   0.036552 -0.006277 -0.033013  0.006512 -0.024535 -0.003338 -0.008352  \n",
       "27281  0.025499 -0.016668  0.018102  0.008822  0.005976 -0.002374  0.004327  \n",
       "27197  0.001641  0.009616  0.009985  0.020370 -0.005463  0.012718 -0.001913  \n",
       "3974  -0.040208 -0.034800  0.008963  0.014929  0.019801 -0.027730 -0.001600  \n",
       "25996 -0.026375  0.034497 -0.018826  0.002545  0.032527  0.013965 -0.031262  \n",
       "\n",
       "[9460 rows x 258 columns]"
      ]
     },
     "execution_count": 92,
     "metadata": {},
     "output_type": "execute_result"
    }
   ],
   "source": [
    "X_train2"
   ]
  },
  {
   "cell_type": "code",
   "execution_count": 93,
   "id": "9539dca1",
   "metadata": {},
   "outputs": [],
   "source": [
    "# Establish our metrics\n",
    "METRICS = [tf.keras.metrics.MeanAbsoluteError(),\n",
    "           tf.keras.metrics.RootMeanSquaredError()]"
   ]
  },
  {
   "cell_type": "code",
   "execution_count": 94,
   "id": "f441dc47",
   "metadata": {},
   "outputs": [],
   "source": [
    "def build_model():\n",
    "  model = keras.Sequential([\n",
    "    keras.layers.Input(shape=(X_train2.shape[1],)),                  \n",
    "    keras.layers.Dense(258, activation=tf.nn.crelu), tf.keras.layers.Dropout(0.05),\n",
    "    tf.keras.layers.BatchNormalization(),\n",
    "    keras.layers.Dense(128, activation=tf.nn.crelu), tf.keras.layers.Dropout(0.05),\n",
    "    keras.layers.Dense(32, activation=tf.nn.crelu), tf.keras.layers.Dropout(0.05),\n",
    "    keras.layers.Dense(128, activation=tf.nn.crelu), tf.keras.layers.Dropout(0.05),\n",
    "    keras.layers.Dense(1)\n",
    "  ], name=\"MLP_model\")\n",
    "\n",
    "  optimizer = 'adam'\n",
    "\n",
    "  model.compile(loss='mse',\n",
    "                optimizer=optimizer,\n",
    "                metrics=METRICS)\n",
    "  return model\n",
    "\n",
    "deep_3 = build_model()\n",
    "# deep_1.summary()"
   ]
  },
  {
   "cell_type": "code",
   "execution_count": 95,
   "id": "149db2a9",
   "metadata": {},
   "outputs": [
    {
     "name": "stdout",
     "output_type": "stream",
     "text": [
      "Epoch 1/40\n",
      "237/237 [==============================] - 1s 3ms/step - loss: 1.0431 - mean_absolute_error: 0.7624 - root_mean_squared_error: 1.0213 - val_loss: 2.5200 - val_mean_absolute_error: 1.2338 - val_root_mean_squared_error: 1.5874\n",
      "Epoch 2/40\n",
      "237/237 [==============================] - 1s 3ms/step - loss: 0.7671 - mean_absolute_error: 0.6583 - root_mean_squared_error: 0.8758 - val_loss: 1.6573 - val_mean_absolute_error: 0.9150 - val_root_mean_squared_error: 1.2874\n",
      "Epoch 3/40\n",
      "237/237 [==============================] - 1s 3ms/step - loss: 0.6148 - mean_absolute_error: 0.5911 - root_mean_squared_error: 0.7841 - val_loss: 0.9948 - val_mean_absolute_error: 0.7258 - val_root_mean_squared_error: 0.9974\n",
      "Epoch 4/40\n",
      "237/237 [==============================] - 1s 3ms/step - loss: 0.4749 - mean_absolute_error: 0.5260 - root_mean_squared_error: 0.6891 - val_loss: 0.9413 - val_mean_absolute_error: 0.7214 - val_root_mean_squared_error: 0.9702\n",
      "Epoch 5/40\n",
      "237/237 [==============================] - 1s 3ms/step - loss: 0.3650 - mean_absolute_error: 0.4614 - root_mean_squared_error: 0.6041 - val_loss: 0.9638 - val_mean_absolute_error: 0.7203 - val_root_mean_squared_error: 0.9817\n",
      "Epoch 6/40\n",
      "237/237 [==============================] - 1s 3ms/step - loss: 0.2951 - mean_absolute_error: 0.4177 - root_mean_squared_error: 0.5432 - val_loss: 1.0076 - val_mean_absolute_error: 0.7433 - val_root_mean_squared_error: 1.0038\n",
      "Epoch 7/40\n",
      "237/237 [==============================] - 1s 3ms/step - loss: 0.2616 - mean_absolute_error: 0.3920 - root_mean_squared_error: 0.5115 - val_loss: 1.0005 - val_mean_absolute_error: 0.7328 - val_root_mean_squared_error: 1.0003\n",
      "Epoch 8/40\n",
      "237/237 [==============================] - 1s 3ms/step - loss: 0.2297 - mean_absolute_error: 0.3671 - root_mean_squared_error: 0.4793 - val_loss: 0.9425 - val_mean_absolute_error: 0.7108 - val_root_mean_squared_error: 0.9708\n",
      "Epoch 9/40\n",
      "237/237 [==============================] - 1s 3ms/step - loss: 0.2122 - mean_absolute_error: 0.3500 - root_mean_squared_error: 0.4607 - val_loss: 0.9811 - val_mean_absolute_error: 0.7443 - val_root_mean_squared_error: 0.9905\n",
      "Epoch 10/40\n",
      "237/237 [==============================] - 1s 3ms/step - loss: 0.1923 - mean_absolute_error: 0.3321 - root_mean_squared_error: 0.4385 - val_loss: 0.9550 - val_mean_absolute_error: 0.7220 - val_root_mean_squared_error: 0.9773\n",
      "Epoch 11/40\n",
      "237/237 [==============================] - 1s 3ms/step - loss: 0.1816 - mean_absolute_error: 0.3238 - root_mean_squared_error: 0.4261 - val_loss: 0.9682 - val_mean_absolute_error: 0.7241 - val_root_mean_squared_error: 0.9840\n",
      "Epoch 12/40\n",
      "237/237 [==============================] - 1s 3ms/step - loss: 0.1766 - mean_absolute_error: 0.3184 - root_mean_squared_error: 0.4203 - val_loss: 0.9453 - val_mean_absolute_error: 0.7242 - val_root_mean_squared_error: 0.9723\n",
      "Epoch 13/40\n",
      "237/237 [==============================] - 1s 3ms/step - loss: 0.1648 - mean_absolute_error: 0.3103 - root_mean_squared_error: 0.4059 - val_loss: 0.9841 - val_mean_absolute_error: 0.7346 - val_root_mean_squared_error: 0.9920\n",
      "Epoch 14/40\n",
      "237/237 [==============================] - 1s 3ms/step - loss: 0.1655 - mean_absolute_error: 0.3085 - root_mean_squared_error: 0.4068 - val_loss: 0.9504 - val_mean_absolute_error: 0.7052 - val_root_mean_squared_error: 0.9749\n",
      "Epoch 15/40\n",
      "237/237 [==============================] - 1s 3ms/step - loss: 0.1511 - mean_absolute_error: 0.2944 - root_mean_squared_error: 0.3888 - val_loss: 0.9640 - val_mean_absolute_error: 0.7146 - val_root_mean_squared_error: 0.9818\n",
      "Epoch 16/40\n",
      "237/237 [==============================] - 1s 3ms/step - loss: 0.1505 - mean_absolute_error: 0.2926 - root_mean_squared_error: 0.3880 - val_loss: 0.9785 - val_mean_absolute_error: 0.7136 - val_root_mean_squared_error: 0.9892\n",
      "Epoch 17/40\n",
      "237/237 [==============================] - 1s 3ms/step - loss: 0.1495 - mean_absolute_error: 0.2892 - root_mean_squared_error: 0.3866 - val_loss: 0.9576 - val_mean_absolute_error: 0.7300 - val_root_mean_squared_error: 0.9786\n",
      "Epoch 18/40\n",
      "237/237 [==============================] - 1s 3ms/step - loss: 0.1405 - mean_absolute_error: 0.2814 - root_mean_squared_error: 0.3749 - val_loss: 0.9503 - val_mean_absolute_error: 0.7046 - val_root_mean_squared_error: 0.9748\n",
      "Epoch 19/40\n",
      "237/237 [==============================] - 1s 3ms/step - loss: 0.1389 - mean_absolute_error: 0.2819 - root_mean_squared_error: 0.3726 - val_loss: 0.9294 - val_mean_absolute_error: 0.7111 - val_root_mean_squared_error: 0.9641\n",
      "Epoch 20/40\n",
      "237/237 [==============================] - 1s 3ms/step - loss: 0.1269 - mean_absolute_error: 0.2671 - root_mean_squared_error: 0.3563 - val_loss: 0.9591 - val_mean_absolute_error: 0.7092 - val_root_mean_squared_error: 0.9793\n",
      "Epoch 21/40\n",
      "237/237 [==============================] - 1s 3ms/step - loss: 0.1264 - mean_absolute_error: 0.2654 - root_mean_squared_error: 0.3556 - val_loss: 0.9491 - val_mean_absolute_error: 0.7068 - val_root_mean_squared_error: 0.9742\n",
      "Epoch 22/40\n",
      "237/237 [==============================] - 1s 3ms/step - loss: 0.1299 - mean_absolute_error: 0.2692 - root_mean_squared_error: 0.3605 - val_loss: 0.9528 - val_mean_absolute_error: 0.7225 - val_root_mean_squared_error: 0.9761\n",
      "Epoch 23/40\n",
      "237/237 [==============================] - 1s 3ms/step - loss: 0.1311 - mean_absolute_error: 0.2716 - root_mean_squared_error: 0.3621 - val_loss: 0.9585 - val_mean_absolute_error: 0.7086 - val_root_mean_squared_error: 0.9790\n",
      "Epoch 24/40\n",
      "237/237 [==============================] - 1s 3ms/step - loss: 0.1167 - mean_absolute_error: 0.2555 - root_mean_squared_error: 0.3417 - val_loss: 0.9319 - val_mean_absolute_error: 0.7024 - val_root_mean_squared_error: 0.9654\n",
      "Epoch 25/40\n",
      "237/237 [==============================] - 1s 3ms/step - loss: 0.1203 - mean_absolute_error: 0.2561 - root_mean_squared_error: 0.3469 - val_loss: 0.9440 - val_mean_absolute_error: 0.7106 - val_root_mean_squared_error: 0.9716\n",
      "Epoch 26/40\n",
      "237/237 [==============================] - 1s 3ms/step - loss: 0.1153 - mean_absolute_error: 0.2525 - root_mean_squared_error: 0.3396 - val_loss: 0.9219 - val_mean_absolute_error: 0.7010 - val_root_mean_squared_error: 0.9602\n",
      "Epoch 27/40\n",
      "237/237 [==============================] - 1s 3ms/step - loss: 0.1176 - mean_absolute_error: 0.2556 - root_mean_squared_error: 0.3429 - val_loss: 0.9355 - val_mean_absolute_error: 0.7177 - val_root_mean_squared_error: 0.9672\n",
      "Epoch 28/40\n",
      "237/237 [==============================] - 1s 3ms/step - loss: 0.1186 - mean_absolute_error: 0.2561 - root_mean_squared_error: 0.3444 - val_loss: 1.0007 - val_mean_absolute_error: 0.7209 - val_root_mean_squared_error: 1.0004\n",
      "Epoch 29/40\n",
      "237/237 [==============================] - 1s 3ms/step - loss: 0.1220 - mean_absolute_error: 0.2600 - root_mean_squared_error: 0.3492 - val_loss: 0.9780 - val_mean_absolute_error: 0.7050 - val_root_mean_squared_error: 0.9889\n",
      "Epoch 30/40\n",
      "237/237 [==============================] - 1s 3ms/step - loss: 0.1194 - mean_absolute_error: 0.2570 - root_mean_squared_error: 0.3456 - val_loss: 0.9408 - val_mean_absolute_error: 0.7237 - val_root_mean_squared_error: 0.9700\n",
      "Epoch 31/40\n",
      "237/237 [==============================] - 1s 3ms/step - loss: 0.1180 - mean_absolute_error: 0.2555 - root_mean_squared_error: 0.3435 - val_loss: 0.9694 - val_mean_absolute_error: 0.7095 - val_root_mean_squared_error: 0.9846\n",
      "Epoch 32/40\n",
      "237/237 [==============================] - 1s 3ms/step - loss: 0.1184 - mean_absolute_error: 0.2547 - root_mean_squared_error: 0.3441 - val_loss: 0.9518 - val_mean_absolute_error: 0.7156 - val_root_mean_squared_error: 0.9756\n",
      "Epoch 33/40\n",
      "237/237 [==============================] - 1s 3ms/step - loss: 0.1081 - mean_absolute_error: 0.2445 - root_mean_squared_error: 0.3288 - val_loss: 0.9267 - val_mean_absolute_error: 0.7021 - val_root_mean_squared_error: 0.9627\n",
      "Epoch 34/40\n",
      "237/237 [==============================] - 1s 3ms/step - loss: 0.0991 - mean_absolute_error: 0.2362 - root_mean_squared_error: 0.3148 - val_loss: 0.9366 - val_mean_absolute_error: 0.6978 - val_root_mean_squared_error: 0.9678\n",
      "Epoch 35/40\n",
      "237/237 [==============================] - 1s 3ms/step - loss: 0.1091 - mean_absolute_error: 0.2442 - root_mean_squared_error: 0.3303 - val_loss: 0.9218 - val_mean_absolute_error: 0.6941 - val_root_mean_squared_error: 0.9601\n"
     ]
    },
    {
     "name": "stdout",
     "output_type": "stream",
     "text": [
      "Epoch 36/40\n",
      "237/237 [==============================] - 1s 3ms/step - loss: 0.0959 - mean_absolute_error: 0.2317 - root_mean_squared_error: 0.3097 - val_loss: 0.9418 - val_mean_absolute_error: 0.7036 - val_root_mean_squared_error: 0.9705\n",
      "Epoch 37/40\n",
      "237/237 [==============================] - 1s 3ms/step - loss: 0.1019 - mean_absolute_error: 0.2383 - root_mean_squared_error: 0.3192 - val_loss: 0.9228 - val_mean_absolute_error: 0.7072 - val_root_mean_squared_error: 0.9606\n",
      "Epoch 38/40\n",
      "237/237 [==============================] - 1s 3ms/step - loss: 0.1012 - mean_absolute_error: 0.2377 - root_mean_squared_error: 0.3181 - val_loss: 0.9384 - val_mean_absolute_error: 0.7096 - val_root_mean_squared_error: 0.9687\n",
      "Epoch 39/40\n",
      "237/237 [==============================] - 1s 3ms/step - loss: 0.0932 - mean_absolute_error: 0.2284 - root_mean_squared_error: 0.3053 - val_loss: 0.9343 - val_mean_absolute_error: 0.6990 - val_root_mean_squared_error: 0.9666\n",
      "Epoch 40/40\n",
      "237/237 [==============================] - 1s 3ms/step - loss: 0.1021 - mean_absolute_error: 0.2383 - root_mean_squared_error: 0.3195 - val_loss: 0.9570 - val_mean_absolute_error: 0.7041 - val_root_mean_squared_error: 0.9782\n",
      "Training took a total of 0:00:29.266000\n"
     ]
    }
   ],
   "source": [
    "# Timing\n",
    "start = datetime.datetime.now()\n",
    "\n",
    "EPOCHS = 40\n",
    "# Store training stats\n",
    "deep_hist_3 = deep_3.fit(X_train2, y_train2, epochs=EPOCHS,\n",
    "                    validation_split=0.2, verbose=1)\n",
    "\n",
    "# Timing\n",
    "end = datetime.datetime.now(); elapsed = end-start\n",
    "print('Training took a total of {}'.format(elapsed))"
   ]
  },
  {
   "cell_type": "code",
   "execution_count": 96,
   "id": "b6cd624e",
   "metadata": {
    "scrolled": true
   },
   "outputs": [
    {
     "name": "stdout",
     "output_type": "stream",
     "text": [
      "Train RMSE:  0.5096\n",
      "Val RMSE:  0.9633\n"
     ]
    },
    {
     "data": {
      "image/png": "[encoded data removed]",
      "text/plain": [
       "<Figure size 432x288 with 1 Axes>"
      ]
     },
     "metadata": {
      "needs_background": "light"
     },
     "output_type": "display_data"
    }
   ],
   "source": [
    "plot_history(deep_hist_3)\n",
    "\n",
    "train_score = deep_3.evaluate(X_train2, y_train2, verbose = 0) \n",
    "# print('Val loss:', score[0]) \n",
    "print('Train RMSE:  {:.4}'.format(train_score[2]))\n",
    "\n",
    "val_score = deep_3.evaluate(X_val2, y_val2, verbose = 0) \n",
    "# print('Val loss:', score[0]) \n",
    "print('Val RMSE:  {:.4}'.format(val_score[2]))"
   ]
  },
  {
   "cell_type": "code",
   "execution_count": 97,
   "id": "93572594",
   "metadata": {},
   "outputs": [
    {
     "name": "stdout",
     "output_type": "stream",
     "text": [
      "Deep3 Predictions:\n",
      "Deep3 Validation RMSE:  0.5096\n",
      "99/99 [==============================] - 0s 908us/step\n"
     ]
    },
    {
     "data": {
      "image/png": "[encoded data removed]",
      "text/plain": [
       "<Figure size 576x288 with 2 Axes>"
      ]
     },
     "metadata": {
      "needs_background": "light"
     },
     "output_type": "display_data"
    }
   ],
   "source": [
    "print('Deep3 Predictions:')\n",
    "val_score = deep_3.evaluate(X_train2, y_train2, verbose = 0) \n",
    "print('Deep3 Validation RMSE:  {:.4}'.format(val_score[2]))\n",
    "val_predictions = deep_3.predict(X_val2).flatten()\n",
    "plot_prediction(y_val2, val_predictions)"
   ]
  },
  {
   "cell_type": "markdown",
   "id": "8c460ca9",
   "metadata": {},
   "source": [
    "We have some improvement here after some experimentation with different neural network structures, but so far I'm unimpressed."
   ]
  },
  {
   "cell_type": "markdown",
   "id": "0c45e102",
   "metadata": {},
   "source": [
    "## Conv 1D Model\n",
    "There's some talk about conv1D models being useful for tabular data, which you could think of it as transforming tabular data into \"images\" and then identifying spatial relationships between features - I followed the implementation in [this collab](https://colab.research.google.com/drive/1zjh0tUPYJYgJJunpLC9fW5uf--O0LKeZ?usp=sharing) to see if I could improve on our deep learning baseline, but the model was still outperformed by our tuned XGB."
   ]
  },
  {
   "cell_type": "code",
   "execution_count": 98,
   "id": "277f8a48",
   "metadata": {},
   "outputs": [],
   "source": [
    "# Run once to create numpy data\n",
    "X_train_np = X_train2.to_numpy()\n",
    "X_val_np = X_val2.to_numpy()\n",
    "X_test_np = X_test2.to_numpy()"
   ]
  },
  {
   "cell_type": "code",
   "execution_count": 99,
   "id": "95afd95b",
   "metadata": {},
   "outputs": [
    {
     "name": "stdout",
     "output_type": "stream",
     "text": [
      "X Train Before Reshape:\n",
      " (9460, 258)\n",
      "After reshape:\n",
      " (9460, 258, 1)\n"
     ]
    }
   ],
   "source": [
    "# Reshaping data for Conv1D\n",
    "input_dimension = 1 # each feature is represented by 1 number\n",
    "\n",
    "print('X Train Before Reshape:\\n', X_train_np.shape)\n",
    "sample_size = X_train_np.shape[0] # number of samples in train set\n",
    "time_steps  = X_train_np.shape[1] # number of features in train set\n",
    "train_data_reshaped = X_train_np.reshape(sample_size,time_steps,input_dimension)\n",
    "print(\"After reshape:\\n\", train_data_reshaped.shape)\n",
    "\n",
    "sample_size = X_val_np.shape[0] # number of samples in train set\n",
    "time_steps  = X_val_np.shape[1] # number of features in train set\n",
    "val_data_reshaped = X_val_np.reshape(sample_size,time_steps,input_dimension)\n",
    "\n",
    "sample_size = X_test_np.shape[0] # number of samples in train set\n",
    "time_steps  = X_test_np.shape[1] # number of features in train set\n",
    "test_data_reshaped = X_test_np.reshape(sample_size,time_steps,input_dimension)"
   ]
  },
  {
   "cell_type": "code",
   "execution_count": 100,
   "id": "e3987cfb",
   "metadata": {},
   "outputs": [],
   "source": [
    "# A block for convolution, batch normalization, and pooling\n",
    "# I'm not sure why there are two conv2d layers in this conv_block, but it does tend to improve performance in testing\n",
    "def conv_block(neurons):\n",
    "    conv = tf.keras.Sequential([\n",
    "        tf.keras.layers.Conv1D(neurons, 3, activation='relu', padding='same'),\n",
    "        tf.keras.layers.Conv1D(neurons, 3, activation='relu', padding='same'),\n",
    "        tf.keras.layers.BatchNormalization(),\n",
    "        tf.keras.layers.MaxPool2D()])\n",
    "    return conv\n",
    "\n",
    "# A block for densely connected layers with normalization and dropout\n",
    "def dense_block(neurons, dropout_rate):\n",
    "    dense = tf.keras.Sequential([\n",
    "        tf.keras.layers.Dense(neurons, activation='relu'),\n",
    "        tf.keras.layers.BatchNormalization(),\n",
    "        tf.keras.layers.Dropout(dropout_rate)])\n",
    "    return dense"
   ]
  },
  {
   "cell_type": "code",
   "execution_count": 101,
   "id": "2b80a550",
   "metadata": {},
   "outputs": [
    {
     "name": "stdout",
     "output_type": "stream",
     "text": [
      "Model: \"model_conv1D\"\n",
      "_________________________________________________________________\n",
      " Layer (type)                Output Shape              Param #   \n",
      "=================================================================\n",
      " Dense_1 (Dense)             (None, 258, 256)          512       \n",
      "                                                                 \n",
      " Conv1D_1 (Conv1D)           (None, 256, 64)           49216     \n",
      "                                                                 \n",
      " Conv1D_2 (Conv1D)           (None, 255, 32)           4128      \n",
      "                                                                 \n",
      " MaxPooling1D (MaxPooling1D)  (None, 127, 32)          0         \n",
      "                                                                 \n",
      " flatten_2 (Flatten)         (None, 4064)              0         \n",
      "                                                                 \n",
      " Dense_2 (Dense)             (None, 32)                130080    \n",
      "                                                                 \n",
      " Dense_3 (Dense)             (None, 1)                 33        \n",
      "                                                                 \n",
      "=================================================================\n",
      "Total params: 183,969\n",
      "Trainable params: 183,969\n",
      "Non-trainable params: 0\n",
      "_________________________________________________________________\n"
     ]
    }
   ],
   "source": [
    "# Establishing learning rate\n",
    "def exponential_decay(lr0, s):\n",
    "    def exponential_decay_fn(epoch):\n",
    "        return lr0 * 0.1 **(epoch / s)\n",
    "    return exponential_decay_fn\n",
    "\n",
    "exponential_decay_fn = exponential_decay(.8, 50)\n",
    "\n",
    "# Callbacks\n",
    "callback_list = [\n",
    "    keras.callbacks.LearningRateScheduler(exponential_decay_fn)\n",
    "]\n",
    "\n",
    "def build_conv1D_model():\n",
    "\n",
    "  n_timesteps = train_data_reshaped.shape[1]\n",
    "  n_features  = train_data_reshaped.shape[2]    \n",
    "  model = keras.Sequential(name=\"model_conv1D\")\n",
    "  model.add(keras.layers.Input(shape=(n_timesteps,n_features)))\n",
    "  model.add(keras.layers.Dense(256, activation='relu', name=\"Dense_1\"))\n",
    "  \n",
    "  tf.keras.layers.BatchNormalization()\n",
    "  model.add(keras.layers.Conv1D(filters=64, kernel_size=3, activation='relu', name=\"Conv1D_1\"))\n",
    "  model.add(keras.layers.Conv1D(filters=32, kernel_size=2, activation='relu', name=\"Conv1D_2\"))\n",
    "  model.add(keras.layers.MaxPooling1D(pool_size=2, name=\"MaxPooling1D\"))\n",
    "  model.add(keras.layers.Flatten())\n",
    "  tf.keras.layers.BatchNormalization()\n",
    "    \n",
    "#   model.add(keras.layers.Flatten())\n",
    "  model.add(keras.layers.Dense(32, activation='relu', name=\"Dense_2\"))\n",
    "  model.add(keras.layers.Dense(n_features, name=\"Dense_3\")),\n",
    "  keras.layers.Dense(1),\n",
    "\n",
    "  optimizer = 'adam'\n",
    "\n",
    "  model.compile(loss='mse',optimizer=optimizer,metrics=METRICS)\n",
    "  return model\n",
    "\n",
    "model_conv1D = build_conv1D_model()\n",
    "model_conv1D.summary()"
   ]
  },
  {
   "cell_type": "code",
   "execution_count": 102,
   "id": "d2b08658",
   "metadata": {},
   "outputs": [
    {
     "name": "stdout",
     "output_type": "stream",
     "text": [
      "Epoch 1/25\n",
      "237/237 [==============================] - 7s 29ms/step - loss: 1.1120 - mean_absolute_error: 0.5328 - root_mean_squared_error: 0.7991 - val_loss: 1.0859 - val_mean_absolute_error: 0.7499 - val_root_mean_squared_error: 1.0421\n",
      "Epoch 2/25\n",
      "237/237 [==============================] - 7s 28ms/step - loss: 0.9791 - mean_absolute_error: 0.7384 - root_mean_squared_error: 0.9895 - val_loss: 1.0056 - val_mean_absolute_error: 0.7400 - val_root_mean_squared_error: 1.0028\n",
      "Epoch 3/25\n",
      "237/237 [==============================] - 7s 28ms/step - loss: 0.9111 - mean_absolute_error: 0.7136 - root_mean_squared_error: 0.9545 - val_loss: 0.9750 - val_mean_absolute_error: 0.7542 - val_root_mean_squared_error: 0.9874\n",
      "Epoch 4/25\n",
      "237/237 [==============================] - 7s 28ms/step - loss: 0.8822 - mean_absolute_error: 0.7037 - root_mean_squared_error: 0.9393 - val_loss: 0.9758 - val_mean_absolute_error: 0.7285 - val_root_mean_squared_error: 0.9878\n",
      "Epoch 5/25\n",
      "237/237 [==============================] - 7s 28ms/step - loss: 0.8605 - mean_absolute_error: 0.6954 - root_mean_squared_error: 0.9276 - val_loss: 0.9850 - val_mean_absolute_error: 0.7321 - val_root_mean_squared_error: 0.9924\n",
      "Epoch 6/25\n",
      "237/237 [==============================] - 7s 28ms/step - loss: 0.8134 - mean_absolute_error: 0.6800 - root_mean_squared_error: 0.9019 - val_loss: 0.9720 - val_mean_absolute_error: 0.7332 - val_root_mean_squared_error: 0.9859\n",
      "Epoch 7/25\n",
      "237/237 [==============================] - 7s 28ms/step - loss: 0.7824 - mean_absolute_error: 0.6654 - root_mean_squared_error: 0.8845 - val_loss: 0.9718 - val_mean_absolute_error: 0.7384 - val_root_mean_squared_error: 0.9858\n",
      "Epoch 8/25\n",
      "237/237 [==============================] - 7s 28ms/step - loss: 0.7391 - mean_absolute_error: 0.6478 - root_mean_squared_error: 0.8597 - val_loss: 0.9998 - val_mean_absolute_error: 0.7530 - val_root_mean_squared_error: 0.9999\n",
      "Epoch 9/25\n",
      "237/237 [==============================] - 7s 28ms/step - loss: 0.7082 - mean_absolute_error: 0.6334 - root_mean_squared_error: 0.8415 - val_loss: 1.0118 - val_mean_absolute_error: 0.7543 - val_root_mean_squared_error: 1.0059\n",
      "Epoch 10/25\n",
      "237/237 [==============================] - 7s 28ms/step - loss: 0.6517 - mean_absolute_error: 0.6128 - root_mean_squared_error: 0.8072 - val_loss: 1.0403 - val_mean_absolute_error: 0.7601 - val_root_mean_squared_error: 1.0199\n",
      "Epoch 11/25\n",
      "237/237 [==============================] - 7s 28ms/step - loss: 0.6089 - mean_absolute_error: 0.5941 - root_mean_squared_error: 0.7803 - val_loss: 1.0452 - val_mean_absolute_error: 0.7540 - val_root_mean_squared_error: 1.0224\n",
      "Epoch 12/25\n",
      "237/237 [==============================] - 7s 28ms/step - loss: 0.5533 - mean_absolute_error: 0.5679 - root_mean_squared_error: 0.7438 - val_loss: 1.1456 - val_mean_absolute_error: 0.7993 - val_root_mean_squared_error: 1.0703\n",
      "Epoch 13/25\n",
      "237/237 [==============================] - 7s 28ms/step - loss: 0.5065 - mean_absolute_error: 0.5441 - root_mean_squared_error: 0.7117 - val_loss: 1.0524 - val_mean_absolute_error: 0.7530 - val_root_mean_squared_error: 1.0259\n",
      "Epoch 14/25\n",
      "237/237 [==============================] - 7s 28ms/step - loss: 0.4584 - mean_absolute_error: 0.5203 - root_mean_squared_error: 0.6770 - val_loss: 1.2452 - val_mean_absolute_error: 0.8527 - val_root_mean_squared_error: 1.1159\n",
      "Epoch 15/25\n",
      "237/237 [==============================] - 7s 28ms/step - loss: 0.4098 - mean_absolute_error: 0.4929 - root_mean_squared_error: 0.6402 - val_loss: 1.2354 - val_mean_absolute_error: 0.8142 - val_root_mean_squared_error: 1.1115\n",
      "Epoch 16/25\n",
      "237/237 [==============================] - 7s 28ms/step - loss: 0.3582 - mean_absolute_error: 0.4617 - root_mean_squared_error: 0.5985 - val_loss: 1.1927 - val_mean_absolute_error: 0.7893 - val_root_mean_squared_error: 1.0921\n",
      "Epoch 17/25\n",
      "237/237 [==============================] - 7s 28ms/step - loss: 0.3191 - mean_absolute_error: 0.4343 - root_mean_squared_error: 0.5649 - val_loss: 1.1741 - val_mean_absolute_error: 0.8084 - val_root_mean_squared_error: 1.0835\n",
      "Epoch 18/25\n",
      "237/237 [==============================] - 7s 28ms/step - loss: 0.2782 - mean_absolute_error: 0.4073 - root_mean_squared_error: 0.5274 - val_loss: 1.1949 - val_mean_absolute_error: 0.7910 - val_root_mean_squared_error: 1.0931\n",
      "Epoch 19/25\n",
      "237/237 [==============================] - 7s 28ms/step - loss: 0.2499 - mean_absolute_error: 0.3841 - root_mean_squared_error: 0.4999 - val_loss: 1.1582 - val_mean_absolute_error: 0.7811 - val_root_mean_squared_error: 1.0762\n",
      "Epoch 20/25\n",
      "237/237 [==============================] - 7s 28ms/step - loss: 0.2252 - mean_absolute_error: 0.3662 - root_mean_squared_error: 0.4745 - val_loss: 1.2016 - val_mean_absolute_error: 0.7968 - val_root_mean_squared_error: 1.0962\n",
      "Epoch 21/25\n",
      "237/237 [==============================] - 7s 28ms/step - loss: 0.1946 - mean_absolute_error: 0.3394 - root_mean_squared_error: 0.4412 - val_loss: 1.3188 - val_mean_absolute_error: 0.8379 - val_root_mean_squared_error: 1.1484\n",
      "Epoch 22/25\n",
      "237/237 [==============================] - 7s 28ms/step - loss: 0.1785 - mean_absolute_error: 0.3256 - root_mean_squared_error: 0.4225 - val_loss: 1.2130 - val_mean_absolute_error: 0.8022 - val_root_mean_squared_error: 1.1013\n",
      "Epoch 23/25\n",
      "237/237 [==============================] - 7s 28ms/step - loss: 0.1657 - mean_absolute_error: 0.3114 - root_mean_squared_error: 0.4071 - val_loss: 1.2598 - val_mean_absolute_error: 0.8177 - val_root_mean_squared_error: 1.1224\n",
      "Epoch 24/25\n",
      "237/237 [==============================] - 7s 28ms/step - loss: 0.1495 - mean_absolute_error: 0.2967 - root_mean_squared_error: 0.3867 - val_loss: 1.3013 - val_mean_absolute_error: 0.8226 - val_root_mean_squared_error: 1.1407\n",
      "Epoch 25/25\n",
      "237/237 [==============================] - 7s 28ms/step - loss: 0.1351 - mean_absolute_error: 0.2818 - root_mean_squared_error: 0.3675 - val_loss: 1.2593 - val_mean_absolute_error: 0.8180 - val_root_mean_squared_error: 1.1222\n"
     ]
    }
   ],
   "source": [
    "EPOCHS = 25\n",
    "# Store training stats\n",
    "deep_hist_2 = model_conv1D.fit(train_data_reshaped, y_train2, epochs=EPOCHS, # , callbacks=callback_list\n",
    "                    validation_split=0.2, verbose=1)"
   ]
  },
  {
   "cell_type": "code",
   "execution_count": 103,
   "id": "10e2f686",
   "metadata": {},
   "outputs": [
    {
     "name": "stdout",
     "output_type": "stream",
     "text": [
      "Train RMSE:  0.5943\n",
      "Val RMSE:  1.084\n"
     ]
    },
    {
     "data": {
      "image/png": "[encoded data removed]",
      "text/plain": [
       "<Figure size 432x288 with 1 Axes>"
      ]
     },
     "metadata": {
      "needs_background": "light"
     },
     "output_type": "display_data"
    }
   ],
   "source": [
    "plot_history(deep_hist_2)\n",
    "\n",
    "train_score = model_conv1D.evaluate(train_data_reshaped, y_train2, verbose = 0) \n",
    "print('Train RMSE:  {:.4}'.format(train_score[2]))\n",
    "val_score = model_conv1D.evaluate(val_data_reshaped, y_val2, verbose = 0) \n",
    "print('Val RMSE:  {:.4}'.format(val_score[2]))"
   ]
  },
  {
   "cell_type": "code",
   "execution_count": 104,
   "id": "2905bdcf",
   "metadata": {},
   "outputs": [
    {
     "name": "stdout",
     "output_type": "stream",
     "text": [
      "Conv 1D Predictions:\n",
      "Conv 1D Validation RMSE:  1.084\n",
      "99/99 [==============================] - 1s 8ms/step\n"
     ]
    },
    {
     "data": {
      "image/png": "[encoded data removed]",
      "text/plain": [
       "<Figure size 576x288 with 2 Axes>"
      ]
     },
     "metadata": {
      "needs_background": "light"
     },
     "output_type": "display_data"
    }
   ],
   "source": [
    "print('Conv 1D Predictions:')\n",
    "val_score = model_conv1D.evaluate(val_data_reshaped, y_val2, verbose = 0) \n",
    "print('Conv 1D Validation RMSE:  {:.4}'.format(val_score[2]))\n",
    "val_predictions = model_conv1D.predict(val_data_reshaped)[:, 0]\n",
    "plot_prediction(y_val2, val_predictions)"
   ]
  },
  {
   "cell_type": "markdown",
   "id": "27775f88",
   "metadata": {},
   "source": [
    "## Comparing our tuned models"
   ]
  },
  {
   "cell_type": "code",
   "execution_count": 106,
   "id": "c93ec1bb",
   "metadata": {},
   "outputs": [
    {
     "name": "stdout",
     "output_type": "stream",
     "text": [
      "Linear Regression 2 Predictions (No hyperparameter tuning):\n",
      "Linear Regression Validation RMSE : 0.9385\n"
     ]
    },
    {
     "data": {
      "image/png": "[encoded data removed]",
      "text/plain": [
       "<Figure size 576x288 with 2 Axes>"
      ]
     },
     "metadata": {
      "needs_background": "light"
     },
     "output_type": "display_data"
    },
    {
     "name": "stdout",
     "output_type": "stream",
     "text": [
      "XGBoost Predictions:\n",
      "XGBoost Validation RMSE : 0.9166\n"
     ]
    },
    {
     "data": {
      "image/png": "[encoded data removed]",
      "text/plain": [
       "<Figure size 576x288 with 2 Axes>"
      ]
     },
     "metadata": {
      "needs_background": "light"
     },
     "output_type": "display_data"
    },
    {
     "name": "stdout",
     "output_type": "stream",
     "text": [
      "Random Forest Predictions:\n",
      "RF Validation RMSE : 0.9171\n"
     ]
    },
    {
     "data": {
      "image/png": "[encoded data removed]",
      "text/plain": [
       "<Figure size 576x288 with 2 Axes>"
      ]
     },
     "metadata": {
      "needs_background": "light"
     },
     "output_type": "display_data"
    },
    {
     "name": "stdout",
     "output_type": "stream",
     "text": [
      "Deep Learning Predictions:\n",
      "Deep Learning Validation RMSE:  0.9633\n",
      "99/99 [==============================] - 0s 867us/step\n"
     ]
    },
    {
     "data": {
      "image/png": "[encoded data removed]",
      "text/plain": [
       "<Figure size 576x288 with 2 Axes>"
      ]
     },
     "metadata": {
      "needs_background": "light"
     },
     "output_type": "display_data"
    },
    {
     "name": "stdout",
     "output_type": "stream",
     "text": [
      "Conv 1D Predictions:\n",
      "Conv 1D Validation RMSE:  1.084\n",
      "99/99 [==============================] - 1s 8ms/step\n"
     ]
    },
    {
     "data": {
      "image/png": "[encoded data removed]",
      "text/plain": [
       "<Figure size 576x288 with 2 Axes>"
      ]
     },
     "metadata": {
      "needs_background": "light"
     },
     "output_type": "display_data"
    }
   ],
   "source": [
    "# Comparing all tuned models\n",
    "print('Linear Regression 2 Predictions (No hyperparameter tuning):')\n",
    "val_predictions = linreg2.predict(X_val2).flatten()\n",
    "linreg_rmse = np.sqrt(MSE(y_val2, val_predictions))\n",
    "print(\"Linear Regression Validation RMSE : {:.4}\".format(linreg_rmse))\n",
    "val_predictions = linreg2.predict(X_val2).flatten()\n",
    "plot_prediction(y_val2, val_predictions)\n",
    "plt.show()\n",
    "\n",
    "print('XGBoost Predictions:')\n",
    "val_predictions = XGB3.predict(X_val2).flatten()\n",
    "xgb_rmse = np.sqrt(MSE(y_val2, val_predictions))\n",
    "print(\"XGBoost Validation RMSE : {:.4}\".format(xgb_rmse))\n",
    "val_predictions = XGB3.predict(X_val2).flatten()\n",
    "plot_prediction(y_val2, val_predictions)\n",
    "plt.show()\n",
    "\n",
    "print('Random Forest Predictions:')\n",
    "val_predictions = forest3.predict(X_val2).flatten()\n",
    "forest_rmse = np.sqrt(MSE(y_val2, val_predictions))\n",
    "print(\"RF Validation RMSE : {:.4}\".format(forest_rmse))\n",
    "plot_prediction(y_val2, val_predictions)\n",
    "plt.show()\n",
    "\n",
    "print('Deep Learning Predictions:')\n",
    "val_score = deep_3.evaluate(X_val2, y_val2, verbose = 0) \n",
    "print('Deep Learning Validation RMSE:  {:.4}'.format(val_score[2]))\n",
    "val_predictions = deep_3.predict(X_val2).flatten()\n",
    "plot_prediction(y_val2, val_predictions)\n",
    "plt.show()\n",
    "\n",
    "print('Conv 1D Predictions:')\n",
    "val_score = model_conv1D.evaluate(val_data_reshaped, y_val2, verbose = 0) \n",
    "print('Conv 1D Validation RMSE:  {:.4}'.format(val_score[2]))\n",
    "val_predictions = model_conv1D.predict(val_data_reshaped)[:, 0]\n",
    "plot_prediction(y_val2, val_predictions)\n",
    "plt.show()"
   ]
  },
  {
   "cell_type": "markdown",
   "id": "4e809d6b",
   "metadata": {},
   "source": [
    "After experimenting with this for a few days, I think it's safe to say that the standard machine learning models are still outperforming our deep learning models on our tabular data. It's also looking like XGBoost and RF are our top models, with XGB having a slight edge on our validation data. I was able to get 1D CNNs to outperform our dense-network deep-learning models on principle components of document embeddings, but not beat XGB or RF. On raw document embeddings we run into longer training times, and seeing the results on principle components, I decided to forgoe further 1D CNN iterations.\n",
    "\n",
    "It seems that our decision tree algorithms predictably beat out our deep learning models on tabular data. XGB outperformed RF and trained much faster, making this model even more compelling. We will chose that as our final."
   ]
  },
  {
   "cell_type": "markdown",
   "id": "aa00aa57",
   "metadata": {},
   "source": [
    "## Final Model Evaluation\n",
    "Let's see how XGB performs on our holdout data:"
   ]
  },
  {
   "cell_type": "code",
   "execution_count": 107,
   "id": "993ce09b",
   "metadata": {},
   "outputs": [
    {
     "name": "stdout",
     "output_type": "stream",
     "text": [
      "XGBoost Final Predictions:\n",
      "Test RMSE : 0.9258\n"
     ]
    },
    {
     "data": {
      "image/png": "[encoded data removed]",
      "text/plain": [
       "<Figure size 576x288 with 2 Axes>"
      ]
     },
     "metadata": {
      "needs_background": "light"
     },
     "output_type": "display_data"
    }
   ],
   "source": [
    "print('XGBoost Final Predictions:')\n",
    "\n",
    "test_predictions = XGB3.predict(X_test2).flatten()\n",
    "\n",
    "xgb_rmse = np.sqrt(MSE(y_test2, test_predictions))\n",
    "print(\"Test RMSE : {:.4}\".format(xgb_rmse))\n",
    "\n",
    "test_predictions = XGB3.predict(X_test2).flatten()\n",
    "plot_prediction(y_test2, test_predictions)\n",
    "\n",
    "plt.show()"
   ]
  },
  {
   "cell_type": "markdown",
   "id": "fa9a89d6",
   "metadata": {},
   "source": [
    "This means that on average, our model can predict the retweet count to within about 1 order of magnitude. What does that mean? Most of the time we can now look at a drafted tweet from an account and say whether it's likely to get 1, 10, 100, or 1000 retweets, based on the account and the semantic content of the tweet. That's pretty cool!\n",
    "\n",
    "Our model is also quite a bit more accurate than just looking at follower counts alone - (check this) "
   ]
  },
  {
   "cell_type": "code",
   "execution_count": 299,
   "id": "67a3c5ff",
   "metadata": {},
   "outputs": [],
   "source": [
    "# Data and Target Split\n",
    "X3 = df_features[['followers', 'lists']]\n",
    "y = df_features['retweets'] # This is the same as our original y\n",
    "\n",
    "# Log transform of y\n",
    "y_log = np.log1p(y)\n",
    "\n",
    "# Train-test Split\n",
    "X_train_100, X_test_100, y_train_100, y_test_100 = train_test_split(X3, y_log, random_state=42)\n",
    "\n",
    "# Creating Validation Set\n",
    "X_train_100, X_val_100, y_train_100, y_val_100 = train_test_split(X_train_100, y_train_100, random_state=42)"
   ]
  },
  {
   "cell_type": "code",
   "execution_count": 300,
   "id": "6a59220a",
   "metadata": {},
   "outputs": [
    {
     "name": "stdout",
     "output_type": "stream",
     "text": [
      "Training Accuracy: 7.033%\n",
      "Validation accuracy: 7.717%\n",
      "LR RMSE :  0.921444\n"
     ]
    }
   ],
   "source": [
    "linreg_100 = LinearRegression().fit(X_train_100, y_train_100)\n",
    "\n",
    "print('Training Accuracy: {:.4}%'.format(linreg_100.score(X_train_100, y_train_100) * 100))\n",
    "print('Validation accuracy: {:.4}%'.format(linreg_100.score(X_val_100, y_val_100) * 100))\n",
    "\n",
    "pred_100 = linreg_100.predict(X_val_100)\n",
    "linreg_rmse_100 = np.sqrt(MSE(y_val_100, pred_100))\n",
    "print(\"LR RMSE : % f\" %(linreg_rmse_100))"
   ]
  },
  {
   "cell_type": "code",
   "execution_count": 301,
   "id": "a697f204",
   "metadata": {
    "scrolled": true
   },
   "outputs": [
    {
     "name": "stdout",
     "output_type": "stream",
     "text": [
      "[0]\tvalidation_0-rmse:1.13898\tvalidation_0-mae:0.75007\n",
      "[1]\tvalidation_0-rmse:1.00745\tvalidation_0-mae:0.66754\n",
      "[2]\tvalidation_0-rmse:0.93439\tvalidation_0-mae:0.63149\n",
      "[3]\tvalidation_0-rmse:0.89358\tvalidation_0-mae:0.61750\n",
      "[4]\tvalidation_0-rmse:0.87024\tvalidation_0-mae:0.61189\n",
      "[5]\tvalidation_0-rmse:0.85662\tvalidation_0-mae:0.61085\n",
      "[6]\tvalidation_0-rmse:0.85047\tvalidation_0-mae:0.61322\n",
      "[7]\tvalidation_0-rmse:0.84495\tvalidation_0-mae:0.61257\n",
      "[8]\tvalidation_0-rmse:0.84172\tvalidation_0-mae:0.61272\n",
      "[9]\tvalidation_0-rmse:0.83931\tvalidation_0-mae:0.61286\n",
      "[10]\tvalidation_0-rmse:0.83435\tvalidation_0-mae:0.61097\n",
      "[11]\tvalidation_0-rmse:0.83366\tvalidation_0-mae:0.61147\n",
      "[12]\tvalidation_0-rmse:0.83288\tvalidation_0-mae:0.61110\n",
      "[13]\tvalidation_0-rmse:0.83272\tvalidation_0-mae:0.61139\n",
      "[14]\tvalidation_0-rmse:0.82988\tvalidation_0-mae:0.60966\n",
      "[15]\tvalidation_0-rmse:0.82859\tvalidation_0-mae:0.60860\n",
      "[16]\tvalidation_0-rmse:0.82809\tvalidation_0-mae:0.60842\n",
      "[17]\tvalidation_0-rmse:0.82665\tvalidation_0-mae:0.60727\n",
      "[18]\tvalidation_0-rmse:0.82632\tvalidation_0-mae:0.60709\n",
      "[19]\tvalidation_0-rmse:0.82537\tvalidation_0-mae:0.60637\n",
      "[20]\tvalidation_0-rmse:0.82496\tvalidation_0-mae:0.60615\n",
      "[21]\tvalidation_0-rmse:0.82477\tvalidation_0-mae:0.60599\n",
      "[22]\tvalidation_0-rmse:0.82422\tvalidation_0-mae:0.60524\n",
      "[23]\tvalidation_0-rmse:0.82426\tvalidation_0-mae:0.60512\n",
      "[24]\tvalidation_0-rmse:0.82376\tvalidation_0-mae:0.60468\n",
      "[25]\tvalidation_0-rmse:0.82307\tvalidation_0-mae:0.60430\n",
      "[26]\tvalidation_0-rmse:0.82290\tvalidation_0-mae:0.60397\n",
      "[27]\tvalidation_0-rmse:0.82232\tvalidation_0-mae:0.60321\n",
      "[28]\tvalidation_0-rmse:0.82163\tvalidation_0-mae:0.60290\n",
      "[29]\tvalidation_0-rmse:0.82105\tvalidation_0-mae:0.60242\n",
      "[30]\tvalidation_0-rmse:0.82070\tvalidation_0-mae:0.60200\n",
      "[31]\tvalidation_0-rmse:0.82064\tvalidation_0-mae:0.60172\n",
      "[32]\tvalidation_0-rmse:0.81962\tvalidation_0-mae:0.60057\n",
      "[33]\tvalidation_0-rmse:0.81929\tvalidation_0-mae:0.60012\n",
      "[34]\tvalidation_0-rmse:0.81882\tvalidation_0-mae:0.59948\n",
      "[35]\tvalidation_0-rmse:0.81872\tvalidation_0-mae:0.59932\n",
      "[36]\tvalidation_0-rmse:0.81838\tvalidation_0-mae:0.59898\n",
      "[37]\tvalidation_0-rmse:0.81829\tvalidation_0-mae:0.59891\n",
      "[38]\tvalidation_0-rmse:0.81772\tvalidation_0-mae:0.59842\n",
      "[39]\tvalidation_0-rmse:0.81733\tvalidation_0-mae:0.59810\n",
      "[40]\tvalidation_0-rmse:0.81703\tvalidation_0-mae:0.59794\n",
      "[41]\tvalidation_0-rmse:0.81710\tvalidation_0-mae:0.59794\n",
      "[42]\tvalidation_0-rmse:0.81675\tvalidation_0-mae:0.59753\n",
      "[43]\tvalidation_0-rmse:0.81671\tvalidation_0-mae:0.59753\n",
      "[44]\tvalidation_0-rmse:0.81645\tvalidation_0-mae:0.59738\n",
      "[45]\tvalidation_0-rmse:0.81633\tvalidation_0-mae:0.59708\n",
      "[46]\tvalidation_0-rmse:0.81646\tvalidation_0-mae:0.59715\n",
      "[47]\tvalidation_0-rmse:0.81642\tvalidation_0-mae:0.59698\n",
      "[48]\tvalidation_0-rmse:0.81628\tvalidation_0-mae:0.59683\n"
     ]
    },
    {
     "name": "stderr",
     "output_type": "stream",
     "text": [
      "C:\\Users\\8D\\anaconda3\\lib\\site-packages\\xgboost\\sklearn.py:793: UserWarning: `eval_metric` in `fit` method is deprecated for better compatibility with scikit-learn, use `eval_metric` in constructor or`set_params` instead.\n",
      "  warnings.warn(\n"
     ]
    },
    {
     "name": "stdout",
     "output_type": "stream",
     "text": [
      "[49]\tvalidation_0-rmse:0.81639\tvalidation_0-mae:0.59690\n",
      "[50]\tvalidation_0-rmse:0.81642\tvalidation_0-mae:0.59690\n",
      "[51]\tvalidation_0-rmse:0.81630\tvalidation_0-mae:0.59666\n",
      "[52]\tvalidation_0-rmse:0.81635\tvalidation_0-mae:0.59670\n",
      "[53]\tvalidation_0-rmse:0.81640\tvalidation_0-mae:0.59667\n",
      "[54]\tvalidation_0-rmse:0.81634\tvalidation_0-mae:0.59662\n",
      "[55]\tvalidation_0-rmse:0.81624\tvalidation_0-mae:0.59649\n",
      "[56]\tvalidation_0-rmse:0.81615\tvalidation_0-mae:0.59640\n",
      "[57]\tvalidation_0-rmse:0.81617\tvalidation_0-mae:0.59634\n",
      "[58]\tvalidation_0-rmse:0.81612\tvalidation_0-mae:0.59633\n",
      "[59]\tvalidation_0-rmse:0.81609\tvalidation_0-mae:0.59630\n",
      "[60]\tvalidation_0-rmse:0.81602\tvalidation_0-mae:0.59624\n",
      "[61]\tvalidation_0-rmse:0.81572\tvalidation_0-mae:0.59596\n",
      "[62]\tvalidation_0-rmse:0.81564\tvalidation_0-mae:0.59587\n",
      "[63]\tvalidation_0-rmse:0.81560\tvalidation_0-mae:0.59585\n",
      "[64]\tvalidation_0-rmse:0.81563\tvalidation_0-mae:0.59582\n",
      "[65]\tvalidation_0-rmse:0.81558\tvalidation_0-mae:0.59572\n",
      "[66]\tvalidation_0-rmse:0.81542\tvalidation_0-mae:0.59559\n",
      "[67]\tvalidation_0-rmse:0.81544\tvalidation_0-mae:0.59553\n",
      "[68]\tvalidation_0-rmse:0.81536\tvalidation_0-mae:0.59539\n",
      "[69]\tvalidation_0-rmse:0.81535\tvalidation_0-mae:0.59531\n",
      "[70]\tvalidation_0-rmse:0.81541\tvalidation_0-mae:0.59533\n",
      "[71]\tvalidation_0-rmse:0.81546\tvalidation_0-mae:0.59534\n",
      "[72]\tvalidation_0-rmse:0.81543\tvalidation_0-mae:0.59533\n",
      "[73]\tvalidation_0-rmse:0.81545\tvalidation_0-mae:0.59533\n",
      "[74]\tvalidation_0-rmse:0.81544\tvalidation_0-mae:0.59534\n",
      "[75]\tvalidation_0-rmse:0.81547\tvalidation_0-mae:0.59536\n",
      "[76]\tvalidation_0-rmse:0.81542\tvalidation_0-mae:0.59533\n",
      "[77]\tvalidation_0-rmse:0.81544\tvalidation_0-mae:0.59531\n",
      "[78]\tvalidation_0-rmse:0.81545\tvalidation_0-mae:0.59530\n",
      "[79]\tvalidation_0-rmse:0.81543\tvalidation_0-mae:0.59526\n",
      "[80]\tvalidation_0-rmse:0.81542\tvalidation_0-mae:0.59523\n",
      "[81]\tvalidation_0-rmse:0.81544\tvalidation_0-mae:0.59521\n",
      "[82]\tvalidation_0-rmse:0.81543\tvalidation_0-mae:0.59514\n",
      "[83]\tvalidation_0-rmse:0.81542\tvalidation_0-mae:0.59511\n",
      "[84]\tvalidation_0-rmse:0.81546\tvalidation_0-mae:0.59514\n",
      "[85]\tvalidation_0-rmse:0.81543\tvalidation_0-mae:0.59512\n",
      "[86]\tvalidation_0-rmse:0.81544\tvalidation_0-mae:0.59511\n",
      "[87]\tvalidation_0-rmse:0.81542\tvalidation_0-mae:0.59509\n",
      "[88]\tvalidation_0-rmse:0.81542\tvalidation_0-mae:0.59506\n",
      "[89]\tvalidation_0-rmse:0.81544\tvalidation_0-mae:0.59505\n",
      "[90]\tvalidation_0-rmse:0.81548\tvalidation_0-mae:0.59507\n",
      "[91]\tvalidation_0-rmse:0.81552\tvalidation_0-mae:0.59509\n",
      "[92]\tvalidation_0-rmse:0.81548\tvalidation_0-mae:0.59505\n",
      "[93]\tvalidation_0-rmse:0.81546\tvalidation_0-mae:0.59501\n",
      "[94]\tvalidation_0-rmse:0.81550\tvalidation_0-mae:0.59501\n",
      "[95]\tvalidation_0-rmse:0.81548\tvalidation_0-mae:0.59499\n",
      "[96]\tvalidation_0-rmse:0.81550\tvalidation_0-mae:0.59500\n",
      "[97]\tvalidation_0-rmse:0.81550\tvalidation_0-mae:0.59500\n",
      "[98]\tvalidation_0-rmse:0.81550\tvalidation_0-mae:0.59500\n",
      "[99]\tvalidation_0-rmse:0.81550\tvalidation_0-mae:0.59498\n",
      "Training took a total of 0:00:00.382003\n",
      "{}\n"
     ]
    }
   ],
   "source": [
    "start = datetime.datetime.now()\n",
    "\n",
    "progress = dict()\n",
    "eval_set = [(X_val_100, y_val_100)]\n",
    "eval_metric = [\"rmse\",\"mae\"]\n",
    "\n",
    "XGB100 = xgboost.XGBRegressor(objective='reg:squarederror', early_stopping_rounds=20)\n",
    "XGBhist100 = XGB100.fit(X_train_100, y_train_100, eval_metric=eval_metric, eval_set=eval_set, )\n",
    "\n",
    "end = datetime.datetime.now(); elapsed = end-start\n",
    "print('Training took a total of {}'.format(elapsed))\n",
    "print(progress)"
   ]
  },
  {
   "cell_type": "code",
   "execution_count": 302,
   "id": "3a93ff3c",
   "metadata": {
    "scrolled": true
   },
   "outputs": [
    {
     "name": "stdout",
     "output_type": "stream",
     "text": [
      "Training Accuracy: 29.41%\n",
      "Validation accuracy: 27.7%\n",
      "XGB RMSE :  0.815503\n"
     ]
    }
   ],
   "source": [
    "# Accuracy of training and val sets\n",
    "print('Training Accuracy: {:.4}%'.format(XGB100.score(X_train_100, y_train_100) * 100))\n",
    "print('Validation accuracy: {:.3}%'.format(XGB100.score(X_val_100, y_val_100) * 100))\n",
    "\n",
    "pred100 = XGB100.predict(X_val_100)\n",
    "xgb_rmse = np.sqrt(MSE(y_val_100, pred100))\n",
    "print(\"XGB RMSE : % f\" %(xgb_rmse))"
   ]
  },
  {
   "cell_type": "code",
   "execution_count": 123,
   "id": "133d604c",
   "metadata": {},
   "outputs": [
    {
     "data": {
      "image/png": "[encoded data removed]",
      "text/plain": [
       "<Figure size 576x432 with 1 Axes>"
      ]
     },
     "metadata": {
      "needs_background": "light"
     },
     "output_type": "display_data"
    },
    {
     "name": "stdout",
     "output_type": "stream",
     "text": [
      "XGBoost Final Predictions:\n"
     ]
    },
    {
     "data": {
      "image/png": "[encoded data removed]",
      "text/plain": [
       "<Figure size 576x288 with 2 Axes>"
      ]
     },
     "metadata": {
      "needs_background": "light"
     },
     "output_type": "display_data"
    }
   ],
   "source": [
    "# Follower to Retweet Relationship\n",
    "follower_to_retweet_curve = plt.figure(figsize=(8, 6))\n",
    "plt.scatter(df['followers'], df['retweets'])\n",
    "plt.xlabel('Followers')\n",
    "plt.ylabel('Retweets')\n",
    "plt.show()\n",
    "\n",
    "print('XGBoost Final Predictions:')\n",
    "plot_prediction(y_val_100, pred100)\n",
    "plt.show()"
   ]
  },
  {
   "cell_type": "code",
   "execution_count": null,
   "id": "59a88daf",
   "metadata": {},
   "outputs": [],
   "source": [
    "def plot_prediction(test_labels, test_predictions):\n",
    "  f = plt.figure(figsize=(8, 4))\n",
    "\n",
    "  f1 = f.add_subplot(1,2,1)\n",
    "  plt.scatter(test_labels, test_predictions)\n",
    "  plt.xlabel('True Values [log_retweets]')\n",
    "  plt.ylabel('Predictions [log_retweets]')\n",
    "  plt.axis('equal')\n",
    "  plt.xlim(plt.xlim())\n",
    "  plt.ylim(plt.ylim())\n",
    "\n",
    "  error = test_predictions - test_labels\n",
    "  f2 = f.add_subplot(1,2,2)\n",
    "  plt.hist(error, bins = 50)\n",
    "  plt.xlabel(\"Prediction Error [log_retweets]\")\n",
    "  plt.ylabel(\"Count\")\n",
    "    \n",
    "  plt.tight_layout()\n",
    "  plt.show()"
   ]
  }
 ],
 "metadata": {
  "kernelspec": {
   "display_name": "Python (learn-env)",
   "language": "python",
   "name": "learn-env"
  },
  "language_info": {
   "codemirror_mode": {
    "name": "ipython",
    "version": 3
   },
   "file_extension": ".py",
   "mimetype": "text/x-python",
   "name": "python",
   "nbconvert_exporter": "python",
   "pygments_lexer": "ipython3",
   "version": "3.9.7"
  }
 },
 "nbformat": 4,
 "nbformat_minor": 5
}
