{
 "cells": [
  {
   "cell_type": "markdown",
   "id": "fde5c294",
   "metadata": {},
   "source": [
    "# Viral Text Classification using Machine Learning\n",
    "Exploring binary classification for virality prediction - here we use Logistic Regression, Random Forest, and XGBoost."
   ]
  },
  {
   "cell_type": "code",
   "execution_count": 26,
   "id": "f5f069d1",
   "metadata": {},
   "outputs": [],
   "source": [
    "import pandas as pd\n",
    "import numpy as np\n",
    "import seaborn as sns\n",
    "import matplotlib.pyplot as plt\n",
    "%matplotlib inline\n",
    "\n",
    "from sklearn.feature_extraction.text import CountVectorizer\n",
    "\n",
    "\n",
    "from imblearn.over_sampling import SMOTE, SMOTENC\n",
    "from sklearn.metrics import accuracy_score, classification_report, confusion_matrix, roc_curve, auc, f1_score\n",
    "from sklearn.model_selection import train_test_split, GridSearchCV, RandomizedSearchCV\n",
    "from sklearn.preprocessing import StandardScaler\n",
    "from sklearn.neighbors import KNeighborsClassifier\n",
    "from sklearn.tree import DecisionTreeClassifier\n",
    "from sklearn.linear_model import LogisticRegression\n",
    "from sklearn.ensemble import BaggingClassifier, RandomForestClassifier\n",
    "from sklearn.pipeline import Pipeline\n",
    "from xgboost import XGBClassifier"
   ]
  },
  {
   "cell_type": "code",
   "execution_count": 18,
   "id": "6544fb58",
   "metadata": {},
   "outputs": [],
   "source": [
    "data = pd.read_csv('data/combined_data.csv', index_col=0)"
   ]
  },
  {
   "cell_type": "code",
   "execution_count": 19,
   "id": "2c17b972",
   "metadata": {},
   "outputs": [
    {
     "data": {
      "text/html": [
       "<div>\n",
       "<style scoped>\n",
       "    .dataframe tbody tr th:only-of-type {\n",
       "        vertical-align: middle;\n",
       "    }\n",
       "\n",
       "    .dataframe tbody tr th {\n",
       "        vertical-align: top;\n",
       "    }\n",
       "\n",
       "    .dataframe thead th {\n",
       "        text-align: right;\n",
       "    }\n",
       "</style>\n",
       "<table border=\"1\" class=\"dataframe\">\n",
       "  <thead>\n",
       "    <tr style=\"text-align: right;\">\n",
       "      <th></th>\n",
       "      <th>creation_time</th>\n",
       "      <th>user</th>\n",
       "      <th>tweet</th>\n",
       "      <th>retweets</th>\n",
       "      <th>favorites</th>\n",
       "      <th>followers</th>\n",
       "      <th>lists</th>\n",
       "    </tr>\n",
       "  </thead>\n",
       "  <tbody>\n",
       "    <tr>\n",
       "      <th>0</th>\n",
       "      <td>2022-09-26 20:14:17+00:00</td>\n",
       "      <td>GregL_Intel</td>\n",
       "      <td>I am looking forward to Intel Fellow @brendang...</td>\n",
       "      <td>10</td>\n",
       "      <td>54</td>\n",
       "      <td>4123</td>\n",
       "      <td>41</td>\n",
       "    </tr>\n",
       "    <tr>\n",
       "      <th>1</th>\n",
       "      <td>2022-09-26 20:11:39+00:00</td>\n",
       "      <td>GregL_Intel</td>\n",
       "      <td>Open software ecosystems are key to fostering ...</td>\n",
       "      <td>4</td>\n",
       "      <td>26</td>\n",
       "      <td>4123</td>\n",
       "      <td>41</td>\n",
       "    </tr>\n",
       "    <tr>\n",
       "      <th>2</th>\n",
       "      <td>2022-09-21 18:48:59+00:00</td>\n",
       "      <td>GregL_Intel</td>\n",
       "      <td>“AI Everywhere” will require optimized hardwar...</td>\n",
       "      <td>11</td>\n",
       "      <td>25</td>\n",
       "      <td>4123</td>\n",
       "      <td>41</td>\n",
       "    </tr>\n",
       "    <tr>\n",
       "      <th>3</th>\n",
       "      <td>2022-09-20 18:00:01+00:00</td>\n",
       "      <td>GregL_Intel</td>\n",
       "      <td>Our collaboration with @TU_Muenchen and the It...</td>\n",
       "      <td>2</td>\n",
       "      <td>12</td>\n",
       "      <td>4123</td>\n",
       "      <td>41</td>\n",
       "    </tr>\n",
       "    <tr>\n",
       "      <th>4</th>\n",
       "      <td>2022-09-19 22:52:59+00:00</td>\n",
       "      <td>GregL_Intel</td>\n",
       "      <td>I am looking forward to having @AndrewYNg, fou...</td>\n",
       "      <td>19</td>\n",
       "      <td>85</td>\n",
       "      <td>4123</td>\n",
       "      <td>41</td>\n",
       "    </tr>\n",
       "    <tr>\n",
       "      <th>...</th>\n",
       "      <td>...</td>\n",
       "      <td>...</td>\n",
       "      <td>...</td>\n",
       "      <td>...</td>\n",
       "      <td>...</td>\n",
       "      <td>...</td>\n",
       "      <td>...</td>\n",
       "    </tr>\n",
       "    <tr>\n",
       "      <th>63028</th>\n",
       "      <td>2020-04-15 16:15:57+00:00</td>\n",
       "      <td>BarryJOGorman</td>\n",
       "      <td>@S_dF speaking of 'daily digital habits' - int...</td>\n",
       "      <td>2</td>\n",
       "      <td>1</td>\n",
       "      <td>909</td>\n",
       "      <td>103</td>\n",
       "    </tr>\n",
       "    <tr>\n",
       "      <th>63029</th>\n",
       "      <td>2020-04-15 13:54:53+00:00</td>\n",
       "      <td>BarryJOGorman</td>\n",
       "      <td>@nyike - if 'pushing envelope' - will always m...</td>\n",
       "      <td>1</td>\n",
       "      <td>0</td>\n",
       "      <td>909</td>\n",
       "      <td>103</td>\n",
       "    </tr>\n",
       "    <tr>\n",
       "      <th>63030</th>\n",
       "      <td>2021-02-03 18:17:58+00:00</td>\n",
       "      <td>RahulRJB</td>\n",
       "      <td>Even the mighty fall\\n#FarmersProstest</td>\n",
       "      <td>1</td>\n",
       "      <td>2</td>\n",
       "      <td>47</td>\n",
       "      <td>0</td>\n",
       "    </tr>\n",
       "    <tr>\n",
       "      <th>63031</th>\n",
       "      <td>2022-10-06 06:42:42+00:00</td>\n",
       "      <td>jonsadventures</td>\n",
       "      <td>I've been writing notes for my second year non...</td>\n",
       "      <td>10</td>\n",
       "      <td>62</td>\n",
       "      <td>99</td>\n",
       "      <td>4</td>\n",
       "    </tr>\n",
       "    <tr>\n",
       "      <th>63032</th>\n",
       "      <td>2022-08-05 02:12:16+00:00</td>\n",
       "      <td>ericdongyx</td>\n",
       "      <td>GLM-130B: an open LLM with 130 billion paramet...</td>\n",
       "      <td>1</td>\n",
       "      <td>3</td>\n",
       "      <td>92</td>\n",
       "      <td>5</td>\n",
       "    </tr>\n",
       "  </tbody>\n",
       "</table>\n",
       "<p>63033 rows × 7 columns</p>\n",
       "</div>"
      ],
      "text/plain": [
       "                   creation_time            user  \\\n",
       "0      2022-09-26 20:14:17+00:00     GregL_Intel   \n",
       "1      2022-09-26 20:11:39+00:00     GregL_Intel   \n",
       "2      2022-09-21 18:48:59+00:00     GregL_Intel   \n",
       "3      2022-09-20 18:00:01+00:00     GregL_Intel   \n",
       "4      2022-09-19 22:52:59+00:00     GregL_Intel   \n",
       "...                          ...             ...   \n",
       "63028  2020-04-15 16:15:57+00:00   BarryJOGorman   \n",
       "63029  2020-04-15 13:54:53+00:00   BarryJOGorman   \n",
       "63030  2021-02-03 18:17:58+00:00        RahulRJB   \n",
       "63031  2022-10-06 06:42:42+00:00  jonsadventures   \n",
       "63032  2022-08-05 02:12:16+00:00      ericdongyx   \n",
       "\n",
       "                                                   tweet  retweets  favorites  \\\n",
       "0      I am looking forward to Intel Fellow @brendang...        10         54   \n",
       "1      Open software ecosystems are key to fostering ...         4         26   \n",
       "2      “AI Everywhere” will require optimized hardwar...        11         25   \n",
       "3      Our collaboration with @TU_Muenchen and the It...         2         12   \n",
       "4      I am looking forward to having @AndrewYNg, fou...        19         85   \n",
       "...                                                  ...       ...        ...   \n",
       "63028  @S_dF speaking of 'daily digital habits' - int...         2          1   \n",
       "63029  @nyike - if 'pushing envelope' - will always m...         1          0   \n",
       "63030             Even the mighty fall\\n#FarmersProstest         1          2   \n",
       "63031  I've been writing notes for my second year non...        10         62   \n",
       "63032  GLM-130B: an open LLM with 130 billion paramet...         1          3   \n",
       "\n",
       "       followers  lists  \n",
       "0           4123     41  \n",
       "1           4123     41  \n",
       "2           4123     41  \n",
       "3           4123     41  \n",
       "4           4123     41  \n",
       "...          ...    ...  \n",
       "63028        909    103  \n",
       "63029        909    103  \n",
       "63030         47      0  \n",
       "63031         99      4  \n",
       "63032         92      5  \n",
       "\n",
       "[63033 rows x 7 columns]"
      ]
     },
     "execution_count": 19,
     "metadata": {},
     "output_type": "execute_result"
    }
   ],
   "source": [
    "data"
   ]
  },
  {
   "cell_type": "markdown",
   "id": "d7d15007",
   "metadata": {},
   "source": [
    "### Natural Language Processing\n",
    "Here we will generate Bag of Words data and load in our other NLP data from the other notebooks. If you haven't run those yet, you will need to to generate their data."
   ]
  },
  {
   "cell_type": "code",
   "execution_count": 32,
   "id": "09d1d47f",
   "metadata": {},
   "outputs": [
    {
     "name": "stderr",
     "output_type": "stream",
     "text": [
      "C:\\Users\\8D\\anaconda3\\lib\\site-packages\\sklearn\\utils\\deprecation.py:87: FutureWarning: Function get_feature_names is deprecated; get_feature_names is deprecated in 1.0 and will be removed in 1.2. Please use get_feature_names_out instead.\n",
      "  warnings.warn(msg, category=FutureWarning)\n"
     ]
    }
   ],
   "source": [
    "# generating Bag Of Words data\n",
    "max_doc_frequency = 0.04\n",
    "min_doc_frequency = 0.004\n",
    "\n",
    "vectorizer = CountVectorizer(lowercase=True, stop_words={'english'}, ngram_range=(1, 2), max_df=max_doc_frequency, min_df=min_doc_frequency)\n",
    "docs = data.tweet.tolist()\n",
    "words = vectorizer.fit_transform(docs)\n",
    "BOW = pd.DataFrame(words.toarray(), columns=vectorizer.get_feature_names())\n",
    "BOW = BOW.add_suffix('_BOW')\n",
    "\n",
    "# Loading Document Embeddings\n",
    "EMB = pd.read_csv('data/combined_document_embeddings.csv', index_col=0)\n",
    "EMB = EMB.add_suffix('_EMB')\n",
    "\n",
    "# Loading Topics\n",
    "TOP = pd.read_csv('data/topics.csv', index_col=0)\n",
    "TOP = pd.get_dummies(TOP['topic'], drop_first=True).add_suffix('_TOP') # getting dummy columns"
   ]
  },
  {
   "cell_type": "markdown",
   "id": "8f968368",
   "metadata": {},
   "source": [
    "If that all worked, we should have three new datasets - BOW, EMB, and TOP."
   ]
  },
  {
   "cell_type": "markdown",
   "id": "4d90e2c3",
   "metadata": {},
   "source": [
    "### Combining and Preparing Data"
   ]
  },
  {
   "cell_type": "code",
   "execution_count": 147,
   "id": "8e098784",
   "metadata": {},
   "outputs": [],
   "source": [
    "# Split retweets to binary\n",
    "data['viral'] = np.where(data['retweets']>50, 1, 0)\n",
    "\n",
    "# Removing outlier accounts with extreme follower counts\n",
    "data = data.loc[data['followers'] <= 50000].dropna(axis=1)\n",
    "data = data.loc[data['followers'] >= 500]"
   ]
  },
  {
   "cell_type": "code",
   "execution_count": 148,
   "id": "6e4a80fd",
   "metadata": {},
   "outputs": [],
   "source": [
    "combined_data = data.join(BOW).join(EMB).join(TOP)"
   ]
  },
  {
   "cell_type": "code",
   "execution_count": 149,
   "id": "78ed938d",
   "metadata": {},
   "outputs": [],
   "source": [
    "# Assigning X and Y Values\n",
    "X = combined_data.drop(['retweets', 'favorites', 'creation_time', 'user', 'tweet', 'viral'], axis=1)\n",
    "y = combined_data['viral']"
   ]
  },
  {
   "cell_type": "markdown",
   "id": "288324e5",
   "metadata": {},
   "source": [
    "### Train-test-split and oversampling"
   ]
  },
  {
   "cell_type": "code",
   "execution_count": 150,
   "id": "4109e718",
   "metadata": {},
   "outputs": [],
   "source": [
    "# Train-test Split\n",
    "X_train, X_val, y_train, y_val = train_test_split(X, y, test_size = .2, stratify=y, random_state=42)\n",
    "# Train-test Split\n",
    "X_train, X_test, y_train, y_test = train_test_split(X_train, y_train, test_size = .1, stratify=y_train, random_state=42)"
   ]
  },
  {
   "cell_type": "code",
   "execution_count": 151,
   "id": "08e96294",
   "metadata": {},
   "outputs": [
    {
     "data": {
      "image/png": "[encoded data removed]",
      "text/plain": [
       "<Figure size 432x288 with 1 Axes>"
      ]
     },
     "metadata": {
      "needs_background": "light"
     },
     "output_type": "display_data"
    },
    {
     "name": "stdout",
     "output_type": "stream",
     "text": [
      "The class imbalance in the dataset is considerable, with a target constituting only 2.7% of the data.\n"
     ]
    }
   ],
   "source": [
    "# Illustrating the Class Imbalance\n",
    "plt.show(sns.countplot(x=data['viral']))\n",
    "class_imbalance = round(sum(data['viral']) / len(data['viral']), 3) * 100\n",
    "print(f'The class imbalance in the dataset is considerable, with a target constituting only {round(class_imbalance, 3)}% of the data.')"
   ]
  },
  {
   "cell_type": "markdown",
   "id": "fe370879",
   "metadata": {},
   "source": [
    "To address this, we can use SMOTE, which generates additional data representing our target class. Note that we are only oversampling our training data! Oversampling validation sets is a common mistake."
   ]
  },
  {
   "cell_type": "code",
   "execution_count": 152,
   "id": "942595b0",
   "metadata": {},
   "outputs": [
    {
     "name": "stdout",
     "output_type": "stream",
     "text": [
      "Class Imbalance addresssed with SMOTENC:\n"
     ]
    },
    {
     "data": {
      "image/png": "[encoded data removed]",
      "text/plain": [
       "<Figure size 432x288 with 1 Axes>"
      ]
     },
     "metadata": {
      "needs_background": "light"
     },
     "output_type": "display_data"
    }
   ],
   "source": [
    "# Balancing class-imbalanced data with SMOTENC\n",
    "sm = SMOTENC(categorical_features=[98], random_state=42)\n",
    "X_train_SMOTE, y_train_SMOTE = sm.fit_resample(X_train, y_train.ravel())\n",
    "print('Class Imbalance addresssed with SMOTENC:')\n",
    "sns.countplot(x=y_train_SMOTE);"
   ]
  },
  {
   "cell_type": "markdown",
   "id": "38ec1a0b",
   "metadata": {},
   "source": [
    "## Baseline Models\n",
    "Now we're ready for machine learning - How do the default models perform on our data?"
   ]
  },
  {
   "cell_type": "code",
   "execution_count": 153,
   "id": "c0f3af11",
   "metadata": {},
   "outputs": [
    {
     "name": "stdout",
     "output_type": "stream",
     "text": [
      "Training Accuracy: 91.4%\n",
      "Validation accuracy: 86.81%\n"
     ]
    }
   ],
   "source": [
    "# Instantiate and Fit a Logistic Regression Classifier\n",
    "log_reg=LogisticRegression()\n",
    "log_reg.fit(X_train_SMOTE,y_train_SMOTE)\n",
    "\n",
    "# Accuracy of training and validation sets\n",
    "print('Training Accuracy: {:.4}%'.format(log_reg.score(X_train_SMOTE, y_train_SMOTE) * 100))\n",
    "print('Validation accuracy: {:.4}%'.format(log_reg.score(X_val, y_val) * 100))"
   ]
  },
  {
   "cell_type": "code",
   "execution_count": 154,
   "id": "656d406b",
   "metadata": {},
   "outputs": [
    {
     "name": "stdout",
     "output_type": "stream",
     "text": [
      "Training Accuracy: 100.0%\n",
      "Validation accuracy: 96.94%\n"
     ]
    }
   ],
   "source": [
    "# Instantiate and Fit an XGBClassifier\n",
    "XGB = XGBClassifier()\n",
    "XGB.fit(X_train_SMOTE, y_train_SMOTE)\n",
    "\n",
    "# Accuracy of training and validation sets\n",
    "print('Training Accuracy: {:.4}%'.format(XGB.score(X_train_SMOTE, y_train_SMOTE) * 100))\n",
    "print('Validation accuracy: {:.4}%'.format(XGB.score(X_val, y_val) * 100))"
   ]
  },
  {
   "cell_type": "code",
   "execution_count": 155,
   "id": "3ddc51fc",
   "metadata": {},
   "outputs": [
    {
     "name": "stdout",
     "output_type": "stream",
     "text": [
      "Training Accuracy: 100.0%\n",
      "Validation accuracy: 97.41%\n"
     ]
    }
   ],
   "source": [
    "# Instantiate and fit a RandomForestClassifier\n",
    "forest = RandomForestClassifier()\n",
    "forest.fit(X_train_SMOTE, y_train_SMOTE)\n",
    "\n",
    "# Training and validation accuracy score\n",
    "print('Training Accuracy: {:.4}%'.format(forest.score(X_train_SMOTE, y_train_SMOTE) * 100))\n",
    "print('Validation accuracy: {:.4}%'.format(forest.score(X_val, y_val) * 100))"
   ]
  },
  {
   "cell_type": "code",
   "execution_count": 156,
   "id": "fc066c08",
   "metadata": {},
   "outputs": [
    {
     "name": "stdout",
     "output_type": "stream",
     "text": [
      "LogReg Validation set Accuracy:  86.81%\n",
      "XGBoost Validation set Accuracy: 96.94%\n",
      "Forest Validation set Accuracy:  97.41%\n",
      "\n",
      "Logistic Regression Report:\n",
      "              precision    recall  f1-score   support\n",
      "\n",
      "           0       0.98      0.88      0.93      6299\n",
      "           1       0.06      0.28      0.10       176\n",
      "\n",
      "    accuracy                           0.87      6475\n",
      "   macro avg       0.52      0.58      0.52      6475\n",
      "weighted avg       0.95      0.87      0.91      6475\n",
      "\n",
      "\n",
      "XGBoost Report:\n",
      "              precision    recall  f1-score   support\n",
      "\n",
      "           0       0.98      0.99      0.98      6299\n",
      "           1       0.37      0.17      0.23       176\n",
      "\n",
      "    accuracy                           0.97      6475\n",
      "   macro avg       0.67      0.58      0.61      6475\n",
      "weighted avg       0.96      0.97      0.96      6475\n",
      "\n",
      "\n",
      "RF Report:\n",
      "              precision    recall  f1-score   support\n",
      "\n",
      "           0       0.97      1.00      0.99      6299\n",
      "           1       0.90      0.05      0.10       176\n",
      "\n",
      "    accuracy                           0.97      6475\n",
      "   macro avg       0.94      0.53      0.54      6475\n",
      "weighted avg       0.97      0.97      0.96      6475\n",
      "\n"
     ]
    }
   ],
   "source": [
    "# Comparing all three models\n",
    "print('LogReg Validation set Accuracy:  {:.4}%'.format(log_reg.score(X_val, y_val) * 100))\n",
    "print('XGBoost Validation set Accuracy: {:.4}%'.format(XGB.score(X_val, y_val) * 100))\n",
    "print('Forest Validation set Accuracy:  {:.4}%'.format(forest.score(X_val, y_val) * 100))\n",
    "\n",
    "log_pred=log_reg.predict(X_val)\n",
    "XGB_pred=XGB.predict(X_val)\n",
    "RF_pred=forest.predict(X_val)\n",
    "\n",
    "print('\\nLogistic Regression Report:')\n",
    "print(classification_report(y_val, log_pred))\n",
    "print('\\nXGBoost Report:')\n",
    "print(classification_report(y_val, XGB_pred))\n",
    "print('\\nRF Report:')\n",
    "print(classification_report(y_val, RF_pred))"
   ]
  },
  {
   "cell_type": "markdown",
   "id": "8587280e",
   "metadata": {},
   "source": [
    "Great - it looks like all of our models are working, with XGBoost in the lead with .23 f1 and 97% accuracy."
   ]
  },
  {
   "cell_type": "code",
   "execution_count": 157,
   "id": "5489b689",
   "metadata": {},
   "outputs": [
    {
     "name": "stdout",
     "output_type": "stream",
     "text": [
      "Baseline Models with Default Parameters:\n",
      "\n",
      "Logistic Regression F1:\n",
      "0.10294117647058823\n",
      "\n",
      "XGB F1:\n",
      "0.23255813953488372\n",
      "\n",
      "RF F1:\n",
      "0.09677419354838711\n"
     ]
    }
   ],
   "source": [
    "print('Baseline Models with Default Parameters:\\n')\n",
    "print('Logistic Regression F1:')\n",
    "print(f1_score(y_val, log_pred))\n",
    "print('\\nXGB F1:')\n",
    "print(f1_score(y_val, XGB_pred))\n",
    "print('\\nRF F1:')\n",
    "print(f1_score(y_val, RF_pred))"
   ]
  },
  {
   "cell_type": "markdown",
   "id": "1949256d",
   "metadata": {},
   "source": [
    "We can also think about our model interpretability - here is the feature importance according to our logistic regression model:"
   ]
  },
  {
   "cell_type": "code",
   "execution_count": 158,
   "id": "f56a6b19",
   "metadata": {},
   "outputs": [
    {
     "data": {
      "text/html": [
       "<div>\n",
       "<style scoped>\n",
       "    .dataframe tbody tr th:only-of-type {\n",
       "        vertical-align: middle;\n",
       "    }\n",
       "\n",
       "    .dataframe tbody tr th {\n",
       "        vertical-align: top;\n",
       "    }\n",
       "\n",
       "    .dataframe thead th {\n",
       "        text-align: right;\n",
       "    }\n",
       "</style>\n",
       "<table border=\"1\" class=\"dataframe\">\n",
       "  <thead>\n",
       "    <tr style=\"text-align: right;\">\n",
       "      <th></th>\n",
       "      <th>coef</th>\n",
       "    </tr>\n",
       "  </thead>\n",
       "  <tbody>\n",
       "    <tr>\n",
       "      <th>100daysofcode_BOW</th>\n",
       "      <td>3.403214</td>\n",
       "    </tr>\n",
       "    <tr>\n",
       "      <th>113_TOP</th>\n",
       "      <td>3.277282</td>\n",
       "    </tr>\n",
       "    <tr>\n",
       "      <th>python_BOW</th>\n",
       "      <td>2.688490</td>\n",
       "    </tr>\n",
       "    <tr>\n",
       "      <th>machinelearning_BOW</th>\n",
       "      <td>2.246830</td>\n",
       "    </tr>\n",
       "    <tr>\n",
       "      <th>innovation_BOW</th>\n",
       "      <td>2.188542</td>\n",
       "    </tr>\n",
       "    <tr>\n",
       "      <th>...</th>\n",
       "      <td>...</td>\n",
       "    </tr>\n",
       "    <tr>\n",
       "      <th>when_BOW</th>\n",
       "      <td>-1.550819</td>\n",
       "    </tr>\n",
       "    <tr>\n",
       "      <th>get_BOW</th>\n",
       "      <td>-1.557380</td>\n",
       "    </tr>\n",
       "    <tr>\n",
       "      <th>good_BOW</th>\n",
       "      <td>-1.576978</td>\n",
       "    </tr>\n",
       "    <tr>\n",
       "      <th>see_BOW</th>\n",
       "      <td>-1.667257</td>\n",
       "    </tr>\n",
       "    <tr>\n",
       "      <th>some_BOW</th>\n",
       "      <td>-1.810816</td>\n",
       "    </tr>\n",
       "  </tbody>\n",
       "</table>\n",
       "<p>2413 rows × 1 columns</p>\n",
       "</div>"
      ],
      "text/plain": [
       "                         coef\n",
       "100daysofcode_BOW    3.403214\n",
       "113_TOP              3.277282\n",
       "python_BOW           2.688490\n",
       "machinelearning_BOW  2.246830\n",
       "innovation_BOW       2.188542\n",
       "...                       ...\n",
       "when_BOW            -1.550819\n",
       "get_BOW             -1.557380\n",
       "good_BOW            -1.576978\n",
       "see_BOW             -1.667257\n",
       "some_BOW            -1.810816\n",
       "\n",
       "[2413 rows x 1 columns]"
      ]
     },
     "execution_count": 158,
     "metadata": {},
     "output_type": "execute_result"
    }
   ],
   "source": [
    "# Interpreting our feature importance\n",
    "coef = log_reg.coef_[0]\n",
    "logreg_coef = pd.DataFrame(coef, \n",
    "             X_train_SMOTE.columns, \n",
    "             columns=['coef']).sort_values(by='coef', ascending=False)\n",
    "logreg_coef"
   ]
  },
  {
   "cell_type": "markdown",
   "id": "55272442",
   "metadata": {},
   "source": [
    "# Hyperparameter Tuning\n",
    "Now let's see if we can improve upon our machine learning model baselines with some hyperparameter tuning."
   ]
  },
  {
   "cell_type": "code",
   "execution_count": 159,
   "id": "a4fdd6c9",
   "metadata": {},
   "outputs": [],
   "source": [
    "measure = ['accuracy','f1']\n",
    "optimize = 'f1'"
   ]
  },
  {
   "cell_type": "markdown",
   "id": "0a50ab86",
   "metadata": {},
   "source": [
    "### Logistic Regression Hyperparameter Tuning"
   ]
  },
  {
   "cell_type": "code",
   "execution_count": 160,
   "id": "19fc21d2",
   "metadata": {},
   "outputs": [
    {
     "name": "stdout",
     "output_type": "stream",
     "text": [
      "Grid Search found the following optimal parameters: \n",
      "C: 1\n",
      "class_weight: 'balanced'\n",
      "penalty: 'l1'\n",
      "solver: 'liblinear'\n"
     ]
    }
   ],
   "source": [
    "# Our hyperparameter grid, with some other options as comments\n",
    "logreg_params = {\n",
    "    \"C\" : [0.01, 0.1, 1],\n",
    "    'class_weight': ['balanced'],\n",
    "    \"penalty\" : [\"l1\",\"l2\"],\n",
    "    'solver':['liblinear']\n",
    "}\n",
    "\n",
    "# Searching Parameters\n",
    "grid_logreg = GridSearchCV(log_reg, logreg_params, scoring=measure, refit=optimize, cv=2, n_jobs=1)\n",
    "grid_logreg.fit(X_train_SMOTE, y_train_SMOTE)\n",
    "\n",
    "logreg_best_params = grid_logreg.best_params_\n",
    "\n",
    "print('Grid Search found the following optimal parameters: ')\n",
    "for param_name in sorted(logreg_best_params.keys()):\n",
    "    print('%s: %r' % (param_name, logreg_best_params[param_name]))"
   ]
  },
  {
   "cell_type": "code",
   "execution_count": 259,
   "id": "40eec842",
   "metadata": {},
   "outputs": [
    {
     "name": "stdout",
     "output_type": "stream",
     "text": [
      "Baseline Logistic Regression F1: 0.10294117647058823\n",
      "Tuned Logistic Regression F1: 0.23342175066312998\n",
      "Threshold Tuned LogReg F1: 0.2359249329758713\n"
     ]
    }
   ],
   "source": [
    "# Comparison to Baseline\n",
    "Rlogreg_pred=grid_logreg.predict(X_val)\n",
    "print('Baseline Logistic Regression F1: ' + str(f1_score(y_val, log_pred)))\n",
    "print('Tuned Logistic Regression F1: ' + str(f1_score(y_val, Rlogreg_pred)))\n",
    "\n",
    "threshold = .51; predicted_proba = grid_logreg.predict_proba(X_val)\n",
    "tt_logreg_val_preds = (predicted_proba [:,1] >= threshold).astype('int')\n",
    "\n",
    "print('Threshold Tuned LogReg F1: ' + str(f1_score(y_val, tt_logreg_val_preds)))"
   ]
  },
  {
   "cell_type": "markdown",
   "id": "3e7d54ca",
   "metadata": {},
   "source": [
    "### XGBoost Hyperparameter Tuning"
   ]
  },
  {
   "cell_type": "code",
   "execution_count": 162,
   "id": "b4d770aa",
   "metadata": {},
   "outputs": [
    {
     "name": "stdout",
     "output_type": "stream",
     "text": [
      "Grid Search found the following optimal parameters: \n",
      "alpha: 0.01\n",
      "booster: 'gbtree'\n",
      "eval_metric: 'mlogloss'\n",
      "lambda: 1\n",
      "learning_rate: 0.3\n",
      "max_depth: 7\n",
      "min_child_weight: 5\n",
      "n_estimators: 120\n"
     ]
    }
   ],
   "source": [
    "# Our hyperparameter grid, with some other options as comments\n",
    "\n",
    "XGB_params = {\n",
    "    'learning_rate' : [0.3],\n",
    "    'min_child_weight' : [5],\n",
    "#     'gamma' : [0.0, 0.1, 0.2 , 0.3, 0.4],\n",
    "#     'colsample_bytree' : [0.3, 0.4, 0.5 , 0.7],\n",
    "    'alpha' : [0.01], # L1 regularization\n",
    "#     'eta': [1, 0.1, 0.01,],\n",
    "    'eval_metric':['mlogloss'],\n",
    "    'lambda':[1], # L2 regularization\n",
    "    'booster' : ['gbtree'],\n",
    "    'max_depth': [7, None],\n",
    "    'n_estimators': [120],\n",
    "#     'subsample': [0.5]\n",
    "}\n",
    "\n",
    "# Searching Parameters\n",
    "grid_XGB = GridSearchCV(XGB, XGB_params, scoring=measure, refit=optimize, cv=2, n_jobs=1)\n",
    "grid_XGB.fit(X_train_SMOTE, y_train_SMOTE)\n",
    "\n",
    "XGB_best_parameters = grid_XGB.best_params_\n",
    "\n",
    "print('Grid Search found the following optimal parameters: ')\n",
    "for param_name in sorted(XGB_best_parameters.keys()):\n",
    "    print('%s: %r' % (param_name, XGB_best_parameters[param_name]))"
   ]
  },
  {
   "cell_type": "code",
   "execution_count": 260,
   "id": "862819e2",
   "metadata": {},
   "outputs": [
    {
     "name": "stdout",
     "output_type": "stream",
     "text": [
      "Baseline XGBoost F1: 0.23255813953488372\n",
      "Tuned XGB F1: 0.22907488986784144\n",
      "Threshold Tuned XGB F1: 0.2623906705539359\n"
     ]
    }
   ],
   "source": [
    "# Comparison to Baseline\n",
    "RXGB_pred=grid_XGB.predict(X_val)\n",
    "print('Baseline XGBoost F1: ' + str(f1_score(y_val, XGB_pred)))\n",
    "print('Tuned XGB F1: ' + str(f1_score(y_val, RXGB_pred)))\n",
    "\n",
    "threshold = .175; predicted_proba = grid_XGB.predict_proba(X_val)\n",
    "tt_xgb_val_preds = (predicted_proba [:,1] >= threshold).astype('int')\n",
    "\n",
    "print('Threshold Tuned XGB F1: ' + str(f1_score(y_val, tt_xgb_val_preds)))"
   ]
  },
  {
   "cell_type": "markdown",
   "id": "a656a2fd",
   "metadata": {},
   "source": [
    "### Random Forest Hyperparameter Tuning"
   ]
  },
  {
   "cell_type": "code",
   "execution_count": 164,
   "id": "02aa1353",
   "metadata": {},
   "outputs": [
    {
     "name": "stderr",
     "output_type": "stream",
     "text": [
      "C:\\Users\\8D\\anaconda3\\lib\\site-packages\\sklearn\\ensemble\\_forest.py:427: FutureWarning: `max_features='auto'` has been deprecated in 1.1 and will be removed in 1.3. To keep the past behaviour, explicitly set `max_features='sqrt'` or remove this parameter as it is also the default value for RandomForestClassifiers and ExtraTreesClassifiers.\n",
      "  warn(\n",
      "C:\\Users\\8D\\anaconda3\\lib\\site-packages\\sklearn\\ensemble\\_forest.py:427: FutureWarning: `max_features='auto'` has been deprecated in 1.1 and will be removed in 1.3. To keep the past behaviour, explicitly set `max_features='sqrt'` or remove this parameter as it is also the default value for RandomForestClassifiers and ExtraTreesClassifiers.\n",
      "  warn(\n",
      "C:\\Users\\8D\\anaconda3\\lib\\site-packages\\sklearn\\ensemble\\_forest.py:427: FutureWarning: `max_features='auto'` has been deprecated in 1.1 and will be removed in 1.3. To keep the past behaviour, explicitly set `max_features='sqrt'` or remove this parameter as it is also the default value for RandomForestClassifiers and ExtraTreesClassifiers.\n",
      "  warn(\n"
     ]
    },
    {
     "name": "stdout",
     "output_type": "stream",
     "text": [
      "Grid Search found the following optimal parameters: \n",
      "bootstrap: False\n",
      "class_weight: 'balanced'\n",
      "criterion: 'entropy'\n",
      "max_depth: 50\n",
      "max_features: 'auto'\n",
      "n_estimators: 120\n"
     ]
    }
   ],
   "source": [
    "# Our hyperparameter grid, with some other options as comments\n",
    "rf_params = {\n",
    "    'bootstrap' : [False],\n",
    "    'class_weight' : ['balanced'], # 'balanced_subsample',\n",
    "    'criterion' : ['entropy'], # 'gini', \n",
    "    'max_features' : ['auto'],\n",
    "    'max_depth' : [50],\n",
    "    'n_estimators' : [120]\n",
    "}\n",
    "\n",
    "# Searching parameters\n",
    "grid_rf = GridSearchCV(forest, rf_params, scoring=measure, refit=optimize, cv=2, n_jobs=1)\n",
    "grid_rf.fit(X_train_SMOTE, y_train_SMOTE)\n",
    "\n",
    "rf_best_params = grid_rf.best_params_\n",
    "\n",
    "print('Grid Search found the following optimal parameters: ')\n",
    "for param_name in sorted(rf_best_params.keys()):\n",
    "    print('%s: %r' % (param_name, rf_best_params[param_name]))"
   ]
  },
  {
   "cell_type": "code",
   "execution_count": 261,
   "id": "f647f2d7",
   "metadata": {},
   "outputs": [
    {
     "name": "stdout",
     "output_type": "stream",
     "text": [
      "Baseline Random Forest F1: 0.09677419354838711\n",
      "Tuned Random Forest F1: 0.1164021164021164\n",
      "Threshold Tuned Random Forest F1: 0.30640668523676884\n"
     ]
    }
   ],
   "source": [
    "# Comparison to Baseline\n",
    "RRF_pred=grid_rf.predict(X_val)\n",
    "print('Baseline Random Forest F1: ' + str(f1_score(y_val, RF_pred)))\n",
    "print('Tuned Random Forest F1: ' + str(f1_score(y_val, RRF_pred)))\n",
    "\n",
    "threshold = .244; predicted_proba = grid_rf.predict_proba(X_val)\n",
    "tt_rf_val_preds = (predicted_proba [:,1] >= threshold).astype('int')\n",
    "\n",
    "print('Threshold Tuned Random Forest F1: ' + str(f1_score(y_val, tt_rf_val_preds)))"
   ]
  },
  {
   "cell_type": "markdown",
   "id": "72553b7b",
   "metadata": {},
   "source": [
    "# Tuned Model Analysis"
   ]
  },
  {
   "cell_type": "code",
   "execution_count": 263,
   "id": "3add114c",
   "metadata": {},
   "outputs": [
    {
     "name": "stdout",
     "output_type": "stream",
     "text": [
      "\n",
      "Tuned Logistic Regression Report:\n",
      "              precision    recall  f1-score   support\n",
      "\n",
      "           0       0.98      0.98      0.98      6299\n",
      "           1       0.22      0.25      0.24       176\n",
      "\n",
      "    accuracy                           0.96      6475\n",
      "   macro avg       0.60      0.61      0.61      6475\n",
      "weighted avg       0.96      0.96      0.96      6475\n",
      "\n",
      "\n",
      "Tuned XGBoost Report:\n",
      "              precision    recall  f1-score   support\n",
      "\n",
      "           0       0.98      0.98      0.98      6299\n",
      "           1       0.27      0.26      0.26       176\n",
      "\n",
      "    accuracy                           0.96      6475\n",
      "   macro avg       0.62      0.62      0.62      6475\n",
      "weighted avg       0.96      0.96      0.96      6475\n",
      "\n",
      "\n",
      "Tuned RF Report:\n",
      "              precision    recall  f1-score   support\n",
      "\n",
      "           0       0.98      0.98      0.98      6299\n",
      "           1       0.30      0.31      0.31       176\n",
      "\n",
      "    accuracy                           0.96      6475\n",
      "   macro avg       0.64      0.65      0.64      6475\n",
      "weighted avg       0.96      0.96      0.96      6475\n",
      "\n"
     ]
    }
   ],
   "source": [
    "print('\\nTuned Logistic Regression Report:')\n",
    "print(classification_report(y_val, tt_logreg_val_preds))\n",
    "print('\\nTuned XGBoost Report:')\n",
    "print(classification_report(y_val, tt_xgb_val_preds))\n",
    "print('\\nTuned RF Report:')\n",
    "print(classification_report(y_val, tt_rf_val_preds))"
   ]
  },
  {
   "cell_type": "markdown",
   "id": "d321f546",
   "metadata": {},
   "source": [
    "We're starting to see some much better performance from our random forest model - maybe we will use that for our final model?"
   ]
  },
  {
   "cell_type": "code",
   "execution_count": 264,
   "id": "70476b80",
   "metadata": {},
   "outputs": [
    {
     "name": "stdout",
     "output_type": "stream",
     "text": [
      "Tuned Accuracy Scores compared to Baseline:\n",
      "\n",
      "LogReg Validation Accuracy:         86.81%\n",
      "Tuned LogReg Validation Accuracy:   96.72%\n",
      "\n",
      "XGBoost Validation Accuracy:        96.94%\n",
      "Tuned XGBoost Validation Accuracy:  99.4%\n",
      "\n",
      "Forest Validation Accuracy:         97.41%\n",
      "Tuned Forest Validation Accuracy:   99.87%\n"
     ]
    }
   ],
   "source": [
    "# Accuracy Scores\n",
    "print('Tuned Accuracy Scores compared to Baseline:\\n')\n",
    "print('LogReg Validation Accuracy:         {:.4}%'.format(log_reg.score(X_val, y_val) * 100))\n",
    "print('Tuned LogReg Validation Accuracy:   {:.4}%'.format(grid_logreg.best_score_*100))\n",
    "print()\n",
    "print('XGBoost Validation Accuracy:        {:.4}%'.format(XGB.score(X_val, y_val) * 100))\n",
    "print('Tuned XGBoost Validation Accuracy:  {:.4}%'.format(grid_XGB.best_score_*100))\n",
    "print()\n",
    "print('Forest Validation Accuracy:         {:.4}%'.format(forest.score(X_val, y_val) * 100))\n",
    "print('Tuned Forest Validation Accuracy:   {:.4}%'.format(grid_rf.best_score_*100))"
   ]
  },
  {
   "cell_type": "markdown",
   "id": "84c0fc19",
   "metadata": {},
   "source": [
    "We can see that our validation accuracies have improved considerably on all counts, with our Random Forest model leading the batch. How do our ROC Curves look?"
   ]
  },
  {
   "cell_type": "code",
   "execution_count": 268,
   "id": "459ab9b0",
   "metadata": {
    "scrolled": false
   },
   "outputs": [
    {
     "name": "stdout",
     "output_type": "stream",
     "text": [
      "Logistic Regression AUC: 71.61%\n",
      "XGBoost AUC:    80.77%\n",
      "Random Forest AUC:     81.56%\n"
     ]
    },
    {
     "data": {
      "image/png": "[encoded data removed]",
      "text/plain": [
       "<Figure size 576x432 with 1 Axes>"
      ]
     },
     "metadata": {},
     "output_type": "display_data"
    }
   ],
   "source": [
    "# ROC Curves for Tuned Sets\n",
    "plt.figure(figsize=(8, 6))\n",
    "plt.style.use('ggplot')\n",
    "\n",
    "logreg_fp, logreg_tp, thresholds=roc_curve(y_val, grid_logreg.decision_function(X_val), pos_label=1)\n",
    "logreg_AUC=auc(logreg_fp, logreg_tp)*100\n",
    "print(f'Logistic Regression AUC: {round(logreg_AUC, 2)}%')\n",
    "plt.plot(logreg_fp, logreg_tp, color='blue',label = 'Logistic Regression AUC = %0.2f' % logreg_AUC)\n",
    "\n",
    "XGB_fp, XGB_tp, thresholds=roc_curve(y_val, grid_XGB.predict_proba(X_val)[:,1], pos_label=1)\n",
    "XGB_AUC=auc(XGB_fp, XGB_tp)*100\n",
    "print(f'XGBoost AUC:    {round(XGB_AUC, 2)}%')\n",
    "plt.plot(XGB_fp, XGB_tp, color='red',label = 'XGBoost AUC = %0.2f' % XGB_AUC)\n",
    "\n",
    "RF_fp, RF_tp, thresholds=roc_curve(y_val, grid_rf.predict_proba(X_val)[:,1], pos_label=1)\n",
    "RF_AUC=auc(RF_fp, RF_tp)*100\n",
    "print(f'Random Forest AUC:     {round(RF_AUC, 2)}%')\n",
    "plt.plot(RF_fp, RF_tp, color='orange',label = 'Random Forest AUC = %0.2f' % RF_AUC)\n",
    "\n",
    "plt.title('ROC Curves')\n",
    "# plt.plot(fpr, tpr, 'b', label = 'AUC = %0.2f' % AUC)\n",
    "plt.legend(loc = 'lower right')\n",
    "plt.plot([0, 1], [0, 1],'r--')\n",
    "plt.xlim([0, 1])\n",
    "plt.ylim([0, 1])\n",
    "plt.ylabel('True Positive Rate')\n",
    "plt.xlabel('False Positive Rate')\n",
    "plt.show()"
   ]
  },
  {
   "cell_type": "markdown",
   "id": "537c5fc7",
   "metadata": {},
   "source": [
    "We see that Random Forest is in the lead for AUC, closely followed by XGB. Logistic Regression is starting to lag on all fronts."
   ]
  },
  {
   "cell_type": "code",
   "execution_count": 265,
   "id": "6ccd7f0f",
   "metadata": {},
   "outputs": [
    {
     "data": {
      "image/png": "[encoded data removed]",
      "text/plain": [
       "<Figure size 432x288 with 2 Axes>"
      ]
     },
     "metadata": {},
     "output_type": "display_data"
    },
    {
     "data": {
      "image/png": "[encoded data removed]",
      "text/plain": [
       "<Figure size 432x288 with 2 Axes>"
      ]
     },
     "metadata": {},
     "output_type": "display_data"
    },
    {
     "data": {
      "image/png": "[encoded data removed]",
      "text/plain": [
       "<Figure size 432x288 with 2 Axes>"
      ]
     },
     "metadata": {},
     "output_type": "display_data"
    }
   ],
   "source": [
    "# Tuned Confusion Matrices\n",
    "ax = plt.subplot()\n",
    "sns.heatmap(confusion_matrix(y_val, tt_logreg_val_preds), annot=True, fmt='g', ax=ax)\n",
    "ax.set_xlabel('Predicted labels'); ax.set_ylabel('True labels'); ax.set_title('LogReg Confusion Matrix'); \n",
    "ax.xaxis.set_ticklabels(['Nonviral', 'Viral']); ax.yaxis.set_ticklabels(['Nonviral', 'Viral']);\n",
    "plt.show(ax)\n",
    "\n",
    "ax = plt.subplot()\n",
    "sns.heatmap(confusion_matrix(y_val, tt_xgb_val_preds), annot=True, fmt='g', ax=ax)\n",
    "ax.set_xlabel('Predicted labels'); ax.set_ylabel('True labels'); ax.set_title('XGB Confusion Matrix'); \n",
    "ax.xaxis.set_ticklabels(['Nonviral', 'Viral']); ax.yaxis.set_ticklabels(['Nonviral', 'Viral']);\n",
    "plt.show(ax)\n",
    "\n",
    "ax = plt.subplot()\n",
    "sns.heatmap(confusion_matrix(y_val, tt_rf_val_preds), annot=True, fmt='g', ax=ax)\n",
    "ax.set_xlabel('Predicted labels'); ax.set_ylabel('True labels'); ax.set_title('Random Forest Confusion Matrix'); \n",
    "ax.xaxis.set_ticklabels(['Nonviral', 'Viral']); ax.yaxis.set_ticklabels(['Nonviral', 'Viral']);\n",
    "plt.show(ax)"
   ]
  },
  {
   "cell_type": "markdown",
   "id": "6134ec90",
   "metadata": {},
   "source": [
    "## Final Model Selection\n",
    "We will use our Random Forest model as our final, as it's showing the best f1 scores - f1 is probably the best metric for how imbalanced our data is."
   ]
  },
  {
   "cell_type": "code",
   "execution_count": 269,
   "id": "04410638",
   "metadata": {
    "scrolled": false
   },
   "outputs": [
    {
     "name": "stdout",
     "output_type": "stream",
     "text": [
      "Threshold Tuned Random Forest F1: 0.2647058823529411\n",
      "\n",
      "Tuned Random Forest Report on Test Data:\n",
      "              precision    recall  f1-score   support\n",
      "\n",
      "           0       0.98      0.98      0.98      2520\n",
      "           1       0.27      0.26      0.26        70\n",
      "\n",
      "    accuracy                           0.96      2590\n",
      "   macro avg       0.63      0.62      0.62      2590\n",
      "weighted avg       0.96      0.96      0.96      2590\n",
      "\n"
     ]
    },
    {
     "data": {
      "image/png": "[encoded data removed]",
      "text/plain": [
       "<Figure size 432x288 with 2 Axes>"
      ]
     },
     "metadata": {},
     "output_type": "display_data"
    }
   ],
   "source": [
    "threshold = .244; predicted_proba = grid_rf.predict_proba(X_test)\n",
    "tt_rf_test_preds = (predicted_proba [:,1] >= threshold).astype('int')\n",
    "\n",
    "print('Threshold Tuned Random Forest F1: ' + str(f1_score(y_test, tt_rf_test_preds)))\n",
    "\n",
    "print('\\nTuned Random Forest Report on Test Data:')\n",
    "print(classification_report(y_test, tt_rf_test_preds))\n",
    "\n",
    "ax = plt.subplot()\n",
    "sns.heatmap(confusion_matrix(y_test, tt_rf_test_preds), annot=True, fmt='g', ax=ax)\n",
    "ax.set_xlabel('Predicted labels'); ax.set_ylabel('True labels'); ax.set_title('Random Forest Confusion Matrix'); \n",
    "ax.xaxis.set_ticklabels(['Nonviral', 'Viral']); ax.yaxis.set_ticklabels(['Nonviral', 'Viral']);\n",
    "plt.show(ax)"
   ]
  },
  {
   "cell_type": "markdown",
   "id": "a2b3c0a1",
   "metadata": {},
   "source": [
    "# Findings and Conclusions\n",
    "Our final model had an accuracy of 96%, with an f1 score of 0.26! Building this predictive capability into copywriting, social media management, or communications dashboards could be a useful reference. Communication on the whole is complicated and very high dimensional, but the existence of our relatively simple models consistently describing some amount of information propagation rate means that there is some feasibility here.\n",
    "\n",
    "Virality is a hard thing to predict, partly because, like the stock market, once people find a strategy that consistently works, it influences the information landscape and eventually stops working. This evolving information landscape leads to the need for constantly shifting communication strategies. This means any model trained on language will probably decay in accuracy, depending on the rate of cultural change. This has some interesting ramifications, and means you can't just predict what has worked, but also what will work at the time of posting. It doesn't currently seem possible to have a predictive model with anywhere near the level of resolution needed to predict future trends, but it may be an interesting experiment if you have access to enough data.\n",
    "\n",
    "More work was done that was cut from this notebook - All of the deep learning was removed, as in each case they consistently underperformed our other options. For cleanliness I moved their coding blocks into a scratch-code notebook which I can share on request.\n",
    "\n",
    "### Next Steps\n",
    "The next steps for predicting virality fall into a few categories:\n",
    "- integrating with users, for example through a dashboard where people can input text to get a virality score\n",
    "- Improving the quality of our predictive models, either through collecting more data or more sophisticated NLP\n",
    "- mapping out our graph of actors and ties and interpreting the predictive power of the network itself\n",
    "- studying the structure of various feeds and interpreting how information is selected and shown\n",
    "- finding the right way to ensemble our current predictive power\n",
    "\n",
    "Areas that are not likely to yield further gains:\n",
    "- machine learning algorithms don't seem likely to see significant improvement on the current data through hyperparameter tuning\n",
    "- Deep learning still seems to struggle with tabular data, and we still need something better than TabNet for this kind of task\n"
   ]
  },
  {
   "cell_type": "markdown",
   "id": "5d15ed17",
   "metadata": {},
   "source": [
    "# The End :)\n",
    "\n",
    "For more information or contract work, reach out to me at:\n",
    "- blakemcme@gmail.com\n",
    "- github.com/thegrandblooms\n",
    "- linkedin.com/in/blakemcme"
   ]
  }
 ],
 "metadata": {
  "kernelspec": {
   "display_name": "Python (learn-env)",
   "language": "python",
   "name": "learn-env"
  },
  "language_info": {
   "codemirror_mode": {
    "name": "ipython",
    "version": 3
   },
   "file_extension": ".py",
   "mimetype": "text/x-python",
   "name": "python",
   "nbconvert_exporter": "python",
   "pygments_lexer": "ipython3",
   "version": "3.9.7"
  }
 },
 "nbformat": 4,
 "nbformat_minor": 5
}
